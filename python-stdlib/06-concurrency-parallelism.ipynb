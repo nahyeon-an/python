{
 "cells": [
  {
   "cell_type": "markdown",
   "metadata": {},
   "source": [
    "## Threading, Multiprocessing"
   ]
  },
  {
   "cell_type": "markdown",
   "metadata": {},
   "source": [
    "multi-threading : 같은 프로세스 번호  "
   ]
  },
  {
   "cell_type": "code",
   "execution_count": 1,
   "metadata": {},
   "outputs": [
    {
     "name": "stdout",
     "output_type": "stream",
     "text": [
      "Function start! Thread t1, pid: 21272, thread id: 123145555161088\n",
      "Function start! Thread t2, pid: 21272, thread id: 123145560416256\n"
     ]
    }
   ],
   "source": [
    "import threading\n",
    "import time\n",
    "import os\n",
    "\n",
    "def hello(s):\n",
    "    print(\"Function start! {}, pid: {}, thread id: {}\".format(s, os.getpid(), threading.get_ident()))\n",
    "    time.sleep(1)\n",
    "    \n",
    "t1 = threading.Thread(target=hello, args=['Thread t1'])\n",
    "t2 = threading.Thread(target=hello, args=['Thread t2'])\n",
    "t1.start()\n",
    "t2.start()\n",
    "t1.join()\n",
    "t2.join()"
   ]
  },
  {
   "cell_type": "markdown",
   "metadata": {},
   "source": [
    "multi-processing : 다른 프로세스 번호"
   ]
  },
  {
   "cell_type": "code",
   "execution_count": 2,
   "metadata": {},
   "outputs": [
    {
     "name": "stdout",
     "output_type": "stream",
     "text": [
      "Function start! Process p1, pid: 23857, thread id: 4533607872\n",
      "Function start! Process p2, pid: 23858, thread id: 4533607872\n"
     ]
    }
   ],
   "source": [
    "import multiprocessing\n",
    "import time\n",
    "import os\n",
    "\n",
    "def hello(s):\n",
    "    print(\"Function start! {}, pid: {}, thread id: {}\".format(s, os.getpid(), threading.get_ident()))\n",
    "    time.sleep(1)\n",
    "    \n",
    "p1 = multiprocessing.Process(target=hello, args=['Process p1'])\n",
    "p2 = multiprocessing.Process(target=hello, args=['Process p2'])\n",
    "p1.start()\n",
    "p2.start()\n",
    "p1.join()\n",
    "p2.join()"
   ]
  },
  {
   "cell_type": "code",
   "execution_count": 3,
   "metadata": {},
   "outputs": [
    {
     "data": {
      "text/plain": [
       "8"
      ]
     },
     "execution_count": 3,
     "metadata": {},
     "output_type": "execute_result"
    }
   ],
   "source": [
    "multiprocessing.cpu_count()"
   ]
  },
  {
   "cell_type": "markdown",
   "metadata": {},
   "source": [
    "ThreadPoolExecutor : a pool of threads to execute calls asynchronously  \n",
    "ProcessPoolExecutor : a pool of processes to execute calls asynchronously"
   ]
  },
  {
   "cell_type": "markdown",
   "metadata": {},
   "source": [
    "process pool, thread pool 을 사용하여 멀티 프로세스/스레드 구현"
   ]
  },
  {
   "cell_type": "code",
   "execution_count": 4,
   "metadata": {},
   "outputs": [
    {
     "name": "stdout",
     "output_type": "stream",
     "text": [
      "multi-threading started workers: 4\n",
      "Function start! 0, pid: 21272, thread id: 123145556770816\n",
      "Function start! 1, pid: 21272, thread id: 123145562025984\n",
      "Function start! 2, pid: 21272, thread id: 123145567281152\n",
      "Function start! 3, pid: 21272, thread id: 123145572536320\n",
      "multi-processing started workers: 4\n",
      "Function start! 0, pid: 34006, thread id: 4533607872Function start! 1, pid: 34007, thread id: 4533607872Function start! 2, pid: 34008, thread id: 4533607872Function start! 3, pid: 34009, thread id: 4533607872\n",
      "\n",
      "\n",
      "\n"
     ]
    },
    {
     "data": {
      "image/png": "[encoded data removed]",
      "text/plain": [
       "<Figure size 864x288 with 2 Axes>"
      ]
     },
     "metadata": {
      "needs_background": "light"
     },
     "output_type": "display_data"
    }
   ],
   "source": [
    "import os, time, threading\n",
    "from concurrent.futures import ProcessPoolExecutor, ThreadPoolExecutor\n",
    "\n",
    "import matplotlib.pyplot as plt\n",
    "import numpy as np\n",
    "\n",
    "printlock = threading.Lock()\n",
    "\n",
    "def multithreading(func, args, workers):\n",
    "    print(\"multi-threading started workers:\", workers)\n",
    "    with ThreadPoolExecutor(workers) as ex:\n",
    "        res = ex.map(func, args)\n",
    "    return list(res)\n",
    "\n",
    "def multiprocessing(func, args, workers):\n",
    "    print(\"multi-processing started workers:\", workers)\n",
    "    with ProcessPoolExecutor(workers) as ex:\n",
    "        res = ex.map(func, args)\n",
    "    return list(res)\n",
    "\n",
    "def live_tracker(x):\n",
    "    with printlock:\n",
    "        print(\"Function start! {}, pid: {}, thread id: {}\".format(x, os.getpid(), threading.get_ident()))\n",
    "    reference = time.time()\n",
    "    l = []\n",
    "    for i in range(10**6):\n",
    "        l.append(time.time() - reference)\n",
    "    return l\n",
    "\n",
    "def visualize_live_runtimes(results, title):\n",
    "    for i, exp in enumerate(results):\n",
    "        plt.scatter(exp, np.ones(len(exp)) * i, alpha=0.8, c='red', edgecolors='none', s=1)\n",
    "        \n",
    "    plt.grid(axis='x')\n",
    "    plt.ylabel(\"Tasks\")\n",
    "    ytks = range(len(results))\n",
    "    plt.yticks(ytks, ['job {}'.format(exp) for exp in ytks])\n",
    "    plt.xlabel(\"Seconds\")\n",
    "    plt.title(title)\n",
    "    \n",
    "plt.figure(figsize=(12,4))\n",
    "plt.subplot(1, 2, 1)\n",
    "visualize_live_runtimes(multithreading(live_tracker, range(4), 4), \"multi-threading\")\n",
    "plt.subplot(1, 2, 2)\n",
    "visualize_live_runtimes(multiprocessing(live_tracker, range(4), 4), \"multi-processing\")\n",
    "plt.show()"
   ]
  },
  {
   "cell_type": "markdown",
   "metadata": {},
   "source": [
    "#### concurrency vs. parallelism  \n",
    "\n",
    "multi-threading : concurrency, 하나의 cpu를 여러개의 스레드가 시간을 번갈아 할당하여 사용 (0.7초에 작업들이 끝남)  \n",
    "multi-processing : parallelism, 모든 프로세스가 cpu를 각각 할당 받아 사용 (0.2초에 작업들이 끝남)  "
   ]
  },
  {
   "cell_type": "code",
   "execution_count": null,
   "metadata": {},
   "outputs": [],
   "source": []
  }
 ],
 "metadata": {
  "kernelspec": {
   "display_name": "Python 3",
   "language": "python",
   "name": "python3"
  },
  "language_info": {
   "codemirror_mode": {
    "name": "ipython",
    "version": 3
   },
   "file_extension": ".py",
   "mimetype": "text/x-python",
   "name": "python",
   "nbconvert_exporter": "python",
   "pygments_lexer": "ipython3",
   "version": "3.7.6"
  }
 },
 "nbformat": 4,
 "nbformat_minor": 4
}
