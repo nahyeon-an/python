{
 "cells": [
  {
   "cell_type": "code",
   "execution_count": 1,
   "metadata": {},
   "outputs": [],
   "source": [
    "from keras.datasets import mnist"
   ]
  },
  {
   "cell_type": "code",
   "execution_count": 2,
   "metadata": {},
   "outputs": [
    {
     "data": {
      "text/plain": [
       "(60000, 28, 28)"
      ]
     },
     "execution_count": 2,
     "metadata": {},
     "output_type": "execute_result"
    }
   ],
   "source": [
    "# 데이터 로드\n",
    "(train_images, train_labels), (test_images, test_labels) = mnist.load_data()\n",
    "\n",
    "train_images.shape"
   ]
  },
  {
   "cell_type": "code",
   "execution_count": 3,
   "metadata": {},
   "outputs": [
    {
     "data": {
      "text/plain": [
       "array([5, 0, 4, ..., 5, 6, 8], dtype=uint8)"
      ]
     },
     "execution_count": 3,
     "metadata": {},
     "output_type": "execute_result"
    }
   ],
   "source": [
    "train_labels"
   ]
  },
  {
   "cell_type": "code",
   "execution_count": 4,
   "metadata": {},
   "outputs": [
    {
     "data": {
      "text/plain": [
       "(10000, 28, 28)"
      ]
     },
     "execution_count": 4,
     "metadata": {},
     "output_type": "execute_result"
    }
   ],
   "source": [
    "test_images.shape"
   ]
  },
  {
   "cell_type": "code",
   "execution_count": 5,
   "metadata": {},
   "outputs": [
    {
     "data": {
      "text/plain": [
       "array([7, 2, 1, ..., 4, 5, 6], dtype=uint8)"
      ]
     },
     "execution_count": 5,
     "metadata": {},
     "output_type": "execute_result"
    }
   ],
   "source": [
    "test_labels"
   ]
  },
  {
   "cell_type": "code",
   "execution_count": 6,
   "metadata": {},
   "outputs": [],
   "source": [
    "# 신경망 모델 만들기\n",
    "\n",
    "from keras import models, layers\n",
    "\n",
    "network = models.Sequential()\n",
    "network.add(layers.Dense(512, activation='relu', input_shape=(28 * 28,)))\n",
    "network.add(layers.Dense(10, activation='softmax'))"
   ]
  },
  {
   "cell_type": "code",
   "execution_count": 7,
   "metadata": {},
   "outputs": [],
   "source": [
    "# 컴파일\n",
    "\n",
    "network.compile(optimizer='rmsprop', \\\n",
    "               loss='categorical_crossentropy', \\\n",
    "               metrics=['accuracy'])"
   ]
  },
  {
   "cell_type": "code",
   "execution_count": 8,
   "metadata": {},
   "outputs": [
    {
     "name": "stdout",
     "output_type": "stream",
     "text": [
      "(60000, 784)\n",
      "uint8\n",
      "(60000, 784)\n"
     ]
    }
   ],
   "source": [
    "# 이미지 데이터 준비\n",
    "\n",
    "# (60000, 28*28) = (60000, 784) 크기로 변환\n",
    "train_images = train_images.reshape((60000, 28 * 28))\n",
    "print(train_images.shape)  # (60000, 784) <- 초기엔 (60000, 28, 28)\n",
    "print(train_images.dtype)  # uint8 (0 ~ 255의 값을 가짐)\n",
    "\n",
    "# 0 ~ 1의 값을 가지는 float32 타입의 배열로 변환\n",
    "train_images = train_images.astype('float32') / 255\n",
    "print(train_images.shape)  # (60000, 784)"
   ]
  },
  {
   "cell_type": "code",
   "execution_count": 9,
   "metadata": {},
   "outputs": [],
   "source": [
    "test_images = test_images.reshape((10000, 28 * 28))\n",
    "test_images = test_images.astype('float32') / 255"
   ]
  },
  {
   "cell_type": "code",
   "execution_count": 10,
   "metadata": {},
   "outputs": [],
   "source": [
    "# 레이블을 범주형으로 인코딩 \n",
    "\n",
    "from keras.utils import to_categorical\n",
    "\n",
    "train_labels = to_categorical(train_labels)\n",
    "test_labels = to_categorical(test_labels)"
   ]
  },
  {
   "cell_type": "code",
   "execution_count": 11,
   "metadata": {},
   "outputs": [
    {
     "name": "stdout",
     "output_type": "stream",
     "text": [
      "Epoch 1/5\n",
      "469/469 [==============================] - 2s 2ms/step - loss: 0.4313 - accuracy: 0.8728\n",
      "Epoch 2/5\n",
      "469/469 [==============================] - 1s 3ms/step - loss: 0.1118 - accuracy: 0.9681\n",
      "Epoch 3/5\n",
      "469/469 [==============================] - 1s 2ms/step - loss: 0.0692 - accuracy: 0.9792\n",
      "Epoch 4/5\n",
      "469/469 [==============================] - 1s 2ms/step - loss: 0.0482 - accuracy: 0.9854\n",
      "Epoch 5/5\n",
      "469/469 [==============================] - 1s 2ms/step - loss: 0.0367 - accuracy: 0.9900\n"
     ]
    },
    {
     "data": {
      "text/plain": [
       "<tensorflow.python.keras.callbacks.History at 0x7fb66a3aa550>"
      ]
     },
     "execution_count": 11,
     "metadata": {},
     "output_type": "execute_result"
    }
   ],
   "source": [
    "# 훈련 데이터에 모델을 학습시키기\n",
    "\n",
    "# 훈련되는 동안 출력되는 2개의 데이터\n",
    "# loss: 손실 - accuracy: 정확도\n",
    "network.fit(train_images, train_labels, epochs=5, batch_size=128)"
   ]
  },
  {
   "cell_type": "code",
   "execution_count": 12,
   "metadata": {},
   "outputs": [
    {
     "name": "stdout",
     "output_type": "stream",
     "text": [
      "313/313 [==============================] - 0s 910us/step - loss: 0.0718 - accuracy: 0.9785\n",
      "test accuracy : 0.9785000085830688\n"
     ]
    }
   ],
   "source": [
    "# 테스트셋에 대해 모델을 평가\n",
    "\n",
    "test_loss, test_acc = network.evaluate(test_images, test_labels)\n",
    "\n",
    "print(\"test accuracy :\", test_acc)"
   ]
  },
  {
   "cell_type": "code",
   "execution_count": null,
   "metadata": {},
   "outputs": [],
   "source": []
  },
  {
   "cell_type": "code",
   "execution_count": null,
   "metadata": {},
   "outputs": [],
   "source": []
  },
  {
   "cell_type": "code",
   "execution_count": 13,
   "metadata": {},
   "outputs": [
    {
     "name": "stdout",
     "output_type": "stream",
     "text": [
      "12 0 ()\n"
     ]
    }
   ],
   "source": [
    "# 0D Tensor\n",
    "import numpy as np\n",
    "\n",
    "x = np.array(12)\n",
    "print(x, x.ndim, x.shape)  # 12 0 ()"
   ]
  },
  {
   "cell_type": "code",
   "execution_count": 14,
   "metadata": {},
   "outputs": [
    {
     "name": "stdout",
     "output_type": "stream",
     "text": [
      "[12  3  6 14  7] 1 (5,)\n"
     ]
    }
   ],
   "source": [
    "# 1D Tensor\n",
    "x = np.array([12, 3, 6, 14, 7])\n",
    "print(x, x.ndim, x.shape)  # [12  3  6 14  7] 1 (5,)"
   ]
  },
  {
   "cell_type": "code",
   "execution_count": 15,
   "metadata": {},
   "outputs": [
    {
     "name": "stdout",
     "output_type": "stream",
     "text": [
      "[[ 5 78  2 34  9]\n",
      " [ 6 79  3 35  1]\n",
      " [ 7 80  4 36  2]] 2 (3, 5)\n"
     ]
    }
   ],
   "source": [
    "# 2D Tensor\n",
    "x = np.array([[5, 78, 2, 34, 9],\n",
    "             [6, 79, 3, 35, 1],\n",
    "             [7, 80, 4, 36, 2]])\n",
    "print(x, x.ndim, x.shape)\n",
    "\"\"\"\n",
    "[[ 5 78  2 34  9]\n",
    " [ 6 79  3 35  1]\n",
    " [ 7 80  4 36  2]] 2 (3, 5)\n",
    "\"\"\""
   ]
  },
  {
   "cell_type": "code",
   "execution_count": 16,
   "metadata": {},
   "outputs": [
    {
     "name": "stdout",
     "output_type": "stream",
     "text": [
      "3 (3, 3, 5)\n"
     ]
    }
   ],
   "source": [
    "# 3D Tensor\n",
    "x = np.array([[[5, 78, 2, 34, 9],\n",
    "             [6, 79, 3, 35, 1],\n",
    "             [7, 80, 4, 36, 2]],\n",
    "             [[5, 78, 2, 34, 9],\n",
    "             [6, 79, 3, 35, 1],\n",
    "             [7, 80, 4, 36, 2]],\n",
    "             [[5, 78, 2, 34, 9],\n",
    "             [6, 79, 3, 35, 1],\n",
    "             [7, 80, 4, 36, 2]]])\n",
    "print(x.ndim, x.shape)  # 3 (3, 3, 5)"
   ]
  },
  {
   "cell_type": "code",
   "execution_count": null,
   "metadata": {},
   "outputs": [],
   "source": []
  },
  {
   "cell_type": "code",
   "execution_count": null,
   "metadata": {},
   "outputs": [],
   "source": []
  },
  {
   "cell_type": "code",
   "execution_count": 18,
   "metadata": {},
   "outputs": [
    {
     "name": "stdout",
     "output_type": "stream",
     "text": [
      "3\n",
      "(60000, 28, 28)\n",
      "uint8\n"
     ]
    }
   ],
   "source": [
    "# mnist image의 기본 속성\n",
    "(train_images, train_labels), (test_images, test_labels) = mnist.load_data()\n",
    "print(train_images.ndim)  # 3\n",
    "print(train_images.shape)  # (60000, 28, 28)\n",
    "print(train_images.dtype)  # uint8"
   ]
  },
  {
   "cell_type": "code",
   "execution_count": 19,
   "metadata": {},
   "outputs": [
    {
     "data": {
      "image/png": "[encoded data removed]",
      "text/plain": [
       "<Figure size 432x288 with 1 Axes>"
      ]
     },
     "metadata": {
      "needs_background": "light"
     },
     "output_type": "display_data"
    }
   ],
   "source": [
    "# 5번째 샘플을 확인\n",
    "digit = train_images[4]\n",
    "\n",
    "import matplotlib.pyplot as plt\n",
    "plt.imshow(digit, cmap=plt.cm.binary)\n",
    "plt.show()"
   ]
  },
  {
   "cell_type": "code",
   "execution_count": null,
   "metadata": {},
   "outputs": [],
   "source": []
  }
 ],
 "metadata": {
  "kernelspec": {
   "display_name": "Python 3",
   "language": "python",
   "name": "python3"
  },
  "language_info": {
   "codemirror_mode": {
    "name": "ipython",
    "version": 3
   },
   "file_extension": ".py",
   "mimetype": "text/x-python",
   "name": "python",
   "nbconvert_exporter": "python",
   "pygments_lexer": "ipython3",
   "version": "3.7.6"
  }
 },
 "nbformat": 4,
 "nbformat_minor": 4
}
