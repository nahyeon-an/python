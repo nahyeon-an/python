{
 "cells": [
  {
   "cell_type": "markdown",
   "metadata": {},
   "source": [
    "# 컨브넷을 사용한 시퀀스 처리"
   ]
  },
  {
   "cell_type": "markdown",
   "metadata": {},
   "source": [
    "keras 에서 1D 컨브넷은 Conv1D 층을 이용하여 구현한다.  \n",
    "합성곱 윈도우는 시간 축의 1D 윈도우  "
   ]
  },
  {
   "cell_type": "markdown",
   "metadata": {},
   "source": [
    "IMDB 감성 분류 문제에 적용해보자"
   ]
  },
  {
   "cell_type": "code",
   "execution_count": 1,
   "metadata": {},
   "outputs": [
    {
     "name": "stdout",
     "output_type": "stream",
     "text": [
      "데이터 로드\n"
     ]
    },
    {
     "name": "stderr",
     "output_type": "stream",
     "text": [
      "<string>:6: VisibleDeprecationWarning: Creating an ndarray from ragged nested sequences (which is a list-or-tuple of lists-or-tuples-or ndarrays with different lengths or shapes) is deprecated. If you meant to do this, you must specify 'dtype=object' when creating the ndarray\n",
      "/Users/nahyeonan/opt/anaconda3/lib/python3.7/site-packages/tensorflow/python/keras/datasets/imdb.py:159: VisibleDeprecationWarning: Creating an ndarray from ragged nested sequences (which is a list-or-tuple of lists-or-tuples-or ndarrays with different lengths or shapes) is deprecated. If you meant to do this, you must specify 'dtype=object' when creating the ndarray\n",
      "  x_train, y_train = np.array(xs[:idx]), np.array(labels[:idx])\n",
      "/Users/nahyeonan/opt/anaconda3/lib/python3.7/site-packages/tensorflow/python/keras/datasets/imdb.py:160: VisibleDeprecationWarning: Creating an ndarray from ragged nested sequences (which is a list-or-tuple of lists-or-tuples-or ndarrays with different lengths or shapes) is deprecated. If you meant to do this, you must specify 'dtype=object' when creating the ndarray\n",
      "  x_test, y_test = np.array(xs[idx:]), np.array(labels[idx:])\n"
     ]
    },
    {
     "name": "stdout",
     "output_type": "stream",
     "text": [
      "25000 훈련 시퀀스\n",
      "25000 텍스트 시퀀스\n",
      "시퀀스 패딩 (samples * time)\n",
      "x_train 크기: (25000, 500)\n",
      "x_test 크기: (25000, 500)\n"
     ]
    }
   ],
   "source": [
    "# from tensorflow.keras.datasets import imdb\n",
    "# from tensorflow.keras.preprocessing import sequence\n",
    "from keras.datasets import imdb\n",
    "from keras.preprocessing import sequence\n",
    "\n",
    "max_features = 10000\n",
    "max_len = 500\n",
    "\n",
    "print('데이터 로드')\n",
    "(x_train, y_train), (x_test, y_test) = imdb.load_data(num_words=max_features)\n",
    "print(len(x_train), '훈련 시퀀스')\n",
    "print(len(x_test), '텍스트 시퀀스')\n",
    "\n",
    "print('시퀀스 패딩 (samples * time)')\n",
    "x_train = sequence.pad_sequences(x_train, maxlen=max_len)\n",
    "x_test = sequence.pad_sequences(x_test, maxlen=max_len)\n",
    "print('x_train 크기:', x_train.shape)\n",
    "print('x_test 크기:', x_test.shape)"
   ]
  },
  {
   "cell_type": "markdown",
   "metadata": {},
   "source": [
    "Conv1D와 MaxPooling1D 층을 쌓고 전역 풀링 층 또는 Flatten 층으로 마친다.  \n",
    "3D 입력을 2D 출력으로 바꾸어 Dense 층을 추가할 수 있다.  "
   ]
  },
  {
   "cell_type": "code",
   "execution_count": 2,
   "metadata": {},
   "outputs": [
    {
     "name": "stdout",
     "output_type": "stream",
     "text": [
      "Model: \"sequential\"\n",
      "_________________________________________________________________\n",
      "Layer (type)                 Output Shape              Param #   \n",
      "=================================================================\n",
      "embedding (Embedding)        (None, 500, 128)          1280000   \n",
      "_________________________________________________________________\n",
      "conv1d (Conv1D)              (None, 494, 32)           28704     \n",
      "_________________________________________________________________\n",
      "max_pooling1d (MaxPooling1D) (None, 98, 32)            0         \n",
      "_________________________________________________________________\n",
      "conv1d_1 (Conv1D)            (None, 92, 32)            7200      \n",
      "_________________________________________________________________\n",
      "global_max_pooling1d (Global (None, 32)                0         \n",
      "_________________________________________________________________\n",
      "dense (Dense)                (None, 1)                 33        \n",
      "=================================================================\n",
      "Total params: 1,315,937\n",
      "Trainable params: 1,315,937\n",
      "Non-trainable params: 0\n",
      "_________________________________________________________________\n",
      "Epoch 1/10\n",
      "157/157 - 20s - loss: 0.7500 - acc: 0.5163 - val_loss: 0.6871 - val_acc: 0.5630\n",
      "Epoch 2/10\n",
      "157/157 - 19s - loss: 0.6692 - acc: 0.6551 - val_loss: 0.6729 - val_acc: 0.6072\n",
      "Epoch 3/10\n",
      "157/157 - 24s - loss: 0.6348 - acc: 0.7492 - val_loss: 0.6377 - val_acc: 0.6958\n",
      "Epoch 4/10\n",
      "157/157 - 22s - loss: 0.5702 - acc: 0.8028 - val_loss: 0.5514 - val_acc: 0.7762\n",
      "Epoch 5/10\n",
      "157/157 - 22s - loss: 0.4579 - acc: 0.8346 - val_loss: 0.4630 - val_acc: 0.8084\n",
      "Epoch 6/10\n",
      "157/157 - 22s - loss: 0.3695 - acc: 0.8640 - val_loss: 0.4348 - val_acc: 0.8342\n",
      "Epoch 7/10\n",
      "157/157 - 22s - loss: 0.3144 - acc: 0.8870 - val_loss: 0.4133 - val_acc: 0.8510\n",
      "Epoch 8/10\n",
      "157/157 - 23s - loss: 0.2759 - acc: 0.9021 - val_loss: 0.4647 - val_acc: 0.8504\n",
      "Epoch 9/10\n",
      "157/157 - 22s - loss: 0.2461 - acc: 0.9153 - val_loss: 0.4327 - val_acc: 0.8620\n",
      "Epoch 10/10\n",
      "157/157 - 23s - loss: 0.2205 - acc: 0.9243 - val_loss: 0.4525 - val_acc: 0.8618\n"
     ]
    }
   ],
   "source": [
    "from tensorflow.keras.models import Sequential\n",
    "from tensorflow.keras import layers\n",
    "from tensorflow.keras.optimizers import RMSprop\n",
    "\n",
    "model = Sequential()\n",
    "model.add(layers.Embedding(max_features, 128, input_length=max_len))\n",
    "# 1D 윈도우 크기 : 7 (7개의 특성을 고려함)\n",
    "model.add(layers.Conv1D(32, 7, activation='relu'))\n",
    "model.add(layers.MaxPooling1D(5))\n",
    "model.add(layers.Conv1D(32, 7, activation='relu'))\n",
    "model.add(layers.GlobalMaxPooling1D())\n",
    "model.add(layers.Dense(1))\n",
    "\n",
    "model.summary()\n",
    "\n",
    "model.compile(optimizer=RMSprop(learning_rate=1e-4), \n",
    "              loss='binary_crossentropy', \n",
    "              metrics=['acc'])\n",
    "\n",
    "history = model.fit(x_train, y_train, \n",
    "                    epochs=10, \n",
    "                    batch_size=128, \n",
    "                    validation_split=0.2,\n",
    "                    verbose=2)"
   ]
  },
  {
   "cell_type": "code",
   "execution_count": 6,
   "metadata": {},
   "outputs": [],
   "source": [
    "from matplotlib import rc \n",
    "rc('font',family='AppleGothic')\n",
    "\n",
    "import matplotlib.pyplot as plt\n",
    "\n",
    "def drawHistory(history):\n",
    "    loss = history.history['loss']\n",
    "    val_loss = history.history['val_loss']\n",
    "    \n",
    "    epochs = range(1, len(loss) + 1)\n",
    "    \n",
    "    if 'acc' in history.history:\n",
    "        \n",
    "        acc = history.history['acc']\n",
    "        val_acc = history.history['val_acc']\n",
    "        \n",
    "        plt.plot(epochs, acc, 'ro', label='Training acc')\n",
    "        plt.plot(epochs, val_acc, 'b', label='Validation acc')\n",
    "        plt.title('Training and validation accuracy')\n",
    "        plt.legend()\n",
    "    \n",
    "    plt.figure()\n",
    "    \n",
    "    plt.plot(epochs, loss, 'ro', label='Training loss')\n",
    "    plt.plot(epochs, val_loss, 'b', label='Validation loss')\n",
    "    plt.title('Training and validation loss')\n",
    "    plt.legend()\n",
    "    \n",
    "    plt.show()\n",
    "    "
   ]
  },
  {
   "cell_type": "code",
   "execution_count": 4,
   "metadata": {},
   "outputs": [
    {
     "data": {
      "image/png": "[encoded data removed]",
      "text/plain": [
       "<Figure size 432x288 with 1 Axes>"
      ]
     },
     "metadata": {
      "needs_background": "light"
     },
     "output_type": "display_data"
    },
    {
     "data": {
      "image/png": "[encoded data removed]",
      "text/plain": [
       "<Figure size 432x288 with 1 Axes>"
      ]
     },
     "metadata": {
      "needs_background": "light"
     },
     "output_type": "display_data"
    }
   ],
   "source": [
    "drawHistory(history)"
   ]
  },
  {
   "cell_type": "markdown",
   "metadata": {},
   "source": [
    "## CNN과 RNN을 연결하여 긴 시퀀스를 처리하기 "
   ]
  },
  {
   "cell_type": "markdown",
   "metadata": {},
   "source": [
    "1D convnet 은 입력 패치를 독립적으로 처리함  \n",
    "타임스텝의 순서에 민감하지 않다.  "
   ]
  },
  {
   "cell_type": "markdown",
   "metadata": {},
   "source": [
    "온도 예측 문제에 1D ConvNet을 적용해보자.  "
   ]
  },
  {
   "cell_type": "code",
   "execution_count": 1,
   "metadata": {},
   "outputs": [],
   "source": [
    "import os\n",
    "\n",
    "data_dir = './datasets/jena_climate'\n",
    "fname = os.path.join(data_dir, 'jena_climate_2009_2016.csv')\n",
    "\n",
    "with open(fname, 'r') as f:\n",
    "    data = f.read()\n",
    "    \n",
    "lines = data.split('\\n')\n",
    "header = lines[0].split(',')\n",
    "lines = lines[1:]\n",
    "\n",
    "import numpy as np\n",
    "\n",
    "float_data = np.zeros((len(lines), len(header) - 1))\n",
    "for i, line in enumerate(lines):\n",
    "    values = [float(x) for x in line.split(',')[1:]]\n",
    "    float_data[i, :] = values"
   ]
  },
  {
   "cell_type": "code",
   "execution_count": 2,
   "metadata": {},
   "outputs": [],
   "source": [
    "def generator(data, lookback, delay, min_index, max_index,\n",
    "             shuffle=False, batch_size=128, step=6):\n",
    "    if max_index is None:\n",
    "        max_index = len(data) - delay - 1\n",
    "    i = min_index + lookback\n",
    "    while True:\n",
    "        if shuffle:\n",
    "            rows = np.random.randint(\n",
    "                min_index + lookback, max_index, size=batch_size\n",
    "            )\n",
    "        else:\n",
    "            if i + batch_size >= max_index:\n",
    "                i = min_index + lookback\n",
    "            rows = np.arange(i, min(i + batch_size, max_index))\n",
    "            i += len(rows)\n",
    "        \n",
    "        samples = np.zeros((len(rows),\n",
    "                          lookback // step,\n",
    "                          data.shape[-1]))\n",
    "        targets = np.zeros((len(rows),))\n",
    "        for j, row in enumerate(rows):\n",
    "            indices = range(rows[j] - lookback, rows[j], step)\n",
    "            samples[j] = data[indices]\n",
    "            targets[j] = data[rows[j] + delay][1]\n",
    "        yield samples, targets"
   ]
  },
  {
   "cell_type": "markdown",
   "metadata": {},
   "source": [
    "위: 08-3 에서 온도 예측에서 사용했던 코드를 그대로 가져온다.  "
   ]
  },
  {
   "cell_type": "code",
   "execution_count": 3,
   "metadata": {},
   "outputs": [],
   "source": [
    "lookback = 1440\n",
    "step = 6\n",
    "delay = 144\n",
    "batch_size = 128\n",
    "\n",
    "train_gen = generator(float_data, \n",
    "                      lookback=lookback,\n",
    "                      delay=delay,\n",
    "                      min_index=0,\n",
    "                      max_index=200000,\n",
    "                      shuffle=True,\n",
    "                      step=step,\n",
    "                      batch_size=batch_size)\n",
    "\n",
    "val_gen = generator(float_data, \n",
    "                    lookback=lookback,\n",
    "                    delay=delay,\n",
    "                    min_index=200001,\n",
    "                    max_index=300000,\n",
    "                    shuffle=True,\n",
    "                    step=step,\n",
    "                    batch_size=batch_size)\n",
    "\n",
    "test_gen = generator(float_data, \n",
    "                     lookback=lookback,\n",
    "                     delay=delay,\n",
    "                     min_index=300001,\n",
    "                     max_index=None,\n",
    "                     shuffle=True,\n",
    "                     step=step,\n",
    "                     batch_size=batch_size)\n",
    "\n",
    "# 추출 횟수\n",
    "val_steps = (300000 - 200001 - lookback) // batch_size\n",
    "\n",
    "test_steps = (len(float_data) - 300001 - lookback) // batch_size"
   ]
  },
  {
   "cell_type": "code",
   "execution_count": 4,
   "metadata": {},
   "outputs": [
    {
     "name": "stdout",
     "output_type": "stream",
     "text": [
      "Model: \"sequential\"\n",
      "_________________________________________________________________\n",
      "Layer (type)                 Output Shape              Param #   \n",
      "=================================================================\n",
      "conv1d (Conv1D)              (None, None, 32)          2272      \n",
      "_________________________________________________________________\n",
      "max_pooling1d (MaxPooling1D) (None, None, 32)          0         \n",
      "_________________________________________________________________\n",
      "conv1d_1 (Conv1D)            (None, None, 32)          5152      \n",
      "_________________________________________________________________\n",
      "max_pooling1d_1 (MaxPooling1 (None, None, 32)          0         \n",
      "_________________________________________________________________\n",
      "conv1d_2 (Conv1D)            (None, None, 32)          5152      \n",
      "_________________________________________________________________\n",
      "global_max_pooling1d (Global (None, 32)                0         \n",
      "_________________________________________________________________\n",
      "dense (Dense)                (None, 1)                 33        \n",
      "=================================================================\n",
      "Total params: 12,609\n",
      "Trainable params: 12,609\n",
      "Non-trainable params: 0\n",
      "_________________________________________________________________\n",
      "Epoch 1/20\n",
      "500/500 - 17s - loss: 11.3483 - val_loss: 3.9797\n",
      "Epoch 2/20\n",
      "500/500 - 16s - loss: 4.1529 - val_loss: 4.1261\n",
      "Epoch 3/20\n",
      "500/500 - 14s - loss: 3.9001 - val_loss: 3.9433\n",
      "Epoch 4/20\n",
      "500/500 - 14s - loss: 3.7429 - val_loss: 4.3124\n",
      "Epoch 5/20\n",
      "500/500 - 14s - loss: 3.6640 - val_loss: 4.0268\n",
      "Epoch 6/20\n",
      "500/500 - 14s - loss: 3.5784 - val_loss: 3.7945\n",
      "Epoch 7/20\n",
      "500/500 - 14s - loss: 3.5140 - val_loss: 4.0239\n",
      "Epoch 8/20\n",
      "500/500 - 14s - loss: 3.4363 - val_loss: 3.9104\n",
      "Epoch 9/20\n",
      "500/500 - 15s - loss: 3.3743 - val_loss: 4.0084\n",
      "Epoch 10/20\n",
      "500/500 - 15s - loss: 3.3549 - val_loss: 3.9966\n",
      "Epoch 11/20\n",
      "500/500 - 14s - loss: 3.2975 - val_loss: 4.2865\n",
      "Epoch 12/20\n",
      "500/500 - 14s - loss: 3.2757 - val_loss: 4.0119\n",
      "Epoch 13/20\n",
      "500/500 - 13s - loss: 3.2388 - val_loss: 4.0260\n",
      "Epoch 14/20\n",
      "500/500 - 14s - loss: 3.1961 - val_loss: 3.9322\n",
      "Epoch 15/20\n",
      "500/500 - 14s - loss: 3.1762 - val_loss: 3.8740\n",
      "Epoch 16/20\n",
      "500/500 - 13s - loss: 3.1594 - val_loss: 3.9076\n",
      "Epoch 17/20\n",
      "500/500 - 14s - loss: 3.1413 - val_loss: 3.8528\n",
      "Epoch 18/20\n",
      "500/500 - 14s - loss: 3.0902 - val_loss: 3.9175\n",
      "Epoch 19/20\n",
      "500/500 - 14s - loss: 3.0885 - val_loss: 4.1731\n",
      "Epoch 20/20\n",
      "500/500 - 14s - loss: 3.0474 - val_loss: 4.0039\n"
     ]
    }
   ],
   "source": [
    "from tensorflow.keras.models import Sequential\n",
    "from tensorflow.keras import layers\n",
    "from tensorflow.keras.optimizers import RMSprop\n",
    "\n",
    "model = Sequential()\n",
    "model.add(layers.Conv1D(32, 5, activation='relu', \n",
    "                        input_shape=(None, float_data.shape[-1])))\n",
    "model.add(layers.MaxPooling1D(3))\n",
    "model.add(layers.Conv1D(32, 5, activation='relu'))\n",
    "model.add(layers.MaxPooling1D(3))\n",
    "model.add(layers.Conv1D(32, 5, activation='relu'))\n",
    "model.add(layers.GlobalMaxPooling1D())\n",
    "model.add(layers.Dense(1))\n",
    "\n",
    "model.summary()\n",
    "\n",
    "model.compile(optimizer=RMSprop(), \n",
    "              loss='mae')\n",
    "\n",
    "history = model.fit(train_gen, \n",
    "                    steps_per_epoch=500,\n",
    "                    epochs=20, \n",
    "                    validation_data=val_gen,\n",
    "                    validation_steps=val_steps,\n",
    "                    verbose=2)"
   ]
  },
  {
   "cell_type": "code",
   "execution_count": 7,
   "metadata": {},
   "outputs": [
    {
     "data": {
      "image/png": "[encoded data removed]",
      "text/plain": [
       "<Figure size 432x288 with 1 Axes>"
      ]
     },
     "metadata": {
      "needs_background": "light"
     },
     "output_type": "display_data"
    }
   ],
   "source": [
    "drawHistory(history)"
   ]
  },
  {
   "cell_type": "code",
   "execution_count": 8,
   "metadata": {},
   "outputs": [],
   "source": [
    "# data generator\n",
    "lookback = 1440\n",
    "step = 3  # 이전에는 6\n",
    "delay = 144\n",
    "\n",
    "train_gen = generator(float_data, \n",
    "                      lookback=lookback,\n",
    "                      delay=delay,\n",
    "                      min_index=0,\n",
    "                      max_index=200000,\n",
    "                      shuffle=True,\n",
    "                      step=step)\n",
    "\n",
    "val_gen = generator(float_data, \n",
    "                    lookback=lookback,\n",
    "                    delay=delay,\n",
    "                    min_index=200001,\n",
    "                    max_index=300000,\n",
    "                    shuffle=True,\n",
    "                    step=step)\n",
    "\n",
    "test_gen = generator(float_data, \n",
    "                     lookback=lookback,\n",
    "                     delay=delay,\n",
    "                     min_index=300001,\n",
    "                     max_index=None,\n",
    "                     shuffle=True,\n",
    "                     step=step)\n",
    "\n",
    "# 추출 횟수\n",
    "val_steps = (300000 - 200001 - lookback) // 128\n",
    "\n",
    "test_steps = (len(float_data) - 300001 - lookback) // 128"
   ]
  },
  {
   "cell_type": "code",
   "execution_count": 9,
   "metadata": {},
   "outputs": [
    {
     "name": "stdout",
     "output_type": "stream",
     "text": [
      "Model: \"sequential_1\"\n",
      "_________________________________________________________________\n",
      "Layer (type)                 Output Shape              Param #   \n",
      "=================================================================\n",
      "conv1d_3 (Conv1D)            (None, None, 32)          2272      \n",
      "_________________________________________________________________\n",
      "max_pooling1d_2 (MaxPooling1 (None, None, 32)          0         \n",
      "_________________________________________________________________\n",
      "conv1d_4 (Conv1D)            (None, None, 32)          5152      \n",
      "_________________________________________________________________\n",
      "gru (GRU)                    (None, 32)                6336      \n",
      "_________________________________________________________________\n",
      "dense_1 (Dense)              (None, 1)                 33        \n",
      "=================================================================\n",
      "Total params: 13,793\n",
      "Trainable params: 13,793\n",
      "Non-trainable params: 0\n",
      "_________________________________________________________________\n",
      "Epoch 1/20\n",
      "500/500 [==============================] - 69s 135ms/step - loss: 7.4388 - val_loss: 4.3595\n",
      "Epoch 2/20\n",
      "500/500 [==============================] - 70s 140ms/step - loss: 4.1255 - val_loss: 3.8993\n",
      "Epoch 3/20\n",
      "500/500 [==============================] - 71s 142ms/step - loss: 3.6897 - val_loss: 3.3691\n",
      "Epoch 4/20\n",
      "500/500 [==============================] - 72s 144ms/step - loss: 3.3333 - val_loss: 3.4578\n",
      "Epoch 5/20\n",
      "500/500 [==============================] - 72s 145ms/step - loss: 3.2079 - val_loss: 3.1287\n",
      "Epoch 6/20\n",
      "500/500 [==============================] - 73s 146ms/step - loss: 3.1784 - val_loss: 3.0632\n",
      "Epoch 7/20\n",
      "500/500 [==============================] - 73s 147ms/step - loss: 3.1258 - val_loss: 3.1742\n",
      "Epoch 8/20\n",
      "500/500 [==============================] - 73s 147ms/step - loss: 3.1419 - val_loss: 3.0258\n",
      "Epoch 9/20\n",
      "500/500 [==============================] - 74s 148ms/step - loss: 3.0542 - val_loss: 2.8770\n",
      "Epoch 10/20\n",
      "500/500 [==============================] - 74s 147ms/step - loss: 3.0501 - val_loss: 3.2857\n",
      "Epoch 11/20\n",
      "500/500 [==============================] - 74s 148ms/step - loss: 3.0535 - val_loss: 3.0941\n",
      "Epoch 12/20\n",
      "500/500 [==============================] - 73s 147ms/step - loss: 3.0126 - val_loss: 2.8182\n",
      "Epoch 13/20\n",
      "500/500 [==============================] - 74s 148ms/step - loss: 3.0357 - val_loss: 2.8237\n",
      "Epoch 14/20\n",
      "500/500 [==============================] - 74s 149ms/step - loss: 2.9829 - val_loss: 2.8289\n",
      "Epoch 15/20\n",
      "500/500 [==============================] - 72s 145ms/step - loss: 2.9809 - val_loss: 2.8118\n",
      "Epoch 16/20\n",
      "500/500 [==============================] - 72s 144ms/step - loss: 2.9947 - val_loss: 2.8147\n",
      "Epoch 17/20\n",
      "500/500 [==============================] - 71s 141ms/step - loss: 3.0105 - val_loss: 2.8828\n",
      "Epoch 18/20\n",
      "500/500 [==============================] - 70s 141ms/step - loss: 2.9892 - val_loss: 3.0039\n",
      "Epoch 19/20\n",
      "500/500 [==============================] - 70s 140ms/step - loss: 2.9650 - val_loss: 2.8756\n",
      "Epoch 20/20\n",
      "500/500 [==============================] - 70s 139ms/step - loss: 2.9628 - val_loss: 2.7833\n"
     ]
    }
   ],
   "source": [
    "from tensorflow.keras.models import Sequential\n",
    "from tensorflow.keras import layers\n",
    "from tensorflow.keras.optimizers import RMSprop\n",
    "\n",
    "model = Sequential()\n",
    "model.add(layers.Conv1D(32, 5, activation='relu', \n",
    "                        input_shape=(None, float_data.shape[-1])))\n",
    "model.add(layers.MaxPooling1D(3))\n",
    "model.add(layers.Conv1D(32, 5, activation='relu'))\n",
    "model.add(layers.GRU(32, dropout=0.1, recurrent_dropout=0.5))\n",
    "model.add(layers.Dense(1))\n",
    "\n",
    "model.summary()\n",
    "\n",
    "model.compile(optimizer=RMSprop(), loss='mae')\n",
    "\n",
    "history = model.fit(train_gen,\n",
    "                   steps_per_epoch=500,\n",
    "                   epochs=20,\n",
    "                   validation_data=val_gen,\n",
    "                   validation_steps=val_steps)"
   ]
  },
  {
   "cell_type": "code",
   "execution_count": 10,
   "metadata": {},
   "outputs": [
    {
     "data": {
      "image/png": "[encoded data removed]",
      "text/plain": [
       "<Figure size 432x288 with 1 Axes>"
      ]
     },
     "metadata": {
      "needs_background": "light"
     },
     "output_type": "display_data"
    }
   ],
   "source": [
    "drawHistory(history)"
   ]
  },
  {
   "cell_type": "code",
   "execution_count": null,
   "metadata": {},
   "outputs": [],
   "source": []
  }
 ],
 "metadata": {
  "kernelspec": {
   "display_name": "Python 3",
   "language": "python",
   "name": "python3"
  },
  "language_info": {
   "codemirror_mode": {
    "name": "ipython",
    "version": 3
   },
   "file_extension": ".py",
   "mimetype": "text/x-python",
   "name": "python",
   "nbconvert_exporter": "python",
   "pygments_lexer": "ipython3",
   "version": "3.7.6"
  }
 },
 "nbformat": 4,
 "nbformat_minor": 4
}
