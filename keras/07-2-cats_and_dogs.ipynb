{
  "nbformat": 4,
  "nbformat_minor": 0,
  "metadata": {
    "colab": {
      "name": "07-2-cats_and_dogs.ipynb",
      "provenance": [],
      "collapsed_sections": []
    },
    "kernelspec": {
      "name": "python3",
      "display_name": "Python 3"
    },
    "language_info": {
      "name": "python"
    },
    "accelerator": "TPU"
  },
  "cells": [
    {
      "cell_type": "code",
      "metadata": {
        "colab": {
          "base_uri": "https://localhost:8080/"
        },
        "id": "JrOngbH0jwaD",
        "outputId": "2c778d61-3fed-4855-f049-3c6887b6f57a"
      },
      "source": [
        "from google.colab import drive\n",
        "drive.mount('/content/datasets')"
      ],
      "execution_count": 1,
      "outputs": [
        {
          "output_type": "stream",
          "text": [
            "Mounted at /content/datasets\n"
          ],
          "name": "stdout"
        }
      ]
    },
    {
      "cell_type": "code",
      "metadata": {
        "id": "OVdH2EmBj0Hs"
      },
      "source": [
        "import os, shutil\n",
        "\n",
        "# original_dataset_dir = \"./datasets/dogs-vs-cats/train\"\n",
        "base_dir = \"/content/datasets/MyDrive/cats_and_dogs_small\"\n",
        "train_dir = os.path.join(base_dir, 'train')\n",
        "validation_dir = os.path.join(base_dir, 'validation')\n",
        "test_dir = os.path.join(base_dir, 'test')\n",
        "train_cats_dir = os.path.join(train_dir, 'cats')\n",
        "train_dogs_dir = os.path.join(train_dir, 'dogs')\n",
        "val_cats_dir = os.path.join(validation_dir, 'cats')\n",
        "val_dogs_dir = os.path.join(validation_dir, 'dogs')\n",
        "test_cats_dir = os.path.join(test_dir, 'cats')\n",
        "test_dogs_dir = os.path.join(test_dir, 'dogs')"
      ],
      "execution_count": 3,
      "outputs": []
    },
    {
      "cell_type": "code",
      "metadata": {
        "id": "AswVbkqbj0J5"
      },
      "source": [
        "from tensorflow.keras import layers, models\n",
        "\n",
        "model = models.Sequential()\n",
        "model.add(layers.Conv2D(32, (3,3), activation='relu',\n",
        "                       input_shape=(150, 150, 3)))\n",
        "model.add(layers.MaxPooling2D((2, 2)))\n",
        "model.add(layers.Conv2D(64, (3,3), activation='relu'))\n",
        "model.add(layers.MaxPooling2D((2, 2)))\n",
        "model.add(layers.Conv2D(128, (3,3), activation='relu'))\n",
        "model.add(layers.MaxPooling2D((2, 2)))\n",
        "model.add(layers.Conv2D(128, (3,3), activation='relu'))\n",
        "model.add(layers.MaxPooling2D((2, 2)))\n",
        "\n",
        "model.add(layers.Flatten())\n",
        "model.add(layers.Dense(512, activation='relu'))\n",
        "model.add(layers.Dense(1, activation='sigmoid'))"
      ],
      "execution_count": 4,
      "outputs": []
    },
    {
      "cell_type": "code",
      "metadata": {
        "colab": {
          "base_uri": "https://localhost:8080/"
        },
        "id": "vOTIdXnuj0MR",
        "outputId": "60998c61-2e48-4ee8-e1e1-f94f2ffe2786"
      },
      "source": [
        "model.summary()"
      ],
      "execution_count": 5,
      "outputs": [
        {
          "output_type": "stream",
          "text": [
            "Model: \"sequential\"\n",
            "_________________________________________________________________\n",
            "Layer (type)                 Output Shape              Param #   \n",
            "=================================================================\n",
            "conv2d (Conv2D)              (None, 148, 148, 32)      896       \n",
            "_________________________________________________________________\n",
            "max_pooling2d (MaxPooling2D) (None, 74, 74, 32)        0         \n",
            "_________________________________________________________________\n",
            "conv2d_1 (Conv2D)            (None, 72, 72, 64)        18496     \n",
            "_________________________________________________________________\n",
            "max_pooling2d_1 (MaxPooling2 (None, 36, 36, 64)        0         \n",
            "_________________________________________________________________\n",
            "conv2d_2 (Conv2D)            (None, 34, 34, 128)       73856     \n",
            "_________________________________________________________________\n",
            "max_pooling2d_2 (MaxPooling2 (None, 17, 17, 128)       0         \n",
            "_________________________________________________________________\n",
            "conv2d_3 (Conv2D)            (None, 15, 15, 128)       147584    \n",
            "_________________________________________________________________\n",
            "max_pooling2d_3 (MaxPooling2 (None, 7, 7, 128)         0         \n",
            "_________________________________________________________________\n",
            "flatten (Flatten)            (None, 6272)              0         \n",
            "_________________________________________________________________\n",
            "dense (Dense)                (None, 512)               3211776   \n",
            "_________________________________________________________________\n",
            "dense_1 (Dense)              (None, 1)                 513       \n",
            "=================================================================\n",
            "Total params: 3,453,121\n",
            "Trainable params: 3,453,121\n",
            "Non-trainable params: 0\n",
            "_________________________________________________________________\n"
          ],
          "name": "stdout"
        }
      ]
    },
    {
      "cell_type": "code",
      "metadata": {
        "id": "_r8mqMurj5Tf"
      },
      "source": [
        "from keras import optimizers\n",
        "\n",
        "model.compile(loss='binary_crossentropy',\n",
        "             optimizer=optimizers.RMSprop(learning_rate=1e-4),\n",
        "             metrics=['acc'])"
      ],
      "execution_count": 6,
      "outputs": []
    },
    {
      "cell_type": "code",
      "metadata": {
        "colab": {
          "base_uri": "https://localhost:8080/"
        },
        "id": "-zumJI-zj5Vv",
        "outputId": "85d735d8-d283-488f-d9ab-dc92e28f76cc"
      },
      "source": [
        "from keras.preprocessing.image import ImageDataGenerator\n",
        "\n",
        "train_datagen = ImageDataGenerator(rescale=1./255)\n",
        "test_datagen = ImageDataGenerator(rescale=1./255)\n",
        "\n",
        "train_generator = train_datagen.flow_from_directory(\n",
        "    train_dir,\n",
        "    target_size=(150, 150),  # 모든 이미지를 150 * 150크기로 변경\n",
        "    batch_size=20,\n",
        "    class_mode='binary'  # 이진 레이블로 설정 ( binary crossentropy 손실을 사용하기 위해 )\n",
        ")\n",
        "\n",
        "validation_generator = test_datagen.flow_from_directory(\n",
        "    validation_dir,\n",
        "    target_size=(150, 150),\n",
        "    batch_size=20,\n",
        "    class_mode='binary'\n",
        ")"
      ],
      "execution_count": 7,
      "outputs": [
        {
          "output_type": "stream",
          "text": [
            "Found 2000 images belonging to 2 classes.\n",
            "Found 1000 images belonging to 2 classes.\n"
          ],
          "name": "stdout"
        }
      ]
    },
    {
      "cell_type": "code",
      "metadata": {
        "id": "6OdiHWToj5YK",
        "colab": {
          "base_uri": "https://localhost:8080/"
        },
        "outputId": "f5af7eac-f419-4a84-f936-75fd9d275549"
      },
      "source": [
        "# data : ( batch samples, height, width, channel )\n",
        "# label : ( batch samples, )\n",
        "for data_batch, labels_batch in validation_generator:\n",
        "    print('batch data size:', data_batch.shape)\n",
        "    print('batch label size:', labels_batch.shape)\n",
        "    break"
      ],
      "execution_count": 8,
      "outputs": [
        {
          "output_type": "stream",
          "text": [
            "batch data size: (20, 150, 150, 3)\n",
            "batch label size: (20,)\n"
          ],
          "name": "stdout"
        }
      ]
    },
    {
      "cell_type": "code",
      "metadata": {
        "colab": {
          "base_uri": "https://localhost:8080/"
        },
        "id": "EwoNX4-9j5a8",
        "outputId": "502cdc88-4c26-47db-b242-a564baace998"
      },
      "source": [
        "history = model.fit(\n",
        "    train_generator,\n",
        "    steps_per_epoch=100,\n",
        "    epochs=30,\n",
        "    validation_data=validation_generator,\n",
        "    validation_steps=50,\n",
        "    verbose=2\n",
        ")"
      ],
      "execution_count": 9,
      "outputs": [
        {
          "output_type": "stream",
          "text": [
            "Epoch 1/30\n",
            "100/100 - 591s - loss: 0.6900 - acc: 0.5405 - val_loss: 0.6759 - val_acc: 0.5810\n",
            "Epoch 2/30\n",
            "100/100 - 110s - loss: 0.6578 - acc: 0.6025 - val_loss: 0.6552 - val_acc: 0.6030\n",
            "Epoch 3/30\n",
            "100/100 - 110s - loss: 0.6187 - acc: 0.6565 - val_loss: 0.6353 - val_acc: 0.6240\n",
            "Epoch 4/30\n",
            "100/100 - 110s - loss: 0.5754 - acc: 0.6935 - val_loss: 0.5976 - val_acc: 0.6680\n",
            "Epoch 5/30\n",
            "100/100 - 111s - loss: 0.5269 - acc: 0.7300 - val_loss: 0.5683 - val_acc: 0.6940\n",
            "Epoch 6/30\n",
            "100/100 - 110s - loss: 0.4985 - acc: 0.7535 - val_loss: 0.6304 - val_acc: 0.6440\n",
            "Epoch 7/30\n",
            "100/100 - 110s - loss: 0.4804 - acc: 0.7735 - val_loss: 0.5474 - val_acc: 0.7260\n",
            "Epoch 8/30\n",
            "100/100 - 111s - loss: 0.4474 - acc: 0.7890 - val_loss: 0.5304 - val_acc: 0.7340\n",
            "Epoch 9/30\n",
            "100/100 - 111s - loss: 0.4173 - acc: 0.8125 - val_loss: 0.5492 - val_acc: 0.7230\n",
            "Epoch 10/30\n",
            "100/100 - 111s - loss: 0.3912 - acc: 0.8235 - val_loss: 0.5493 - val_acc: 0.7270\n",
            "Epoch 11/30\n",
            "100/100 - 111s - loss: 0.3685 - acc: 0.8415 - val_loss: 0.5420 - val_acc: 0.7370\n",
            "Epoch 12/30\n",
            "100/100 - 111s - loss: 0.3446 - acc: 0.8480 - val_loss: 0.5911 - val_acc: 0.7100\n",
            "Epoch 13/30\n",
            "100/100 - 111s - loss: 0.3216 - acc: 0.8630 - val_loss: 0.5372 - val_acc: 0.7410\n",
            "Epoch 14/30\n",
            "100/100 - 111s - loss: 0.2972 - acc: 0.8785 - val_loss: 0.5759 - val_acc: 0.7360\n",
            "Epoch 15/30\n",
            "100/100 - 113s - loss: 0.2738 - acc: 0.8935 - val_loss: 0.5818 - val_acc: 0.7300\n",
            "Epoch 16/30\n",
            "100/100 - 114s - loss: 0.2510 - acc: 0.8995 - val_loss: 0.5804 - val_acc: 0.7300\n",
            "Epoch 17/30\n",
            "100/100 - 112s - loss: 0.2231 - acc: 0.9180 - val_loss: 0.6605 - val_acc: 0.7250\n",
            "Epoch 18/30\n",
            "100/100 - 112s - loss: 0.2067 - acc: 0.9280 - val_loss: 0.7491 - val_acc: 0.7110\n",
            "Epoch 19/30\n",
            "100/100 - 112s - loss: 0.1851 - acc: 0.9305 - val_loss: 0.7496 - val_acc: 0.7270\n",
            "Epoch 20/30\n",
            "100/100 - 112s - loss: 0.1688 - acc: 0.9340 - val_loss: 0.6550 - val_acc: 0.7370\n",
            "Epoch 21/30\n",
            "100/100 - 112s - loss: 0.1542 - acc: 0.9445 - val_loss: 0.6924 - val_acc: 0.7330\n",
            "Epoch 22/30\n",
            "100/100 - 112s - loss: 0.1302 - acc: 0.9545 - val_loss: 0.6958 - val_acc: 0.7330\n",
            "Epoch 23/30\n",
            "100/100 - 111s - loss: 0.1174 - acc: 0.9620 - val_loss: 0.7347 - val_acc: 0.7290\n",
            "Epoch 24/30\n",
            "100/100 - 111s - loss: 0.0931 - acc: 0.9710 - val_loss: 0.9527 - val_acc: 0.6970\n",
            "Epoch 25/30\n",
            "100/100 - 111s - loss: 0.0855 - acc: 0.9720 - val_loss: 0.8215 - val_acc: 0.7260\n",
            "Epoch 26/30\n",
            "100/100 - 111s - loss: 0.0719 - acc: 0.9810 - val_loss: 0.8488 - val_acc: 0.7320\n",
            "Epoch 27/30\n",
            "100/100 - 111s - loss: 0.0635 - acc: 0.9815 - val_loss: 0.9169 - val_acc: 0.7410\n",
            "Epoch 28/30\n",
            "100/100 - 111s - loss: 0.0495 - acc: 0.9895 - val_loss: 0.9666 - val_acc: 0.7350\n",
            "Epoch 29/30\n",
            "100/100 - 112s - loss: 0.0490 - acc: 0.9880 - val_loss: 0.9761 - val_acc: 0.7210\n",
            "Epoch 30/30\n",
            "100/100 - 112s - loss: 0.0390 - acc: 0.9920 - val_loss: 1.0452 - val_acc: 0.7370\n"
          ],
          "name": "stdout"
        }
      ]
    },
    {
      "cell_type": "code",
      "metadata": {
        "id": "gA9wdaHpj5dS"
      },
      "source": [
        "# 모델 저장\n",
        "model.save('cats_and_dogs_small_1.h5')"
      ],
      "execution_count": 10,
      "outputs": []
    },
    {
      "cell_type": "code",
      "metadata": {
        "id": "0-MyzrbNkTxA",
        "colab": {
          "base_uri": "https://localhost:8080/",
          "height": 545
        },
        "outputId": "0ea29259-04e2-47d3-be95-3c7989ded8e8"
      },
      "source": [
        "import matplotlib.pyplot as plt\n",
        "\n",
        "acc = history.history['acc']\n",
        "val_acc = history.history['val_acc']\n",
        "loss = history.history['loss']\n",
        "val_loss = history.history['val_loss']\n",
        "\n",
        "epochs = range(1, len(acc) + 1)\n",
        "\n",
        "plt.plot(epochs, acc, 'ro', label='Training acc')\n",
        "plt.plot(epochs, val_acc, 'b', label='Validation acc')\n",
        "plt.title('Training and validation accuracy')\n",
        "plt.legend()\n",
        "\n",
        "plt.figure()\n",
        "\n",
        "plt.plot(epochs, loss, 'ro', label='Training loss')\n",
        "plt.plot(epochs, val_loss, 'b', label='Validation loss')\n",
        "plt.title('Training and validation loss')\n",
        "plt.legend()\n",
        "\n",
        "plt.show()"
      ],
      "execution_count": 11,
      "outputs": [
        {
          "output_type": "display_data",
          "data": {
            "image/png": "[encoded data removed]",
            "text/plain": [
              "<Figure size 432x288 with 1 Axes>"
            ]
          },
          "metadata": {
            "tags": [],
            "needs_background": "light"
          }
        },
        {
          "output_type": "display_data",
          "data": {
            "image/png": "[encoded data removed]",
            "text/plain": [
              "<Figure size 432x288 with 1 Axes>"
            ]
          },
          "metadata": {
            "tags": [],
            "needs_background": "light"
          }
        }
      ]
    },
    {
      "cell_type": "code",
      "metadata": {
        "id": "KILIP9_kkT1g"
      },
      "source": [
        ""
      ],
      "execution_count": null,
      "outputs": []
    }
  ]
}