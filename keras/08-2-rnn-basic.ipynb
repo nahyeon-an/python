{
 "cells": [
  {
   "cell_type": "code",
   "execution_count": null,
   "metadata": {
    "id": "dpH37iV7SuGP"
   },
   "outputs": [],
   "source": [
    "import numpy as np\n",
    "\n",
    "# 입력 시퀀스의 타임스텝의 수\n",
    "timesteps = 100\n",
    "# 입력 특성의 차원\n",
    "input_features = 32\n",
    "# 출력 특성의 차원\n",
    "output_features = 64\n",
    "\n",
    "inputs = np.random.random((timesteps, input_features))\n",
    "\n",
    "# 초기 상태 : 0벡터\n",
    "state_t = np.zeros((output_features,))\n",
    "\n",
    "W = np.random.random((output_features, input_features))\n",
    "U = np.random.random((output_features, output_features))\n",
    "b = np.random.random((output_features, ))\n",
    "\n",
    "successive_outputs = []\n",
    "\n",
    "for input_t in inputs:\n",
    "    output_t = np.tanh( np.dot(W, input_t) + np.dot(U, state_t) + b )\n",
    "    successive_outputs.append(output_t)\n",
    "    state_t = output_t\n",
    "\n",
    "# 최종 출력의 크기 : (timesteps, output_features) 2D tensor\n",
    "final_output_sequence = np.stack(successive_outputs, axis=0)"
   ]
  },
  {
   "cell_type": "code",
   "execution_count": null,
   "metadata": {
    "colab": {
     "base_uri": "https://localhost:8080/"
    },
    "id": "ODF4ze2FTrBb",
    "outputId": "9083c88b-52f3-48fb-de91-59863beac6af"
   },
   "outputs": [
    {
     "data": {
      "text/plain": [
       "((100, 32), (64,))"
      ]
     },
     "execution_count": 2,
     "metadata": {
      "tags": []
     },
     "output_type": "execute_result"
    }
   ],
   "source": [
    "inputs.shape, state_t.shape"
   ]
  },
  {
   "cell_type": "code",
   "execution_count": null,
   "metadata": {
    "colab": {
     "base_uri": "https://localhost:8080/"
    },
    "id": "DbD0bum-TyL7",
    "outputId": "683eb3ed-4711-4d12-a5b6-2325e4dc32ce"
   },
   "outputs": [
    {
     "data": {
      "text/plain": [
       "((64, 32), (64, 64), (64,))"
      ]
     },
     "execution_count": 3,
     "metadata": {
      "tags": []
     },
     "output_type": "execute_result"
    }
   ],
   "source": [
    "W.shape, U.shape, b.shape"
   ]
  },
  {
   "cell_type": "code",
   "execution_count": null,
   "metadata": {
    "colab": {
     "base_uri": "https://localhost:8080/"
    },
    "id": "8_3VpDfvT17V",
    "outputId": "e90c4e2d-c34b-4a83-d5a4-51116e5eecf4"
   },
   "outputs": [
    {
     "data": {
      "text/plain": [
       "100"
      ]
     },
     "execution_count": 4,
     "metadata": {
      "tags": []
     },
     "output_type": "execute_result"
    }
   ],
   "source": [
    "len(inputs)"
   ]
  },
  {
   "cell_type": "code",
   "execution_count": null,
   "metadata": {
    "colab": {
     "base_uri": "https://localhost:8080/"
    },
    "id": "880FB-9WT8iI",
    "outputId": "cb9077d1-86d4-4111-c080-f9d365d85710"
   },
   "outputs": [
    {
     "data": {
      "text/plain": [
       "100"
      ]
     },
     "execution_count": 5,
     "metadata": {
      "tags": []
     },
     "output_type": "execute_result"
    }
   ],
   "source": [
    "len(successive_outputs)"
   ]
  },
  {
   "cell_type": "code",
   "execution_count": null,
   "metadata": {
    "colab": {
     "base_uri": "https://localhost:8080/"
    },
    "id": "LS8AvkUmT_03",
    "outputId": "b1851195-1f1e-4027-9712-5ecf141104c2"
   },
   "outputs": [
    {
     "data": {
      "text/plain": [
       "array([[0.20435616, 0.48575659, 0.34291913, 0.82190565, 0.4757628 ,\n",
       "        0.53151261, 0.28362935, 0.53501762, 0.07601869, 0.96566945,\n",
       "        0.06211834, 0.94607837, 0.9422623 , 0.34307559, 0.48564546,\n",
       "        0.75895932, 0.59469701, 0.44092832, 0.94709071, 0.58019149,\n",
       "        0.80676761, 0.42160123, 0.05907499, 0.28798424, 0.03849732,\n",
       "        0.59712918, 0.05065614, 0.28880034, 0.91780012, 0.21565409,\n",
       "        0.11035931, 0.06870883],\n",
       "       [0.45889894, 0.68580071, 0.90212953, 0.40463982, 0.39525636,\n",
       "        0.69628925, 0.60302907, 0.66308796, 0.53788607, 0.123564  ,\n",
       "        0.94834575, 0.9418639 , 0.54719353, 0.50467984, 0.52709402,\n",
       "        0.37666512, 0.74260826, 0.74583879, 0.4024754 , 0.76749889,\n",
       "        0.80301989, 0.9526485 , 0.51634448, 0.73271802, 0.46372059,\n",
       "        0.61001246, 0.55248982, 0.90566659, 0.33129279, 0.92223284,\n",
       "        0.73950662, 0.19985927]])"
      ]
     },
     "execution_count": 6,
     "metadata": {
      "tags": []
     },
     "output_type": "execute_result"
    }
   ],
   "source": [
    "inputs[:2]"
   ]
  },
  {
   "cell_type": "code",
   "execution_count": null,
   "metadata": {
    "colab": {
     "base_uri": "https://localhost:8080/"
    },
    "id": "aEOET68AUDk0",
    "outputId": "f24db933-2c47-4ca8-b193-820caab961d0"
   },
   "outputs": [
    {
     "data": {
      "text/plain": [
       "[array([0.99999998, 0.99999979, 0.99999969, 0.99999995, 0.99999996,\n",
       "        0.99999976, 0.99999957, 0.99999422, 0.99999844, 0.99999991,\n",
       "        0.99999952, 0.99999848, 0.99999778, 0.99999997, 0.99999951,\n",
       "        0.99999972, 0.99999999, 0.99999996, 0.99998836, 0.99999848,\n",
       "        0.99999847, 0.99999998, 0.99999993, 0.99999999, 0.99999994,\n",
       "        0.99999889, 0.99999881, 0.9999997 , 0.9999999 , 0.99999782,\n",
       "        0.99999993, 0.99999973, 0.99999963, 0.99999977, 0.99999823,\n",
       "        0.99999971, 0.99999993, 0.99999984, 0.99999943, 0.99999771,\n",
       "        0.99999993, 0.99999995, 0.99998681, 0.99999807, 0.99999987,\n",
       "        0.99999712, 0.99999774, 0.99999999, 0.99999993, 0.99999956,\n",
       "        0.99999942, 0.99999997, 0.99999864, 0.9999992 , 0.99999993,\n",
       "        0.9999997 , 0.99999928, 0.99999999, 0.99999957, 0.99999937,\n",
       "        0.99999989, 0.99999975, 0.99999993, 0.99999966]),\n",
       " array([1., 1., 1., 1., 1., 1., 1., 1., 1., 1., 1., 1., 1., 1., 1., 1., 1.,\n",
       "        1., 1., 1., 1., 1., 1., 1., 1., 1., 1., 1., 1., 1., 1., 1., 1., 1.,\n",
       "        1., 1., 1., 1., 1., 1., 1., 1., 1., 1., 1., 1., 1., 1., 1., 1., 1.,\n",
       "        1., 1., 1., 1., 1., 1., 1., 1., 1., 1., 1., 1., 1.])]"
      ]
     },
     "execution_count": 7,
     "metadata": {
      "tags": []
     },
     "output_type": "execute_result"
    }
   ],
   "source": [
    "successive_outputs[:2]"
   ]
  },
  {
   "cell_type": "code",
   "execution_count": null,
   "metadata": {
    "colab": {
     "base_uri": "https://localhost:8080/"
    },
    "id": "nXYhFeisUFPq",
    "outputId": "86df2726-2315-4f0e-c130-6f62f851e15b"
   },
   "outputs": [
    {
     "data": {
      "text/plain": [
       "(100, 64)"
      ]
     },
     "execution_count": 8,
     "metadata": {
      "tags": []
     },
     "output_type": "execute_result"
    }
   ],
   "source": [
    "final_output_sequence.shape"
   ]
  },
  {
   "cell_type": "code",
   "execution_count": null,
   "metadata": {
    "colab": {
     "base_uri": "https://localhost:8080/"
    },
    "id": "zKAIMXuBUH9U",
    "outputId": "3468e835-aa4e-4f39-b997-07fdaf312ddb"
   },
   "outputs": [
    {
     "data": {
      "text/plain": [
       "array([0.99999998, 0.99999979, 0.99999969, 0.99999995, 0.99999996,\n",
       "       0.99999976, 0.99999957, 0.99999422, 0.99999844, 0.99999991,\n",
       "       0.99999952, 0.99999848, 0.99999778, 0.99999997, 0.99999951,\n",
       "       0.99999972, 0.99999999, 0.99999996, 0.99998836, 0.99999848,\n",
       "       0.99999847, 0.99999998, 0.99999993, 0.99999999, 0.99999994,\n",
       "       0.99999889, 0.99999881, 0.9999997 , 0.9999999 , 0.99999782,\n",
       "       0.99999993, 0.99999973, 0.99999963, 0.99999977, 0.99999823,\n",
       "       0.99999971, 0.99999993, 0.99999984, 0.99999943, 0.99999771,\n",
       "       0.99999993, 0.99999995, 0.99998681, 0.99999807, 0.99999987,\n",
       "       0.99999712, 0.99999774, 0.99999999, 0.99999993, 0.99999956,\n",
       "       0.99999942, 0.99999997, 0.99999864, 0.9999992 , 0.99999993,\n",
       "       0.9999997 , 0.99999928, 0.99999999, 0.99999957, 0.99999937,\n",
       "       0.99999989, 0.99999975, 0.99999993, 0.99999966])"
      ]
     },
     "execution_count": 9,
     "metadata": {
      "tags": []
     },
     "output_type": "execute_result"
    }
   ],
   "source": [
    "final_output_sequence[0]"
   ]
  },
  {
   "cell_type": "code",
   "execution_count": null,
   "metadata": {
    "id": "oBdjXXPBUPwr"
   },
   "outputs": [],
   "source": [
    "from tensorflow.keras.models import Sequential\n",
    "from tensorflow.keras.layers import Embedding, SimpleRNN\n",
    "\n",
    "model = Sequential()\n",
    "model.add(Embedding(10000,32))\n",
    "model.add(SimpleRNN(32)) # 마지막 타임스텝의 출력만 반환"
   ]
  },
  {
   "cell_type": "code",
   "execution_count": null,
   "metadata": {
    "colab": {
     "base_uri": "https://localhost:8080/"
    },
    "id": "htOmcPpq93dH",
    "outputId": "48896708-d9e1-4a91-f612-851e1b15b266"
   },
   "outputs": [
    {
     "name": "stdout",
     "output_type": "stream",
     "text": [
      "Model: \"sequential\"\n",
      "_________________________________________________________________\n",
      "Layer (type)                 Output Shape              Param #   \n",
      "=================================================================\n",
      "embedding (Embedding)        (None, None, 32)          320000    \n",
      "_________________________________________________________________\n",
      "simple_rnn (SimpleRNN)       (None, 32)                2080      \n",
      "=================================================================\n",
      "Total params: 322,080\n",
      "Trainable params: 322,080\n",
      "Non-trainable params: 0\n",
      "_________________________________________________________________\n"
     ]
    }
   ],
   "source": [
    "model.summary()"
   ]
  },
  {
   "cell_type": "code",
   "execution_count": null,
   "metadata": {
    "id": "XHC5ZueS94VW"
   },
   "outputs": [],
   "source": [
    "model = Sequential()\n",
    "model.add(Embedding(10000,32))\n",
    "model.add(SimpleRNN(32, return_sequences=True))  # 전체 상태 시퀀스를 반환"
   ]
  },
  {
   "cell_type": "code",
   "execution_count": null,
   "metadata": {
    "colab": {
     "base_uri": "https://localhost:8080/"
    },
    "id": "zVO52yVI9_Tk",
    "outputId": "cb431d4d-6612-49a9-f0bc-2f557db45361"
   },
   "outputs": [
    {
     "name": "stdout",
     "output_type": "stream",
     "text": [
      "Model: \"sequential_1\"\n",
      "_________________________________________________________________\n",
      "Layer (type)                 Output Shape              Param #   \n",
      "=================================================================\n",
      "embedding_1 (Embedding)      (None, None, 32)          320000    \n",
      "_________________________________________________________________\n",
      "simple_rnn_1 (SimpleRNN)     (None, None, 32)          2080      \n",
      "=================================================================\n",
      "Total params: 322,080\n",
      "Trainable params: 322,080\n",
      "Non-trainable params: 0\n",
      "_________________________________________________________________\n"
     ]
    }
   ],
   "source": [
    "model.summary()"
   ]
  },
  {
   "cell_type": "code",
   "execution_count": null,
   "metadata": {
    "id": "_WjzSuzL9___"
   },
   "outputs": [],
   "source": [
    "model = Sequential()\n",
    "model.add(Embedding(10000,32))\n",
    "model.add(SimpleRNN(32, return_sequences=True))\n",
    "model.add(SimpleRNN(32, return_sequences=True))\n",
    "model.add(SimpleRNN(32, return_sequences=True))\n",
    "model.add(SimpleRNN(32))"
   ]
  },
  {
   "cell_type": "code",
   "execution_count": null,
   "metadata": {
    "colab": {
     "base_uri": "https://localhost:8080/"
    },
    "id": "9Z0wEEjO-ZBV",
    "outputId": "f3825a9b-1a83-4363-d52c-7409e7acaa59"
   },
   "outputs": [
    {
     "name": "stdout",
     "output_type": "stream",
     "text": [
      "Model: \"sequential_2\"\n",
      "_________________________________________________________________\n",
      "Layer (type)                 Output Shape              Param #   \n",
      "=================================================================\n",
      "embedding_2 (Embedding)      (None, None, 32)          320000    \n",
      "_________________________________________________________________\n",
      "simple_rnn_2 (SimpleRNN)     (None, None, 32)          2080      \n",
      "_________________________________________________________________\n",
      "simple_rnn_3 (SimpleRNN)     (None, None, 32)          2080      \n",
      "_________________________________________________________________\n",
      "simple_rnn_4 (SimpleRNN)     (None, None, 32)          2080      \n",
      "_________________________________________________________________\n",
      "simple_rnn_5 (SimpleRNN)     (None, 32)                2080      \n",
      "=================================================================\n",
      "Total params: 328,320\n",
      "Trainable params: 328,320\n",
      "Non-trainable params: 0\n",
      "_________________________________________________________________\n"
     ]
    }
   ],
   "source": [
    "model.summary()"
   ]
  },
  {
   "cell_type": "code",
   "execution_count": null,
   "metadata": {
    "colab": {
     "base_uri": "https://localhost:8080/"
    },
    "id": "zoWVBae9-Z4J",
    "outputId": "012dfce0-ec7a-4778-9c67-d17557889b24"
   },
   "outputs": [
    {
     "name": "stdout",
     "output_type": "stream",
     "text": [
      "Downloading data from https://storage.googleapis.com/tensorflow/tf-keras-datasets/imdb.npz\n",
      "17465344/17464789 [==============================] - 0s 0us/step\n"
     ]
    },
    {
     "name": "stderr",
     "output_type": "stream",
     "text": [
      "<string>:6: VisibleDeprecationWarning: Creating an ndarray from ragged nested sequences (which is a list-or-tuple of lists-or-tuples-or ndarrays with different lengths or shapes) is deprecated. If you meant to do this, you must specify 'dtype=object' when creating the ndarray\n",
      "/usr/local/lib/python3.7/dist-packages/tensorflow/python/keras/datasets/imdb.py:155: VisibleDeprecationWarning: Creating an ndarray from ragged nested sequences (which is a list-or-tuple of lists-or-tuples-or ndarrays with different lengths or shapes) is deprecated. If you meant to do this, you must specify 'dtype=object' when creating the ndarray\n",
      "  x_train, y_train = np.array(xs[:idx]), np.array(labels[:idx])\n",
      "/usr/local/lib/python3.7/dist-packages/tensorflow/python/keras/datasets/imdb.py:156: VisibleDeprecationWarning: Creating an ndarray from ragged nested sequences (which is a list-or-tuple of lists-or-tuples-or ndarrays with different lengths or shapes) is deprecated. If you meant to do this, you must specify 'dtype=object' when creating the ndarray\n",
      "  x_test, y_test = np.array(xs[idx:]), np.array(labels[idx:])\n"
     ]
    },
    {
     "name": "stdout",
     "output_type": "stream",
     "text": [
      "훈련 시퀀스 25000, 테스트 시퀀스 25000\n",
      "시퀀스 패딩 (samples * time)\n"
     ]
    }
   ],
   "source": [
    "from tensorflow.keras.datasets import imdb\n",
    "from tensorflow.keras.preprocessing import sequence\n",
    "\n",
    "max_feature = 10000\n",
    "maxlen = 500\n",
    "batch_size = 32\n",
    "\n",
    "(input_train, y_train), (input_test, y_test) = imdb.load_data(num_words=max_feature)\n",
    "print(\"훈련 시퀀스 {}, 테스트 시퀀스 {}\".format(len(input_train), len(input_test)))\n",
    "\n",
    "print('시퀀스 패딩 (samples * time)')\n",
    "input_train = sequence.pad_sequences(input_train, maxlen=maxlen)\n",
    "input_test = sequence.pad_sequences(input_test, maxlen=maxlen)"
   ]
  },
  {
   "cell_type": "code",
   "execution_count": null,
   "metadata": {
    "colab": {
     "base_uri": "https://localhost:8080/"
    },
    "id": "jWqj69TH_L_Q",
    "outputId": "6f927a50-c079-45ad-a82d-1347d872df6c"
   },
   "outputs": [
    {
     "data": {
      "text/plain": [
       "((25000, 500), (25000, 500))"
      ]
     },
     "execution_count": 9,
     "metadata": {
      "tags": []
     },
     "output_type": "execute_result"
    }
   ],
   "source": [
    "input_train.shape, input_test.shape"
   ]
  },
  {
   "cell_type": "code",
   "execution_count": null,
   "metadata": {
    "colab": {
     "base_uri": "https://localhost:8080/"
    },
    "id": "drjZ0lCF_SRG",
    "outputId": "a11970f0-75c9-4601-ebae-151bb1c771c7"
   },
   "outputs": [
    {
     "name": "stdout",
     "output_type": "stream",
     "text": [
      "Epoch 1/10\n",
      "157/157 - 22s - loss: 0.6468 - acc: 0.6087 - val_loss: 0.4635 - val_acc: 0.8124\n",
      "Epoch 2/10\n",
      "157/157 - 21s - loss: 0.3858 - acc: 0.8416 - val_loss: 0.3752 - val_acc: 0.8456\n",
      "Epoch 3/10\n",
      "157/157 - 21s - loss: 0.2822 - acc: 0.8907 - val_loss: 0.4400 - val_acc: 0.7888\n",
      "Epoch 4/10\n",
      "157/157 - 21s - loss: 0.2266 - acc: 0.9136 - val_loss: 0.5499 - val_acc: 0.7344\n",
      "Epoch 5/10\n",
      "157/157 - 21s - loss: 0.1759 - acc: 0.9365 - val_loss: 0.4264 - val_acc: 0.8286\n",
      "Epoch 6/10\n",
      "157/157 - 21s - loss: 0.1324 - acc: 0.9535 - val_loss: 0.4132 - val_acc: 0.8322\n",
      "Epoch 7/10\n",
      "157/157 - 21s - loss: 0.0910 - acc: 0.9705 - val_loss: 0.6037 - val_acc: 0.7802\n",
      "Epoch 8/10\n",
      "157/157 - 21s - loss: 0.0658 - acc: 0.9776 - val_loss: 0.5306 - val_acc: 0.8114\n",
      "Epoch 9/10\n",
      "157/157 - 21s - loss: 0.0461 - acc: 0.9858 - val_loss: 0.5791 - val_acc: 0.8242\n",
      "Epoch 10/10\n",
      "157/157 - 21s - loss: 0.0289 - acc: 0.9916 - val_loss: 0.5907 - val_acc: 0.8454\n"
     ]
    }
   ],
   "source": [
    "from tensorflow.keras.layers import Dense\n",
    "\n",
    "model = Sequential()\n",
    "model.add(Embedding(max_feature, 32))\n",
    "model.add(SimpleRNN(32))\n",
    "model.add(Dense(1, activation='sigmoid'))\n",
    "\n",
    "model.compile(optimizer='rmsprop', loss='binary_crossentropy', metrics=['acc'])\n",
    "\n",
    "history = model.fit(input_train, y_train,\n",
    "                    epochs=10,\n",
    "                    batch_size=128,\n",
    "                    validation_split=0.2,\n",
    "                    verbose=2)"
   ]
  },
  {
   "cell_type": "code",
   "execution_count": null,
   "metadata": {
    "id": "ENa7pJxU_t34"
   },
   "outputs": [],
   "source": [
    "def drawHistory(history):\n",
    "    import matplotlib.pyplot as plt\n",
    "\n",
    "    acc = history.history['acc']\n",
    "    val_acc = history.history['val_acc']\n",
    "    loss = history.history['loss']\n",
    "    val_loss = history.history['val_loss']\n",
    "\n",
    "    epochs = range(1, len(acc) + 1)\n",
    "\n",
    "    plt.plot(epochs, acc, 'ro', label='Training acc')\n",
    "    plt.plot(epochs, val_acc, 'b', label='Validation acc')\n",
    "    plt.title('Training and validation accuracy')\n",
    "    plt.legend()\n",
    "\n",
    "    plt.figure()\n",
    "\n",
    "    plt.plot(epochs, loss, 'ro', label='Training loss')\n",
    "    plt.plot(epochs, val_loss, 'b', label='Validation loss')\n",
    "    plt.title('Training and validation loss')\n",
    "    plt.legend()\n",
    "\n",
    "    plt.show()"
   ]
  },
  {
   "cell_type": "code",
   "execution_count": null,
   "metadata": {
    "colab": {
     "base_uri": "https://localhost:8080/",
     "height": 545
    },
    "id": "ZxZgSFEjAvDA",
    "outputId": "9fe86624-3b2b-4a8a-823e-c769b3f0a1ec"
   },
   "outputs": [
    {
     "data": {
      "image/png": "[encoded data removed]",
      "text/plain": [
       "<Figure size 432x288 with 1 Axes>"
      ]
     },
     "metadata": {
      "needs_background": "light",
      "tags": []
     },
     "output_type": "display_data"
    },
    {
     "data": {
      "image/png": "[encoded data removed]",
      "text/plain": [
       "<Figure size 432x288 with 1 Axes>"
      ]
     },
     "metadata": {
      "needs_background": "light",
      "tags": []
     },
     "output_type": "display_data"
    }
   ],
   "source": [
    "drawHistory(history)"
   ]
  },
  {
   "cell_type": "code",
   "execution_count": null,
   "metadata": {
    "colab": {
     "base_uri": "https://localhost:8080/"
    },
    "id": "rOFtHKBMAwRY",
    "outputId": "176b0ce1-1a70-409e-94e2-dfb95a00ec46"
   },
   "outputs": [
    {
     "name": "stdout",
     "output_type": "stream",
     "text": [
      "Epoch 1/10\n",
      "157/157 - 49s - loss: 0.5203 - acc: 0.7595 - val_loss: 0.3686 - val_acc: 0.8616\n",
      "Epoch 2/10\n",
      "157/157 - 47s - loss: 0.3064 - acc: 0.8820 - val_loss: 0.3181 - val_acc: 0.8694\n",
      "Epoch 3/10\n",
      "157/157 - 47s - loss: 0.2403 - acc: 0.9104 - val_loss: 0.4712 - val_acc: 0.8194\n",
      "Epoch 4/10\n",
      "157/157 - 47s - loss: 0.2020 - acc: 0.9241 - val_loss: 0.3143 - val_acc: 0.8660\n",
      "Epoch 5/10\n",
      "157/157 - 47s - loss: 0.1786 - acc: 0.9336 - val_loss: 0.4841 - val_acc: 0.8312\n",
      "Epoch 6/10\n",
      "157/157 - 47s - loss: 0.1581 - acc: 0.9426 - val_loss: 0.3770 - val_acc: 0.8740\n",
      "Epoch 7/10\n",
      "157/157 - 47s - loss: 0.1450 - acc: 0.9484 - val_loss: 0.5569 - val_acc: 0.8452\n",
      "Epoch 8/10\n",
      "157/157 - 47s - loss: 0.1348 - acc: 0.9538 - val_loss: 0.3104 - val_acc: 0.8844\n",
      "Epoch 9/10\n",
      "157/157 - 47s - loss: 0.1191 - acc: 0.9579 - val_loss: 0.3671 - val_acc: 0.8804\n",
      "Epoch 10/10\n",
      "157/157 - 47s - loss: 0.1100 - acc: 0.9618 - val_loss: 0.5115 - val_acc: 0.8686\n"
     ]
    }
   ],
   "source": [
    "from tensorflow.keras.layers import LSTM\n",
    "\n",
    "model = Sequential()\n",
    "model.add(Embedding(max_feature, 32))\n",
    "model.add(LSTM(32))\n",
    "model.add(Dense(1, activation='sigmoid'))\n",
    "\n",
    "model.compile(optimizer='rmsprop',\n",
    "              loss='binary_crossentropy',\n",
    "              metrics=['acc'])\n",
    "\n",
    "history = model.fit(input_train, y_train,\n",
    "                    epochs=10,\n",
    "                    batch_size=128,\n",
    "                    validation_split=0.2,\n",
    "                    verbose=2)"
   ]
  },
  {
   "cell_type": "code",
   "execution_count": null,
   "metadata": {
    "colab": {
     "base_uri": "https://localhost:8080/",
     "height": 545
    },
    "id": "C5lutUJdB4kU",
    "outputId": "be730257-832b-43be-d71d-330082939480"
   },
   "outputs": [
    {
     "data": {
      "image/png": "[encoded data removed]",
      "text/plain": [
       "<Figure size 432x288 with 1 Axes>"
      ]
     },
     "metadata": {
      "needs_background": "light",
      "tags": []
     },
     "output_type": "display_data"
    },
    {
     "data": {
      "image/png": "[encoded data removed]",
      "text/plain": [
       "<Figure size 432x288 with 1 Axes>"
      ]
     },
     "metadata": {
      "needs_background": "light",
      "tags": []
     },
     "output_type": "display_data"
    }
   ],
   "source": [
    "drawHistory(history)"
   ]
  },
  {
   "cell_type": "code",
   "execution_count": null,
   "metadata": {
    "id": "cls5PtkwEkuB"
   },
   "outputs": [],
   "source": []
  }
 ],
 "metadata": {
  "colab": {
   "collapsed_sections": [],
   "name": "08-2-rnn-basic.ipynb",
   "provenance": []
  },
  "kernelspec": {
   "display_name": "Python 3",
   "language": "python",
   "name": "python3"
  },
  "language_info": {
   "codemirror_mode": {
    "name": "ipython",
    "version": 3
   },
   "file_extension": ".py",
   "mimetype": "text/x-python",
   "name": "python",
   "nbconvert_exporter": "python",
   "pygments_lexer": "ipython3",
   "version": "3.7.6"
  }
 },
 "nbformat": 4,
 "nbformat_minor": 4
}
