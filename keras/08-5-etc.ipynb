{
 "cells": [
  {
   "cell_type": "code",
   "execution_count": 1,
   "metadata": {},
   "outputs": [],
   "source": [
    "import numpy as np\n",
    "\n",
    "# 입력 시퀀스의 타임스텝의 수\n",
    "timesteps = 100\n",
    "# 입력 특성의 차원\n",
    "input_features = 32\n",
    "# 출력 특성의 차원\n",
    "output_features = 64\n",
    "\n",
    "inputs = np.random.random((timesteps, input_features))\n",
    "\n",
    "# 초기 상태 : 0벡터\n",
    "state_t = np.zeros((output_features,))\n",
    "\n",
    "W = np.random.random((output_features, input_features))\n",
    "U = np.random.random((output_features, output_features))\n",
    "b = np.random.random((output_features, ))\n",
    "\n",
    "successive_outputs = []\n",
    "\n",
    "for input_t in inputs:\n",
    "    output_t = np.tanh( np.dot(W, input_t) + np.dot(U, state_t) + b )\n",
    "    successive_outputs.append(output_t)\n",
    "    state_t = output_t\n",
    "\n",
    "# 최종 출력의 크기 : (timesteps, output_features) 2D tensor\n",
    "final_output_sequence = np.stack(successive_outputs, axis=0)"
   ]
  },
  {
   "cell_type": "code",
   "execution_count": 3,
   "metadata": {},
   "outputs": [
    {
     "data": {
      "text/plain": [
       "(array([[0.83517397, 0.16119646, 0.85267148, ..., 0.63245986, 0.1791181 ,\n",
       "         0.7725546 ],\n",
       "        [0.18068833, 0.66596178, 0.59673225, ..., 0.41689787, 0.98662133,\n",
       "         0.3690927 ],\n",
       "        [0.5858957 , 0.12694827, 0.85531232, ..., 0.76941192, 0.49228704,\n",
       "         0.27612495],\n",
       "        ...,\n",
       "        [0.59045437, 0.66490014, 0.49433664, ..., 0.85170889, 0.25125989,\n",
       "         0.57779365],\n",
       "        [0.80463066, 0.61489048, 0.3247619 , ..., 0.91803868, 0.9284634 ,\n",
       "         0.75466422],\n",
       "        [0.59371342, 0.55129162, 0.85726098, ..., 0.77591821, 0.44188222,\n",
       "         0.65531992]]),\n",
       " (64, 32))"
      ]
     },
     "execution_count": 3,
     "metadata": {},
     "output_type": "execute_result"
    }
   ],
   "source": [
    "W, W.shape"
   ]
  },
  {
   "cell_type": "code",
   "execution_count": 4,
   "metadata": {},
   "outputs": [
    {
     "data": {
      "text/plain": [
       "32"
      ]
     },
     "execution_count": 4,
     "metadata": {},
     "output_type": "execute_result"
    }
   ],
   "source": [
    "len(W[0])"
   ]
  },
  {
   "cell_type": "code",
   "execution_count": 5,
   "metadata": {},
   "outputs": [
    {
     "data": {
      "text/plain": [
       "(array([[0.68332689, 0.26877599, 0.71641477, ..., 0.51105412, 0.84465145,\n",
       "         0.52471106],\n",
       "        [0.54742386, 0.52258646, 0.52116589, ..., 0.18313729, 0.40149681,\n",
       "         0.26247227],\n",
       "        [0.53272843, 0.42567461, 0.93242042, ..., 0.71091917, 0.29542666,\n",
       "         0.17511571],\n",
       "        ...,\n",
       "        [0.73951361, 0.12644467, 0.51074846, ..., 0.6891985 , 0.04314439,\n",
       "         0.62952236],\n",
       "        [0.45752691, 0.10785195, 0.17904153, ..., 0.99050963, 0.28407869,\n",
       "         0.08454627],\n",
       "        [0.12326639, 0.05758784, 0.80997825, ..., 0.83268207, 0.77702384,\n",
       "         0.0205653 ]]),\n",
       " (100, 32))"
      ]
     },
     "execution_count": 5,
     "metadata": {},
     "output_type": "execute_result"
    }
   ],
   "source": [
    "inputs, inputs.shape"
   ]
  },
  {
   "cell_type": "code",
   "execution_count": 6,
   "metadata": {},
   "outputs": [
    {
     "data": {
      "text/plain": [
       "32"
      ]
     },
     "execution_count": 6,
     "metadata": {},
     "output_type": "execute_result"
    }
   ],
   "source": [
    "len(inputs[0])"
   ]
  },
  {
   "cell_type": "code",
   "execution_count": 8,
   "metadata": {},
   "outputs": [],
   "source": [
    "i = np.dot(W, inputs[0])"
   ]
  },
  {
   "cell_type": "code",
   "execution_count": 10,
   "metadata": {},
   "outputs": [
    {
     "data": {
      "text/plain": [
       "((64,), (32,))"
      ]
     },
     "execution_count": 10,
     "metadata": {},
     "output_type": "execute_result"
    }
   ],
   "source": [
    "i.shape, inputs[0].shape"
   ]
  },
  {
   "cell_type": "code",
   "execution_count": 11,
   "metadata": {},
   "outputs": [
    {
     "data": {
      "text/plain": [
       "array([0.68332689, 0.26877599, 0.71641477, 0.03283676, 0.41309121,\n",
       "       0.70628209, 0.88247382, 0.7108023 , 0.96945409, 0.18985963,\n",
       "       0.722335  , 0.80728414, 0.55288248, 0.25819481, 0.32546263,\n",
       "       0.69419279, 0.61720801, 0.05321311, 0.46804393, 0.40919045,\n",
       "       0.94335757, 0.49730263, 0.38001989, 0.56421185, 0.13585384,\n",
       "       0.72227158, 0.41593894, 0.88857563, 0.95060307, 0.51105412,\n",
       "       0.84465145, 0.52471106])"
      ]
     },
     "execution_count": 11,
     "metadata": {},
     "output_type": "execute_result"
    }
   ],
   "source": [
    "inputs[0]"
   ]
  },
  {
   "cell_type": "code",
   "execution_count": 12,
   "metadata": {},
   "outputs": [
    {
     "data": {
      "text/plain": [
       "8.834915150787275"
      ]
     },
     "execution_count": 12,
     "metadata": {},
     "output_type": "execute_result"
    }
   ],
   "source": [
    "i[0]"
   ]
  },
  {
   "cell_type": "code",
   "execution_count": 13,
   "metadata": {},
   "outputs": [
    {
     "data": {
      "text/plain": [
       "array([ 8.83491515, 11.55752321, 10.01411815,  8.5137758 ,  7.70835746,\n",
       "        7.26686396,  9.46845283,  9.447725  ,  8.7960813 ,  7.72351804,\n",
       "        8.42707716,  9.48733133,  7.7348807 ,  9.23370699,  7.82164123,\n",
       "        9.41837301,  7.69425522,  8.78456866,  8.51813932,  9.85597795,\n",
       "        8.86473189,  9.10171614,  9.32379754,  9.64709005, 10.08715702,\n",
       "        8.8487719 ,  9.20073921,  7.17968146,  7.3433291 ,  9.20172147,\n",
       "        8.34146958,  9.28289182,  7.70920841,  8.1881492 ,  9.31642225,\n",
       "        8.95722161,  7.77094691,  8.5090749 ,  8.5489809 , 10.33892524,\n",
       "        8.51330402,  9.40113692,  7.65962074,  9.29443024,  7.29696802,\n",
       "        8.29991986,  8.9368344 ,  8.87065539,  8.49616132,  9.67546549,\n",
       "        8.16373112,  8.66205465, 10.2142733 ,  9.21684408,  9.56705742,\n",
       "        8.49236525,  8.72377941,  6.90130715,  7.90870445,  9.1756249 ,\n",
       "        8.49781064,  7.98166427,  9.74418733,  8.23641767])"
      ]
     },
     "execution_count": 13,
     "metadata": {},
     "output_type": "execute_result"
    }
   ],
   "source": [
    "i  # 64 차원의 벡터"
   ]
  },
  {
   "cell_type": "code",
   "execution_count": 14,
   "metadata": {},
   "outputs": [
    {
     "data": {
      "text/plain": [
       "((64, 64), (64,))"
      ]
     },
     "execution_count": 14,
     "metadata": {},
     "output_type": "execute_result"
    }
   ],
   "source": [
    "U.shape, state_t.shape"
   ]
  },
  {
   "cell_type": "code",
   "execution_count": 15,
   "metadata": {},
   "outputs": [],
   "source": [
    "u = np.dot(U, state_t)"
   ]
  },
  {
   "cell_type": "code",
   "execution_count": 16,
   "metadata": {},
   "outputs": [
    {
     "data": {
      "text/plain": [
       "(64,)"
      ]
     },
     "execution_count": 16,
     "metadata": {},
     "output_type": "execute_result"
    }
   ],
   "source": [
    "u.shape"
   ]
  },
  {
   "cell_type": "code",
   "execution_count": 17,
   "metadata": {},
   "outputs": [
    {
     "data": {
      "text/plain": [
       "35.35078793165137"
      ]
     },
     "execution_count": 17,
     "metadata": {},
     "output_type": "execute_result"
    }
   ],
   "source": [
    "u[0]"
   ]
  },
  {
   "cell_type": "code",
   "execution_count": 18,
   "metadata": {},
   "outputs": [
    {
     "data": {
      "text/plain": [
       "(64,)"
      ]
     },
     "execution_count": 18,
     "metadata": {},
     "output_type": "execute_result"
    }
   ],
   "source": [
    "b.shape"
   ]
  },
  {
   "cell_type": "code",
   "execution_count": 19,
   "metadata": {},
   "outputs": [
    {
     "data": {
      "text/plain": [
       "0.040992439343406684"
      ]
     },
     "execution_count": 19,
     "metadata": {},
     "output_type": "execute_result"
    }
   ],
   "source": [
    "b[0]"
   ]
  },
  {
   "cell_type": "code",
   "execution_count": 1,
   "metadata": {},
   "outputs": [
    {
     "name": "stderr",
     "output_type": "stream",
     "text": [
      "<string>:6: VisibleDeprecationWarning: Creating an ndarray from ragged nested sequences (which is a list-or-tuple of lists-or-tuples-or ndarrays with different lengths or shapes) is deprecated. If you meant to do this, you must specify 'dtype=object' when creating the ndarray\n",
      "/Users/nahyeonan/opt/anaconda3/lib/python3.7/site-packages/tensorflow/python/keras/datasets/imdb.py:159: VisibleDeprecationWarning: Creating an ndarray from ragged nested sequences (which is a list-or-tuple of lists-or-tuples-or ndarrays with different lengths or shapes) is deprecated. If you meant to do this, you must specify 'dtype=object' when creating the ndarray\n",
      "  x_train, y_train = np.array(xs[:idx]), np.array(labels[:idx])\n",
      "/Users/nahyeonan/opt/anaconda3/lib/python3.7/site-packages/tensorflow/python/keras/datasets/imdb.py:160: VisibleDeprecationWarning: Creating an ndarray from ragged nested sequences (which is a list-or-tuple of lists-or-tuples-or ndarrays with different lengths or shapes) is deprecated. If you meant to do this, you must specify 'dtype=object' when creating the ndarray\n",
      "  x_test, y_test = np.array(xs[idx:]), np.array(labels[idx:])\n"
     ]
    }
   ],
   "source": [
    "from tensorflow.keras.datasets import imdb\n",
    "from tensorflow.keras import preprocessing\n",
    "\n",
    "# 특성으로 사용하는 단어의 수 (가장 빈도수가 높은 1만개의 단어)\n",
    "max_features = 10000\n",
    "# 텍스트의 길이 (가장 빈번한 1만개의 단어 중 사용할 길이)\n",
    "maxlen = 20\n",
    "\n",
    "(x_train, y_train), (x_test, y_test) = imdb.load_data(num_words=max_features)\n",
    "\n",
    "# 리스트를 (samples, maxlen) 크기의 2D 정수 텐서로 변환\n",
    "# pad_sequences() 는 패딩을 넣을 위치를 지정 가능\n",
    "x_train = preprocessing.sequence.pad_sequences(x_train, maxlen=maxlen)\n",
    "x_test = preprocessing.sequence.pad_sequences(x_test, maxlen=maxlen)"
   ]
  },
  {
   "cell_type": "code",
   "execution_count": 21,
   "metadata": {},
   "outputs": [],
   "source": [
    "(x_train, y_train), (x_test, y_test) = imdb.load_data(num_words=max_features)"
   ]
  },
  {
   "cell_type": "code",
   "execution_count": 22,
   "metadata": {},
   "outputs": [
    {
     "name": "stdout",
     "output_type": "stream",
     "text": [
      "[65, 16, 38, 1334, 88, 12, 16, 283, 5, 16, 4472, 113, 103, 32, 15, 16, 5345, 19, 178, 32]\n",
      "[23, 4, 1690, 15, 16, 4, 1355, 5, 28, 6, 52, 154, 462, 33, 89, 78, 285, 16, 145, 95]\n",
      "[1352, 13, 191, 79, 638, 89, 2, 14, 9, 8, 106, 607, 624, 35, 534, 6, 227, 7, 129, 113]\n"
     ]
    }
   ],
   "source": [
    "i = 0\n",
    "for sample in x_train:\n",
    "    print(sample[-20:])\n",
    "    i += 1\n",
    "    if i == 3:\n",
    "        break"
   ]
  },
  {
   "cell_type": "code",
   "execution_count": 23,
   "metadata": {},
   "outputs": [],
   "source": [
    "# 리스트를 (samples, maxlen) 크기의 2D 정수 텐서로 변환\n",
    "# pad_sequences() 는 패딩을 넣을 위치를 지정 가능\n",
    "x_train = preprocessing.sequence.pad_sequences(x_train, maxlen=maxlen)\n",
    "x_test = preprocessing.sequence.pad_sequences(x_test, maxlen=maxlen)"
   ]
  },
  {
   "cell_type": "code",
   "execution_count": 24,
   "metadata": {},
   "outputs": [
    {
     "data": {
      "text/plain": [
       "(25000, 20)"
      ]
     },
     "execution_count": 24,
     "metadata": {},
     "output_type": "execute_result"
    }
   ],
   "source": [
    "x_train.shape"
   ]
  },
  {
   "cell_type": "code",
   "execution_count": 25,
   "metadata": {},
   "outputs": [
    {
     "data": {
      "text/plain": [
       "array([[  65,   16,   38, ...,   19,  178,   32],\n",
       "       [  23,    4, 1690, ...,   16,  145,   95],\n",
       "       [1352,   13,  191, ...,    7,  129,  113],\n",
       "       ...,\n",
       "       [  11, 1818, 7561, ...,    4, 3586,    2],\n",
       "       [  92,  401,  728, ...,   12,    9,   23],\n",
       "       [ 764,   40,    4, ...,  204,  131,    9]], dtype=int32)"
      ]
     },
     "execution_count": 25,
     "metadata": {},
     "output_type": "execute_result"
    }
   ],
   "source": [
    "x_train"
   ]
  },
  {
   "cell_type": "code",
   "execution_count": 26,
   "metadata": {},
   "outputs": [],
   "source": [
    "from keras.preprocessing.text import Tokenizer\n",
    "\n",
    "samples = [\"The cat sat on the mat.\", \"The dog ate my homework.\"]\n",
    "\n",
    "tokenizer = Tokenizer(num_words=100, char_level=True)\n",
    "tokenizer.fit_on_texts(samples)"
   ]
  },
  {
   "cell_type": "code",
   "execution_count": 27,
   "metadata": {},
   "outputs": [
    {
     "data": {
      "text/plain": [
       "{' ': 1,\n",
       " 't': 2,\n",
       " 'e': 3,\n",
       " 'h': 4,\n",
       " 'a': 5,\n",
       " 'o': 6,\n",
       " 'm': 7,\n",
       " '.': 8,\n",
       " 'c': 9,\n",
       " 's': 10,\n",
       " 'n': 11,\n",
       " 'd': 12,\n",
       " 'g': 13,\n",
       " 'y': 14,\n",
       " 'w': 15,\n",
       " 'r': 16,\n",
       " 'k': 17}"
      ]
     },
     "execution_count": 27,
     "metadata": {},
     "output_type": "execute_result"
    }
   ],
   "source": [
    "tokenizer.word_index"
   ]
  },
  {
   "cell_type": "code",
   "execution_count": 28,
   "metadata": {},
   "outputs": [
    {
     "data": {
      "text/plain": [
       "[[2, 4, 3, 1, 9, 5, 2, 1, 10, 5, 2, 1, 6, 11, 1, 2, 4, 3, 1, 7, 5, 2, 8],\n",
       " [2,\n",
       "  4,\n",
       "  3,\n",
       "  1,\n",
       "  12,\n",
       "  6,\n",
       "  13,\n",
       "  1,\n",
       "  5,\n",
       "  2,\n",
       "  3,\n",
       "  1,\n",
       "  7,\n",
       "  14,\n",
       "  1,\n",
       "  4,\n",
       "  6,\n",
       "  7,\n",
       "  3,\n",
       "  15,\n",
       "  6,\n",
       "  16,\n",
       "  17,\n",
       "  8]]"
      ]
     },
     "execution_count": 28,
     "metadata": {},
     "output_type": "execute_result"
    }
   ],
   "source": [
    "tokenizer.texts_to_sequences(samples)"
   ]
  },
  {
   "cell_type": "code",
   "execution_count": 30,
   "metadata": {},
   "outputs": [],
   "source": [
    "one_hot = tokenizer.texts_to_matrix(samples, mode='binary')"
   ]
  },
  {
   "cell_type": "code",
   "execution_count": 31,
   "metadata": {},
   "outputs": [
    {
     "data": {
      "text/plain": [
       "100"
      ]
     },
     "execution_count": 31,
     "metadata": {},
     "output_type": "execute_result"
    }
   ],
   "source": [
    "len(one_hot[0])"
   ]
  },
  {
   "cell_type": "code",
   "execution_count": 32,
   "metadata": {},
   "outputs": [
    {
     "data": {
      "text/plain": [
       "array([0., 1., 1., 1., 1., 1., 1., 1., 1., 1., 1., 1., 0., 0., 0., 0., 0.,\n",
       "       0., 0., 0., 0., 0., 0., 0., 0., 0., 0., 0., 0., 0., 0., 0., 0., 0.,\n",
       "       0., 0., 0., 0., 0., 0., 0., 0., 0., 0., 0., 0., 0., 0., 0., 0., 0.,\n",
       "       0., 0., 0., 0., 0., 0., 0., 0., 0., 0., 0., 0., 0., 0., 0., 0., 0.,\n",
       "       0., 0., 0., 0., 0., 0., 0., 0., 0., 0., 0., 0., 0., 0., 0., 0., 0.,\n",
       "       0., 0., 0., 0., 0., 0., 0., 0., 0., 0., 0., 0., 0., 0., 0.])"
      ]
     },
     "execution_count": 32,
     "metadata": {},
     "output_type": "execute_result"
    }
   ],
   "source": [
    "one_hot[0]"
   ]
  },
  {
   "cell_type": "code",
   "execution_count": 8,
   "metadata": {},
   "outputs": [],
   "source": [
    "from keras.models import Sequential\n",
    "from keras.layers import LSTM, Embedding, Dense\n",
    "\n",
    "model = Sequential()\n",
    "model.add(Embedding(10000, 32, input_length=20))\n",
    "model.add(LSTM(32))\n",
    "model.add(Dense(1, activation='sigmoid'))"
   ]
  },
  {
   "cell_type": "code",
   "execution_count": 9,
   "metadata": {},
   "outputs": [
    {
     "name": "stdout",
     "output_type": "stream",
     "text": [
      "Model: \"sequential_4\"\n",
      "_________________________________________________________________\n",
      "Layer (type)                 Output Shape              Param #   \n",
      "=================================================================\n",
      "embedding_3 (Embedding)      (None, 20, 32)            320000    \n",
      "_________________________________________________________________\n",
      "lstm_2 (LSTM)                (None, 32)                8320      \n",
      "_________________________________________________________________\n",
      "dense_2 (Dense)              (None, 1)                 33        \n",
      "=================================================================\n",
      "Total params: 328,353\n",
      "Trainable params: 328,353\n",
      "Non-trainable params: 0\n",
      "_________________________________________________________________\n"
     ]
    }
   ],
   "source": [
    "model.summary()"
   ]
  },
  {
   "cell_type": "markdown",
   "metadata": {},
   "source": [
    "LSTM layer's parameter  \n",
    "params = 4 * ((size_of_input + 1) * size_of_output + size_of_output^2)  \n",
    "\n",
    "8320 = 4 * ((32+1)*32 + 32 ^ 2)"
   ]
  },
  {
   "cell_type": "code",
   "execution_count": 10,
   "metadata": {},
   "outputs": [
    {
     "name": "stdout",
     "output_type": "stream",
     "text": [
      "Model: \"sequential_5\"\n",
      "_________________________________________________________________\n",
      "Layer (type)                 Output Shape              Param #   \n",
      "=================================================================\n",
      "embedding_4 (Embedding)      (None, 20, 64)            640000    \n",
      "_________________________________________________________________\n",
      "lstm_3 (LSTM)                (None, 32)                12416     \n",
      "_________________________________________________________________\n",
      "dense_3 (Dense)              (None, 1)                 33        \n",
      "=================================================================\n",
      "Total params: 652,449\n",
      "Trainable params: 652,449\n",
      "Non-trainable params: 0\n",
      "_________________________________________________________________\n"
     ]
    }
   ],
   "source": [
    "from keras.models import Sequential\n",
    "from keras.layers import LSTM, Embedding, Dense\n",
    "\n",
    "model = Sequential()\n",
    "model.add(Embedding(10000, 64, input_length=20))\n",
    "model.add(LSTM(32))\n",
    "model.add(Dense(1, activation='sigmoid'))\n",
    "\n",
    "model.summary()"
   ]
  },
  {
   "cell_type": "code",
   "execution_count": 11,
   "metadata": {},
   "outputs": [
    {
     "data": {
      "text/plain": [
       "12416"
      ]
     },
     "execution_count": 11,
     "metadata": {},
     "output_type": "execute_result"
    }
   ],
   "source": [
    "4 * ((64+1)*32 + 32**2)"
   ]
  },
  {
   "cell_type": "markdown",
   "metadata": {},
   "source": [
    "12416 = 4 * ((64+1) * 32 + 32^2)"
   ]
  },
  {
   "cell_type": "code",
   "execution_count": 4,
   "metadata": {},
   "outputs": [],
   "source": [
    "from keras.models import Sequential\n",
    "from keras.layers import LSTM, Embedding, Dense, SimpleRNN\n",
    "\n",
    "model = Sequential()\n",
    "model.add(Embedding(10000, 32))\n",
    "model.add(SimpleRNN(32))\n",
    "model.add(Dense(1, activation='sigmoid'))"
   ]
  },
  {
   "cell_type": "code",
   "execution_count": 5,
   "metadata": {},
   "outputs": [
    {
     "name": "stdout",
     "output_type": "stream",
     "text": [
      "Model: \"sequential_2\"\n",
      "_________________________________________________________________\n",
      "Layer (type)                 Output Shape              Param #   \n",
      "=================================================================\n",
      "embedding_1 (Embedding)      (None, None, 32)          320000    \n",
      "_________________________________________________________________\n",
      "simple_rnn (SimpleRNN)       (None, 32)                2080      \n",
      "_________________________________________________________________\n",
      "dense_1 (Dense)              (None, 1)                 33        \n",
      "=================================================================\n",
      "Total params: 322,113\n",
      "Trainable params: 322,113\n",
      "Non-trainable params: 0\n",
      "_________________________________________________________________\n"
     ]
    }
   ],
   "source": [
    "model.summary()"
   ]
  },
  {
   "cell_type": "markdown",
   "metadata": {},
   "source": [
    "2080 = 32 * (32 + 32 + 1)"
   ]
  },
  {
   "cell_type": "code",
   "execution_count": 12,
   "metadata": {},
   "outputs": [
    {
     "name": "stdout",
     "output_type": "stream",
     "text": [
      "Model: \"sequential_6\"\n",
      "_________________________________________________________________\n",
      "Layer (type)                 Output Shape              Param #   \n",
      "=================================================================\n",
      "embedding_5 (Embedding)      (None, None, 64)          640000    \n",
      "_________________________________________________________________\n",
      "simple_rnn_2 (SimpleRNN)     (None, 32)                3104      \n",
      "_________________________________________________________________\n",
      "dense_4 (Dense)              (None, 1)                 33        \n",
      "=================================================================\n",
      "Total params: 643,137\n",
      "Trainable params: 643,137\n",
      "Non-trainable params: 0\n",
      "_________________________________________________________________\n"
     ]
    }
   ],
   "source": [
    "from keras.models import Sequential\n",
    "from keras.layers import LSTM, Embedding, Dense, SimpleRNN\n",
    "\n",
    "model = Sequential()\n",
    "model.add(Embedding(10000, 64))\n",
    "model.add(SimpleRNN(32))\n",
    "model.add(Dense(1, activation='sigmoid'))\n",
    "\n",
    "model.summary()"
   ]
  },
  {
   "cell_type": "code",
   "execution_count": 14,
   "metadata": {},
   "outputs": [
    {
     "data": {
      "text/plain": [
       "3104"
      ]
     },
     "execution_count": 14,
     "metadata": {},
     "output_type": "execute_result"
    }
   ],
   "source": [
    "32 * (64 + 32 + 1)"
   ]
  },
  {
   "cell_type": "markdown",
   "metadata": {},
   "source": [
    "SimpleRNN layer's Parameter  \n",
    "\n",
    "num_units * (num_feature + num_units + 1)  \n",
    "output_size * (input_size + output_size + 1)  "
   ]
  },
  {
   "cell_type": "markdown",
   "metadata": {},
   "source": [
    "3104 = 32 * (64 + 32 + 1)"
   ]
  },
  {
   "cell_type": "code",
   "execution_count": 7,
   "metadata": {},
   "outputs": [
    {
     "data": {
      "text/plain": [
       "<tf.Tensor: shape=(32, 10, 8), dtype=float32, numpy=\n",
       "array([[[ 7.14666069e-01,  1.11679542e+00, -2.05651641e-01, ...,\n",
       "         -7.90959671e-02, -8.05340350e-01,  7.74299264e-01],\n",
       "        [ 1.53350234e+00,  7.46777892e-01,  1.06387007e+00, ...,\n",
       "          3.08109254e-01,  1.19671106e-01, -5.40174782e-01],\n",
       "        [-1.27242529e+00, -6.10901892e-01,  9.98392403e-01, ...,\n",
       "         -7.80037701e-01, -2.11879686e-02, -3.04433405e-01],\n",
       "        ...,\n",
       "        [ 7.04427302e-01, -5.44988990e-01,  7.55060971e-01, ...,\n",
       "          2.30370736e+00, -5.12110353e-01,  3.01460666e-03],\n",
       "        [ 8.39543641e-01,  1.92880362e-01, -2.47096467e+00, ...,\n",
       "         -1.20919406e+00,  1.24776244e+00, -2.09685832e-01],\n",
       "        [-1.28268230e+00,  4.96025860e-01, -4.08567578e-01, ...,\n",
       "         -1.34108770e+00,  1.00390327e+00,  1.70109078e-01]],\n",
       "\n",
       "       [[-6.29415885e-02, -1.16104162e+00,  1.02791417e+00, ...,\n",
       "          2.80491412e-02,  2.49254793e-01, -5.81165731e-01],\n",
       "        [ 3.35045457e-02,  1.87612307e+00, -1.86376110e-01, ...,\n",
       "         -1.21001709e+00, -1.88434970e+00, -7.18809426e-01],\n",
       "        [-7.71461964e-01, -5.85077047e-01,  1.53162217e+00, ...,\n",
       "          3.65778267e-01,  6.65747702e-01, -1.22847760e+00],\n",
       "        ...,\n",
       "        [-9.02514696e-01, -1.55725539e+00, -7.60704219e-01, ...,\n",
       "         -3.04120511e-01, -4.65558678e-01,  9.78866816e-02],\n",
       "        [-1.24301696e+00,  1.23336208e+00,  3.72562915e-01, ...,\n",
       "         -9.73953605e-01,  5.20289540e-01, -9.36091505e-03],\n",
       "        [-7.90370584e-01,  3.52983207e-01,  1.81446004e+00, ...,\n",
       "         -1.14948046e+00, -7.38014877e-01,  1.14055645e+00]],\n",
       "\n",
       "       [[-1.97530434e-01,  7.80114472e-01,  6.80451632e-01, ...,\n",
       "          1.89124155e+00,  1.54223287e+00, -1.78523111e+00],\n",
       "        [ 2.36657453e+00,  3.74057978e-01, -6.26099586e-01, ...,\n",
       "         -8.59768987e-01, -7.50310943e-02,  9.27401304e-01],\n",
       "        [-1.37408054e+00, -3.56286347e-01,  5.16662538e-01, ...,\n",
       "          1.13000965e+00, -2.04113531e+00, -2.51678616e-01],\n",
       "        ...,\n",
       "        [ 7.61477947e-01, -4.84037340e-01,  1.25394031e-01, ...,\n",
       "          6.23080194e-01, -1.12408566e+00, -4.15717572e-01],\n",
       "        [-1.35596979e+00,  1.06010604e+00, -3.85685056e-01, ...,\n",
       "         -5.47678292e-01, -1.32305697e-01, -9.43354011e-01],\n",
       "        [ 3.81275803e-01,  7.29396641e-01, -1.60357332e+00, ...,\n",
       "          4.07012701e-01, -4.04882759e-01,  8.73464584e-01]],\n",
       "\n",
       "       ...,\n",
       "\n",
       "       [[ 8.23905468e-01, -1.45648181e+00,  3.96274358e-01, ...,\n",
       "          7.34451830e-01, -2.20705438e+00,  2.09220123e+00],\n",
       "        [ 4.10321504e-01,  1.11664081e+00, -3.80290061e-01, ...,\n",
       "         -4.46036190e-01,  1.12225306e+00,  7.88073242e-01],\n",
       "        [ 5.27200215e-02, -1.63471508e+00, -1.44030541e-01, ...,\n",
       "         -4.96271923e-02, -4.38996375e-01,  7.71669000e-02],\n",
       "        ...,\n",
       "        [ 1.39934504e+00,  6.23270392e-01,  2.70222664e-01, ...,\n",
       "          3.03149134e-01,  8.67120266e-01,  2.57129788e-01],\n",
       "        [ 1.10672808e+00, -9.07241940e-01,  5.92768908e-01, ...,\n",
       "         -3.30698937e-01,  6.69208705e-01,  1.35590279e+00],\n",
       "        [-7.55033717e-02, -2.96783614e+00,  1.05471945e+00, ...,\n",
       "         -5.60944676e-01,  7.13874400e-02,  4.83788788e-01]],\n",
       "\n",
       "       [[ 6.62666738e-01,  2.04488486e-01,  1.22833110e-01, ...,\n",
       "         -3.87956798e-02, -3.21122944e-01,  2.52242994e+00],\n",
       "        [ 6.07589960e-01, -1.30335748e-01,  3.78171831e-01, ...,\n",
       "          6.13367200e-01, -1.54398978e+00, -4.38188851e-01],\n",
       "        [-3.74782115e-01, -4.20359969e-01,  2.09205553e-01, ...,\n",
       "         -3.12609375e-01,  3.13344508e-01,  7.95963407e-02],\n",
       "        ...,\n",
       "        [-7.08379894e-02,  5.47486007e-01, -1.77210402e-02, ...,\n",
       "         -1.18572056e+00, -3.30658436e+00, -1.56315416e-01],\n",
       "        [ 9.90121126e-01, -8.01814348e-02, -7.24060610e-02, ...,\n",
       "         -2.77472228e-01, -1.02638650e+00,  7.32591212e-01],\n",
       "        [-4.82056737e-02,  4.75011200e-01, -8.78296614e-01, ...,\n",
       "         -8.57010305e-01,  1.72315836e-01,  5.01490772e-01]],\n",
       "\n",
       "       [[ 2.13947415e+00, -2.03723621e+00, -1.32666743e+00, ...,\n",
       "         -2.52016932e-01, -1.34629560e+00,  6.07706070e-01],\n",
       "        [-4.92224991e-01,  8.93361986e-01, -1.45310593e+00, ...,\n",
       "         -3.14579844e-01, -9.21977311e-02, -2.47332811e-01],\n",
       "        [ 4.71063524e-01, -1.33514151e-01, -1.57214200e+00, ...,\n",
       "         -1.24348223e+00, -1.06904423e+00,  1.19693615e-01],\n",
       "        ...,\n",
       "        [-4.62327451e-01,  1.18023682e+00, -1.26673472e+00, ...,\n",
       "         -2.18005419e-01, -3.64930779e-01,  5.98931432e-01],\n",
       "        [-4.61156219e-01,  4.64704782e-01, -1.48199105e+00, ...,\n",
       "         -8.26875493e-02,  1.52202499e+00, -9.90341663e-01],\n",
       "        [ 1.69307157e-01,  9.72191691e-01,  4.06662375e-01, ...,\n",
       "          4.88435149e-01,  1.05075665e-01, -1.29796386e-01]]],\n",
       "      dtype=float32)>"
      ]
     },
     "execution_count": 7,
     "metadata": {},
     "output_type": "execute_result"
    }
   ],
   "source": [
    "import tensorflow as tf\n",
    "tf.random.normal([32, 10, 8])"
   ]
  },
  {
   "cell_type": "code",
   "execution_count": 2,
   "metadata": {},
   "outputs": [
    {
     "name": "stdout",
     "output_type": "stream",
     "text": [
      "Model: \"sequential_1\"\n",
      "_________________________________________________________________\n",
      "Layer (type)                 Output Shape              Param #   \n",
      "=================================================================\n",
      "embedding_1 (Embedding)      (None, None, 64)          640000    \n",
      "_________________________________________________________________\n",
      "gru (GRU)                    (None, 32)                9408      \n",
      "_________________________________________________________________\n",
      "dense (Dense)                (None, 1)                 33        \n",
      "=================================================================\n",
      "Total params: 649,441\n",
      "Trainable params: 649,441\n",
      "Non-trainable params: 0\n",
      "_________________________________________________________________\n"
     ]
    }
   ],
   "source": [
    "from keras.models import Sequential\n",
    "from keras.layers import GRU, Embedding, Dense, SimpleRNN\n",
    "\n",
    "model = Sequential()\n",
    "model.add(Embedding(10000, 64))\n",
    "model.add(GRU(32))\n",
    "model.add(Dense(1, activation='sigmoid'))\n",
    "\n",
    "model.summary()"
   ]
  },
  {
   "cell_type": "code",
   "execution_count": 4,
   "metadata": {},
   "outputs": [
    {
     "name": "stdout",
     "output_type": "stream",
     "text": [
      "Model: \"sequential_3\"\n",
      "_________________________________________________________________\n",
      "Layer (type)                 Output Shape              Param #   \n",
      "=================================================================\n",
      "embedding_3 (Embedding)      (None, None, 128)         1280000   \n",
      "_________________________________________________________________\n",
      "gru_2 (GRU)                  (None, None, 64)          37248     \n",
      "_________________________________________________________________\n",
      "dense_2 (Dense)              (None, None, 1)           65        \n",
      "=================================================================\n",
      "Total params: 1,317,313\n",
      "Trainable params: 1,317,313\n",
      "Non-trainable params: 0\n",
      "_________________________________________________________________\n"
     ]
    }
   ],
   "source": [
    "from keras.models import Sequential\n",
    "from keras.layers import GRU, Embedding, Dense, SimpleRNN\n",
    "\n",
    "model = Sequential()\n",
    "model.add(Embedding(10000, 128))\n",
    "model.add(GRU(64, return_sequences=True))\n",
    "model.add(Dense(1, activation='sigmoid'))\n",
    "\n",
    "model.summary()"
   ]
  },
  {
   "cell_type": "code",
   "execution_count": 12,
   "metadata": {},
   "outputs": [
    {
     "data": {
      "text/plain": [
       "37248"
      ]
     },
     "execution_count": 12,
     "metadata": {},
     "output_type": "execute_result"
    }
   ],
   "source": [
    "(64 * 128 + 64 + 64 * 64 + 64) * 3"
   ]
  },
  {
   "cell_type": "code",
   "execution_count": 10,
   "metadata": {},
   "outputs": [
    {
     "name": "stdout",
     "output_type": "stream",
     "text": [
      "Model: \"sequential_1\"\n",
      "_________________________________________________________________\n",
      "Layer (type)                 Output Shape              Param #   \n",
      "=================================================================\n",
      "embedding_1 (Embedding)      (None, None, 128)         1280000   \n",
      "_________________________________________________________________\n",
      "gru (GRU)                    (None, None, 64)          37056     \n",
      "_________________________________________________________________\n",
      "dense (Dense)                (None, None, 1)           65        \n",
      "=================================================================\n",
      "Total params: 1,317,121\n",
      "Trainable params: 1,317,121\n",
      "Non-trainable params: 0\n",
      "_________________________________________________________________\n"
     ]
    }
   ],
   "source": [
    "from keras.models import Sequential\n",
    "from keras.layers import GRU, Embedding, Dense, SimpleRNN\n",
    "\n",
    "model = Sequential()\n",
    "model.add(Embedding(10000, 128))\n",
    "model.add(GRU(64, return_sequences=True, reset_after=False))\n",
    "model.add(Dense(1, activation='sigmoid'))\n",
    "\n",
    "model.summary()"
   ]
  },
  {
   "cell_type": "code",
   "execution_count": 11,
   "metadata": {},
   "outputs": [
    {
     "data": {
      "text/plain": [
       "37056"
      ]
     },
     "execution_count": 11,
     "metadata": {},
     "output_type": "execute_result"
    }
   ],
   "source": [
    "(64 * 128 + 64 * 64 + 64) * 3"
   ]
  },
  {
   "cell_type": "code",
   "execution_count": 17,
   "metadata": {},
   "outputs": [],
   "source": [
    "import tensorflow as tf\n",
    "import numpy as np"
   ]
  },
  {
   "cell_type": "code",
   "execution_count": 16,
   "metadata": {},
   "outputs": [],
   "source": [
    "tf.random.set_seed(0)"
   ]
  },
  {
   "cell_type": "code",
   "execution_count": 20,
   "metadata": {},
   "outputs": [],
   "source": [
    "layer = tf.keras.layers.Dropout(.5, input_shape=(2,))\n",
    "data = np.arange(10).reshape(5, 2).astype(np.float32)"
   ]
  },
  {
   "cell_type": "code",
   "execution_count": 21,
   "metadata": {},
   "outputs": [
    {
     "data": {
      "text/plain": [
       "array([[0., 1.],\n",
       "       [2., 3.],\n",
       "       [4., 5.],\n",
       "       [6., 7.],\n",
       "       [8., 9.]], dtype=float32)"
      ]
     },
     "execution_count": 21,
     "metadata": {},
     "output_type": "execute_result"
    }
   ],
   "source": [
    "data"
   ]
  },
  {
   "cell_type": "code",
   "execution_count": 22,
   "metadata": {},
   "outputs": [],
   "source": [
    "outputs = layer(data, training=True)"
   ]
  },
  {
   "cell_type": "code",
   "execution_count": 23,
   "metadata": {},
   "outputs": [
    {
     "data": {
      "text/plain": [
       "<tf.Tensor: shape=(5, 2), dtype=float32, numpy=\n",
       "array([[ 0.,  0.],\n",
       "       [ 4.,  6.],\n",
       "       [ 0., 10.],\n",
       "       [ 0., 14.],\n",
       "       [16.,  0.]], dtype=float32)>"
      ]
     },
     "execution_count": 23,
     "metadata": {},
     "output_type": "execute_result"
    }
   ],
   "source": [
    "outputs"
   ]
  },
  {
   "cell_type": "code",
   "execution_count": 25,
   "metadata": {},
   "outputs": [
    {
     "name": "stdout",
     "output_type": "stream",
     "text": [
      "Model: \"sequential_4\"\n",
      "_________________________________________________________________\n",
      "Layer (type)                 Output Shape              Param #   \n",
      "=================================================================\n",
      "bidirectional (Bidirectional (None, 64)                198528    \n",
      "_________________________________________________________________\n",
      "dense_2 (Dense)              (None, 1)                 65        \n",
      "=================================================================\n",
      "Total params: 198,593\n",
      "Trainable params: 198,593\n",
      "Non-trainable params: 0\n",
      "_________________________________________________________________\n"
     ]
    }
   ],
   "source": [
    "from keras.models import Sequential\n",
    "from keras import layers\n",
    "from keras.optimizers import RMSprop\n",
    "\n",
    "model = Sequential()\n",
    "model.add(layers.Bidirectional(\n",
    "    layers.GRU(32), input_shape=(None, 1000)\n",
    "))\n",
    "model.add(layers.Dense(1))\n",
    "\n",
    "model.summary()"
   ]
  },
  {
   "cell_type": "code",
   "execution_count": 31,
   "metadata": {},
   "outputs": [
    {
     "data": {
      "text/plain": [
       "198528"
      ]
     },
     "execution_count": 31,
     "metadata": {},
     "output_type": "execute_result"
    }
   ],
   "source": [
    "((32 * 1000 + 32 + 32 * 32 + 32) * 3) * 2"
   ]
  },
  {
   "cell_type": "code",
   "execution_count": 28,
   "metadata": {},
   "outputs": [
    {
     "data": {
      "text/plain": [
       "99264"
      ]
     },
     "execution_count": 28,
     "metadata": {},
     "output_type": "execute_result"
    }
   ],
   "source": [
    "198528 // 2"
   ]
  },
  {
   "cell_type": "code",
   "execution_count": 29,
   "metadata": {},
   "outputs": [
    {
     "data": {
      "text/plain": [
       "33088"
      ]
     },
     "execution_count": 29,
     "metadata": {},
     "output_type": "execute_result"
    }
   ],
   "source": [
    "32 * 1000 + 32 + 32 * 32 + 32"
   ]
  },
  {
   "cell_type": "code",
   "execution_count": 30,
   "metadata": {},
   "outputs": [
    {
     "data": {
      "text/plain": [
       "99264"
      ]
     },
     "execution_count": 30,
     "metadata": {},
     "output_type": "execute_result"
    }
   ],
   "source": [
    "(32 * 1000 + 32 + 32 * 32 + 32) * 3"
   ]
  },
  {
   "cell_type": "code",
   "execution_count": 43,
   "metadata": {},
   "outputs": [
    {
     "name": "stdout",
     "output_type": "stream",
     "text": [
      "Model: \"sequential_10\"\n",
      "_________________________________________________________________\n",
      "Layer (type)                 Output Shape              Param #   \n",
      "=================================================================\n",
      "conv1d_6 (Conv1D)            (None, None, 32)          160032    \n",
      "_________________________________________________________________\n",
      "max_pooling1d_3 (MaxPooling1 (None, None, 32)          0         \n",
      "_________________________________________________________________\n",
      "conv1d_7 (Conv1D)            (None, None, 32)          5152      \n",
      "_________________________________________________________________\n",
      "gru_6 (GRU)                  (None, 32)                6336      \n",
      "_________________________________________________________________\n",
      "dense_6 (Dense)              (None, 1)                 33        \n",
      "=================================================================\n",
      "Total params: 171,553\n",
      "Trainable params: 171,553\n",
      "Non-trainable params: 0\n",
      "_________________________________________________________________\n"
     ]
    }
   ],
   "source": [
    "from tensorflow.keras.models import Sequential\n",
    "from tensorflow.keras import layers\n",
    "from tensorflow.keras.optimizers import RMSprop\n",
    "\n",
    "model = Sequential()\n",
    "model.add(layers.Conv1D(32, 5, activation='relu', \n",
    "                        input_shape=(None, 1000)))\n",
    "model.add(layers.MaxPooling1D(3))\n",
    "model.add(layers.Conv1D(32, 5, activation='relu'))\n",
    "model.add(layers.GRU(32, dropout=0.1, recurrent_dropout=0.5))\n",
    "model.add(layers.Dense(1))\n",
    "\n",
    "model.summary()"
   ]
  },
  {
   "cell_type": "code",
   "execution_count": 44,
   "metadata": {},
   "outputs": [
    {
     "data": {
      "text/plain": [
       "2240"
      ]
     },
     "execution_count": 44,
     "metadata": {},
     "output_type": "execute_result"
    }
   ],
   "source": [
    "2272 - 32"
   ]
  },
  {
   "cell_type": "code",
   "execution_count": 45,
   "metadata": {},
   "outputs": [
    {
     "data": {
      "text/plain": [
       "448"
      ]
     },
     "execution_count": 45,
     "metadata": {},
     "output_type": "execute_result"
    }
   ],
   "source": [
    "2240 // 5"
   ]
  },
  {
   "cell_type": "code",
   "execution_count": 47,
   "metadata": {},
   "outputs": [
    {
     "data": {
      "text/plain": [
       "14.0"
      ]
     },
     "execution_count": 47,
     "metadata": {},
     "output_type": "execute_result"
    }
   ],
   "source": [
    "448 / 32"
   ]
  },
  {
   "cell_type": "markdown",
   "metadata": {},
   "source": [
    "bias + (filter 수) * (윈도우 크기) * (입력의 차원 수)"
   ]
  },
  {
   "cell_type": "code",
   "execution_count": 62,
   "metadata": {},
   "outputs": [
    {
     "data": {
      "text/plain": [
       "2272"
      ]
     },
     "execution_count": 62,
     "metadata": {},
     "output_type": "execute_result"
    }
   ],
   "source": [
    "32 + 32 * 5 * 14"
   ]
  },
  {
   "cell_type": "code",
   "execution_count": 40,
   "metadata": {},
   "outputs": [
    {
     "data": {
      "text/plain": [
       "6336"
      ]
     },
     "execution_count": 40,
     "metadata": {},
     "output_type": "execute_result"
    }
   ],
   "source": [
    "(32 * 32 + 32 + 32 * 32 + 32)"
   ]
  },
  {
   "cell_type": "code",
   "execution_count": 37,
   "metadata": {},
   "outputs": [
    {
     "name": "stdout",
     "output_type": "stream",
     "text": [
      "Model: \"sequential_7\"\n",
      "_________________________________________________________________\n",
      "Layer (type)                 Output Shape              Param #   \n",
      "=================================================================\n",
      "embedding_4 (Embedding)      (None, 500, 128)          1280000   \n",
      "_________________________________________________________________\n",
      "conv1d_2 (Conv1D)            (None, 494, 32)           28704     \n",
      "_________________________________________________________________\n",
      "max_pooling1d_1 (MaxPooling1 (None, 98, 32)            0         \n",
      "_________________________________________________________________\n",
      "conv1d_3 (Conv1D)            (None, 92, 32)            7200      \n",
      "_________________________________________________________________\n",
      "global_max_pooling1d (Global (None, 32)                0         \n",
      "_________________________________________________________________\n",
      "dense_4 (Dense)              (None, 1)                 33        \n",
      "=================================================================\n",
      "Total params: 1,315,937\n",
      "Trainable params: 1,315,937\n",
      "Non-trainable params: 0\n",
      "_________________________________________________________________\n"
     ]
    }
   ],
   "source": [
    "# 1D 윈도우 크기 : 7 (7개의 특성을 고려함)\n",
    "# 32 : filter의 수\n",
    "from tensorflow.keras.models import Sequential\n",
    "from tensorflow.keras import layers\n",
    "from tensorflow.keras.optimizers import RMSprop\n",
    "\n",
    "model = Sequential()\n",
    "model.add(layers.Embedding(10000, 128, input_length=500))\n",
    "model.add(layers.Conv1D(32, 7, activation='relu'))\n",
    "model.add(layers.MaxPooling1D(5))\n",
    "model.add(layers.Conv1D(32, 7, activation='relu'))\n",
    "model.add(layers.GlobalMaxPooling1D())\n",
    "model.add(layers.Dense(1))\n",
    "\n",
    "model.summary()"
   ]
  },
  {
   "cell_type": "code",
   "execution_count": 33,
   "metadata": {},
   "outputs": [
    {
     "name": "stdout",
     "output_type": "stream",
     "text": [
      "Model: \"sequential_6\"\n",
      "_________________________________________________________________\n",
      "Layer (type)                 Output Shape              Param #   \n",
      "=================================================================\n",
      "embedding_3 (Embedding)      (None, 500, 128)          1280000   \n",
      "_________________________________________________________________\n",
      "conv1d (Conv1D)              (None, 494, 32)           28704     \n",
      "_________________________________________________________________\n",
      "max_pooling1d (MaxPooling1D) (None, 98, 32)            0         \n",
      "_________________________________________________________________\n",
      "conv1d_1 (Conv1D)            (None, 92, 32)            7200      \n",
      "_________________________________________________________________\n",
      "flatten (Flatten)            (None, 2944)              0         \n",
      "_________________________________________________________________\n",
      "dense_3 (Dense)              (None, 1)                 2945      \n",
      "=================================================================\n",
      "Total params: 1,318,849\n",
      "Trainable params: 1,318,849\n",
      "Non-trainable params: 0\n",
      "_________________________________________________________________\n"
     ]
    }
   ],
   "source": [
    "from tensorflow.keras.models import Sequential\n",
    "from tensorflow.keras import layers\n",
    "from tensorflow.keras.optimizers import RMSprop\n",
    "\n",
    "model = Sequential()\n",
    "model.add(layers.Embedding(10000, 128, input_length=500))\n",
    "model.add(layers.Conv1D(32, 7, activation='relu'))\n",
    "model.add(layers.MaxPooling1D(5))\n",
    "model.add(layers.Conv1D(32, 7, activation='relu'))\n",
    "model.add(layers.Flatten())\n",
    "model.add(layers.Dense(1))\n",
    "\n",
    "model.summary()"
   ]
  },
  {
   "cell_type": "code",
   "execution_count": 36,
   "metadata": {},
   "outputs": [
    {
     "data": {
      "text/plain": [
       "28704"
      ]
     },
     "execution_count": 36,
     "metadata": {},
     "output_type": "execute_result"
    }
   ],
   "source": [
    "32 * 128 * 7 + 32"
   ]
  },
  {
   "cell_type": "code",
   "execution_count": 38,
   "metadata": {},
   "outputs": [
    {
     "data": {
      "text/plain": [
       "2944"
      ]
     },
     "execution_count": 38,
     "metadata": {},
     "output_type": "execute_result"
    }
   ],
   "source": [
    "32 * 92"
   ]
  },
  {
   "cell_type": "markdown",
   "metadata": {},
   "source": [
    "온도 예측 데이터 타임스텝 확인"
   ]
  },
  {
   "cell_type": "code",
   "execution_count": 48,
   "metadata": {},
   "outputs": [],
   "source": [
    "import os\n",
    "\n",
    "data_dir = './datasets/jena_climate'\n",
    "fname = os.path.join(data_dir, 'jena_climate_2009_2016.csv')\n",
    "\n",
    "with open(fname, 'r') as f:\n",
    "    data = f.read()\n",
    "    \n",
    "lines = data.split('\\n')\n",
    "header = lines[0].split(',')\n",
    "lines = lines[1:]"
   ]
  },
  {
   "cell_type": "code",
   "execution_count": 49,
   "metadata": {},
   "outputs": [],
   "source": [
    "import numpy as np\n",
    "\n",
    "float_data = np.zeros((len(lines), len(header) - 1))\n",
    "for i, line in enumerate(lines):\n",
    "    values = [float(x) for x in line.split(',')[1:]]\n",
    "    float_data[i, :] = values\n",
    "    \n",
    "mean = float_data[:200000].mean(axis=0)\n",
    "float_data -= mean\n",
    "std = float_data[:200000].std(axis=0)\n",
    "float_data /= std"
   ]
  },
  {
   "cell_type": "code",
   "execution_count": 50,
   "metadata": {},
   "outputs": [],
   "source": [
    "def generator(data, lookback, delay, min_index, max_index,\n",
    "             shuffle=False, batch_size=128, step=6):\n",
    "    if max_index is None:\n",
    "        max_index = len(data) - delay - 1\n",
    "    i = min_index + lookback\n",
    "    while True:\n",
    "        if shuffle:\n",
    "            rows = np.random.randint(\n",
    "                min_index + lookback, max_index, size=batch_size\n",
    "            )\n",
    "        else:\n",
    "            if i + batch_size >= max_index:\n",
    "                i = min_index + lookback\n",
    "            rows = np.arange(i, min(i + batch_size, max_index))\n",
    "            i += len(rows)\n",
    "        \n",
    "        samples = np.zeros((len(rows),\n",
    "                          lookback // step,\n",
    "                          data.shape[-1]))\n",
    "        targets = np.zeros((len(rows),))\n",
    "        for j, row in enumerate(rows):\n",
    "            indices = range(rows[j] - lookback, rows[j], step)\n",
    "            samples[j] = data[indices]\n",
    "            targets[j] = data[rows[j] + delay][1]\n",
    "        yield samples, targets"
   ]
  },
  {
   "cell_type": "code",
   "execution_count": 51,
   "metadata": {},
   "outputs": [],
   "source": [
    "lookback = 1440\n",
    "step = 6\n",
    "delay = 144\n",
    "batch_size = 128\n",
    "\n",
    "train_gen = generator(float_data, \n",
    "                      lookback=lookback,\n",
    "                      delay=delay,\n",
    "                      min_index=0,\n",
    "                      max_index=200000,\n",
    "                      shuffle=True,\n",
    "                      step=step,\n",
    "                      batch_size=batch_size)\n",
    "\n",
    "val_gen = generator(float_data, \n",
    "                    lookback=lookback,\n",
    "                    delay=delay,\n",
    "                    min_index=200001,\n",
    "                    max_index=300000,\n",
    "                    shuffle=True,\n",
    "                    step=step,\n",
    "                    batch_size=batch_size)\n",
    "\n",
    "test_gen = generator(float_data, \n",
    "                     lookback=lookback,\n",
    "                     delay=delay,\n",
    "                     min_index=300001,\n",
    "                     max_index=None,\n",
    "                     shuffle=True,\n",
    "                     step=step,\n",
    "                     batch_size=batch_size)\n",
    "\n",
    "# 추출 횟수\n",
    "val_steps = (300000 - 200001 - lookback) // batch_size\n",
    "\n",
    "test_steps = (len(float_data) - 300001 - lookback) // batch_size"
   ]
  },
  {
   "cell_type": "code",
   "execution_count": 53,
   "metadata": {},
   "outputs": [
    {
     "data": {
      "text/plain": [
       "2"
      ]
     },
     "execution_count": 53,
     "metadata": {},
     "output_type": "execute_result"
    }
   ],
   "source": [
    "sample = next(train_gen)\n",
    "len(sample) # 데이터, 타겟"
   ]
  },
  {
   "cell_type": "code",
   "execution_count": 57,
   "metadata": {},
   "outputs": [
    {
     "data": {
      "text/plain": [
       "array([[[ 1.40130108, -0.80738206, -0.90652231, ...,  0.67613738,\n",
       "          0.39923698, -1.93211861],\n",
       "        [ 1.47558973, -0.88193728, -0.98582319, ...,  1.46355715,\n",
       "          2.5445401 , -1.74831297],\n",
       "        [ 1.52393631, -0.96101099, -1.06847482, ...,  2.10780969,\n",
       "          1.68641885, -1.78999252],\n",
       "        ...,\n",
       "        [-0.7082608 , -0.18382933, -0.12803334, ..., -0.32603324,\n",
       "         -0.29584123, -1.92657673],\n",
       "        [-0.62100111, -0.29905103, -0.24977695, ...,  0.45487893,\n",
       "          0.50650214, -1.8603051 ],\n",
       "        [-0.51015772, -0.3577915 , -0.31567487, ..., -0.75553493,\n",
       "         -0.61763669,  1.54575654]],\n",
       "\n",
       "       [[-0.34271346,  1.29823804,  1.31501938, ...,  2.25748452,\n",
       "          3.03795981,  0.63596481],\n",
       "        [-0.31559221,  1.27112705,  1.28597962, ...,  1.59370917,\n",
       "          1.53195703,  0.8507126 ],\n",
       "        [-0.33681754,  1.21125695,  1.2279001 , ...,  1.54815597,\n",
       "          1.74219673,  0.64520128],\n",
       "        ...,\n",
       "        [ 0.50276215,  1.42136711,  1.36863125, ...,  0.2921889 ,\n",
       "          0.49363032, -1.3937482 ],\n",
       "        [ 0.43083187,  1.53094069,  1.48255646, ...,  1.81496762,\n",
       "          1.39036702, -1.61727064],\n",
       "        [ 0.37541017,  1.59194041,  1.54845438, ...,  1.68481559,\n",
       "          1.76794037, -1.6662239 ]],\n",
       "\n",
       "       [[-1.03017829,  0.52896374,  0.60577907, ...,  0.3052041 ,\n",
       "         -0.00408   ,  0.26996992],\n",
       "        [-1.02192399,  0.50298238,  0.57897314, ...,  0.41583332,\n",
       "         -0.0727297 ,  0.57130956],\n",
       "        [-0.99834029,  0.50298238,  0.57785623, ...,  0.2986965 ,\n",
       "         -0.00408   ,  0.4904905 ],\n",
       "        ...,\n",
       "        [-3.86258053, -0.28888441,  0.01604855, ...,  0.91041103,\n",
       "          0.6180579 ,  0.25842434],\n",
       "        [-3.86965564, -0.18608858,  0.11992154, ...,  0.91691863,\n",
       "          0.73819488,  0.27805182],\n",
       "        [-3.83899684, -0.19964407,  0.10316783, ...,  0.53947775,\n",
       "          0.25335637,  0.19492364]],\n",
       "\n",
       "       ...,\n",
       "\n",
       "       [[ 1.58643312, -1.27391699, -1.3812107 , ..., -0.67093611,\n",
       "         -0.7592267 , -0.24842664],\n",
       "        [ 1.58407475, -1.08978819, -1.19915374, ..., -0.63839811,\n",
       "         -0.45030305,  0.60825542],\n",
       "        [ 1.52747387, -0.99715898, -1.10309915, ..., -0.72950452,\n",
       "         -0.44172184,  0.89804948],\n",
       "        ...,\n",
       "        [ 0.57469243, -1.23550975, -1.2684024 , ...,  0.7607362 ,\n",
       "          0.6180579 , -1.34364038],\n",
       "        [ 0.60181368, -1.21743576, -1.25276561, ...,  0.36377251,\n",
       "          0.44643365, -1.08663577],\n",
       "        [ 0.59473857, -1.19597289, -1.23154424, ...,  0.37028011,\n",
       "          0.49792093, -1.17669129]],\n",
       "\n",
       "       [[-0.84740462,  0.0522622 ,  0.11768771, ...,  1.2488063 ,\n",
       "          1.0986058 ,  0.33577972],\n",
       "        [-0.85919647,  0.09970643,  0.16571501, ...,  0.65010697,\n",
       "          0.29626243,  0.3831166 ],\n",
       "        [-0.81084989,  0.05791032,  0.11992154, ...,  0.91041103,\n",
       "          1.17583671,  0.48240859],\n",
       "        ...,\n",
       "        [-0.37455145, -0.45606884, -0.42513243, ..., -0.84013375,\n",
       "         -0.84503882,  0.18568718],\n",
       "        [-0.36983472, -0.33745826, -0.30673956, ..., -0.50173848,\n",
       "         -0.72490185,  0.40158953],\n",
       "        [-0.43940663, -0.2425698 , -0.20733422, ..., -0.5928449 ,\n",
       "         -0.50179032, -0.16991669]],\n",
       "\n",
       "       [[-0.16111898, -0.05392251, -0.04203097, ...,  1.40498873,\n",
       "          0.76822912, -0.1999352 ],\n",
       "        [-0.16819409, -0.23014393, -0.21626953, ...,  0.59153856,\n",
       "          0.5494082 , -0.09140675],\n",
       "        [-0.18941942, -0.32955089, -0.31344104, ...,  0.7737514 ,\n",
       "          0.46359608, -0.09948865],\n",
       "        ...,\n",
       "        [ 2.06871976, -0.43686522, -0.59043568, ..., -0.85965655,\n",
       "         -0.60476487,  0.23995141],\n",
       "        [ 2.1123496 , -0.61421627, -0.7691419 , ..., -0.91171736,\n",
       "         -0.94801337,  0.20300555],\n",
       "        [ 2.14536678, -0.79156732, -0.94673121, ..., -1.0744074 ,\n",
       "         -1.13680005,  0.38773484]]])"
      ]
     },
     "execution_count": 57,
     "metadata": {},
     "output_type": "execute_result"
    }
   ],
   "source": [
    "sample[0]"
   ]
  },
  {
   "cell_type": "code",
   "execution_count": 58,
   "metadata": {},
   "outputs": [
    {
     "data": {
      "text/plain": [
       "array([-0.64132726,  1.01357266, -0.0121264 , -0.32955089, -0.40975423,\n",
       "       -1.15756566, -0.26290304,  0.70066667, -1.51791588, -0.10588524,\n",
       "       -0.21884769,  0.51540825,  1.42136711,  0.1674839 ,  0.27253898,\n",
       "       -0.3024399 , -0.98473311, -0.75203046, -0.41540235,  1.29371954,\n",
       "        0.25220574, -0.26968079, -1.29199098, -0.82545605,  0.86672147,\n",
       "        0.24542799,  0.31433508,  0.33014983,  0.76279602, -0.79269694,\n",
       "       -1.49758264, -0.03358927, -1.16660266, -0.34762488,  0.2736686 ,\n",
       "       -0.54079067, -1.24002825, -0.01551527,  1.10507225,  0.95031369,\n",
       "       -1.47499015, -0.62099402, -0.63793838,  0.41826054,  0.798944  ,\n",
       "       -1.65347082, -0.41879123,  0.62272258, -0.64471613, -0.57016091,\n",
       "       -0.92486301, -2.86442831,  0.32676095,  2.29004837,  2.21549315,\n",
       "        1.76929146,  0.77296264, -0.11605186,  1.10055375, -0.01890415,\n",
       "       -1.46708278, -0.04149664, -0.58371641, -0.7034566 ,  0.89948058,\n",
       "       -2.57524443, -0.46171696, -0.69103074,  1.00679491,  0.35048307,\n",
       "        0.35500157,  0.73568503,  0.18216902,  1.20673845,  0.52783412,\n",
       "        0.06468807, -0.05279288, -0.47188358, -0.90791864,  0.81136987,\n",
       "        0.63966695,  1.52755182,  1.04972065, -1.49758264, -0.37360625,\n",
       "       -0.86047441, -1.3665462 , -0.1917367 ,  0.1629654 ,  1.13896098,\n",
       "        1.46203359,  0.23413174,  0.40809392, -0.5328833 ,  0.38098293,\n",
       "       -0.77914145,  0.71535179,  0.15279878, -0.74073421,  0.04096595,\n",
       "       -0.57129054, -0.44703184, -0.00647828, -0.51029081, -1.14513979,\n",
       "        1.05649839, -1.56423049, -0.14994059, -0.73847497,  2.34088147,\n",
       "        1.42249674, -0.18495895, -0.5927534 , -0.85821516, -0.70006773,\n",
       "        2.66056521, -1.21630614, -0.55660542, -1.25584299,  1.53884806,\n",
       "       -0.52949443, -1.29199098,  1.26660855,  0.15731728, -0.20868107,\n",
       "       -0.86273366,  0.17539127, -0.89323352])"
      ]
     },
     "execution_count": 58,
     "metadata": {},
     "output_type": "execute_result"
    }
   ],
   "source": [
    "sample[1]"
   ]
  },
  {
   "cell_type": "code",
   "execution_count": 59,
   "metadata": {},
   "outputs": [
    {
     "data": {
      "text/plain": [
       "(128, 128)"
      ]
     },
     "execution_count": 59,
     "metadata": {},
     "output_type": "execute_result"
    }
   ],
   "source": [
    "len(sample[0]), len(sample[1])"
   ]
  },
  {
   "cell_type": "code",
   "execution_count": 60,
   "metadata": {},
   "outputs": [
    {
     "data": {
      "text/plain": [
       "(128, 240, 14)"
      ]
     },
     "execution_count": 60,
     "metadata": {},
     "output_type": "execute_result"
    }
   ],
   "source": [
    "sample[0].shape"
   ]
  },
  {
   "cell_type": "code",
   "execution_count": 67,
   "metadata": {},
   "outputs": [
    {
     "data": {
      "text/plain": [
       "(420451, 14)"
      ]
     },
     "execution_count": 67,
     "metadata": {},
     "output_type": "execute_result"
    }
   ],
   "source": [
    "float_data.shape"
   ]
  },
  {
   "cell_type": "code",
   "execution_count": 70,
   "metadata": {},
   "outputs": [
    {
     "data": {
      "text/plain": [
       "range(-1440, 0, 3)"
      ]
     },
     "execution_count": 70,
     "metadata": {},
     "output_type": "execute_result"
    }
   ],
   "source": [
    "idx = range(0-1440, 0, 3)\n",
    "idx"
   ]
  },
  {
   "cell_type": "code",
   "execution_count": 72,
   "metadata": {},
   "outputs": [
    {
     "data": {
      "text/plain": [
       "[-1440, -1437, -1434, -1431, -1428]"
      ]
     },
     "execution_count": 72,
     "metadata": {},
     "output_type": "execute_result"
    }
   ],
   "source": [
    "list(idx)[:5]"
   ]
  },
  {
   "cell_type": "code",
   "execution_count": 73,
   "metadata": {},
   "outputs": [
    {
     "data": {
      "text/plain": [
       "480"
      ]
     },
     "execution_count": 73,
     "metadata": {},
     "output_type": "execute_result"
    }
   ],
   "source": [
    "len(list(idx))"
   ]
  },
  {
   "cell_type": "code",
   "execution_count": 76,
   "metadata": {},
   "outputs": [
    {
     "data": {
      "text/plain": [
       "array([[ 1.56520779, -1.32023159, -1.42477034, ...,  0.51995494,\n",
       "         0.30055304,  0.17875983],\n",
       "       [ 1.56049105, -1.2886021 , -1.39461367, ...,  0.70867538,\n",
       "         0.33487789,  0.0806224 ],\n",
       "       [ 1.53690735, -1.29086135, -1.39461367, ...,  0.24663569,\n",
       "        -0.10276394,  0.21686025],\n",
       "       ...,\n",
       "       [ 1.36356716, -1.5280825 , -1.61576261, ..., -0.87917936,\n",
       "        -0.91368852,  0.08754975],\n",
       "       [ 1.32347487, -1.46934203, -1.55433235, ..., -1.03536179,\n",
       "        -1.1024752 ,  0.30460666],\n",
       "       [ 1.28927851, -1.38236094, -1.46721307, ..., -0.69696652,\n",
       "        -0.67341457,  0.45008097]])"
      ]
     },
     "execution_count": 76,
     "metadata": {},
     "output_type": "execute_result"
    }
   ],
   "source": [
    "float_data[idx]"
   ]
  },
  {
   "cell_type": "code",
   "execution_count": 77,
   "metadata": {},
   "outputs": [
    {
     "data": {
      "text/plain": [
       "-1.5450268701517724"
      ]
     },
     "execution_count": 77,
     "metadata": {},
     "output_type": "execute_result"
    }
   ],
   "source": [
    "float_data[144][1]  # 섭씨 온도"
   ]
  },
  {
   "cell_type": "code",
   "execution_count": 79,
   "metadata": {},
   "outputs": [
    {
     "data": {
      "text/plain": [
       "array([ 1.28927851, -1.38236094, -1.46721307, -1.76651024, -0.4450241 ,\n",
       "       -1.11104091, -1.43326305, -0.52391257, -1.43500165, -1.44052643,\n",
       "        1.66810153, -0.69696652, -0.67341457,  0.45008097])"
      ]
     },
     "execution_count": 79,
     "metadata": {},
     "output_type": "execute_result"
    }
   ],
   "source": [
    "float_data[-3]"
   ]
  },
  {
   "cell_type": "code",
   "execution_count": 78,
   "metadata": {},
   "outputs": [
    {
     "data": {
      "text/plain": [
       "array([ 0.90014748, -1.93135845, -1.98211036, -1.86280029,  1.07285236,\n",
       "       -1.30742164, -1.47375773, -0.79868641, -1.4762674 , -1.47815522,\n",
       "        2.12375056, -0.72950452, -0.78067973, -0.27613603])"
      ]
     },
     "execution_count": 78,
     "metadata": {},
     "output_type": "execute_result"
    }
   ],
   "source": [
    "float_data[0]"
   ]
  },
  {
   "cell_type": "code",
   "execution_count": null,
   "metadata": {},
   "outputs": [],
   "source": [
    "samples = np.zeros((len(rows),\n",
    "                          lookback // step,\n",
    "                          data.shape[-1]))\n",
    "        targets = np.zeros((len(rows),))\n",
    "        for j, row in enumerate(rows):\n",
    "            indices = range(rows[j] - lookback, rows[j], step)\n",
    "            samples[j] = data[indices]\n",
    "            targets[j] = data[rows[j] + delay][1]"
   ]
  },
  {
   "cell_type": "code",
   "execution_count": 68,
   "metadata": {},
   "outputs": [
    {
     "data": {
      "text/plain": [
       "array([ 0.90014748, -1.93135845, -1.98211036, -1.86280029,  1.07285236,\n",
       "       -1.30742164, -1.47375773, -0.79868641, -1.4762674 , -1.47815522,\n",
       "        2.12375056, -0.72950452, -0.78067973, -0.27613603])"
      ]
     },
     "execution_count": 68,
     "metadata": {},
     "output_type": "execute_result"
    }
   ],
   "source": [
    "float_data[0]"
   ]
  },
  {
   "cell_type": "code",
   "execution_count": 63,
   "metadata": {},
   "outputs": [],
   "source": [
    "lookback = 1440\n",
    "step = 3\n",
    "delay = 144\n",
    "batch_size = 128\n",
    "\n",
    "train_gen = generator(float_data, \n",
    "                      lookback=lookback,\n",
    "                      delay=delay,\n",
    "                      min_index=0,\n",
    "                      max_index=200000,\n",
    "                      shuffle=True,\n",
    "                      step=step,\n",
    "                      batch_size=batch_size)\n",
    "\n",
    "sample1 = next(train_gen)"
   ]
  },
  {
   "cell_type": "code",
   "execution_count": 64,
   "metadata": {},
   "outputs": [
    {
     "data": {
      "text/plain": [
       "(128, 480, 14)"
      ]
     },
     "execution_count": 64,
     "metadata": {},
     "output_type": "execute_result"
    }
   ],
   "source": [
    "sample1[0].shape"
   ]
  },
  {
   "cell_type": "code",
   "execution_count": 66,
   "metadata": {},
   "outputs": [
    {
     "data": {
      "text/plain": [
       "(128,)"
      ]
     },
     "execution_count": 66,
     "metadata": {},
     "output_type": "execute_result"
    }
   ],
   "source": [
    "sample1[1].shape"
   ]
  },
  {
   "cell_type": "code",
   "execution_count": 65,
   "metadata": {},
   "outputs": [
    {
     "data": {
      "text/plain": [
       "1440"
      ]
     },
     "execution_count": 65,
     "metadata": {},
     "output_type": "execute_result"
    }
   ],
   "source": [
    "3 * 480"
   ]
  },
  {
   "cell_type": "code",
   "execution_count": null,
   "metadata": {},
   "outputs": [],
   "source": [
    "import numpy as np\n",
    "import keras\n",
    "\n",
    "class DataGenerator(keras.utils.Sequence):\n",
    "    'Generates data for Keras'\n",
    "    def __init__(self, list_IDs, labels, batch_size=32, dim=(32,32,32), n_channels=1,\n",
    "                 n_classes=10, shuffle=True):\n",
    "        'Initialization'\n",
    "        self.dim = dim\n",
    "        self.batch_size = batch_size\n",
    "        self.labels = labels\n",
    "        self.list_IDs = list_IDs\n",
    "        self.n_channels = n_channels\n",
    "        self.n_classes = n_classes\n",
    "        self.shuffle = shuffle\n",
    "        self.on_epoch_end()\n",
    "\n",
    "    def __len__(self):\n",
    "        'Denotes the number of batches per epoch'\n",
    "        return int(np.floor(len(self.list_IDs) / self.batch_size))\n",
    "\n",
    "    def __getitem__(self, index):\n",
    "        'Generate one batch of data'\n",
    "        # Generate indexes of the batch\n",
    "        indexes = self.indexes[index*self.batch_size:(index+1)*self.batch_size]\n",
    "\n",
    "        # Find list of IDs\n",
    "        list_IDs_temp = [self.list_IDs[k] for k in indexes]\n",
    "\n",
    "        # Generate data\n",
    "        X, y = self.__data_generation(list_IDs_temp)\n",
    "\n",
    "        return X, y\n",
    "\n",
    "    def on_epoch_end(self):\n",
    "        'Updates indexes after each epoch'\n",
    "        self.indexes = np.arange(len(self.list_IDs))\n",
    "        if self.shuffle == True:\n",
    "            np.random.shuffle(self.indexes)\n",
    "\n",
    "    def __data_generation(self, list_IDs_temp):\n",
    "        'Generates data containing batch_size samples' # X : (n_samples, *dim, n_channels)\n",
    "        # Initialization\n",
    "        X = np.empty((self.batch_size, *self.dim, self.n_channels))\n",
    "        y = np.empty((self.batch_size), dtype=int)\n",
    "\n",
    "        # Generate data\n",
    "        for i, ID in enumerate(list_IDs_temp):\n",
    "            # Store sample\n",
    "            X[i,] = np.load('data/' + ID + '.npy')\n",
    "\n",
    "            # Store class\n",
    "            y[i] = self.labels[ID]\n",
    "\n",
    "        return X, keras.utils.to_categorical(y, num_classes=self.n_classes)"
   ]
  }
 ],
 "metadata": {
  "kernelspec": {
   "display_name": "Python 3",
   "language": "python",
   "name": "python3"
  },
  "language_info": {
   "codemirror_mode": {
    "name": "ipython",
    "version": 3
   },
   "file_extension": ".py",
   "mimetype": "text/x-python",
   "name": "python",
   "nbconvert_exporter": "python",
   "pygments_lexer": "ipython3",
   "version": "3.7.6"
  }
 },
 "nbformat": 4,
 "nbformat_minor": 4
}
