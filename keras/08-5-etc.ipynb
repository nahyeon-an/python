{
 "cells": [
  {
   "cell_type": "code",
   "execution_count": 1,
   "metadata": {},
   "outputs": [],
   "source": [
    "import numpy as np\n",
    "\n",
    "# 입력 시퀀스의 타임스텝의 수\n",
    "timesteps = 100\n",
    "# 입력 특성의 차원\n",
    "input_features = 32\n",
    "# 출력 특성의 차원\n",
    "output_features = 64\n",
    "\n",
    "inputs = np.random.random((timesteps, input_features))\n",
    "\n",
    "# 초기 상태 : 0벡터\n",
    "state_t = np.zeros((output_features,))\n",
    "\n",
    "W = np.random.random((output_features, input_features))\n",
    "U = np.random.random((output_features, output_features))\n",
    "b = np.random.random((output_features, ))\n",
    "\n",
    "successive_outputs = []\n",
    "\n",
    "for input_t in inputs:\n",
    "    output_t = np.tanh( np.dot(W, input_t) + np.dot(U, state_t) + b )\n",
    "    successive_outputs.append(output_t)\n",
    "    state_t = output_t\n",
    "\n",
    "# 최종 출력의 크기 : (timesteps, output_features) 2D tensor\n",
    "final_output_sequence = np.stack(successive_outputs, axis=0)"
   ]
  },
  {
   "cell_type": "code",
   "execution_count": 3,
   "metadata": {},
   "outputs": [
    {
     "data": {
      "text/plain": [
       "(array([[0.83517397, 0.16119646, 0.85267148, ..., 0.63245986, 0.1791181 ,\n",
       "         0.7725546 ],\n",
       "        [0.18068833, 0.66596178, 0.59673225, ..., 0.41689787, 0.98662133,\n",
       "         0.3690927 ],\n",
       "        [0.5858957 , 0.12694827, 0.85531232, ..., 0.76941192, 0.49228704,\n",
       "         0.27612495],\n",
       "        ...,\n",
       "        [0.59045437, 0.66490014, 0.49433664, ..., 0.85170889, 0.25125989,\n",
       "         0.57779365],\n",
       "        [0.80463066, 0.61489048, 0.3247619 , ..., 0.91803868, 0.9284634 ,\n",
       "         0.75466422],\n",
       "        [0.59371342, 0.55129162, 0.85726098, ..., 0.77591821, 0.44188222,\n",
       "         0.65531992]]),\n",
       " (64, 32))"
      ]
     },
     "execution_count": 3,
     "metadata": {},
     "output_type": "execute_result"
    }
   ],
   "source": [
    "W, W.shape"
   ]
  },
  {
   "cell_type": "code",
   "execution_count": 4,
   "metadata": {},
   "outputs": [
    {
     "data": {
      "text/plain": [
       "32"
      ]
     },
     "execution_count": 4,
     "metadata": {},
     "output_type": "execute_result"
    }
   ],
   "source": [
    "len(W[0])"
   ]
  },
  {
   "cell_type": "code",
   "execution_count": 5,
   "metadata": {},
   "outputs": [
    {
     "data": {
      "text/plain": [
       "(array([[0.68332689, 0.26877599, 0.71641477, ..., 0.51105412, 0.84465145,\n",
       "         0.52471106],\n",
       "        [0.54742386, 0.52258646, 0.52116589, ..., 0.18313729, 0.40149681,\n",
       "         0.26247227],\n",
       "        [0.53272843, 0.42567461, 0.93242042, ..., 0.71091917, 0.29542666,\n",
       "         0.17511571],\n",
       "        ...,\n",
       "        [0.73951361, 0.12644467, 0.51074846, ..., 0.6891985 , 0.04314439,\n",
       "         0.62952236],\n",
       "        [0.45752691, 0.10785195, 0.17904153, ..., 0.99050963, 0.28407869,\n",
       "         0.08454627],\n",
       "        [0.12326639, 0.05758784, 0.80997825, ..., 0.83268207, 0.77702384,\n",
       "         0.0205653 ]]),\n",
       " (100, 32))"
      ]
     },
     "execution_count": 5,
     "metadata": {},
     "output_type": "execute_result"
    }
   ],
   "source": [
    "inputs, inputs.shape"
   ]
  },
  {
   "cell_type": "code",
   "execution_count": 6,
   "metadata": {},
   "outputs": [
    {
     "data": {
      "text/plain": [
       "32"
      ]
     },
     "execution_count": 6,
     "metadata": {},
     "output_type": "execute_result"
    }
   ],
   "source": [
    "len(inputs[0])"
   ]
  },
  {
   "cell_type": "code",
   "execution_count": 8,
   "metadata": {},
   "outputs": [],
   "source": [
    "i = np.dot(W, inputs[0])"
   ]
  },
  {
   "cell_type": "code",
   "execution_count": 10,
   "metadata": {},
   "outputs": [
    {
     "data": {
      "text/plain": [
       "((64,), (32,))"
      ]
     },
     "execution_count": 10,
     "metadata": {},
     "output_type": "execute_result"
    }
   ],
   "source": [
    "i.shape, inputs[0].shape"
   ]
  },
  {
   "cell_type": "code",
   "execution_count": 11,
   "metadata": {},
   "outputs": [
    {
     "data": {
      "text/plain": [
       "array([0.68332689, 0.26877599, 0.71641477, 0.03283676, 0.41309121,\n",
       "       0.70628209, 0.88247382, 0.7108023 , 0.96945409, 0.18985963,\n",
       "       0.722335  , 0.80728414, 0.55288248, 0.25819481, 0.32546263,\n",
       "       0.69419279, 0.61720801, 0.05321311, 0.46804393, 0.40919045,\n",
       "       0.94335757, 0.49730263, 0.38001989, 0.56421185, 0.13585384,\n",
       "       0.72227158, 0.41593894, 0.88857563, 0.95060307, 0.51105412,\n",
       "       0.84465145, 0.52471106])"
      ]
     },
     "execution_count": 11,
     "metadata": {},
     "output_type": "execute_result"
    }
   ],
   "source": [
    "inputs[0]"
   ]
  },
  {
   "cell_type": "code",
   "execution_count": 12,
   "metadata": {},
   "outputs": [
    {
     "data": {
      "text/plain": [
       "8.834915150787275"
      ]
     },
     "execution_count": 12,
     "metadata": {},
     "output_type": "execute_result"
    }
   ],
   "source": [
    "i[0]"
   ]
  },
  {
   "cell_type": "code",
   "execution_count": 13,
   "metadata": {},
   "outputs": [
    {
     "data": {
      "text/plain": [
       "array([ 8.83491515, 11.55752321, 10.01411815,  8.5137758 ,  7.70835746,\n",
       "        7.26686396,  9.46845283,  9.447725  ,  8.7960813 ,  7.72351804,\n",
       "        8.42707716,  9.48733133,  7.7348807 ,  9.23370699,  7.82164123,\n",
       "        9.41837301,  7.69425522,  8.78456866,  8.51813932,  9.85597795,\n",
       "        8.86473189,  9.10171614,  9.32379754,  9.64709005, 10.08715702,\n",
       "        8.8487719 ,  9.20073921,  7.17968146,  7.3433291 ,  9.20172147,\n",
       "        8.34146958,  9.28289182,  7.70920841,  8.1881492 ,  9.31642225,\n",
       "        8.95722161,  7.77094691,  8.5090749 ,  8.5489809 , 10.33892524,\n",
       "        8.51330402,  9.40113692,  7.65962074,  9.29443024,  7.29696802,\n",
       "        8.29991986,  8.9368344 ,  8.87065539,  8.49616132,  9.67546549,\n",
       "        8.16373112,  8.66205465, 10.2142733 ,  9.21684408,  9.56705742,\n",
       "        8.49236525,  8.72377941,  6.90130715,  7.90870445,  9.1756249 ,\n",
       "        8.49781064,  7.98166427,  9.74418733,  8.23641767])"
      ]
     },
     "execution_count": 13,
     "metadata": {},
     "output_type": "execute_result"
    }
   ],
   "source": [
    "i  # 64 차원의 벡터"
   ]
  },
  {
   "cell_type": "code",
   "execution_count": 14,
   "metadata": {},
   "outputs": [
    {
     "data": {
      "text/plain": [
       "((64, 64), (64,))"
      ]
     },
     "execution_count": 14,
     "metadata": {},
     "output_type": "execute_result"
    }
   ],
   "source": [
    "U.shape, state_t.shape"
   ]
  },
  {
   "cell_type": "code",
   "execution_count": 15,
   "metadata": {},
   "outputs": [],
   "source": [
    "u = np.dot(U, state_t)"
   ]
  },
  {
   "cell_type": "code",
   "execution_count": 16,
   "metadata": {},
   "outputs": [
    {
     "data": {
      "text/plain": [
       "(64,)"
      ]
     },
     "execution_count": 16,
     "metadata": {},
     "output_type": "execute_result"
    }
   ],
   "source": [
    "u.shape"
   ]
  },
  {
   "cell_type": "code",
   "execution_count": 17,
   "metadata": {},
   "outputs": [
    {
     "data": {
      "text/plain": [
       "35.35078793165137"
      ]
     },
     "execution_count": 17,
     "metadata": {},
     "output_type": "execute_result"
    }
   ],
   "source": [
    "u[0]"
   ]
  },
  {
   "cell_type": "code",
   "execution_count": 18,
   "metadata": {},
   "outputs": [
    {
     "data": {
      "text/plain": [
       "(64,)"
      ]
     },
     "execution_count": 18,
     "metadata": {},
     "output_type": "execute_result"
    }
   ],
   "source": [
    "b.shape"
   ]
  },
  {
   "cell_type": "code",
   "execution_count": 19,
   "metadata": {},
   "outputs": [
    {
     "data": {
      "text/plain": [
       "0.040992439343406684"
      ]
     },
     "execution_count": 19,
     "metadata": {},
     "output_type": "execute_result"
    }
   ],
   "source": [
    "b[0]"
   ]
  },
  {
   "cell_type": "code",
   "execution_count": 1,
   "metadata": {},
   "outputs": [
    {
     "name": "stderr",
     "output_type": "stream",
     "text": [
      "<string>:6: VisibleDeprecationWarning: Creating an ndarray from ragged nested sequences (which is a list-or-tuple of lists-or-tuples-or ndarrays with different lengths or shapes) is deprecated. If you meant to do this, you must specify 'dtype=object' when creating the ndarray\n",
      "/Users/nahyeonan/opt/anaconda3/lib/python3.7/site-packages/tensorflow/python/keras/datasets/imdb.py:159: VisibleDeprecationWarning: Creating an ndarray from ragged nested sequences (which is a list-or-tuple of lists-or-tuples-or ndarrays with different lengths or shapes) is deprecated. If you meant to do this, you must specify 'dtype=object' when creating the ndarray\n",
      "  x_train, y_train = np.array(xs[:idx]), np.array(labels[:idx])\n",
      "/Users/nahyeonan/opt/anaconda3/lib/python3.7/site-packages/tensorflow/python/keras/datasets/imdb.py:160: VisibleDeprecationWarning: Creating an ndarray from ragged nested sequences (which is a list-or-tuple of lists-or-tuples-or ndarrays with different lengths or shapes) is deprecated. If you meant to do this, you must specify 'dtype=object' when creating the ndarray\n",
      "  x_test, y_test = np.array(xs[idx:]), np.array(labels[idx:])\n"
     ]
    }
   ],
   "source": [
    "from tensorflow.keras.datasets import imdb\n",
    "from tensorflow.keras import preprocessing\n",
    "\n",
    "# 특성으로 사용하는 단어의 수 (가장 빈도수가 높은 1만개의 단어)\n",
    "max_features = 10000\n",
    "# 텍스트의 길이 (가장 빈번한 1만개의 단어 중 사용할 길이)\n",
    "maxlen = 20\n",
    "\n",
    "(x_train, y_train), (x_test, y_test) = imdb.load_data(num_words=max_features)\n",
    "\n",
    "# 리스트를 (samples, maxlen) 크기의 2D 정수 텐서로 변환\n",
    "# pad_sequences() 는 패딩을 넣을 위치를 지정 가능\n",
    "x_train = preprocessing.sequence.pad_sequences(x_train, maxlen=maxlen)\n",
    "x_test = preprocessing.sequence.pad_sequences(x_test, maxlen=maxlen)"
   ]
  },
  {
   "cell_type": "code",
   "execution_count": 21,
   "metadata": {},
   "outputs": [],
   "source": [
    "(x_train, y_train), (x_test, y_test) = imdb.load_data(num_words=max_features)"
   ]
  },
  {
   "cell_type": "code",
   "execution_count": 22,
   "metadata": {},
   "outputs": [
    {
     "name": "stdout",
     "output_type": "stream",
     "text": [
      "[65, 16, 38, 1334, 88, 12, 16, 283, 5, 16, 4472, 113, 103, 32, 15, 16, 5345, 19, 178, 32]\n",
      "[23, 4, 1690, 15, 16, 4, 1355, 5, 28, 6, 52, 154, 462, 33, 89, 78, 285, 16, 145, 95]\n",
      "[1352, 13, 191, 79, 638, 89, 2, 14, 9, 8, 106, 607, 624, 35, 534, 6, 227, 7, 129, 113]\n"
     ]
    }
   ],
   "source": [
    "i = 0\n",
    "for sample in x_train:\n",
    "    print(sample[-20:])\n",
    "    i += 1\n",
    "    if i == 3:\n",
    "        break"
   ]
  },
  {
   "cell_type": "code",
   "execution_count": 23,
   "metadata": {},
   "outputs": [],
   "source": [
    "# 리스트를 (samples, maxlen) 크기의 2D 정수 텐서로 변환\n",
    "# pad_sequences() 는 패딩을 넣을 위치를 지정 가능\n",
    "x_train = preprocessing.sequence.pad_sequences(x_train, maxlen=maxlen)\n",
    "x_test = preprocessing.sequence.pad_sequences(x_test, maxlen=maxlen)"
   ]
  },
  {
   "cell_type": "code",
   "execution_count": 24,
   "metadata": {},
   "outputs": [
    {
     "data": {
      "text/plain": [
       "(25000, 20)"
      ]
     },
     "execution_count": 24,
     "metadata": {},
     "output_type": "execute_result"
    }
   ],
   "source": [
    "x_train.shape"
   ]
  },
  {
   "cell_type": "code",
   "execution_count": 25,
   "metadata": {},
   "outputs": [
    {
     "data": {
      "text/plain": [
       "array([[  65,   16,   38, ...,   19,  178,   32],\n",
       "       [  23,    4, 1690, ...,   16,  145,   95],\n",
       "       [1352,   13,  191, ...,    7,  129,  113],\n",
       "       ...,\n",
       "       [  11, 1818, 7561, ...,    4, 3586,    2],\n",
       "       [  92,  401,  728, ...,   12,    9,   23],\n",
       "       [ 764,   40,    4, ...,  204,  131,    9]], dtype=int32)"
      ]
     },
     "execution_count": 25,
     "metadata": {},
     "output_type": "execute_result"
    }
   ],
   "source": [
    "x_train"
   ]
  },
  {
   "cell_type": "code",
   "execution_count": 26,
   "metadata": {},
   "outputs": [],
   "source": [
    "from keras.preprocessing.text import Tokenizer\n",
    "\n",
    "samples = [\"The cat sat on the mat.\", \"The dog ate my homework.\"]\n",
    "\n",
    "tokenizer = Tokenizer(num_words=100, char_level=True)\n",
    "tokenizer.fit_on_texts(samples)"
   ]
  },
  {
   "cell_type": "code",
   "execution_count": 27,
   "metadata": {},
   "outputs": [
    {
     "data": {
      "text/plain": [
       "{' ': 1,\n",
       " 't': 2,\n",
       " 'e': 3,\n",
       " 'h': 4,\n",
       " 'a': 5,\n",
       " 'o': 6,\n",
       " 'm': 7,\n",
       " '.': 8,\n",
       " 'c': 9,\n",
       " 's': 10,\n",
       " 'n': 11,\n",
       " 'd': 12,\n",
       " 'g': 13,\n",
       " 'y': 14,\n",
       " 'w': 15,\n",
       " 'r': 16,\n",
       " 'k': 17}"
      ]
     },
     "execution_count": 27,
     "metadata": {},
     "output_type": "execute_result"
    }
   ],
   "source": [
    "tokenizer.word_index"
   ]
  },
  {
   "cell_type": "code",
   "execution_count": 28,
   "metadata": {},
   "outputs": [
    {
     "data": {
      "text/plain": [
       "[[2, 4, 3, 1, 9, 5, 2, 1, 10, 5, 2, 1, 6, 11, 1, 2, 4, 3, 1, 7, 5, 2, 8],\n",
       " [2,\n",
       "  4,\n",
       "  3,\n",
       "  1,\n",
       "  12,\n",
       "  6,\n",
       "  13,\n",
       "  1,\n",
       "  5,\n",
       "  2,\n",
       "  3,\n",
       "  1,\n",
       "  7,\n",
       "  14,\n",
       "  1,\n",
       "  4,\n",
       "  6,\n",
       "  7,\n",
       "  3,\n",
       "  15,\n",
       "  6,\n",
       "  16,\n",
       "  17,\n",
       "  8]]"
      ]
     },
     "execution_count": 28,
     "metadata": {},
     "output_type": "execute_result"
    }
   ],
   "source": [
    "tokenizer.texts_to_sequences(samples)"
   ]
  },
  {
   "cell_type": "code",
   "execution_count": 30,
   "metadata": {},
   "outputs": [],
   "source": [
    "one_hot = tokenizer.texts_to_matrix(samples, mode='binary')"
   ]
  },
  {
   "cell_type": "code",
   "execution_count": 31,
   "metadata": {},
   "outputs": [
    {
     "data": {
      "text/plain": [
       "100"
      ]
     },
     "execution_count": 31,
     "metadata": {},
     "output_type": "execute_result"
    }
   ],
   "source": [
    "len(one_hot[0])"
   ]
  },
  {
   "cell_type": "code",
   "execution_count": 32,
   "metadata": {},
   "outputs": [
    {
     "data": {
      "text/plain": [
       "array([0., 1., 1., 1., 1., 1., 1., 1., 1., 1., 1., 1., 0., 0., 0., 0., 0.,\n",
       "       0., 0., 0., 0., 0., 0., 0., 0., 0., 0., 0., 0., 0., 0., 0., 0., 0.,\n",
       "       0., 0., 0., 0., 0., 0., 0., 0., 0., 0., 0., 0., 0., 0., 0., 0., 0.,\n",
       "       0., 0., 0., 0., 0., 0., 0., 0., 0., 0., 0., 0., 0., 0., 0., 0., 0.,\n",
       "       0., 0., 0., 0., 0., 0., 0., 0., 0., 0., 0., 0., 0., 0., 0., 0., 0.,\n",
       "       0., 0., 0., 0., 0., 0., 0., 0., 0., 0., 0., 0., 0., 0., 0.])"
      ]
     },
     "execution_count": 32,
     "metadata": {},
     "output_type": "execute_result"
    }
   ],
   "source": [
    "one_hot[0]"
   ]
  },
  {
   "cell_type": "code",
   "execution_count": 8,
   "metadata": {},
   "outputs": [],
   "source": [
    "from keras.models import Sequential\n",
    "from keras.layers import LSTM, Embedding, Dense\n",
    "\n",
    "model = Sequential()\n",
    "model.add(Embedding(10000, 32, input_length=20))\n",
    "model.add(LSTM(32))\n",
    "model.add(Dense(1, activation='sigmoid'))"
   ]
  },
  {
   "cell_type": "code",
   "execution_count": 9,
   "metadata": {},
   "outputs": [
    {
     "name": "stdout",
     "output_type": "stream",
     "text": [
      "Model: \"sequential_4\"\n",
      "_________________________________________________________________\n",
      "Layer (type)                 Output Shape              Param #   \n",
      "=================================================================\n",
      "embedding_3 (Embedding)      (None, 20, 32)            320000    \n",
      "_________________________________________________________________\n",
      "lstm_2 (LSTM)                (None, 32)                8320      \n",
      "_________________________________________________________________\n",
      "dense_2 (Dense)              (None, 1)                 33        \n",
      "=================================================================\n",
      "Total params: 328,353\n",
      "Trainable params: 328,353\n",
      "Non-trainable params: 0\n",
      "_________________________________________________________________\n"
     ]
    }
   ],
   "source": [
    "model.summary()"
   ]
  },
  {
   "cell_type": "markdown",
   "metadata": {},
   "source": [
    "LSTM layer's parameter  \n",
    "params = 4 * ((size_of_input + 1) * size_of_output + size_of_output^2)  \n",
    "\n",
    "8320 = 4 * ((32+1)*32 + 32 ^ 2)"
   ]
  },
  {
   "cell_type": "code",
   "execution_count": 10,
   "metadata": {},
   "outputs": [
    {
     "name": "stdout",
     "output_type": "stream",
     "text": [
      "Model: \"sequential_5\"\n",
      "_________________________________________________________________\n",
      "Layer (type)                 Output Shape              Param #   \n",
      "=================================================================\n",
      "embedding_4 (Embedding)      (None, 20, 64)            640000    \n",
      "_________________________________________________________________\n",
      "lstm_3 (LSTM)                (None, 32)                12416     \n",
      "_________________________________________________________________\n",
      "dense_3 (Dense)              (None, 1)                 33        \n",
      "=================================================================\n",
      "Total params: 652,449\n",
      "Trainable params: 652,449\n",
      "Non-trainable params: 0\n",
      "_________________________________________________________________\n"
     ]
    }
   ],
   "source": [
    "from keras.models import Sequential\n",
    "from keras.layers import LSTM, Embedding, Dense\n",
    "\n",
    "model = Sequential()\n",
    "model.add(Embedding(10000, 64, input_length=20))\n",
    "model.add(LSTM(32))\n",
    "model.add(Dense(1, activation='sigmoid'))\n",
    "\n",
    "model.summary()"
   ]
  },
  {
   "cell_type": "code",
   "execution_count": 11,
   "metadata": {},
   "outputs": [
    {
     "data": {
      "text/plain": [
       "12416"
      ]
     },
     "execution_count": 11,
     "metadata": {},
     "output_type": "execute_result"
    }
   ],
   "source": [
    "4 * ((64+1)*32 + 32**2)"
   ]
  },
  {
   "cell_type": "markdown",
   "metadata": {},
   "source": [
    "12416 = 4 * ((64+1) * 32 + 32^2)"
   ]
  },
  {
   "cell_type": "code",
   "execution_count": 4,
   "metadata": {},
   "outputs": [],
   "source": [
    "from keras.models import Sequential\n",
    "from keras.layers import LSTM, Embedding, Dense, SimpleRNN\n",
    "\n",
    "model = Sequential()\n",
    "model.add(Embedding(10000, 32))\n",
    "model.add(SimpleRNN(32))\n",
    "model.add(Dense(1, activation='sigmoid'))"
   ]
  },
  {
   "cell_type": "code",
   "execution_count": 5,
   "metadata": {},
   "outputs": [
    {
     "name": "stdout",
     "output_type": "stream",
     "text": [
      "Model: \"sequential_2\"\n",
      "_________________________________________________________________\n",
      "Layer (type)                 Output Shape              Param #   \n",
      "=================================================================\n",
      "embedding_1 (Embedding)      (None, None, 32)          320000    \n",
      "_________________________________________________________________\n",
      "simple_rnn (SimpleRNN)       (None, 32)                2080      \n",
      "_________________________________________________________________\n",
      "dense_1 (Dense)              (None, 1)                 33        \n",
      "=================================================================\n",
      "Total params: 322,113\n",
      "Trainable params: 322,113\n",
      "Non-trainable params: 0\n",
      "_________________________________________________________________\n"
     ]
    }
   ],
   "source": [
    "model.summary()"
   ]
  },
  {
   "cell_type": "markdown",
   "metadata": {},
   "source": [
    "2080 = 32 * (32 + 32 + 1)"
   ]
  },
  {
   "cell_type": "code",
   "execution_count": 12,
   "metadata": {},
   "outputs": [
    {
     "name": "stdout",
     "output_type": "stream",
     "text": [
      "Model: \"sequential_6\"\n",
      "_________________________________________________________________\n",
      "Layer (type)                 Output Shape              Param #   \n",
      "=================================================================\n",
      "embedding_5 (Embedding)      (None, None, 64)          640000    \n",
      "_________________________________________________________________\n",
      "simple_rnn_2 (SimpleRNN)     (None, 32)                3104      \n",
      "_________________________________________________________________\n",
      "dense_4 (Dense)              (None, 1)                 33        \n",
      "=================================================================\n",
      "Total params: 643,137\n",
      "Trainable params: 643,137\n",
      "Non-trainable params: 0\n",
      "_________________________________________________________________\n"
     ]
    }
   ],
   "source": [
    "from keras.models import Sequential\n",
    "from keras.layers import LSTM, Embedding, Dense, SimpleRNN\n",
    "\n",
    "model = Sequential()\n",
    "model.add(Embedding(10000, 64))\n",
    "model.add(SimpleRNN(32))\n",
    "model.add(Dense(1, activation='sigmoid'))\n",
    "\n",
    "model.summary()"
   ]
  },
  {
   "cell_type": "code",
   "execution_count": 14,
   "metadata": {},
   "outputs": [
    {
     "data": {
      "text/plain": [
       "3104"
      ]
     },
     "execution_count": 14,
     "metadata": {},
     "output_type": "execute_result"
    }
   ],
   "source": [
    "32 * (64 + 32 + 1)"
   ]
  },
  {
   "cell_type": "markdown",
   "metadata": {},
   "source": [
    "SimpleRNN layer's Parameter  \n",
    "\n",
    "num_units * (num_feature + num_units + 1)  \n",
    "output_size * (input_size + output_size + 1)  "
   ]
  },
  {
   "cell_type": "markdown",
   "metadata": {},
   "source": [
    "3104 = 32 * (64 + 32 + 1)"
   ]
  },
  {
   "cell_type": "code",
   "execution_count": 7,
   "metadata": {},
   "outputs": [
    {
     "data": {
      "text/plain": [
       "<tf.Tensor: shape=(32, 10, 8), dtype=float32, numpy=\n",
       "array([[[ 7.14666069e-01,  1.11679542e+00, -2.05651641e-01, ...,\n",
       "         -7.90959671e-02, -8.05340350e-01,  7.74299264e-01],\n",
       "        [ 1.53350234e+00,  7.46777892e-01,  1.06387007e+00, ...,\n",
       "          3.08109254e-01,  1.19671106e-01, -5.40174782e-01],\n",
       "        [-1.27242529e+00, -6.10901892e-01,  9.98392403e-01, ...,\n",
       "         -7.80037701e-01, -2.11879686e-02, -3.04433405e-01],\n",
       "        ...,\n",
       "        [ 7.04427302e-01, -5.44988990e-01,  7.55060971e-01, ...,\n",
       "          2.30370736e+00, -5.12110353e-01,  3.01460666e-03],\n",
       "        [ 8.39543641e-01,  1.92880362e-01, -2.47096467e+00, ...,\n",
       "         -1.20919406e+00,  1.24776244e+00, -2.09685832e-01],\n",
       "        [-1.28268230e+00,  4.96025860e-01, -4.08567578e-01, ...,\n",
       "         -1.34108770e+00,  1.00390327e+00,  1.70109078e-01]],\n",
       "\n",
       "       [[-6.29415885e-02, -1.16104162e+00,  1.02791417e+00, ...,\n",
       "          2.80491412e-02,  2.49254793e-01, -5.81165731e-01],\n",
       "        [ 3.35045457e-02,  1.87612307e+00, -1.86376110e-01, ...,\n",
       "         -1.21001709e+00, -1.88434970e+00, -7.18809426e-01],\n",
       "        [-7.71461964e-01, -5.85077047e-01,  1.53162217e+00, ...,\n",
       "          3.65778267e-01,  6.65747702e-01, -1.22847760e+00],\n",
       "        ...,\n",
       "        [-9.02514696e-01, -1.55725539e+00, -7.60704219e-01, ...,\n",
       "         -3.04120511e-01, -4.65558678e-01,  9.78866816e-02],\n",
       "        [-1.24301696e+00,  1.23336208e+00,  3.72562915e-01, ...,\n",
       "         -9.73953605e-01,  5.20289540e-01, -9.36091505e-03],\n",
       "        [-7.90370584e-01,  3.52983207e-01,  1.81446004e+00, ...,\n",
       "         -1.14948046e+00, -7.38014877e-01,  1.14055645e+00]],\n",
       "\n",
       "       [[-1.97530434e-01,  7.80114472e-01,  6.80451632e-01, ...,\n",
       "          1.89124155e+00,  1.54223287e+00, -1.78523111e+00],\n",
       "        [ 2.36657453e+00,  3.74057978e-01, -6.26099586e-01, ...,\n",
       "         -8.59768987e-01, -7.50310943e-02,  9.27401304e-01],\n",
       "        [-1.37408054e+00, -3.56286347e-01,  5.16662538e-01, ...,\n",
       "          1.13000965e+00, -2.04113531e+00, -2.51678616e-01],\n",
       "        ...,\n",
       "        [ 7.61477947e-01, -4.84037340e-01,  1.25394031e-01, ...,\n",
       "          6.23080194e-01, -1.12408566e+00, -4.15717572e-01],\n",
       "        [-1.35596979e+00,  1.06010604e+00, -3.85685056e-01, ...,\n",
       "         -5.47678292e-01, -1.32305697e-01, -9.43354011e-01],\n",
       "        [ 3.81275803e-01,  7.29396641e-01, -1.60357332e+00, ...,\n",
       "          4.07012701e-01, -4.04882759e-01,  8.73464584e-01]],\n",
       "\n",
       "       ...,\n",
       "\n",
       "       [[ 8.23905468e-01, -1.45648181e+00,  3.96274358e-01, ...,\n",
       "          7.34451830e-01, -2.20705438e+00,  2.09220123e+00],\n",
       "        [ 4.10321504e-01,  1.11664081e+00, -3.80290061e-01, ...,\n",
       "         -4.46036190e-01,  1.12225306e+00,  7.88073242e-01],\n",
       "        [ 5.27200215e-02, -1.63471508e+00, -1.44030541e-01, ...,\n",
       "         -4.96271923e-02, -4.38996375e-01,  7.71669000e-02],\n",
       "        ...,\n",
       "        [ 1.39934504e+00,  6.23270392e-01,  2.70222664e-01, ...,\n",
       "          3.03149134e-01,  8.67120266e-01,  2.57129788e-01],\n",
       "        [ 1.10672808e+00, -9.07241940e-01,  5.92768908e-01, ...,\n",
       "         -3.30698937e-01,  6.69208705e-01,  1.35590279e+00],\n",
       "        [-7.55033717e-02, -2.96783614e+00,  1.05471945e+00, ...,\n",
       "         -5.60944676e-01,  7.13874400e-02,  4.83788788e-01]],\n",
       "\n",
       "       [[ 6.62666738e-01,  2.04488486e-01,  1.22833110e-01, ...,\n",
       "         -3.87956798e-02, -3.21122944e-01,  2.52242994e+00],\n",
       "        [ 6.07589960e-01, -1.30335748e-01,  3.78171831e-01, ...,\n",
       "          6.13367200e-01, -1.54398978e+00, -4.38188851e-01],\n",
       "        [-3.74782115e-01, -4.20359969e-01,  2.09205553e-01, ...,\n",
       "         -3.12609375e-01,  3.13344508e-01,  7.95963407e-02],\n",
       "        ...,\n",
       "        [-7.08379894e-02,  5.47486007e-01, -1.77210402e-02, ...,\n",
       "         -1.18572056e+00, -3.30658436e+00, -1.56315416e-01],\n",
       "        [ 9.90121126e-01, -8.01814348e-02, -7.24060610e-02, ...,\n",
       "         -2.77472228e-01, -1.02638650e+00,  7.32591212e-01],\n",
       "        [-4.82056737e-02,  4.75011200e-01, -8.78296614e-01, ...,\n",
       "         -8.57010305e-01,  1.72315836e-01,  5.01490772e-01]],\n",
       "\n",
       "       [[ 2.13947415e+00, -2.03723621e+00, -1.32666743e+00, ...,\n",
       "         -2.52016932e-01, -1.34629560e+00,  6.07706070e-01],\n",
       "        [-4.92224991e-01,  8.93361986e-01, -1.45310593e+00, ...,\n",
       "         -3.14579844e-01, -9.21977311e-02, -2.47332811e-01],\n",
       "        [ 4.71063524e-01, -1.33514151e-01, -1.57214200e+00, ...,\n",
       "         -1.24348223e+00, -1.06904423e+00,  1.19693615e-01],\n",
       "        ...,\n",
       "        [-4.62327451e-01,  1.18023682e+00, -1.26673472e+00, ...,\n",
       "         -2.18005419e-01, -3.64930779e-01,  5.98931432e-01],\n",
       "        [-4.61156219e-01,  4.64704782e-01, -1.48199105e+00, ...,\n",
       "         -8.26875493e-02,  1.52202499e+00, -9.90341663e-01],\n",
       "        [ 1.69307157e-01,  9.72191691e-01,  4.06662375e-01, ...,\n",
       "          4.88435149e-01,  1.05075665e-01, -1.29796386e-01]]],\n",
       "      dtype=float32)>"
      ]
     },
     "execution_count": 7,
     "metadata": {},
     "output_type": "execute_result"
    }
   ],
   "source": [
    "import tensorflow as tf\n",
    "tf.random.normal([32, 10, 8])"
   ]
  },
  {
   "cell_type": "code",
   "execution_count": null,
   "metadata": {},
   "outputs": [],
   "source": []
  }
 ],
 "metadata": {
  "kernelspec": {
   "display_name": "Python 3",
   "language": "python",
   "name": "python3"
  },
  "language_info": {
   "codemirror_mode": {
    "name": "ipython",
    "version": 3
   },
   "file_extension": ".py",
   "mimetype": "text/x-python",
   "name": "python",
   "nbconvert_exporter": "python",
   "pygments_lexer": "ipython3",
   "version": "3.7.6"
  }
 },
 "nbformat": 4,
 "nbformat_minor": 4
}
