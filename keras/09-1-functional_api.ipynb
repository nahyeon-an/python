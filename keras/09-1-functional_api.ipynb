{
 "cells": [
  {
   "cell_type": "markdown",
   "metadata": {},
   "source": [
    "# 고급 딥러닝 기법"
   ]
  },
  {
   "cell_type": "markdown",
   "metadata": {},
   "source": [
    "## 함수형 API"
   ]
  },
  {
   "cell_type": "markdown",
   "metadata": {},
   "source": [
    "고급 심층 신경망 구조를 구축하기 위해 필수  \n",
    "다중 입력, 다중 출력, 복잡한 네트워크 토폴로지 등의 모델을 만들기 위해 사용 "
   ]
  },
  {
   "cell_type": "markdown",
   "metadata": {},
   "source": [
    "Sequential 모델은 네트워크의 입력과 출력이 하나인 경우만 만들 수 있다.  \n",
    "다중 입력, 다중 출력 문제에 대해 Sequential 모델로는 구현이 불가능하다.  \n",
    "\n",
    "하지만 함수형 API를 사용하면 이것이 가능해진다.  "
   ]
  },
  {
   "cell_type": "code",
   "execution_count": 1,
   "metadata": {},
   "outputs": [],
   "source": [
    "from keras import Input, layers\n",
    "\n",
    "input_tensor = Input(shape=(32,))\n",
    "dense = layers.Dense(32, activation='relu')\n",
    "output_tensor = dense(input_tensor)"
   ]
  },
  {
   "cell_type": "code",
   "execution_count": 2,
   "metadata": {},
   "outputs": [
    {
     "name": "stdout",
     "output_type": "stream",
     "text": [
      "Model: \"sequential\"\n",
      "_________________________________________________________________\n",
      "Layer (type)                 Output Shape              Param #   \n",
      "=================================================================\n",
      "dense_1 (Dense)              (None, 32)                2080      \n",
      "_________________________________________________________________\n",
      "dense_2 (Dense)              (None, 32)                1056      \n",
      "_________________________________________________________________\n",
      "dense_3 (Dense)              (None, 10)                330       \n",
      "=================================================================\n",
      "Total params: 3,466\n",
      "Trainable params: 3,466\n",
      "Non-trainable params: 0\n",
      "_________________________________________________________________\n"
     ]
    }
   ],
   "source": [
    "from keras.models import Sequential, Model\n",
    "from keras import layers\n",
    "from keras import Input\n",
    "\n",
    "seq_model = Sequential()\n",
    "seq_model.add(layers.Dense(32, activation='relu', input_shape=(64,)))\n",
    "seq_model.add(layers.Dense(32, activation='relu'))\n",
    "seq_model.add(layers.Dense(10, activation='softmax'))\n",
    "\n",
    "seq_model.summary()"
   ]
  },
  {
   "cell_type": "code",
   "execution_count": 4,
   "metadata": {},
   "outputs": [
    {
     "name": "stdout",
     "output_type": "stream",
     "text": [
      "Model: \"model_1\"\n",
      "_________________________________________________________________\n",
      "Layer (type)                 Output Shape              Param #   \n",
      "=================================================================\n",
      "input_2 (InputLayer)         [(None, 64)]              0         \n",
      "_________________________________________________________________\n",
      "dense_4 (Dense)              (None, 32)                2080      \n",
      "_________________________________________________________________\n",
      "dense_5 (Dense)              (None, 32)                1056      \n",
      "_________________________________________________________________\n",
      "dense_6 (Dense)              (None, 10)                330       \n",
      "=================================================================\n",
      "Total params: 3,466\n",
      "Trainable params: 3,466\n",
      "Non-trainable params: 0\n",
      "_________________________________________________________________\n"
     ]
    }
   ],
   "source": [
    "input_tensor = Input(shape=(64,))\n",
    "x = layers.Dense(32, activation='relu')(input_tensor)\n",
    "x = layers.Dense(32, activation='relu')(x)\n",
    "output_tensor = layers.Dense(10, activation='softmax')(x)\n",
    "\n",
    "model = Model(input_tensor, output_tensor)\n",
    "\n",
    "model.summary()"
   ]
  },
  {
   "cell_type": "markdown",
   "metadata": {},
   "source": [
    "### 다중 입력 모델"
   ]
  },
  {
   "cell_type": "markdown",
   "metadata": {},
   "source": [
    "대표 예시 : 질의-응답 모델 (question-answering model)"
   ]
  },
  {
   "cell_type": "code",
   "execution_count": 1,
   "metadata": {},
   "outputs": [],
   "source": [
    "from keras.models import Model\n",
    "from keras import layers\n",
    "from keras import Input\n",
    "\n",
    "text_vocab_size = 10000\n",
    "question_vocab_size = 10000\n",
    "answer_vocab_size = 500\n",
    "\n",
    "# text input network\n",
    "text_input = Input(shape=(None,), dtype='int32', name='text')\n",
    "embedded_text = layers.Embedding(text_vocab_size, 64)(text_input)\n",
    "encoded_text = layers.LSTM(32)(embedded_text)\n",
    "\n",
    "# question input network\n",
    "question_input = Input(shape=(None,), dtype='int32', name='question')\n",
    "embedded_question = layers.Embedding(question_vocab_size, 32)(question_input)\n",
    "encoded_question = layers.LSTM(16)(embedded_question)\n",
    "\n",
    "# 두 입력을 합침\n",
    "concatenated = layers.concatenate([encoded_text, encoded_question], axis=-1)\n",
    "\n",
    "# 하나의 출력으로\n",
    "answer = layers.Dense(answer_vocab_size, activation='softmax')(concatenated)\n",
    "\n",
    "# 2개의 입력, 1개의 출력\n",
    "model = Model([text_input, question_input], answer)\n",
    "model.compile(optimizer='rmsprop', \n",
    "              loss='categorical_crossentropy', \n",
    "              metrics=['acc'])"
   ]
  },
  {
   "cell_type": "code",
   "execution_count": 2,
   "metadata": {},
   "outputs": [],
   "source": [
    "import numpy as np\n",
    "from keras.utils import to_categorical\n",
    "\n",
    "num_samples = 1000\n",
    "max_len = 100\n",
    "\n",
    "# input data 생성 (정수형 시퀀스 데이터)\n",
    "text = np.random.randint(1, text_vocab_size, size=(num_samples, max_len))\n",
    "question = np.random.randint(1, question_vocab_size, size=(num_samples, max_len))\n",
    "\n",
    "# 정수값\n",
    "answers = np.random.randint(0, answer_vocab_size, size=num_samples)"
   ]
  },
  {
   "cell_type": "code",
   "execution_count": 3,
   "metadata": {},
   "outputs": [
    {
     "data": {
      "text/plain": [
       "(array([5233, 5581,  394, 6471, 9180, 8736, 2653, 4431, 5749, 5988,  121,\n",
       "        8973, 5796, 1843, 6517, 7693, 3893, 1459, 5545, 5557, 2337, 8051,\n",
       "         879, 9678, 2774, 6729, 8961,  617, 8147, 4058, 3198, 2608, 9641,\n",
       "        3332, 7900, 2314, 1996, 1326, 7062, 7353, 2718, 2783, 2229, 4861,\n",
       "        6816, 4351,  524, 1509, 5197,  764, 5041, 3981, 8532, 3564, 4596,\n",
       "        6710, 9383, 7204, 6372, 4380, 8427, 9808,  687, 2244, 5430, 5606,\n",
       "         122,  730, 3178, 9053, 8904, 6544, 9199, 8051, 6024,  481, 7991,\n",
       "        4957, 2877, 3879, 1976, 6726, 6529, 9377, 3941, 4114, 2703,  602,\n",
       "        7414, 7049,  683, 4754, 5424, 9380, 5281, 3248, 7520, 4038, 9534,\n",
       "        1827]),\n",
       " array([3548, 1975, 5752, 3030, 9039,  160, 5476,   93, 3284, 7148, 7355,\n",
       "        9918, 4337, 2276, 1947, 5746, 7207, 3438, 3300, 3547, 8986, 6237,\n",
       "        1565, 9637, 8183, 8148, 8596, 1861, 6513, 6464,  178, 6995, 8181,\n",
       "        4803, 5585, 6453, 1481, 5984, 1324, 2256, 3660, 8325, 3493, 3024,\n",
       "        5899, 5171, 7676, 5667, 7939, 2404, 1020, 3994, 1543,  901, 5920,\n",
       "        8677, 3914,  549, 9090,  990, 9522, 4098, 4554, 2486, 3659, 1075,\n",
       "        8556,  530, 6242, 9229, 7951,  969, 4870, 6122, 2455, 1366, 9964,\n",
       "        8584, 6535, 8812, 9124, 3646, 8948, 2480, 9914, 8483, 1061, 2638,\n",
       "        6834, 9327, 6757, 2516, 4154, 4857, 2471, 6748, 1334, 6026, 3530,\n",
       "        4832]),\n",
       " 73)"
      ]
     },
     "execution_count": 3,
     "metadata": {},
     "output_type": "execute_result"
    }
   ],
   "source": [
    "text[0], question[0], answers[0]"
   ]
  },
  {
   "cell_type": "code",
   "execution_count": 4,
   "metadata": {},
   "outputs": [],
   "source": [
    "answers = to_categorical(answers) # one-hot encoding"
   ]
  },
  {
   "cell_type": "code",
   "execution_count": 5,
   "metadata": {},
   "outputs": [
    {
     "name": "stdout",
     "output_type": "stream",
     "text": [
      "Epoch 1/10\n",
      "8/8 - 3s - loss: 6.2147 - acc: 0.0010\n",
      "Epoch 2/10\n",
      "8/8 - 0s - loss: 6.1989 - acc: 0.0560\n",
      "Epoch 3/10\n",
      "8/8 - 0s - loss: 6.1638 - acc: 0.0340\n",
      "Epoch 4/10\n",
      "8/8 - 0s - loss: 6.0841 - acc: 0.0090\n",
      "Epoch 5/10\n",
      "8/8 - 0s - loss: 5.9931 - acc: 0.0110\n",
      "Epoch 6/10\n",
      "8/8 - 0s - loss: 5.9036 - acc: 0.0120\n",
      "Epoch 7/10\n",
      "8/8 - 0s - loss: 5.8063 - acc: 0.0180\n",
      "Epoch 8/10\n",
      "8/8 - 0s - loss: 5.7261 - acc: 0.0210\n",
      "Epoch 9/10\n",
      "8/8 - 0s - loss: 5.6282 - acc: 0.0330\n",
      "Epoch 10/10\n",
      "8/8 - 0s - loss: 5.5519 - acc: 0.0340\n"
     ]
    },
    {
     "data": {
      "text/plain": [
       "<tensorflow.python.keras.callbacks.History at 0x7fa731c372d0>"
      ]
     },
     "execution_count": 5,
     "metadata": {},
     "output_type": "execute_result"
    }
   ],
   "source": [
    "model.fit({'text': text, 'question': question}, answers,\n",
    "         epochs=10,\n",
    "         batch_size=128,\n",
    "         verbose=2)"
   ]
  },
  {
   "cell_type": "markdown",
   "metadata": {},
   "source": [
    "### 다중 출력 모델"
   ]
  },
  {
   "cell_type": "markdown",
   "metadata": {},
   "source": [
    "소셜 미디어 포스트 -> 나이, 소득, 성별 각각을 예측  \n",
    "\n",
    "나이 = 회귀  \n",
    "소득 = 다중 클래스 분류  \n",
    "성별 = 이진 클래스 분류  "
   ]
  },
  {
   "cell_type": "code",
   "execution_count": 51,
   "metadata": {},
   "outputs": [],
   "source": [
    "from keras import layers, Input\n",
    "from keras.models import Model\n",
    "\n",
    "vocab_size = 50000\n",
    "num_income_groups = 10"
   ]
  },
  {
   "cell_type": "code",
   "execution_count": 52,
   "metadata": {},
   "outputs": [],
   "source": [
    "# input network\n",
    "posts_input = Input(shape=(None,), dtype='int32', name='posts')\n",
    "embedded_posts = layers.Embedding(vocab_size, 256)(posts_input)\n",
    "x = layers.Conv1D(128, 5, activation='relu')(embedded_posts)\n",
    "x = layers.MaxPooling1D(5)(x)\n",
    "x = layers.Conv1D(256, 5, activation='relu')(x)\n",
    "x = layers.Conv1D(256, 5, activation='relu')(x)\n",
    "x = layers.MaxPooling1D(5)(x)\n",
    "x = layers.Conv1D(256, 5, activation='relu')(x)\n",
    "x = layers.Conv1D(256, 5, activation='relu')(x)\n",
    "x = layers.GlobalMaxPooling1D()(x)\n",
    "x = layers.Dense(128, activation='relu')(x)"
   ]
  },
  {
   "cell_type": "code",
   "execution_count": 53,
   "metadata": {},
   "outputs": [],
   "source": [
    "# output layers\n",
    "age_prediction = layers.Dense(1, \n",
    "                              name='age')(x)  # regression\n",
    "income_prediction = layers.Dense(num_income_groups, \n",
    "                                 activation='softmax', \n",
    "                                 name='income')(x)  # multi-class\n",
    "gender_prediction = layers.Dense(1, \n",
    "                                 activation='sigmoid', \n",
    "                                 name='gender')(x)  # binary-class"
   ]
  },
  {
   "cell_type": "code",
   "execution_count": 54,
   "metadata": {},
   "outputs": [],
   "source": [
    "model = Model(posts_input, \n",
    "              [age_prediction, income_prediction, gender_prediction])"
   ]
  },
  {
   "cell_type": "code",
   "execution_count": 55,
   "metadata": {},
   "outputs": [],
   "source": [
    "model.compile(optimizer='rmsprop', \n",
    "              loss={'age': 'mse', \n",
    "                    'income': 'categorical_crossentropy', \n",
    "                    'gender': 'binary_crossentropy'}, \n",
    "              loss_weights={'age': 0.25, \n",
    "                            'income': 1., \n",
    "                            'gender': 10.})"
   ]
  },
  {
   "cell_type": "code",
   "execution_count": 56,
   "metadata": {},
   "outputs": [],
   "source": [
    "import numpy as np\n",
    "from keras.utils import to_categorical\n",
    "\n",
    "num_samples = 1000\n",
    "max_len = 500\n",
    "\n",
    "# input data 생성 (정수형 시퀀스 데이터)\n",
    "posts = np.random.randint(1, vocab_size, size=(num_samples, max_len))"
   ]
  },
  {
   "cell_type": "code",
   "execution_count": 57,
   "metadata": {},
   "outputs": [
    {
     "data": {
      "text/plain": [
       "(1000, 500)"
      ]
     },
     "execution_count": 57,
     "metadata": {},
     "output_type": "execute_result"
    }
   ],
   "source": [
    "posts.shape"
   ]
  },
  {
   "cell_type": "code",
   "execution_count": 58,
   "metadata": {},
   "outputs": [],
   "source": [
    "# ouput data 생성\n",
    "age_targets = np.random.randint(20, 60, size=num_samples).astype('float32')\n",
    "income_targets = np.random.randint(0, num_income_groups, size=num_samples)\n",
    "gender_targets = np.random.randint(0, 2, size=num_samples)"
   ]
  },
  {
   "cell_type": "code",
   "execution_count": 59,
   "metadata": {},
   "outputs": [],
   "source": [
    "income_targets = to_categorical(income_targets)"
   ]
  },
  {
   "cell_type": "code",
   "execution_count": 60,
   "metadata": {},
   "outputs": [
    {
     "data": {
      "text/plain": [
       "(1000,)"
      ]
     },
     "execution_count": 60,
     "metadata": {},
     "output_type": "execute_result"
    }
   ],
   "source": [
    "age_targets.shape"
   ]
  },
  {
   "cell_type": "code",
   "execution_count": 61,
   "metadata": {},
   "outputs": [
    {
     "data": {
      "text/plain": [
       "30.0"
      ]
     },
     "execution_count": 61,
     "metadata": {},
     "output_type": "execute_result"
    }
   ],
   "source": [
    "age_targets[0]"
   ]
  },
  {
   "cell_type": "code",
   "execution_count": 62,
   "metadata": {},
   "outputs": [
    {
     "data": {
      "text/plain": [
       "array([0., 0., 0., 0., 0., 1., 0., 0., 0., 0.], dtype=float32)"
      ]
     },
     "execution_count": 62,
     "metadata": {},
     "output_type": "execute_result"
    }
   ],
   "source": [
    "income_targets[0]"
   ]
  },
  {
   "cell_type": "code",
   "execution_count": 63,
   "metadata": {},
   "outputs": [
    {
     "data": {
      "text/plain": [
       "1"
      ]
     },
     "execution_count": 63,
     "metadata": {},
     "output_type": "execute_result"
    }
   ],
   "source": [
    "gender_targets[0]"
   ]
  },
  {
   "cell_type": "code",
   "execution_count": 64,
   "metadata": {},
   "outputs": [
    {
     "data": {
      "text/plain": [
       "((1000, 10), (1000,))"
      ]
     },
     "execution_count": 64,
     "metadata": {},
     "output_type": "execute_result"
    }
   ],
   "source": [
    "income_targets.shape, gender_targets.shape"
   ]
  },
  {
   "cell_type": "code",
   "execution_count": 66,
   "metadata": {},
   "outputs": [
    {
     "name": "stdout",
     "output_type": "stream",
     "text": [
      "Epoch 1/5\n",
      "13/13 - 4s - loss: 47.4936 - age_loss: 139.2836 - income_loss: 2.4068 - gender_loss: 1.0266 - val_loss: 46.1725 - val_age_loss: 140.9499 - val_income_loss: 2.3286 - val_gender_loss: 0.8607\n",
      "Epoch 2/5\n",
      "13/13 - 4s - loss: 46.6892 - age_loss: 148.6702 - income_loss: 2.3616 - gender_loss: 0.7160 - val_loss: 99.6918 - val_age_loss: 355.6277 - val_income_loss: 2.4006 - val_gender_loss: 0.8384\n",
      "Epoch 3/5\n",
      "13/13 - 5s - loss: 42.0934 - age_loss: 126.0384 - income_loss: 2.3918 - gender_loss: 0.8192 - val_loss: 67.5475 - val_age_loss: 226.3976 - val_income_loss: 2.3771 - val_gender_loss: 0.8571\n",
      "Epoch 4/5\n",
      "13/13 - 5s - loss: 38.9664 - age_loss: 109.5569 - income_loss: 2.3981 - gender_loss: 0.9179 - val_loss: 126.1112 - val_age_loss: 451.6675 - val_income_loss: 2.3988 - val_gender_loss: 1.0796\n",
      "Epoch 5/5\n",
      "13/13 - 5s - loss: 45.7907 - age_loss: 141.5203 - income_loss: 2.3782 - gender_loss: 0.8032 - val_loss: 19.2513 - val_age_loss: 38.4525 - val_income_loss: 2.3399 - val_gender_loss: 0.7298\n"
     ]
    },
    {
     "data": {
      "text/plain": [
       "<tensorflow.python.keras.callbacks.History at 0x7fa7132a0890>"
      ]
     },
     "execution_count": 66,
     "metadata": {},
     "output_type": "execute_result"
    }
   ],
   "source": [
    "model.fit(posts, {'age': age_targets, \n",
    "                  'income': income_targets, \n",
    "                  'gender': gender_targets}, \n",
    "          epochs=5, batch_size=64, validation_split=0.2, verbose=2)"
   ]
  },
  {
   "cell_type": "code",
   "execution_count": 68,
   "metadata": {},
   "outputs": [
    {
     "data": {
      "text/plain": [
       "(500,)"
      ]
     },
     "execution_count": 68,
     "metadata": {},
     "output_type": "execute_result"
    }
   ],
   "source": [
    "posts[0].shape"
   ]
  },
  {
   "cell_type": "code",
   "execution_count": 72,
   "metadata": {},
   "outputs": [
    {
     "data": {
      "text/plain": [
       "(1, 500)"
      ]
     },
     "execution_count": 72,
     "metadata": {},
     "output_type": "execute_result"
    }
   ],
   "source": [
    "posts[0].reshape((1, 500)).shape"
   ]
  },
  {
   "cell_type": "code",
   "execution_count": 74,
   "metadata": {},
   "outputs": [],
   "source": [
    "prediction = model.predict(posts[0].reshape((1, 500)))"
   ]
  },
  {
   "cell_type": "code",
   "execution_count": 75,
   "metadata": {},
   "outputs": [
    {
     "data": {
      "text/plain": [
       "[array([[36.05602]], dtype=float32),\n",
       " array([[0.07910356, 0.11878481, 0.07048823, 0.13836277, 0.10453656,\n",
       "         0.11850392, 0.11151161, 0.06323165, 0.08942355, 0.10605338]],\n",
       "       dtype=float32),\n",
       " array([[0.37889308]], dtype=float32)]"
      ]
     },
     "execution_count": 75,
     "metadata": {},
     "output_type": "execute_result"
    }
   ],
   "source": [
    "prediction"
   ]
  },
  {
   "cell_type": "code",
   "execution_count": 76,
   "metadata": {},
   "outputs": [
    {
     "data": {
      "text/plain": [
       "array([[36.05602]], dtype=float32)"
      ]
     },
     "execution_count": 76,
     "metadata": {},
     "output_type": "execute_result"
    }
   ],
   "source": [
    "prediction[0]"
   ]
  },
  {
   "cell_type": "code",
   "execution_count": 77,
   "metadata": {},
   "outputs": [
    {
     "data": {
      "text/plain": [
       "array([[0.07910356, 0.11878481, 0.07048823, 0.13836277, 0.10453656,\n",
       "        0.11850392, 0.11151161, 0.06323165, 0.08942355, 0.10605338]],\n",
       "      dtype=float32)"
      ]
     },
     "execution_count": 77,
     "metadata": {},
     "output_type": "execute_result"
    }
   ],
   "source": [
    "prediction[1]"
   ]
  },
  {
   "cell_type": "code",
   "execution_count": 78,
   "metadata": {},
   "outputs": [
    {
     "data": {
      "text/plain": [
       "3"
      ]
     },
     "execution_count": 78,
     "metadata": {},
     "output_type": "execute_result"
    }
   ],
   "source": [
    "np.argmax(prediction[1])"
   ]
  },
  {
   "cell_type": "code",
   "execution_count": 79,
   "metadata": {},
   "outputs": [
    {
     "data": {
      "text/plain": [
       "array([[0.37889308]], dtype=float32)"
      ]
     },
     "execution_count": 79,
     "metadata": {},
     "output_type": "execute_result"
    }
   ],
   "source": [
    "prediction[2]"
   ]
  },
  {
   "cell_type": "code",
   "execution_count": 80,
   "metadata": {},
   "outputs": [
    {
     "data": {
      "text/plain": [
       "0"
      ]
     },
     "execution_count": 80,
     "metadata": {},
     "output_type": "execute_result"
    }
   ],
   "source": [
    "np.argmax(prediction[2])"
   ]
  },
  {
   "cell_type": "code",
   "execution_count": 82,
   "metadata": {},
   "outputs": [
    {
     "data": {
      "text/plain": [
       "(30.0, array([0., 0., 0., 0., 0., 1., 0., 0., 0., 0.], dtype=float32), 1)"
      ]
     },
     "execution_count": 82,
     "metadata": {},
     "output_type": "execute_result"
    }
   ],
   "source": [
    "age_targets[0], income_targets[0], gender_targets[0]"
   ]
  },
  {
   "cell_type": "markdown",
   "metadata": {},
   "source": [
    "### Inception"
   ]
  },
  {
   "cell_type": "markdown",
   "metadata": {},
   "source": [
    "keras.applications.inception_v3.InceptionV3 : 인셉션 V3 모델  \n",
    "\n",
    "케라스의 이미지 분류 모델, ImageNet에서 pretrained 된 weight를 로드하는 것을 파라미터로 설정 가능  \n",
    "\n",
    "공식문서 참조: https://keras.io/api/applications/inceptionv3/"
   ]
  },
  {
   "cell_type": "code",
   "execution_count": null,
   "metadata": {},
   "outputs": [],
   "source": []
  },
  {
   "cell_type": "code",
   "execution_count": null,
   "metadata": {},
   "outputs": [],
   "source": []
  },
  {
   "cell_type": "markdown",
   "metadata": {},
   "source": [
    "### Residual Connection"
   ]
  },
  {
   "cell_type": "markdown",
   "metadata": {},
   "source": [
    "gradient 소실 문제, 표현 병목 문제를 해결함  \n",
    "10개 이상의 층을 가진 모델에 추가하면 도움이 된다.  "
   ]
  },
  {
   "cell_type": "markdown",
   "metadata": {},
   "source": [
    "하위 층의 출력을 상위 층의 입력으로 사용  \n",
    "하위 층의 출력이 상위 층의 출력에 더해지는 것 (상위 층의 활성화 함수에 입력으로 들어가는 것 아니고)  \n",
    "따라서 출력의 크기가 동일해야 한다.  "
   ]
  },
  {
   "cell_type": "code",
   "execution_count": null,
   "metadata": {},
   "outputs": [],
   "source": [
    "# x : 4D input\n",
    "y = layers.Conv2D(128, 3, activation='relu', padding='same')(x)\n",
    "y = layers.Conv2D(128, 3, activation='relu', padding='same')(y)\n",
    "y = layers.Conv2D(128, 3, activation='relu', padding='same')(y)\n",
    "\n",
    "# layers.add() 를 사용하여 두 값을 더함\n",
    "y = layers.add([y, x])"
   ]
  },
  {
   "cell_type": "code",
   "execution_count": null,
   "metadata": {},
   "outputs": [],
   "source": [
    "y = layers.Conv2D(128, 3, activation='relu', padding='same')(x)\n",
    "y = layers.Conv2D(128, 3, activation='relu', padding='same')(y)\n",
    "y = layers.MaxPooling2D(2, strides=2)(x)\n",
    "\n",
    "# x의 크기를 y와 똑같이 만들기\n",
    "# 1 * 1 합성곱을 이용하여 다운 샘플링\n",
    "residual = layers.Conv2D(128, 1, strides=2, padding='same')(x)\n",
    "\n",
    "y = layers.add([y, residual])"
   ]
  },
  {
   "cell_type": "markdown",
   "metadata": {},
   "source": [
    "### 층 가중치 공유"
   ]
  },
  {
   "cell_type": "code",
   "execution_count": 10,
   "metadata": {},
   "outputs": [],
   "source": [
    "import numpy as np\n",
    "from keras.utils import to_categorical\n",
    "\n",
    "num_samples = 1000\n",
    "\n",
    "# input data 생성\n",
    "left_data = np.random.random_sample(size=(num_samples, 128, 128))\n",
    "right_data = np.random.random_sample(size=(num_samples, 128, 128))\n",
    "\n",
    "# output data\n",
    "targets = np.random.randint(0, 2, size=num_samples)"
   ]
  },
  {
   "cell_type": "code",
   "execution_count": 11,
   "metadata": {},
   "outputs": [
    {
     "data": {
      "text/plain": [
       "((128, 128), (1000, 128, 128))"
      ]
     },
     "execution_count": 11,
     "metadata": {},
     "output_type": "execute_result"
    }
   ],
   "source": [
    "left_data[0].shape, left_data.shape"
   ]
  },
  {
   "cell_type": "code",
   "execution_count": 12,
   "metadata": {},
   "outputs": [
    {
     "data": {
      "text/plain": [
       "(1000,)"
      ]
     },
     "execution_count": 12,
     "metadata": {},
     "output_type": "execute_result"
    }
   ],
   "source": [
    "targets.shape"
   ]
  },
  {
   "cell_type": "code",
   "execution_count": 14,
   "metadata": {},
   "outputs": [
    {
     "name": "stdout",
     "output_type": "stream",
     "text": [
      "Epoch 1/5\n",
      "16/16 - 3s - loss: 0.7064 - acc: 0.5150\n",
      "Epoch 2/5\n",
      "16/16 - 1s - loss: 0.6858 - acc: 0.5480\n",
      "Epoch 3/5\n",
      "16/16 - 1s - loss: 0.6821 - acc: 0.5680\n",
      "Epoch 4/5\n",
      "16/16 - 1s - loss: 0.6744 - acc: 0.5770\n",
      "Epoch 5/5\n",
      "16/16 - 1s - loss: 0.6690 - acc: 0.6080\n"
     ]
    },
    {
     "data": {
      "text/plain": [
       "<tensorflow.python.keras.callbacks.History at 0x7fe6e4916450>"
      ]
     },
     "execution_count": 14,
     "metadata": {},
     "output_type": "execute_result"
    }
   ],
   "source": [
    "from keras import layers, Input\n",
    "from keras.models import Model\n",
    "\n",
    "lstm = layers.LSTM(32)\n",
    "\n",
    "left_input = Input(shape=(None, 128))\n",
    "left_output = lstm(left_input)\n",
    "\n",
    "right_input = Input(shape=(None, 128))\n",
    "right_output = lstm(right_input)\n",
    "\n",
    "merged = layers.concatenate([left_output, right_output], axis=-1)\n",
    "predictions = layers.Dense(1, activation='sigmoid')(merged)\n",
    "\n",
    "model = Model([left_input, right_input], predictions)\n",
    "\n",
    "model.compile(optimizer='rmsprop', \n",
    "              loss='binary_crossentropy', \n",
    "              metrics=['acc'])\n",
    "model.fit([left_data, right_data], targets, \n",
    "          epochs=5, batch_size=64, verbose=2)"
   ]
  },
  {
   "cell_type": "markdown",
   "metadata": {},
   "source": [
    "### 층과 모델"
   ]
  },
  {
   "cell_type": "markdown",
   "metadata": {},
   "source": [
    "모델을 층처럼 사용 가능  "
   ]
  },
  {
   "cell_type": "code",
   "execution_count": null,
   "metadata": {},
   "outputs": [],
   "source": [
    "from keras import layers, applications, Input\n",
    "\n",
    "xception_base = applications.Xception(weights=None, \n",
    "                                      include_top=False)\n",
    "\n",
    "# 250 * 250 rgb image\n",
    "left_input = Input(shape=(250, 250, 3))\n",
    "right_input = Input(shape=(250, 250, 3))\n",
    "\n",
    "left_features = xception_base(left_input)\n",
    "right_features = xception_base(right_input)\n",
    "\n",
    "merged_features = layers.concatenate([left_features, right_features], axis=-1)"
   ]
  }
 ],
 "metadata": {
  "kernelspec": {
   "display_name": "Python 3",
   "language": "python",
   "name": "python3"
  },
  "language_info": {
   "codemirror_mode": {
    "name": "ipython",
    "version": 3
   },
   "file_extension": ".py",
   "mimetype": "text/x-python",
   "name": "python",
   "nbconvert_exporter": "python",
   "pygments_lexer": "ipython3",
   "version": "3.7.6"
  }
 },
 "nbformat": 4,
 "nbformat_minor": 4
}
