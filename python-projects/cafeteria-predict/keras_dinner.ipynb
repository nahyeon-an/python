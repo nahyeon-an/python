{
  "nbformat": 4,
  "nbformat_minor": 0,
  "metadata": {
    "colab": {
      "name": "keras_dinner.ipynb",
      "provenance": [],
      "collapsed_sections": []
    },
    "kernelspec": {
      "name": "python3",
      "display_name": "Python 3"
    },
    "language_info": {
      "name": "python"
    },
    "accelerator": "GPU"
  },
  "cells": [
    {
      "cell_type": "code",
      "metadata": {
        "id": "TWdaeyi24CQC"
      },
      "source": [
        ""
      ],
      "execution_count": null,
      "outputs": []
    },
    {
      "cell_type": "code",
      "metadata": {
        "colab": {
          "base_uri": "https://localhost:8080/"
        },
        "id": "eOO1RzuQKT1L",
        "outputId": "557b6fa5-1368-46f9-bbd0-a7c4002d6a5c"
      },
      "source": [
        "from google.colab import drive\n",
        "drive.mount('/content/datasets')"
      ],
      "execution_count": 2,
      "outputs": [
        {
          "output_type": "stream",
          "text": [
            "Mounted at /content/datasets\n"
          ],
          "name": "stdout"
        }
      ]
    },
    {
      "cell_type": "code",
      "metadata": {
        "id": "NpBE9oR6KryI"
      },
      "source": [
        "path = \"/content/datasets/MyDrive/preprocessed_01.csv\""
      ],
      "execution_count": 3,
      "outputs": []
    },
    {
      "cell_type": "code",
      "metadata": {
        "id": "AlED_n_kKr0U"
      },
      "source": [
        "import pandas as pd\n",
        "df = pd.read_csv(path)"
      ],
      "execution_count": 4,
      "outputs": []
    },
    {
      "cell_type": "code",
      "metadata": {
        "colab": {
          "base_uri": "https://localhost:8080/"
        },
        "id": "-ePH_XxqKr2U",
        "outputId": "518e5c70-5232-43fc-8a7a-b7992d9c6d7d"
      },
      "source": [
        "df.info()"
      ],
      "execution_count": 5,
      "outputs": [
        {
          "output_type": "stream",
          "text": [
            "<class 'pandas.core.frame.DataFrame'>\n",
            "RangeIndex: 1205 entries, 0 to 1204\n",
            "Data columns (total 12 columns):\n",
            " #   Column          Non-Null Count  Dtype  \n",
            "---  ------          --------------  -----  \n",
            " 0   Unnamed: 0      1205 non-null   int64  \n",
            " 1   본사정원수           1205 non-null   float64\n",
            " 2   본사휴가자수          1205 non-null   float64\n",
            " 3   본사출장자수          1205 non-null   float64\n",
            " 4   본사시간외근무명령서승인건수  1205 non-null   float64\n",
            " 5   현본사소속재택근무자수     1205 non-null   float64\n",
            " 6   day             1205 non-null   int64  \n",
            " 7   morning_menu    1205 non-null   object \n",
            " 8   lunch_menu      1205 non-null   object \n",
            " 9   dinner_menu     1205 non-null   object \n",
            " 10  중식계             1205 non-null   float64\n",
            " 11  석식계             1205 non-null   float64\n",
            "dtypes: float64(7), int64(2), object(3)\n",
            "memory usage: 113.1+ KB\n"
          ],
          "name": "stdout"
        }
      ]
    },
    {
      "cell_type": "code",
      "metadata": {
        "id": "XA6A1T1ezdLr"
      },
      "source": [
        "import matplotlib.pyplot as plt\n",
        "\n",
        "def drawHistory(history):\n",
        "    loss = history.history['loss']\n",
        "    val_loss = history.history['val_loss']\n",
        "    \n",
        "    epochs = range(1, len(loss) + 1)\n",
        "    \n",
        "    plt.figure()\n",
        "    plt.plot(epochs, loss, 'ro', label='Training loss')\n",
        "    plt.plot(epochs, val_loss, 'b', label='Validation loss')\n",
        "    plt.title('Training and validation loss')\n",
        "    plt.legend()\n",
        "    \n",
        "    plt.show()"
      ],
      "execution_count": 6,
      "outputs": []
    },
    {
      "cell_type": "code",
      "metadata": {
        "id": "mxrR3EQlKr44"
      },
      "source": [
        "from tensorflow.keras import layers, Input\n",
        "from tensorflow.keras.models import Model\n",
        "from tensorflow.keras.preprocessing.text import Tokenizer\n",
        "from tensorflow.keras.callbacks import EarlyStopping, ModelCheckpoint, ReduceLROnPlateau"
      ],
      "execution_count": 7,
      "outputs": []
    },
    {
      "cell_type": "code",
      "metadata": {
        "id": "PhuoLkMJx4Gu"
      },
      "source": [
        "food = df['dinner_menu']\n",
        "tokenizer = Tokenizer()\n",
        "tokenizer.fit_on_texts(food)"
      ],
      "execution_count": 8,
      "outputs": []
    },
    {
      "cell_type": "code",
      "metadata": {
        "colab": {
          "base_uri": "https://localhost:8080/"
        },
        "id": "Wz_VzosOx_uC",
        "outputId": "d9322fda-a1bd-4c1c-c207-41a02e4bd3f9"
      },
      "source": [
        "len(tokenizer.word_index)"
      ],
      "execution_count": 9,
      "outputs": [
        {
          "output_type": "execute_result",
          "data": {
            "text/plain": [
              "1653"
            ]
          },
          "metadata": {
            "tags": []
          },
          "execution_count": 9
        }
      ]
    },
    {
      "cell_type": "code",
      "metadata": {
        "colab": {
          "base_uri": "https://localhost:8080/"
        },
        "id": "jTE2AJPhyDMz",
        "outputId": "5d01e0d5-74e4-4d86-f0df-ee8a7f95e442"
      },
      "source": [
        "from keras.preprocessing import sequence\n",
        "max_len=9\n",
        "\n",
        "dinner_vector = tokenizer.texts_to_sequences(df['dinner_menu'])\n",
        "dinner_train_x = sequence.pad_sequences(dinner_vector, maxlen=max_len)\n",
        "\n",
        "dinner_train_x.shape"
      ],
      "execution_count": 10,
      "outputs": [
        {
          "output_type": "execute_result",
          "data": {
            "text/plain": [
              "(1205, 9)"
            ]
          },
          "metadata": {
            "tags": []
          },
          "execution_count": 10
        }
      ]
    },
    {
      "cell_type": "code",
      "metadata": {
        "id": "VLTVVSsSyJpS"
      },
      "source": [
        "other_train_x = df[['본사정원수', '본사휴가자수', '본사출장자수', '본사시간외근무명령서승인건수', '현본사소속재택근무자수', 'day']]"
      ],
      "execution_count": 11,
      "outputs": []
    },
    {
      "cell_type": "code",
      "metadata": {
        "id": "OKKtHOaKyM55"
      },
      "source": [
        "y_train = df['석식계']"
      ],
      "execution_count": 12,
      "outputs": []
    },
    {
      "cell_type": "code",
      "metadata": {
        "id": "noQfN6GjyRAc"
      },
      "source": [
        "callbacks_list = [\n",
        "    EarlyStopping(monitor='val_loss', patience=6),\n",
        "    ModelCheckpoint(filepath='dinner.h5', monitor='val_loss', save_best_only=True),\n",
        "    ReduceLROnPlateau(monitor='val_loss', factor=0.1, patience=5)\n",
        "]"
      ],
      "execution_count": 36,
      "outputs": []
    },
    {
      "cell_type": "code",
      "metadata": {
        "id": "DFh0WiMiyWo-"
      },
      "source": [
        "val_dinner = dinner_train_x[1000:]\n",
        "dinner_train = dinner_train_x[:1000]\n",
        "\n",
        "val_other = other_train_x[1000:]\n",
        "other_train = other_train_x[:1000]\n",
        "\n",
        "val_y_dinner = y_train[1000:]\n",
        "y_dinner_train = y_train[:1000]"
      ],
      "execution_count": 14,
      "outputs": []
    },
    {
      "cell_type": "code",
      "metadata": {
        "colab": {
          "base_uri": "https://localhost:8080/"
        },
        "id": "Y391uoX90uT7",
        "outputId": "bbc1d720-2aa9-459a-f6aa-430ec77e14d3"
      },
      "source": [
        "dinner_train.shape, other_train.shape, y_dinner_train.shape"
      ],
      "execution_count": 15,
      "outputs": [
        {
          "output_type": "execute_result",
          "data": {
            "text/plain": [
              "((1000, 9), (1000, 6), (1000,))"
            ]
          },
          "metadata": {
            "tags": []
          },
          "execution_count": 15
        }
      ]
    },
    {
      "cell_type": "code",
      "metadata": {
        "colab": {
          "base_uri": "https://localhost:8080/"
        },
        "id": "YlfXOHkm0yYp",
        "outputId": "57ffcec0-c3d6-4788-b5dd-050883dc5cb1"
      },
      "source": [
        "val_dinner.shape, val_other.shape, val_y_dinner.shape"
      ],
      "execution_count": 16,
      "outputs": [
        {
          "output_type": "execute_result",
          "data": {
            "text/plain": [
              "((205, 9), (205, 6), (205,))"
            ]
          },
          "metadata": {
            "tags": []
          },
          "execution_count": 16
        }
      ]
    },
    {
      "cell_type": "code",
      "metadata": {
        "id": "KbR7uoX_yZqr"
      },
      "source": [
        "val_data = {\n",
        "    'dinner': val_dinner, 'other':val_other\n",
        "}\n",
        "\n",
        "val_targets = {\n",
        "    'dinner_target': val_y_dinner\n",
        "}"
      ],
      "execution_count": 17,
      "outputs": []
    },
    {
      "cell_type": "code",
      "metadata": {
        "colab": {
          "base_uri": "https://localhost:8080/"
        },
        "id": "3mp3LyLRyaNj",
        "outputId": "9accff0e-2681-4d0c-9c6d-672255889614"
      },
      "source": [
        "dinner_input = Input(shape=(None,), dtype='int32', name='dinner')\n",
        "other_input = Input(shape=(6, ), dtype='float64', name='other')\n",
        "\n",
        "embedding = layers.Embedding(len(tokenizer.word_index)+1, 32, input_length=max_len, mask_zero=True)\n",
        "\n",
        "dinner_x = embedding(dinner_input)\n",
        "dinner_x = layers.GRU(16)(dinner_x)\n",
        "\n",
        "other_x = layers.Dense(4, activation='relu', input_shape=(6,))(other_input)\n",
        "\n",
        "concatenated = layers.concatenate([dinner_x, other_x], axis=-1)\n",
        "\n",
        "dinner_dense = layers.Dense(16, activation='relu')(concatenated)\n",
        "dinner_prediction = layers.Dense(1, name='dinner_target')(dinner_dense)\n",
        "\n",
        "model = Model([dinner_input, other_input], dinner_prediction)\n",
        "\n",
        "model.summary()"
      ],
      "execution_count": 18,
      "outputs": [
        {
          "output_type": "stream",
          "text": [
            "Model: \"model\"\n",
            "__________________________________________________________________________________________________\n",
            "Layer (type)                    Output Shape         Param #     Connected to                     \n",
            "==================================================================================================\n",
            "dinner (InputLayer)             [(None, None)]       0                                            \n",
            "__________________________________________________________________________________________________\n",
            "embedding (Embedding)           (None, None, 32)     52928       dinner[0][0]                     \n",
            "__________________________________________________________________________________________________\n",
            "other (InputLayer)              [(None, 6)]          0                                            \n",
            "__________________________________________________________________________________________________\n",
            "gru (GRU)                       (None, 16)           2400        embedding[0][0]                  \n",
            "__________________________________________________________________________________________________\n",
            "dense (Dense)                   (None, 4)            28          other[0][0]                      \n",
            "__________________________________________________________________________________________________\n",
            "concatenate (Concatenate)       (None, 20)           0           gru[0][0]                        \n",
            "                                                                 dense[0][0]                      \n",
            "__________________________________________________________________________________________________\n",
            "dense_1 (Dense)                 (None, 16)           336         concatenate[0][0]                \n",
            "__________________________________________________________________________________________________\n",
            "dinner_target (Dense)           (None, 1)            17          dense_1[0][0]                    \n",
            "==================================================================================================\n",
            "Total params: 55,709\n",
            "Trainable params: 55,709\n",
            "Non-trainable params: 0\n",
            "__________________________________________________________________________________________________\n"
          ],
          "name": "stdout"
        }
      ]
    },
    {
      "cell_type": "code",
      "metadata": {
        "colab": {
          "base_uri": "https://localhost:8080/"
        },
        "id": "SdELBqL2y8yL",
        "outputId": "918439a4-706e-407a-edbc-22ea808f8212"
      },
      "source": [
        "model.compile(optimizer='rmsprop', \n",
        "              loss='mae', \n",
        "              metrics=['acc'])\n",
        "\n",
        "history = model.fit({'dinner': dinner_train, 'other':other_train}, y_dinner_train, \n",
        "                    epochs=200, \n",
        "                    batch_size=64, \n",
        "                    callbacks=callbacks_list,\n",
        "                    validation_split=0.2,\n",
        "                    verbose=2)"
      ],
      "execution_count": 37,
      "outputs": [
        {
          "output_type": "stream",
          "text": [
            "Epoch 1/200\n",
            "13/13 - 4s - loss: 39.3625 - acc: 0.0200 - val_loss: 86.9099 - val_acc: 0.0400\n",
            "Epoch 2/200\n",
            "13/13 - 0s - loss: 38.0776 - acc: 0.0175 - val_loss: 86.7468 - val_acc: 0.0500\n",
            "Epoch 3/200\n",
            "13/13 - 0s - loss: 38.0417 - acc: 0.0225 - val_loss: 86.3300 - val_acc: 0.0400\n",
            "Epoch 4/200\n",
            "13/13 - 0s - loss: 37.7784 - acc: 0.0162 - val_loss: 85.6786 - val_acc: 0.0500\n",
            "Epoch 5/200\n",
            "13/13 - 0s - loss: 37.5777 - acc: 0.0237 - val_loss: 85.9800 - val_acc: 0.0450\n",
            "Epoch 6/200\n",
            "13/13 - 0s - loss: 37.2541 - acc: 0.0188 - val_loss: 86.5548 - val_acc: 0.0500\n",
            "Epoch 7/200\n",
            "13/13 - 0s - loss: 37.1344 - acc: 0.0200 - val_loss: 86.3995 - val_acc: 0.0400\n",
            "Epoch 8/200\n",
            "13/13 - 0s - loss: 36.6570 - acc: 0.0175 - val_loss: 86.1320 - val_acc: 0.0500\n",
            "Epoch 9/200\n",
            "13/13 - 0s - loss: 36.3025 - acc: 0.0200 - val_loss: 86.2935 - val_acc: 0.0400\n",
            "Epoch 10/200\n",
            "13/13 - 0s - loss: 35.9470 - acc: 0.0200 - val_loss: 85.9653 - val_acc: 0.0400\n"
          ],
          "name": "stdout"
        }
      ]
    },
    {
      "cell_type": "code",
      "metadata": {
        "colab": {
          "base_uri": "https://localhost:8080/"
        },
        "id": "0MIbxFBgzSUj",
        "outputId": "92455362-4a01-45b6-8de4-d6b69ca86109"
      },
      "source": [
        "model.evaluate(val_data, val_targets)"
      ],
      "execution_count": 38,
      "outputs": [
        {
          "output_type": "stream",
          "text": [
            "7/7 [==============================] - 1s 6ms/step - loss: 150.0848 - acc: 0.0049\n"
          ],
          "name": "stdout"
        },
        {
          "output_type": "execute_result",
          "data": {
            "text/plain": [
              "[150.08480834960938, 0.004878048785030842]"
            ]
          },
          "metadata": {
            "tags": []
          },
          "execution_count": 38
        }
      ]
    },
    {
      "cell_type": "code",
      "metadata": {
        "id": "lF870b7qzSXy"
      },
      "source": [
        "y = model.predict(val_data)"
      ],
      "execution_count": 39,
      "outputs": []
    },
    {
      "cell_type": "code",
      "metadata": {
        "colab": {
          "base_uri": "https://localhost:8080/"
        },
        "id": "-RiLy48XzSdr",
        "outputId": "085538d7-2e6f-4edb-84bf-a4b023c4e259"
      },
      "source": [
        "y[:5], val_y_dinner[:5]"
      ],
      "execution_count": 40,
      "outputs": [
        {
          "output_type": "execute_result",
          "data": {
            "text/plain": [
              "(array([[410.9848 ],\n",
              "        [568.51025],\n",
              "        [306.95932],\n",
              "        [427.622  ],\n",
              "        [293.9527 ]], dtype=float32), 1000    379.0\n",
              " 1001    640.0\n",
              " 1002    575.0\n",
              " 1003    487.0\n",
              " 1004    614.0\n",
              " Name: 석식계, dtype: float64)"
            ]
          },
          "metadata": {
            "tags": []
          },
          "execution_count": 40
        }
      ]
    },
    {
      "cell_type": "code",
      "metadata": {
        "colab": {
          "base_uri": "https://localhost:8080/",
          "height": 281
        },
        "id": "Hi_1Ng97zePV",
        "outputId": "44748d5e-67e0-4980-9de7-d9d124039341"
      },
      "source": [
        "drawHistory(history)"
      ],
      "execution_count": 41,
      "outputs": [
        {
          "output_type": "display_data",
          "data": {
            "image/png": "[encoded data removed]",
            "text/plain": [
              "<Figure size 432x288 with 1 Axes>"
            ]
          },
          "metadata": {
            "tags": [],
            "needs_background": "light"
          }
        }
      ]
    },
    {
      "cell_type": "code",
      "metadata": {
        "id": "8-vESBFDzeRg"
      },
      "source": [
        "import numpy as np\n",
        "\n",
        "test = pd.read_csv(\"/content/datasets/MyDrive/test.csv\")\n",
        "\n",
        "for col in ['본사정원수', '본사휴가자수', '본사출장자수', '본사시간외근무명령서승인건수', '현본사소속재택근무자수']:\n",
        "    test[col] -= np.mean(test[col])\n",
        "    test[col] /= np.std(test[col])\n",
        "\n",
        "test['day'] = test['요일'].map({'월':0, '화':1, '수':2, '목':3, '금':4})"
      ],
      "execution_count": 24,
      "outputs": []
    },
    {
      "cell_type": "code",
      "metadata": {
        "id": "XO_KQfhuzvKt"
      },
      "source": [
        "dinner_test_x = tokenizer.texts_to_sequences(test['석식메뉴'])\n",
        "dinner_test_x = sequence.pad_sequences(dinner_test_x, maxlen=max_len)\n",
        "\n",
        "other_test_x = test[['본사정원수', '본사휴가자수', '본사출장자수', '본사시간외근무명령서승인건수', '현본사소속재택근무자수', 'day']]"
      ],
      "execution_count": 25,
      "outputs": []
    },
    {
      "cell_type": "code",
      "metadata": {
        "id": "2hnL_Mhsz9vK"
      },
      "source": [
        "prediction = model.predict({'dinner': dinner_test_x, \n",
        "                            'other':other_test_x})"
      ],
      "execution_count": 42,
      "outputs": []
    },
    {
      "cell_type": "code",
      "metadata": {
        "colab": {
          "base_uri": "https://localhost:8080/"
        },
        "id": "VfaKUxUb2euA",
        "outputId": "ea0eedf8-2bf8-4aca-8619-533727004742"
      },
      "source": [
        "prediction"
      ],
      "execution_count": 43,
      "outputs": [
        {
          "output_type": "execute_result",
          "data": {
            "text/plain": [
              "array([[  2.1503081],\n",
              "       [ 40.09017  ],\n",
              "       [ 30.47128  ],\n",
              "       [ 91.80409  ],\n",
              "       [118.04415  ],\n",
              "       [114.62113  ],\n",
              "       [159.30185  ],\n",
              "       [104.53295  ],\n",
              "       [105.786606 ],\n",
              "       [ 94.18279  ],\n",
              "       [ 52.662834 ],\n",
              "       [ 50.74967  ],\n",
              "       [ 34.945045 ],\n",
              "       [ 31.94349  ],\n",
              "       [100.39169  ],\n",
              "       [ 78.91775  ],\n",
              "       [201.51608  ],\n",
              "       [233.83351  ],\n",
              "       [163.15643  ],\n",
              "       [213.2689   ],\n",
              "       [148.04326  ],\n",
              "       [159.01959  ],\n",
              "       [ 56.859173 ],\n",
              "       [176.0648   ],\n",
              "       [113.92678  ],\n",
              "       [169.17175  ],\n",
              "       [169.64104  ],\n",
              "       [ 96.83942  ],\n",
              "       [156.8228   ],\n",
              "       [ 70.47652  ],\n",
              "       [ 93.0036   ],\n",
              "       [ 24.403078 ],\n",
              "       [ 25.442345 ],\n",
              "       [ 21.311956 ],\n",
              "       [ 56.539944 ],\n",
              "       [ 33.072075 ],\n",
              "       [ 59.248814 ],\n",
              "       [ 36.89219  ],\n",
              "       [ 86.16443  ],\n",
              "       [ 72.59987  ],\n",
              "       [ 70.08661  ],\n",
              "       [ 94.36518  ],\n",
              "       [ 34.79929  ],\n",
              "       [ 90.39091  ],\n",
              "       [ 82.510056 ],\n",
              "       [ 58.80033  ],\n",
              "       [ 43.32729  ],\n",
              "       [ 27.793797 ],\n",
              "       [ 70.20863  ],\n",
              "       [ 81.8994   ]], dtype=float32)"
            ]
          },
          "metadata": {
            "tags": []
          },
          "execution_count": 43
        }
      ]
    },
    {
      "cell_type": "code",
      "metadata": {
        "id": "NoYEW_g-2fwS"
      },
      "source": [
        "submission = pd.read_csv(\"/content/datasets/MyDrive/sample_submission.csv\")\n",
        "submission['석식계'] = prediction\n",
        "submission.to_csv('/content/datasets/MyDrive/dinner.csv', index=False)"
      ],
      "execution_count": null,
      "outputs": []
    },
    {
      "cell_type": "code",
      "metadata": {
        "id": "zyLOSL7J311G"
      },
      "source": [
        "submission = pd.read_csv(\"/content/datasets/MyDrive/lunch.csv\")\n",
        "submission['석식계'] = prediction\n",
        "submission.to_csv('/content/datasets/MyDrive/lunch_and_dinner.csv', index=False)"
      ],
      "execution_count": 44,
      "outputs": []
    },
    {
      "cell_type": "code",
      "metadata": {
        "id": "MET98bqN6v5f"
      },
      "source": [
        ""
      ],
      "execution_count": null,
      "outputs": []
    }
  ]
}