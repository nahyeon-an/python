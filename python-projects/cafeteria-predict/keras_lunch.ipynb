{
  "nbformat": 4,
  "nbformat_minor": 0,
  "metadata": {
    "colab": {
      "name": "keras_lunch.ipynb",
      "provenance": [],
      "collapsed_sections": []
    },
    "kernelspec": {
      "name": "python3",
      "display_name": "Python 3"
    },
    "language_info": {
      "name": "python"
    },
    "accelerator": "GPU"
  },
  "cells": [
    {
      "cell_type": "code",
      "metadata": {
        "colab": {
          "base_uri": "https://localhost:8080/"
        },
        "id": "eOO1RzuQKT1L",
        "outputId": "a57b4dd6-a4ce-4cb4-866e-8833c57bbbed"
      },
      "source": [
        "from google.colab import drive\n",
        "drive.mount('/content/datasets')"
      ],
      "execution_count": 1,
      "outputs": [
        {
          "output_type": "stream",
          "text": [
            "Mounted at /content/datasets\n"
          ],
          "name": "stdout"
        }
      ]
    },
    {
      "cell_type": "code",
      "metadata": {
        "id": "NpBE9oR6KryI"
      },
      "source": [
        "path = \"/content/datasets/MyDrive/preprocessed_01.csv\""
      ],
      "execution_count": 2,
      "outputs": []
    },
    {
      "cell_type": "code",
      "metadata": {
        "id": "AlED_n_kKr0U"
      },
      "source": [
        "import pandas as pd\n",
        "df = pd.read_csv(path)"
      ],
      "execution_count": 3,
      "outputs": []
    },
    {
      "cell_type": "code",
      "metadata": {
        "colab": {
          "base_uri": "https://localhost:8080/"
        },
        "id": "-ePH_XxqKr2U",
        "outputId": "8d3ab63b-5f6b-4781-e759-bb79f98cfcc3"
      },
      "source": [
        "df.info()"
      ],
      "execution_count": 4,
      "outputs": [
        {
          "output_type": "stream",
          "text": [
            "<class 'pandas.core.frame.DataFrame'>\n",
            "RangeIndex: 1205 entries, 0 to 1204\n",
            "Data columns (total 12 columns):\n",
            " #   Column          Non-Null Count  Dtype  \n",
            "---  ------          --------------  -----  \n",
            " 0   Unnamed: 0      1205 non-null   int64  \n",
            " 1   본사정원수           1205 non-null   float64\n",
            " 2   본사휴가자수          1205 non-null   float64\n",
            " 3   본사출장자수          1205 non-null   float64\n",
            " 4   본사시간외근무명령서승인건수  1205 non-null   float64\n",
            " 5   현본사소속재택근무자수     1205 non-null   float64\n",
            " 6   day             1205 non-null   int64  \n",
            " 7   morning_menu    1205 non-null   object \n",
            " 8   lunch_menu      1205 non-null   object \n",
            " 9   dinner_menu     1205 non-null   object \n",
            " 10  중식계             1205 non-null   float64\n",
            " 11  석식계             1205 non-null   float64\n",
            "dtypes: float64(7), int64(2), object(3)\n",
            "memory usage: 113.1+ KB\n"
          ],
          "name": "stdout"
        }
      ]
    },
    {
      "cell_type": "code",
      "metadata": {
        "id": "XA6A1T1ezdLr"
      },
      "source": [
        "import matplotlib.pyplot as plt\n",
        "\n",
        "def drawHistory(history):\n",
        "    loss = history.history['loss']\n",
        "    val_loss = history.history['val_loss']\n",
        "    \n",
        "    epochs = range(1, len(loss) + 1)\n",
        "    \n",
        "    plt.figure()\n",
        "    plt.plot(epochs, loss, 'ro', label='Training loss')\n",
        "    plt.plot(epochs, val_loss, 'b', label='Validation loss')\n",
        "    plt.title('Training and validation loss')\n",
        "    plt.legend()\n",
        "    \n",
        "    plt.show()"
      ],
      "execution_count": 5,
      "outputs": []
    },
    {
      "cell_type": "code",
      "metadata": {
        "id": "mxrR3EQlKr44"
      },
      "source": [
        "from tensorflow.keras import layers, Input\n",
        "from tensorflow.keras.models import Model\n",
        "from tensorflow.keras.preprocessing.text import Tokenizer\n",
        "from tensorflow.keras.callbacks import EarlyStopping, ModelCheckpoint, ReduceLROnPlateau"
      ],
      "execution_count": 6,
      "outputs": []
    },
    {
      "cell_type": "code",
      "metadata": {
        "id": "PhuoLkMJx4Gu"
      },
      "source": [
        "food = df['lunch_menu']\n",
        "tokenizer = Tokenizer()\n",
        "tokenizer.fit_on_texts(food)"
      ],
      "execution_count": 7,
      "outputs": []
    },
    {
      "cell_type": "code",
      "metadata": {
        "colab": {
          "base_uri": "https://localhost:8080/"
        },
        "id": "Wz_VzosOx_uC",
        "outputId": "5fdcbac2-a4c4-4d2d-f7c2-3711deba0feb"
      },
      "source": [
        "len(tokenizer.word_index)"
      ],
      "execution_count": 8,
      "outputs": [
        {
          "output_type": "execute_result",
          "data": {
            "text/plain": [
              "1723"
            ]
          },
          "metadata": {
            "tags": []
          },
          "execution_count": 8
        }
      ]
    },
    {
      "cell_type": "code",
      "metadata": {
        "colab": {
          "base_uri": "https://localhost:8080/"
        },
        "id": "jTE2AJPhyDMz",
        "outputId": "b17ba79a-69a2-4764-8c6a-3038626c3193"
      },
      "source": [
        "from keras.preprocessing import sequence\n",
        "max_len=9\n",
        "\n",
        "lunch_vector = tokenizer.texts_to_sequences(df['lunch_menu'])\n",
        "lunch_train_x = sequence.pad_sequences(lunch_vector, maxlen=max_len)\n",
        "\n",
        "lunch_train_x.shape"
      ],
      "execution_count": 11,
      "outputs": [
        {
          "output_type": "execute_result",
          "data": {
            "text/plain": [
              "(1205, 9)"
            ]
          },
          "metadata": {
            "tags": []
          },
          "execution_count": 11
        }
      ]
    },
    {
      "cell_type": "code",
      "metadata": {
        "id": "VLTVVSsSyJpS"
      },
      "source": [
        "other_train_x = df[['본사정원수', '본사휴가자수', '본사출장자수', '본사시간외근무명령서승인건수', '현본사소속재택근무자수', 'day']]"
      ],
      "execution_count": 12,
      "outputs": []
    },
    {
      "cell_type": "code",
      "metadata": {
        "id": "OKKtHOaKyM55"
      },
      "source": [
        "y_train = df['중식계']"
      ],
      "execution_count": 13,
      "outputs": []
    },
    {
      "cell_type": "code",
      "metadata": {
        "id": "noQfN6GjyRAc"
      },
      "source": [
        "callbacks_list = [\n",
        "    EarlyStopping(monitor='val_loss', patience=3),\n",
        "    ModelCheckpoint(filepath='lunch.h5', monitor='val_loss', save_best_only=True),\n",
        "    ReduceLROnPlateau(monitor='val_loss', factor=0.1, patience=2)\n",
        "]"
      ],
      "execution_count": 36,
      "outputs": []
    },
    {
      "cell_type": "code",
      "metadata": {
        "id": "DFh0WiMiyWo-"
      },
      "source": [
        "val_lunch = lunch_train_x[1000:]\n",
        "lunch_train = lunch_train_x[:1000]\n",
        "\n",
        "val_other = other_train_x[1000:]\n",
        "other_train = other_train_x[:1000]\n",
        "\n",
        "val_y_lunch = y_train[1000:]\n",
        "y_lunch_train = y_train[:1000]"
      ],
      "execution_count": 15,
      "outputs": []
    },
    {
      "cell_type": "code",
      "metadata": {
        "colab": {
          "base_uri": "https://localhost:8080/"
        },
        "id": "Y391uoX90uT7",
        "outputId": "316bbe39-a40a-4a56-9655-9ef21a413a08"
      },
      "source": [
        "lunch_train.shape, other_train.shape, y_lunch_train.shape"
      ],
      "execution_count": 21,
      "outputs": [
        {
          "output_type": "execute_result",
          "data": {
            "text/plain": [
              "((1000, 9), (1000, 6), (1000,))"
            ]
          },
          "metadata": {
            "tags": []
          },
          "execution_count": 21
        }
      ]
    },
    {
      "cell_type": "code",
      "metadata": {
        "colab": {
          "base_uri": "https://localhost:8080/"
        },
        "id": "YlfXOHkm0yYp",
        "outputId": "c0ea6835-2a68-40cb-8769-e097e847c972"
      },
      "source": [
        "val_lunch.shape, val_other.shape, val_y_lunch.shape"
      ],
      "execution_count": 22,
      "outputs": [
        {
          "output_type": "execute_result",
          "data": {
            "text/plain": [
              "((205, 9), (205, 6), (205,))"
            ]
          },
          "metadata": {
            "tags": []
          },
          "execution_count": 22
        }
      ]
    },
    {
      "cell_type": "code",
      "metadata": {
        "id": "KbR7uoX_yZqr"
      },
      "source": [
        "val_data = {\n",
        "    'lunch': val_lunch, 'other':val_other\n",
        "}\n",
        "\n",
        "val_targets = {\n",
        "    'lunch_target': val_y_lunch\n",
        "}"
      ],
      "execution_count": 17,
      "outputs": []
    },
    {
      "cell_type": "code",
      "metadata": {
        "colab": {
          "base_uri": "https://localhost:8080/"
        },
        "id": "3mp3LyLRyaNj",
        "outputId": "3db5bde5-8aac-4107-c462-522b2442495f"
      },
      "source": [
        "lunch_input = Input(shape=(None,), dtype='int32', name='lunch')\n",
        "other_input = Input(shape=(6, ), dtype='float64', name='other')\n",
        "\n",
        "embedding = layers.Embedding(len(tokenizer.word_index)+1, 32, input_length=max_len, mask_zero=True)\n",
        "\n",
        "lunch_x = embedding(lunch_input)\n",
        "lunch_x = layers.GRU(16)(lunch_x)\n",
        "\n",
        "other_x = layers.Dense(4, activation='relu', input_shape=(6,))(other_input)\n",
        "\n",
        "concatenated = layers.concatenate([lunch_x, other_x], axis=-1)\n",
        "\n",
        "lunch_dense = layers.Dense(16, activation='relu')(concatenated)\n",
        "lunch_prediction = layers.Dense(1, name='lunch_target')(lunch_dense)\n",
        "\n",
        "model = Model([lunch_input, other_input], lunch_prediction)\n",
        "\n",
        "model.summary()"
      ],
      "execution_count": 18,
      "outputs": [
        {
          "output_type": "stream",
          "text": [
            "Model: \"model\"\n",
            "__________________________________________________________________________________________________\n",
            "Layer (type)                    Output Shape         Param #     Connected to                     \n",
            "==================================================================================================\n",
            "lunch (InputLayer)              [(None, None)]       0                                            \n",
            "__________________________________________________________________________________________________\n",
            "embedding (Embedding)           (None, None, 32)     55168       lunch[0][0]                      \n",
            "__________________________________________________________________________________________________\n",
            "other (InputLayer)              [(None, 6)]          0                                            \n",
            "__________________________________________________________________________________________________\n",
            "gru (GRU)                       (None, 16)           2400        embedding[0][0]                  \n",
            "__________________________________________________________________________________________________\n",
            "dense (Dense)                   (None, 4)            28          other[0][0]                      \n",
            "__________________________________________________________________________________________________\n",
            "concatenate (Concatenate)       (None, 20)           0           gru[0][0]                        \n",
            "                                                                 dense[0][0]                      \n",
            "__________________________________________________________________________________________________\n",
            "dense_1 (Dense)                 (None, 16)           336         concatenate[0][0]                \n",
            "__________________________________________________________________________________________________\n",
            "lunch_target (Dense)            (None, 1)            17          dense_1[0][0]                    \n",
            "==================================================================================================\n",
            "Total params: 57,949\n",
            "Trainable params: 57,949\n",
            "Non-trainable params: 0\n",
            "__________________________________________________________________________________________________\n"
          ],
          "name": "stdout"
        }
      ]
    },
    {
      "cell_type": "code",
      "metadata": {
        "colab": {
          "base_uri": "https://localhost:8080/"
        },
        "id": "SdELBqL2y8yL",
        "outputId": "359ffb6d-d761-4cf8-ba86-a9bc88729d7d"
      },
      "source": [
        "model.compile(optimizer='rmsprop', \n",
        "              loss='mae', \n",
        "              metrics=['mse'])\n",
        "\n",
        "history = model.fit({'lunch': lunch_train, 'other':other_train}, y_lunch_train, \n",
        "                    epochs=200, \n",
        "                    batch_size=64, \n",
        "                    callbacks=callbacks_list,\n",
        "                    validation_split=0.2,\n",
        "                    # validation_data=(val_data, val_targets),\n",
        "                    verbose=2)"
      ],
      "execution_count": 42,
      "outputs": [
        {
          "output_type": "stream",
          "text": [
            "Epoch 1/200\n",
            "13/13 - 5s - loss: 90.1235 - mse: 14022.6250 - val_loss: 115.7090 - val_mse: 22694.7520\n",
            "Epoch 2/200\n",
            "13/13 - 0s - loss: 90.0689 - mse: 14008.7041 - val_loss: 115.4028 - val_mse: 22581.3848\n",
            "Epoch 3/200\n",
            "13/13 - 0s - loss: 89.9822 - mse: 13986.7188 - val_loss: 115.1811 - val_mse: 22506.5391\n",
            "Epoch 4/200\n",
            "13/13 - 0s - loss: 89.8851 - mse: 13973.2402 - val_loss: 115.0425 - val_mse: 22468.8125\n",
            "Epoch 5/200\n",
            "13/13 - 0s - loss: 89.8255 - mse: 13943.8379 - val_loss: 114.8748 - val_mse: 22422.0332\n",
            "Epoch 6/200\n",
            "13/13 - 0s - loss: 89.7558 - mse: 13914.2695 - val_loss: 114.5343 - val_mse: 22297.9746\n",
            "Epoch 7/200\n",
            "13/13 - 0s - loss: 89.7232 - mse: 13906.0811 - val_loss: 114.3638 - val_mse: 22249.2402\n",
            "Epoch 8/200\n",
            "13/13 - 0s - loss: 89.6656 - mse: 13884.5186 - val_loss: 114.1766 - val_mse: 22191.4727\n",
            "Epoch 9/200\n",
            "13/13 - 0s - loss: 89.5601 - mse: 13873.2354 - val_loss: 114.0809 - val_mse: 22175.3828\n",
            "Epoch 10/200\n",
            "13/13 - 0s - loss: 89.4986 - mse: 13839.8125 - val_loss: 113.8437 - val_mse: 22095.3281\n",
            "Epoch 11/200\n",
            "13/13 - 0s - loss: 89.4541 - mse: 13828.9814 - val_loss: 113.6575 - val_mse: 22044.7266\n",
            "Epoch 12/200\n",
            "13/13 - 0s - loss: 89.4287 - mse: 13803.5820 - val_loss: 113.5223 - val_mse: 22008.2441\n",
            "Epoch 13/200\n",
            "13/13 - 0s - loss: 89.3503 - mse: 13776.5039 - val_loss: 113.2817 - val_mse: 21926.1074\n",
            "Epoch 14/200\n",
            "13/13 - 0s - loss: 89.2887 - mse: 13773.4863 - val_loss: 113.1040 - val_mse: 21864.6699\n",
            "Epoch 15/200\n",
            "13/13 - 0s - loss: 89.2492 - mse: 13757.5459 - val_loss: 112.9254 - val_mse: 21811.7695\n",
            "Epoch 16/200\n",
            "13/13 - 0s - loss: 89.2152 - mse: 13747.1973 - val_loss: 112.7709 - val_mse: 21773.4766\n",
            "Epoch 17/200\n",
            "13/13 - 0s - loss: 89.1714 - mse: 13728.5146 - val_loss: 112.6175 - val_mse: 21727.0371\n",
            "Epoch 18/200\n",
            "13/13 - 0s - loss: 89.1335 - mse: 13711.5361 - val_loss: 112.4844 - val_mse: 21673.4902\n",
            "Epoch 19/200\n",
            "13/13 - 0s - loss: 89.0393 - mse: 13680.0459 - val_loss: 112.3295 - val_mse: 21622.1641\n",
            "Epoch 20/200\n",
            "13/13 - 0s - loss: 88.9905 - mse: 13674.7002 - val_loss: 112.2005 - val_mse: 21591.0801\n",
            "Epoch 21/200\n",
            "13/13 - 0s - loss: 88.9314 - mse: 13656.6738 - val_loss: 112.0345 - val_mse: 21523.3945\n",
            "Epoch 22/200\n",
            "13/13 - 0s - loss: 88.8820 - mse: 13630.9092 - val_loss: 111.9043 - val_mse: 21463.3008\n",
            "Epoch 23/200\n",
            "13/13 - 0s - loss: 88.8649 - mse: 13635.8672 - val_loss: 111.7658 - val_mse: 21453.2793\n",
            "Epoch 24/200\n",
            "13/13 - 0s - loss: 88.8313 - mse: 13619.2959 - val_loss: 111.6490 - val_mse: 21383.6406\n",
            "Epoch 25/200\n",
            "13/13 - 0s - loss: 88.8056 - mse: 13606.9014 - val_loss: 111.5274 - val_mse: 21353.1172\n",
            "Epoch 26/200\n",
            "13/13 - 0s - loss: 88.7454 - mse: 13579.4424 - val_loss: 111.4029 - val_mse: 21313.6621\n",
            "Epoch 27/200\n",
            "13/13 - 0s - loss: 88.6970 - mse: 13587.3760 - val_loss: 111.2651 - val_mse: 21289.4980\n",
            "Epoch 28/200\n",
            "13/13 - 0s - loss: 88.6848 - mse: 13548.9863 - val_loss: 111.1572 - val_mse: 21240.8594\n",
            "Epoch 29/200\n",
            "13/13 - 0s - loss: 88.6446 - mse: 13560.6748 - val_loss: 111.0492 - val_mse: 21190.6328\n",
            "Epoch 30/200\n",
            "13/13 - 0s - loss: 88.6212 - mse: 13551.5137 - val_loss: 110.8831 - val_mse: 21136.0527\n",
            "Epoch 31/200\n",
            "13/13 - 0s - loss: 88.5226 - mse: 13509.2734 - val_loss: 110.7702 - val_mse: 21093.9375\n",
            "Epoch 32/200\n",
            "13/13 - 0s - loss: 88.5132 - mse: 13495.8252 - val_loss: 110.6501 - val_mse: 21034.7500\n",
            "Epoch 33/200\n",
            "13/13 - 0s - loss: 88.4800 - mse: 13484.9736 - val_loss: 110.4938 - val_mse: 21006.1152\n",
            "Epoch 34/200\n",
            "13/13 - 0s - loss: 88.4417 - mse: 13467.3203 - val_loss: 110.4106 - val_mse: 20959.4238\n",
            "Epoch 35/200\n",
            "13/13 - 0s - loss: 88.4027 - mse: 13460.5840 - val_loss: 110.2663 - val_mse: 20926.9980\n",
            "Epoch 36/200\n",
            "13/13 - 0s - loss: 88.3860 - mse: 13453.3604 - val_loss: 110.1577 - val_mse: 20893.5352\n",
            "Epoch 37/200\n",
            "13/13 - 0s - loss: 88.3126 - mse: 13430.0537 - val_loss: 110.1042 - val_mse: 20858.1094\n",
            "Epoch 38/200\n",
            "13/13 - 0s - loss: 88.3502 - mse: 13425.0635 - val_loss: 110.1193 - val_mse: 20829.0410\n",
            "Epoch 39/200\n",
            "13/13 - 0s - loss: 88.3109 - mse: 13425.2109 - val_loss: 109.9474 - val_mse: 20811.5254\n",
            "Epoch 40/200\n",
            "13/13 - 0s - loss: 88.2657 - mse: 13407.6953 - val_loss: 109.8633 - val_mse: 20787.7109\n",
            "Epoch 41/200\n",
            "13/13 - 0s - loss: 88.2275 - mse: 13383.7695 - val_loss: 109.7532 - val_mse: 20752.4766\n",
            "Epoch 42/200\n",
            "13/13 - 0s - loss: 88.1795 - mse: 13383.5762 - val_loss: 109.6336 - val_mse: 20735.5469\n",
            "Epoch 43/200\n",
            "13/13 - 0s - loss: 88.1747 - mse: 13348.3633 - val_loss: 109.5414 - val_mse: 20677.5684\n",
            "Epoch 44/200\n",
            "13/13 - 0s - loss: 88.1245 - mse: 13348.0654 - val_loss: 109.4197 - val_mse: 20647.4668\n",
            "Epoch 45/200\n",
            "13/13 - 0s - loss: 88.1188 - mse: 13340.4092 - val_loss: 109.3743 - val_mse: 20603.4062\n",
            "Epoch 46/200\n",
            "13/13 - 0s - loss: 88.1030 - mse: 13331.3691 - val_loss: 109.2556 - val_mse: 20563.9727\n",
            "Epoch 47/200\n",
            "13/13 - 0s - loss: 88.0324 - mse: 13303.4453 - val_loss: 109.2212 - val_mse: 20514.1953\n",
            "Epoch 48/200\n",
            "13/13 - 0s - loss: 88.0153 - mse: 13295.4883 - val_loss: 109.1104 - val_mse: 20485.8496\n",
            "Epoch 49/200\n",
            "13/13 - 0s - loss: 87.9497 - mse: 13268.3652 - val_loss: 109.0346 - val_mse: 20454.3633\n",
            "Epoch 50/200\n",
            "13/13 - 0s - loss: 87.9529 - mse: 13281.9971 - val_loss: 108.9067 - val_mse: 20422.5957\n",
            "Epoch 51/200\n",
            "13/13 - 0s - loss: 87.9620 - mse: 13256.5752 - val_loss: 108.8537 - val_mse: 20397.3262\n",
            "Epoch 52/200\n",
            "13/13 - 0s - loss: 87.8748 - mse: 13263.5186 - val_loss: 108.7498 - val_mse: 20376.1719\n",
            "Epoch 53/200\n",
            "13/13 - 0s - loss: 87.8762 - mse: 13240.9189 - val_loss: 108.7370 - val_mse: 20356.1406\n",
            "Epoch 54/200\n",
            "13/13 - 0s - loss: 87.8504 - mse: 13240.7314 - val_loss: 108.6015 - val_mse: 20332.2812\n",
            "Epoch 55/200\n",
            "13/13 - 0s - loss: 87.8282 - mse: 13221.4453 - val_loss: 108.5345 - val_mse: 20317.1797\n",
            "Epoch 56/200\n",
            "13/13 - 0s - loss: 87.7602 - mse: 13211.3945 - val_loss: 108.4479 - val_mse: 20297.5488\n",
            "Epoch 57/200\n",
            "13/13 - 0s - loss: 87.7920 - mse: 13201.8125 - val_loss: 108.4017 - val_mse: 20279.1680\n",
            "Epoch 58/200\n",
            "13/13 - 0s - loss: 87.7669 - mse: 13170.5703 - val_loss: 108.3063 - val_mse: 20228.1367\n",
            "Epoch 59/200\n",
            "13/13 - 0s - loss: 87.6791 - mse: 13158.6699 - val_loss: 108.2581 - val_mse: 20194.1445\n",
            "Epoch 60/200\n",
            "13/13 - 0s - loss: 87.6824 - mse: 13177.2871 - val_loss: 108.1130 - val_mse: 20168.7949\n",
            "Epoch 61/200\n",
            "13/13 - 0s - loss: 87.7000 - mse: 13144.7305 - val_loss: 108.0705 - val_mse: 20146.3398\n",
            "Epoch 62/200\n",
            "13/13 - 0s - loss: 87.6527 - mse: 13154.9316 - val_loss: 107.9978 - val_mse: 20115.3789\n",
            "Epoch 63/200\n",
            "13/13 - 0s - loss: 87.5910 - mse: 13119.1172 - val_loss: 108.0114 - val_mse: 20085.5312\n",
            "Epoch 64/200\n",
            "13/13 - 0s - loss: 87.5584 - mse: 13145.9609 - val_loss: 107.8548 - val_mse: 20054.8633\n",
            "Epoch 65/200\n",
            "13/13 - 0s - loss: 87.5650 - mse: 13112.2891 - val_loss: 107.8470 - val_mse: 20024.6406\n",
            "Epoch 66/200\n",
            "13/13 - 0s - loss: 87.5124 - mse: 13107.8721 - val_loss: 107.7500 - val_mse: 20004.0703\n",
            "Epoch 67/200\n",
            "13/13 - 0s - loss: 87.5516 - mse: 13130.1484 - val_loss: 107.6467 - val_mse: 19978.6582\n",
            "Epoch 68/200\n",
            "13/13 - 0s - loss: 87.4903 - mse: 13105.8213 - val_loss: 107.5960 - val_mse: 19961.3359\n",
            "Epoch 69/200\n",
            "13/13 - 0s - loss: 87.4490 - mse: 13081.7002 - val_loss: 107.5969 - val_mse: 19933.6875\n",
            "Epoch 70/200\n",
            "13/13 - 0s - loss: 87.4088 - mse: 13076.8340 - val_loss: 107.5458 - val_mse: 19908.1699\n",
            "Epoch 71/200\n",
            "13/13 - 0s - loss: 87.3918 - mse: 13071.6562 - val_loss: 107.4690 - val_mse: 19875.5254\n",
            "Epoch 72/200\n",
            "13/13 - 0s - loss: 87.4048 - mse: 13076.5508 - val_loss: 107.4015 - val_mse: 19862.3789\n",
            "Epoch 73/200\n",
            "13/13 - 0s - loss: 87.3239 - mse: 13051.1016 - val_loss: 107.4255 - val_mse: 19836.9688\n",
            "Epoch 74/200\n",
            "13/13 - 0s - loss: 87.3382 - mse: 13071.0996 - val_loss: 107.2947 - val_mse: 19822.3516\n",
            "Epoch 75/200\n",
            "13/13 - 0s - loss: 87.3107 - mse: 13051.3467 - val_loss: 107.2032 - val_mse: 19797.1113\n",
            "Epoch 76/200\n",
            "13/13 - 0s - loss: 87.2622 - mse: 13030.9199 - val_loss: 107.1607 - val_mse: 19767.4121\n",
            "Epoch 77/200\n",
            "13/13 - 0s - loss: 87.2489 - mse: 13024.4229 - val_loss: 107.1634 - val_mse: 19754.5078\n",
            "Epoch 78/200\n",
            "13/13 - 0s - loss: 87.1821 - mse: 13023.0029 - val_loss: 107.0679 - val_mse: 19739.0605\n",
            "Epoch 79/200\n",
            "13/13 - 0s - loss: 87.2094 - mse: 13007.6992 - val_loss: 107.0691 - val_mse: 19717.6895\n",
            "Epoch 80/200\n",
            "13/13 - 0s - loss: 87.1391 - mse: 12999.5742 - val_loss: 107.0458 - val_mse: 19705.9277\n",
            "Epoch 81/200\n",
            "13/13 - 0s - loss: 87.1297 - mse: 12982.5029 - val_loss: 106.9744 - val_mse: 19689.0215\n",
            "Epoch 82/200\n",
            "13/13 - 0s - loss: 87.1319 - mse: 12987.5234 - val_loss: 106.9350 - val_mse: 19672.7344\n",
            "Epoch 83/200\n",
            "13/13 - 0s - loss: 87.0712 - mse: 12960.5371 - val_loss: 106.8984 - val_mse: 19653.5703\n",
            "Epoch 84/200\n",
            "13/13 - 0s - loss: 87.0211 - mse: 12949.6250 - val_loss: 106.8257 - val_mse: 19623.4316\n",
            "Epoch 85/200\n",
            "13/13 - 0s - loss: 87.0285 - mse: 12961.8438 - val_loss: 106.7778 - val_mse: 19599.5625\n",
            "Epoch 86/200\n",
            "13/13 - 0s - loss: 87.0272 - mse: 12948.0479 - val_loss: 106.7554 - val_mse: 19585.6602\n",
            "Epoch 87/200\n",
            "13/13 - 0s - loss: 86.9515 - mse: 12939.5322 - val_loss: 106.6788 - val_mse: 19559.0449\n",
            "Epoch 88/200\n",
            "13/13 - 0s - loss: 86.8993 - mse: 12921.3555 - val_loss: 106.6427 - val_mse: 19541.8516\n",
            "Epoch 89/200\n",
            "13/13 - 0s - loss: 86.9674 - mse: 12919.1055 - val_loss: 106.6200 - val_mse: 19527.2832\n",
            "Epoch 90/200\n",
            "13/13 - 0s - loss: 86.8790 - mse: 12900.3477 - val_loss: 106.5588 - val_mse: 19509.1230\n",
            "Epoch 91/200\n",
            "13/13 - 0s - loss: 86.8564 - mse: 12895.1641 - val_loss: 106.5811 - val_mse: 19496.4824\n",
            "Epoch 92/200\n",
            "13/13 - 0s - loss: 86.8504 - mse: 12880.9209 - val_loss: 106.5553 - val_mse: 19485.8594\n",
            "Epoch 93/200\n",
            "13/13 - 0s - loss: 86.8316 - mse: 12876.0615 - val_loss: 106.5162 - val_mse: 19460.0566\n",
            "Epoch 94/200\n",
            "13/13 - 0s - loss: 86.7696 - mse: 12868.4297 - val_loss: 106.4198 - val_mse: 19443.5312\n",
            "Epoch 95/200\n",
            "13/13 - 0s - loss: 86.7321 - mse: 12856.1885 - val_loss: 106.3649 - val_mse: 19416.4473\n",
            "Epoch 96/200\n",
            "13/13 - 0s - loss: 86.6948 - mse: 12851.1504 - val_loss: 106.3415 - val_mse: 19398.4395\n",
            "Epoch 97/200\n",
            "13/13 - 0s - loss: 86.7034 - mse: 12832.7559 - val_loss: 106.3434 - val_mse: 19383.7402\n",
            "Epoch 98/200\n",
            "13/13 - 0s - loss: 86.6641 - mse: 12820.8496 - val_loss: 106.3120 - val_mse: 19354.2930\n",
            "Epoch 99/200\n",
            "13/13 - 0s - loss: 86.6429 - mse: 12810.5986 - val_loss: 106.2790 - val_mse: 19334.9766\n",
            "Epoch 100/200\n",
            "13/13 - 0s - loss: 86.6246 - mse: 12811.7324 - val_loss: 106.2247 - val_mse: 19312.4766\n",
            "Epoch 101/200\n",
            "13/13 - 0s - loss: 86.5895 - mse: 12795.7637 - val_loss: 106.1820 - val_mse: 19293.7637\n",
            "Epoch 102/200\n",
            "13/13 - 0s - loss: 86.5684 - mse: 12795.5713 - val_loss: 106.1681 - val_mse: 19269.4844\n",
            "Epoch 103/200\n",
            "13/13 - 0s - loss: 86.5718 - mse: 12802.3633 - val_loss: 106.0125 - val_mse: 19238.7441\n",
            "Epoch 104/200\n",
            "13/13 - 0s - loss: 86.5520 - mse: 12764.4297 - val_loss: 106.0217 - val_mse: 19223.2090\n",
            "Epoch 105/200\n",
            "13/13 - 0s - loss: 86.4902 - mse: 12765.0879 - val_loss: 105.9670 - val_mse: 19195.2637\n",
            "Epoch 106/200\n",
            "13/13 - 0s - loss: 86.4601 - mse: 12755.6553 - val_loss: 105.9052 - val_mse: 19169.9746\n",
            "Epoch 107/200\n",
            "13/13 - 0s - loss: 86.4657 - mse: 12761.2617 - val_loss: 105.8321 - val_mse: 19151.7930\n",
            "Epoch 108/200\n",
            "13/13 - 0s - loss: 86.4797 - mse: 12746.8574 - val_loss: 105.8185 - val_mse: 19123.8887\n",
            "Epoch 109/200\n",
            "13/13 - 0s - loss: 86.4137 - mse: 12728.3408 - val_loss: 105.7488 - val_mse: 19099.3809\n",
            "Epoch 110/200\n",
            "13/13 - 0s - loss: 86.3859 - mse: 12716.9453 - val_loss: 105.7530 - val_mse: 19081.0566\n",
            "Epoch 111/200\n",
            "13/13 - 0s - loss: 86.3869 - mse: 12714.1162 - val_loss: 105.7616 - val_mse: 19064.1484\n",
            "Epoch 112/200\n",
            "13/13 - 0s - loss: 86.2973 - mse: 12702.0586 - val_loss: 105.7473 - val_mse: 19060.4043\n",
            "Epoch 113/200\n",
            "13/13 - 0s - loss: 86.2930 - mse: 12700.4785 - val_loss: 105.7397 - val_mse: 19057.7520\n",
            "Epoch 114/200\n",
            "13/13 - 0s - loss: 86.2946 - mse: 12701.7676 - val_loss: 105.7272 - val_mse: 19054.2266\n",
            "Epoch 115/200\n",
            "13/13 - 0s - loss: 86.2931 - mse: 12700.0059 - val_loss: 105.7198 - val_mse: 19051.9023\n",
            "Epoch 116/200\n",
            "13/13 - 0s - loss: 86.2913 - mse: 12697.0098 - val_loss: 105.7095 - val_mse: 19049.1504\n",
            "Epoch 117/200\n",
            "13/13 - 0s - loss: 86.2829 - mse: 12695.5098 - val_loss: 105.7000 - val_mse: 19046.0527\n",
            "Epoch 118/200\n",
            "13/13 - 0s - loss: 86.2809 - mse: 12692.2129 - val_loss: 105.7011 - val_mse: 19044.4121\n",
            "Epoch 119/200\n",
            "13/13 - 0s - loss: 86.2809 - mse: 12693.3379 - val_loss: 105.6939 - val_mse: 19041.4766\n",
            "Epoch 120/200\n",
            "13/13 - 0s - loss: 86.2786 - mse: 12692.8945 - val_loss: 105.6822 - val_mse: 19038.0078\n",
            "Epoch 121/200\n",
            "13/13 - 0s - loss: 86.2770 - mse: 12690.7842 - val_loss: 105.6833 - val_mse: 19036.5605\n",
            "Epoch 122/200\n",
            "13/13 - 0s - loss: 86.2691 - mse: 12690.4551 - val_loss: 105.6863 - val_mse: 19034.0371\n",
            "Epoch 123/200\n",
            "13/13 - 0s - loss: 86.2661 - mse: 12690.0742 - val_loss: 105.6856 - val_mse: 19033.7422\n"
          ],
          "name": "stdout"
        }
      ]
    },
    {
      "cell_type": "code",
      "metadata": {
        "colab": {
          "base_uri": "https://localhost:8080/"
        },
        "id": "0MIbxFBgzSUj",
        "outputId": "7a3ae5b7-5b7c-4466-cad9-7c175f9be459"
      },
      "source": [
        "model.evaluate(val_data, val_targets)"
      ],
      "execution_count": 43,
      "outputs": [
        {
          "output_type": "stream",
          "text": [
            "7/7 [==============================] - 1s 4ms/step - loss: 248.0332 - mse: 93009.2266\n"
          ],
          "name": "stdout"
        },
        {
          "output_type": "execute_result",
          "data": {
            "text/plain": [
              "[248.0331573486328, 93009.2265625]"
            ]
          },
          "metadata": {
            "tags": []
          },
          "execution_count": 43
        }
      ]
    },
    {
      "cell_type": "code",
      "metadata": {
        "id": "lF870b7qzSXy"
      },
      "source": [
        "y = model.predict(val_data)"
      ],
      "execution_count": 44,
      "outputs": []
    },
    {
      "cell_type": "code",
      "metadata": {
        "colab": {
          "base_uri": "https://localhost:8080/"
        },
        "id": "-RiLy48XzSdr",
        "outputId": "043b3a69-3218-4681-f389-ce6f43b62564"
      },
      "source": [
        "y[:5], val_y_lunch[:5]"
      ],
      "execution_count": 45,
      "outputs": [
        {
          "output_type": "execute_result",
          "data": {
            "text/plain": [
              "(array([[ 679.351  ],\n",
              "        [1323.8868 ],\n",
              "        [1161.7172 ],\n",
              "        [ 932.0711 ],\n",
              "        [ 834.34827]], dtype=float32), 1000     642.0\n",
              " 1001    1276.0\n",
              " 1002    1019.0\n",
              " 1003     967.0\n",
              " 1004     804.0\n",
              " Name: 중식계, dtype: float64)"
            ]
          },
          "metadata": {
            "tags": []
          },
          "execution_count": 45
        }
      ]
    },
    {
      "cell_type": "code",
      "metadata": {
        "colab": {
          "base_uri": "https://localhost:8080/",
          "height": 281
        },
        "id": "Hi_1Ng97zePV",
        "outputId": "8c7130c0-7453-445f-8d8d-e2ac648ff5d3"
      },
      "source": [
        "drawHistory(history)"
      ],
      "execution_count": 46,
      "outputs": [
        {
          "output_type": "display_data",
          "data": {
            "image/png": "[encoded data removed]",
            "text/plain": [
              "<Figure size 432x288 with 1 Axes>"
            ]
          },
          "metadata": {
            "tags": [],
            "needs_background": "light"
          }
        }
      ]
    },
    {
      "cell_type": "code",
      "metadata": {
        "id": "AT03S36j11q5"
      },
      "source": [
        "from tensorflow.keras.models import load_model\n",
        "saved_model = load_model('lunch.h5')\n",
        "result = saved_model.predict(val_data)"
      ],
      "execution_count": 47,
      "outputs": []
    },
    {
      "cell_type": "code",
      "metadata": {
        "colab": {
          "base_uri": "https://localhost:8080/"
        },
        "id": "WiCEYFRI12C4",
        "outputId": "48f8141c-35d9-4237-ef83-62934153455b"
      },
      "source": [
        "result[:5], val_y_lunch[:5]"
      ],
      "execution_count": 48,
      "outputs": [
        {
          "output_type": "execute_result",
          "data": {
            "text/plain": [
              "(array([[ 679.1534],\n",
              "        [1323.6575],\n",
              "        [1161.4674],\n",
              "        [ 931.7801],\n",
              "        [ 834.0551]], dtype=float32), 1000     642.0\n",
              " 1001    1276.0\n",
              " 1002    1019.0\n",
              " 1003     967.0\n",
              " 1004     804.0\n",
              " Name: 중식계, dtype: float64)"
            ]
          },
          "metadata": {
            "tags": []
          },
          "execution_count": 48
        }
      ]
    },
    {
      "cell_type": "code",
      "metadata": {
        "id": "8-vESBFDzeRg"
      },
      "source": [
        "import numpy as np\n",
        "\n",
        "test = pd.read_csv(\"/content/datasets/MyDrive/test.csv\")\n",
        "\n",
        "for col in ['본사정원수', '본사휴가자수', '본사출장자수', '본사시간외근무명령서승인건수', '현본사소속재택근무자수']:\n",
        "    test[col] -= np.mean(test[col])\n",
        "    test[col] /= np.std(test[col])\n",
        "\n",
        "test['day'] = test['요일'].map({'월':0, '화':1, '수':2, '목':3, '금':4})"
      ],
      "execution_count": 31,
      "outputs": []
    },
    {
      "cell_type": "code",
      "metadata": {
        "id": "XO_KQfhuzvKt"
      },
      "source": [
        "lunch_test_x = tokenizer.texts_to_sequences(test['중식메뉴'])\n",
        "lunch_test_x = sequence.pad_sequences(lunch_test_x, maxlen=max_len)\n",
        "\n",
        "other_test_x = test[['본사정원수', '본사휴가자수', '본사출장자수', '본사시간외근무명령서승인건수', '현본사소속재택근무자수', 'day']]"
      ],
      "execution_count": 32,
      "outputs": []
    },
    {
      "cell_type": "code",
      "metadata": {
        "id": "2hnL_Mhsz9vK"
      },
      "source": [
        "prediction = model.predict({'lunch': lunch_test_x, \n",
        "                            'other':other_test_x})"
      ],
      "execution_count": 49,
      "outputs": []
    },
    {
      "cell_type": "code",
      "metadata": {
        "colab": {
          "base_uri": "https://localhost:8080/"
        },
        "id": "-puRtyMW2dK9",
        "outputId": "9b49fe62-cbc4-4c99-eedb-6edfb31dc53b"
      },
      "source": [
        "prediction[:5]"
      ],
      "execution_count": 50,
      "outputs": [
        {
          "output_type": "execute_result",
          "data": {
            "text/plain": [
              "array([[ 67.055565],\n",
              "       [ 47.90527 ],\n",
              "       [ 39.185707],\n",
              "       [407.4171  ],\n",
              "       [354.7588  ]], dtype=float32)"
            ]
          },
          "metadata": {
            "tags": []
          },
          "execution_count": 50
        }
      ]
    },
    {
      "cell_type": "code",
      "metadata": {
        "colab": {
          "base_uri": "https://localhost:8080/"
        },
        "id": "VfaKUxUb2euA",
        "outputId": "31cc3b18-4e31-4cf5-a551-6a2f1767aaa8"
      },
      "source": [
        "prediction"
      ],
      "execution_count": 51,
      "outputs": [
        {
          "output_type": "execute_result",
          "data": {
            "text/plain": [
              "array([[ 67.055565],\n",
              "       [ 47.90527 ],\n",
              "       [ 39.185707],\n",
              "       [407.4171  ],\n",
              "       [354.7588  ],\n",
              "       [365.55118 ],\n",
              "       [302.14957 ],\n",
              "       [ 98.75358 ],\n",
              "       [355.40808 ],\n",
              "       [250.52501 ],\n",
              "       [321.69156 ],\n",
              "       [253.90996 ],\n",
              "       [ 73.75434 ],\n",
              "       [ 75.27757 ],\n",
              "       [ 64.29482 ],\n",
              "       [ 39.185707],\n",
              "       [689.2116  ],\n",
              "       [733.4985  ],\n",
              "       [497.68115 ],\n",
              "       [417.8914  ],\n",
              "       [290.05014 ],\n",
              "       [587.33606 ],\n",
              "       [279.64075 ],\n",
              "       [284.66257 ],\n",
              "       [166.51118 ],\n",
              "       [829.66486 ],\n",
              "       [512.25433 ],\n",
              "       [385.45474 ],\n",
              "       [291.04285 ],\n",
              "       [ 39.185707],\n",
              "       [389.33368 ],\n",
              "       [ 63.8533  ],\n",
              "       [ 52.411907],\n",
              "       [ 43.044533],\n",
              "       [243.31125 ],\n",
              "       [152.3673  ],\n",
              "       [ 79.76198 ],\n",
              "       [ 90.2614  ],\n",
              "       [ 49.231754],\n",
              "       [ 39.185707],\n",
              "       [270.92474 ],\n",
              "       [230.9672  ],\n",
              "       [103.11722 ],\n",
              "       [ 65.650345],\n",
              "       [ 42.529575],\n",
              "       [218.30472 ],\n",
              "       [ 96.98154 ],\n",
              "       [ 64.06885 ],\n",
              "       [255.5407  ],\n",
              "       [ 44.58205 ]], dtype=float32)"
            ]
          },
          "metadata": {
            "tags": []
          },
          "execution_count": 51
        }
      ]
    },
    {
      "cell_type": "code",
      "metadata": {
        "id": "NoYEW_g-2fwS"
      },
      "source": [
        "submission = pd.read_csv(\"/content/datasets/MyDrive/sample_submission.csv\")\n",
        "submission['중식계'] = prediction\n",
        "submission.to_csv('/content/datasets/MyDrive/lunch.csv', index=False)"
      ],
      "execution_count": 52,
      "outputs": []
    },
    {
      "cell_type": "code",
      "metadata": {
        "id": "zyLOSL7J311G"
      },
      "source": [
        ""
      ],
      "execution_count": null,
      "outputs": []
    }
  ]
}