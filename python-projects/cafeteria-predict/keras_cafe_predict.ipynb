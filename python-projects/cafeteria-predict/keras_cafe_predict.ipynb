{
 "cells": [
  {
   "cell_type": "code",
   "execution_count": 1,
   "metadata": {
    "colab": {
     "base_uri": "https://localhost:8080/"
    },
    "id": "eOO1RzuQKT1L",
    "outputId": "484a193e-bdfa-4d1a-aa4b-4cddb35ae218"
   },
   "outputs": [
    {
     "name": "stdout",
     "output_type": "stream",
     "text": [
      "Mounted at /content/datasets\n"
     ]
    }
   ],
   "source": [
    "from google.colab import drive\n",
    "drive.mount('/content/datasets')"
   ]
  },
  {
   "cell_type": "code",
   "execution_count": 2,
   "metadata": {
    "id": "NpBE9oR6KryI"
   },
   "outputs": [],
   "source": [
    "path = \"/content/datasets/MyDrive/preprocessed_01.csv\""
   ]
  },
  {
   "cell_type": "code",
   "execution_count": 86,
   "metadata": {
    "id": "AlED_n_kKr0U"
   },
   "outputs": [],
   "source": [
    "import pandas as pd\n",
    "df = pd.read_csv(path)"
   ]
  },
  {
   "cell_type": "code",
   "execution_count": 4,
   "metadata": {
    "colab": {
     "base_uri": "https://localhost:8080/"
    },
    "id": "-ePH_XxqKr2U",
    "outputId": "bc75bd4f-9fcd-4305-e946-be1255c52773"
   },
   "outputs": [
    {
     "name": "stdout",
     "output_type": "stream",
     "text": [
      "<class 'pandas.core.frame.DataFrame'>\n",
      "RangeIndex: 1205 entries, 0 to 1204\n",
      "Data columns (total 12 columns):\n",
      " #   Column          Non-Null Count  Dtype  \n",
      "---  ------          --------------  -----  \n",
      " 0   Unnamed: 0      1205 non-null   int64  \n",
      " 1   본사정원수           1205 non-null   float64\n",
      " 2   본사휴가자수          1205 non-null   float64\n",
      " 3   본사출장자수          1205 non-null   float64\n",
      " 4   본사시간외근무명령서승인건수  1205 non-null   float64\n",
      " 5   현본사소속재택근무자수     1205 non-null   float64\n",
      " 6   day             1205 non-null   int64  \n",
      " 7   morning_menu    1205 non-null   object \n",
      " 8   lunch_menu      1205 non-null   object \n",
      " 9   dinner_menu     1205 non-null   object \n",
      " 10  중식계             1205 non-null   float64\n",
      " 11  석식계             1205 non-null   float64\n",
      "dtypes: float64(7), int64(2), object(3)\n",
      "memory usage: 113.1+ KB\n"
     ]
    }
   ],
   "source": [
    "df.info()"
   ]
  },
  {
   "cell_type": "code",
   "execution_count": 5,
   "metadata": {
    "id": "mxrR3EQlKr44"
   },
   "outputs": [],
   "source": [
    "from tensorflow.keras import layers, Input\n",
    "from tensorflow.keras.models import Model\n",
    "from tensorflow.keras.preprocessing.text import Tokenizer\n",
    "from tensorflow.keras.callbacks import EarlyStopping, ModelCheckpoint, ReduceLROnPlateau"
   ]
  },
  {
   "cell_type": "code",
   "execution_count": 6,
   "metadata": {
    "id": "3jsfAqa2NBCc"
   },
   "outputs": [],
   "source": [
    "food = df['morning_menu'] \n",
    "food += df['lunch_menu']\n",
    "food += df['dinner_menu']"
   ]
  },
  {
   "cell_type": "code",
   "execution_count": 7,
   "metadata": {
    "colab": {
     "base_uri": "https://localhost:8080/"
    },
    "id": "xd-Rr0vJNX8I",
    "outputId": "2212a7cf-0191-4913-fd95-d86155badbfc"
   },
   "outputs": [
    {
     "data": {
      "text/plain": [
       "0       ['모닝롤', '찐빵', '우유', '두유', '주스', '계란후라이', '호두죽'...\n",
       "1       ['모닝롤', '단호박샌드', '우유', '두유', '주스', '계란후라이', '팥...\n",
       "2       ['모닝롤', '베이글', '우유', '두유', '주스', '계란후라이', '표고버...\n",
       "3       ['모닝롤', '토마토샌드', '우유', '두유', '주스', '계란후라이', '닭...\n",
       "4       ['모닝롤', '와플', '우유', '두유', '주스', '계란후라이', '쇠고기죽...\n",
       "                              ...                        \n",
       "1200    ['모닝롤', '페퍼로니피자', '우유', '주스', '계란후라이', '찐계란', ...\n",
       "1201    ['모닝롤', '생크림단팥빵', '우유', '주스', '계란후라이', '찐계란', ...\n",
       "1202    ['모닝롤', 'BLT샌드위치', '우유', '주스', '계란후라이', '찐계란',...\n",
       "1203    ['모닝롤', '호박고구마오븐구이', '우유', '주스', '계란후라이', '찐계란...\n",
       "1204    ['모닝롤', '야채샌드', '우유', '주스', '계란후라이', '찐계란', '참...\n",
       "Name: morning_menu, Length: 1205, dtype: object"
      ]
     },
     "execution_count": 7,
     "metadata": {
      "tags": []
     },
     "output_type": "execute_result"
    }
   ],
   "source": [
    "food"
   ]
  },
  {
   "cell_type": "code",
   "execution_count": 8,
   "metadata": {
    "id": "jXVTlldkNGui"
   },
   "outputs": [],
   "source": [
    "tokenizer = Tokenizer()\n",
    "tokenizer.fit_on_texts(food)"
   ]
  },
  {
   "cell_type": "code",
   "execution_count": 9,
   "metadata": {
    "colab": {
     "base_uri": "https://localhost:8080/"
    },
    "id": "VyGWIS9FNtKn",
    "outputId": "366455e8-f229-41a1-aa96-c9423083c083"
   },
   "outputs": [
    {
     "data": {
      "text/plain": [
       "3025"
      ]
     },
     "execution_count": 9,
     "metadata": {
      "tags": []
     },
     "output_type": "execute_result"
    }
   ],
   "source": [
    "len(tokenizer.word_index)"
   ]
  },
  {
   "cell_type": "code",
   "execution_count": 10,
   "metadata": {
    "colab": {
     "base_uri": "https://localhost:8080/"
    },
    "id": "ipUZehvbNz-A",
    "outputId": "a47dcc53-676a-4299-d0cd-e33a35c518e2"
   },
   "outputs": [
    {
     "data": {
      "text/plain": [
       "[(\"'포기김치'\", 2962),\n",
       " (\"'쌀밥'\", 2744),\n",
       " (\"'잡곡밥'\", 1536),\n",
       " (\"'주스'\", 1211),\n",
       " (\"'우유'\", 1205),\n",
       " (\"'모닝롤'\", 1200),\n",
       " (\"'계란후라이'\", 939),\n",
       " (\"'누룽지탕'\", 426),\n",
       " (\"'흑미밥'\", 291),\n",
       " (\"'스크램블에그'\", 241)]"
      ]
     },
     "execution_count": 10,
     "metadata": {
      "tags": []
     },
     "output_type": "execute_result"
    }
   ],
   "source": [
    "sorted(tokenizer.word_counts.items(), key=lambda x: x[1], reverse=True)[:10]"
   ]
  },
  {
   "cell_type": "code",
   "execution_count": 11,
   "metadata": {
    "id": "ICslxhZWN0Yk"
   },
   "outputs": [],
   "source": [
    "morning_vector = tokenizer.texts_to_sequences(df['morning_menu'])\n",
    "lunch_vector = tokenizer.texts_to_sequences(df['lunch_menu'])\n",
    "dinner_vector = tokenizer.texts_to_sequences(df['dinner_menu'])"
   ]
  },
  {
   "cell_type": "code",
   "execution_count": 12,
   "metadata": {
    "id": "l2vosP1JN0aq"
   },
   "outputs": [],
   "source": [
    "from keras.preprocessing import sequence\n",
    "max_len=9"
   ]
  },
  {
   "cell_type": "code",
   "execution_count": 92,
   "metadata": {
    "id": "9CVr_qkLN0cz"
   },
   "outputs": [],
   "source": [
    "morning_train_x = sequence.pad_sequences(morning_vector, maxlen=max_len)\n",
    "lunch_train_x = sequence.pad_sequences(lunch_vector, maxlen=max_len)\n",
    "dinner_train_x = sequence.pad_sequences(dinner_vector, maxlen=max_len)"
   ]
  },
  {
   "cell_type": "code",
   "execution_count": 93,
   "metadata": {
    "colab": {
     "base_uri": "https://localhost:8080/"
    },
    "id": "qHJ_IsBEN0e7",
    "outputId": "a74534fd-a739-43c8-816d-f45a4b65c964"
   },
   "outputs": [
    {
     "data": {
      "text/plain": [
       "(1205, 9)"
      ]
     },
     "execution_count": 93,
     "metadata": {
      "tags": []
     },
     "output_type": "execute_result"
    }
   ],
   "source": [
    "morning_train_x.shape"
   ]
  },
  {
   "cell_type": "code",
   "execution_count": 95,
   "metadata": {
    "id": "xoztYlcZN0hE"
   },
   "outputs": [],
   "source": [
    "other_x_train = df[['본사정원수', '본사휴가자수', '본사출장자수', '본사시간외근무명령서승인건수', '현본사소속재택근무자수', 'day']]"
   ]
  },
  {
   "cell_type": "code",
   "execution_count": 96,
   "metadata": {
    "id": "wOMATbOvN0i8"
   },
   "outputs": [],
   "source": [
    "y_lunch = df['중식계']\n",
    "y_dinner = df['석식계']"
   ]
  },
  {
   "cell_type": "code",
   "execution_count": 69,
   "metadata": {
    "id": "YvrzOCBTN0k5"
   },
   "outputs": [],
   "source": [
    "callbacks_list = [\n",
    "    EarlyStopping(monitor='val_loss', patience=5),\n",
    "    ModelCheckpoint(filepath='my_model_val.h5', monitor='val_loss', save_best_only=True),\n",
    "    ReduceLROnPlateau(monitor='val_loss', factor=0.1, patience=10)\n",
    "]"
   ]
  },
  {
   "cell_type": "code",
   "execution_count": 94,
   "metadata": {
    "colab": {
     "base_uri": "https://localhost:8080/"
    },
    "id": "vyyz-L0aN0sf",
    "outputId": "aa13d206-257a-49ca-d394-ad2cdad13f95"
   },
   "outputs": [
    {
     "data": {
      "text/plain": [
       "((1205, 9), (1205, 9), (1205, 9))"
      ]
     },
     "execution_count": 94,
     "metadata": {
      "tags": []
     },
     "output_type": "execute_result"
    }
   ],
   "source": [
    "morning_train_x.shape, lunch_train_x.shape, dinner_train_x.shape"
   ]
  },
  {
   "cell_type": "code",
   "execution_count": 97,
   "metadata": {
    "id": "FXi1lQy7bncB"
   },
   "outputs": [],
   "source": [
    "val_morning = morning_train_x[1000:]\n",
    "morning_train = morning_train_x[:1000]\n",
    "\n",
    "val_lunch = lunch_train_x[1000:]\n",
    "lunch_train = lunch_train_x[:1000]\n",
    "\n",
    "val_dinner = dinner_train_x[1000:]\n",
    "dinner_train = dinner_train_x[:1000]\n",
    "\n",
    "val_x = other_x_train[1000:]\n",
    "x_train = other_x_train[:1000]\n",
    "\n",
    "val_y_lunch = y_lunch[1000:]\n",
    "y_lunch_train = y_lunch[:1000]\n",
    "\n",
    "val_y_dinner = y_dinner[1000:]\n",
    "y_dinner_train = y_dinner[:1000]"
   ]
  },
  {
   "cell_type": "code",
   "execution_count": 98,
   "metadata": {
    "id": "VewwaV_2cUOe"
   },
   "outputs": [],
   "source": [
    "val_data = {\n",
    "    'morning': val_morning, 'lunch': val_lunch, 'dinner': val_dinner, 'other':val_x\n",
    "}\n",
    "\n",
    "val_targets = {\n",
    "    'lunch_target': val_y_lunch, 'dinner_target': val_y_dinner\n",
    "}"
   ]
  },
  {
   "cell_type": "code",
   "execution_count": 99,
   "metadata": {
    "colab": {
     "base_uri": "https://localhost:8080/"
    },
    "id": "R7BkTFcuecZw",
    "outputId": "24773620-36e2-4903-cbf4-99131fdd95be"
   },
   "outputs": [
    {
     "data": {
      "text/plain": [
       "(205, 9)"
      ]
     },
     "execution_count": 99,
     "metadata": {
      "tags": []
     },
     "output_type": "execute_result"
    }
   ],
   "source": [
    "val_morning.shape"
   ]
  },
  {
   "cell_type": "code",
   "execution_count": 137,
   "metadata": {
    "colab": {
     "base_uri": "https://localhost:8080/"
    },
    "id": "rQMvDnZlMJI3",
    "outputId": "9f8c50a0-4f90-4824-ea23-6c578b5b9d20"
   },
   "outputs": [
    {
     "name": "stdout",
     "output_type": "stream",
     "text": [
      "Model: \"model_12\"\n",
      "__________________________________________________________________________________________________\n",
      "Layer (type)                    Output Shape         Param #     Connected to                     \n",
      "==================================================================================================\n",
      "morning (InputLayer)            [(None, None)]       0                                            \n",
      "__________________________________________________________________________________________________\n",
      "lunch (InputLayer)              [(None, None)]       0                                            \n",
      "__________________________________________________________________________________________________\n",
      "dinner (InputLayer)             [(None, None)]       0                                            \n",
      "__________________________________________________________________________________________________\n",
      "embedding_23 (Embedding)        (None, None, 32)     96832       morning[0][0]                    \n",
      "                                                                 lunch[0][0]                      \n",
      "                                                                 dinner[0][0]                     \n",
      "__________________________________________________________________________________________________\n",
      "other (InputLayer)              [(None, 6)]          0                                            \n",
      "__________________________________________________________________________________________________\n",
      "gru_69 (GRU)                    (None, 16)           2400        embedding_23[0][0]               \n",
      "__________________________________________________________________________________________________\n",
      "gru_70 (GRU)                    (None, 16)           2400        embedding_23[1][0]               \n",
      "__________________________________________________________________________________________________\n",
      "gru_71 (GRU)                    (None, 16)           2400        embedding_23[2][0]               \n",
      "__________________________________________________________________________________________________\n",
      "dense_13 (Dense)                (None, 4)            28          other[0][0]                      \n",
      "__________________________________________________________________________________________________\n",
      "concatenate_21 (Concatenate)    (None, 52)           0           gru_69[0][0]                     \n",
      "                                                                 gru_70[0][0]                     \n",
      "                                                                 gru_71[0][0]                     \n",
      "                                                                 dense_13[0][0]                   \n",
      "__________________________________________________________________________________________________\n",
      "dense_14 (Dense)                (None, 16)           848         concatenate_21[0][0]             \n",
      "__________________________________________________________________________________________________\n",
      "dense_15 (Dense)                (None, 16)           848         concatenate_21[0][0]             \n",
      "__________________________________________________________________________________________________\n",
      "lunch_target (Dense)            (None, 1)            17          dense_14[0][0]                   \n",
      "__________________________________________________________________________________________________\n",
      "dinner_target (Dense)           (None, 1)            17          dense_15[0][0]                   \n",
      "==================================================================================================\n",
      "Total params: 105,790\n",
      "Trainable params: 105,790\n",
      "Non-trainable params: 0\n",
      "__________________________________________________________________________________________________\n"
     ]
    }
   ],
   "source": [
    "morning_input = Input(shape=(None,), dtype='int32', name='morning')\n",
    "lunch_input = Input(shape=(None,), dtype='int32', name='lunch')\n",
    "dinner_input = Input(shape=(None,), dtype='int32', name='dinner')\n",
    "other_input = Input(shape=(6, ), dtype='float64', name='other')\n",
    "\n",
    "embedding = layers.Embedding(len(tokenizer.word_index)+1, 32, input_length=max_len, mask_zero=True)\n",
    "\n",
    "morning_x = embedding(morning_input)\n",
    "morning_x = layers.GRU(16)(morning_x)\n",
    "\n",
    "lunch_x = embedding(lunch_input)\n",
    "lunch_x = layers.GRU(16)(lunch_x)\n",
    "\n",
    "dinner_x = embedding(dinner_input)\n",
    "dinner_x = layers.GRU(16)(dinner_x)\n",
    "\n",
    "other_x = layers.Dense(4, activation='relu', input_shape=(6,))(other_input)\n",
    "\n",
    "concatenated = layers.concatenate([morning_x, lunch_x, dinner_x, other_x], axis=-1)\n",
    "\n",
    "lunch_dense = layers.Dense(16, activation='relu')(concatenated)\n",
    "lunch_prediction = layers.Dense(1, name='lunch_target')(lunch_dense)\n",
    "\n",
    "dinner_dense = layers.Dense(16, activation='relu')(concatenated)\n",
    "dinner_prediction = layers.Dense(1, name='dinner_target')(dinner_dense)\n",
    "\n",
    "model = Model([morning_input, lunch_input, dinner_input, other_input], \n",
    "              [lunch_prediction, dinner_prediction])\n",
    "\n",
    "model.summary()"
   ]
  },
  {
   "cell_type": "code",
   "execution_count": 138,
   "metadata": {
    "colab": {
     "base_uri": "https://localhost:8080/"
    },
    "id": "B4MSbIlEhjvG",
    "outputId": "93b41182-df75-4053-ff0a-12201f1f08fb"
   },
   "outputs": [
    {
     "name": "stdout",
     "output_type": "stream",
     "text": [
      "Epoch 1/200\n",
      "13/13 - 12s - loss: 1384.0021 - lunch_target_loss: 904.7699 - dinner_target_loss: 479.2322 - lunch_target_mse: 859086.1875 - dinner_target_mse: 247434.2188 - val_loss: 1262.5538 - val_lunch_target_loss: 835.3768 - val_dinner_target_loss: 427.1770 - val_lunch_target_mse: 746256.5625 - val_dinner_target_mse: 206316.3750\n",
      "Epoch 2/200\n",
      "13/13 - 1s - loss: 1382.0396 - lunch_target_loss: 903.9740 - dinner_target_loss: 478.0656 - lunch_target_mse: 857682.0625 - dinner_target_mse: 246248.5000 - val_loss: 1259.2729 - val_lunch_target_loss: 833.9585 - val_dinner_target_loss: 425.3144 - val_lunch_target_mse: 743930.7500 - val_dinner_target_mse: 204599.7031\n",
      "Epoch 3/200\n",
      "13/13 - 1s - loss: 1376.5132 - lunch_target_loss: 901.6282 - dinner_target_loss: 474.8850 - lunch_target_mse: 853489.7500 - dinner_target_mse: 243003.8750 - val_loss: 1250.4756 - val_lunch_target_loss: 830.1613 - val_dinner_target_loss: 420.3143 - val_lunch_target_mse: 737639.7500 - val_dinner_target_mse: 200017.9844\n",
      "Epoch 4/200\n",
      "13/13 - 1s - loss: 1365.0151 - lunch_target_loss: 896.6611 - dinner_target_loss: 468.3540 - lunch_target_mse: 844551.6250 - dinner_target_mse: 236434.7031 - val_loss: 1237.9918 - val_lunch_target_loss: 824.6236 - val_dinner_target_loss: 413.3680 - val_lunch_target_mse: 728517.2500 - val_dinner_target_mse: 193735.2188\n",
      "Epoch 5/200\n",
      "13/13 - 1s - loss: 1353.6658 - lunch_target_loss: 891.6481 - dinner_target_loss: 462.0178 - lunch_target_mse: 835666.8750 - dinner_target_mse: 230135.0781 - val_loss: 1228.4636 - val_lunch_target_loss: 820.3470 - val_dinner_target_loss: 408.1166 - val_lunch_target_mse: 721547.7500 - val_dinner_target_mse: 189057.9219\n",
      "Epoch 6/200\n",
      "13/13 - 1s - loss: 1344.9498 - lunch_target_loss: 887.7548 - dinner_target_loss: 457.1951 - lunch_target_mse: 828765.6875 - dinner_target_mse: 225393.1875 - val_loss: 1220.4965 - val_lunch_target_loss: 816.7416 - val_dinner_target_loss: 403.7548 - val_lunch_target_mse: 715710.6250 - val_dinner_target_mse: 185233.2188\n",
      "Epoch 7/200\n",
      "13/13 - 1s - loss: 1337.1301 - lunch_target_loss: 884.2448 - dinner_target_loss: 452.8855 - lunch_target_mse: 822587.9375 - dinner_target_mse: 221211.8125 - val_loss: 1212.9142 - val_lunch_target_loss: 813.2896 - val_dinner_target_loss: 399.6245 - val_lunch_target_mse: 710151.1250 - val_dinner_target_mse: 181661.9844\n",
      "Epoch 8/200\n",
      "13/13 - 1s - loss: 1329.4766 - lunch_target_loss: 880.7731 - dinner_target_loss: 448.7036 - lunch_target_mse: 816504.8750 - dinner_target_mse: 217192.2656 - val_loss: 1205.3645 - val_lunch_target_loss: 809.8276 - val_dinner_target_loss: 395.5368 - val_lunch_target_mse: 704604.0625 - val_dinner_target_mse: 178182.2656\n",
      "Epoch 9/200\n",
      "13/13 - 1s - loss: 1321.7042 - lunch_target_loss: 877.2405 - dinner_target_loss: 444.4638 - lunch_target_mse: 810322.0000 - dinner_target_mse: 213159.9219 - val_loss: 1197.6454 - val_lunch_target_loss: 806.2787 - val_dinner_target_loss: 391.3668 - val_lunch_target_mse: 698944.0000 - val_dinner_target_mse: 174673.2031\n",
      "Epoch 10/200\n",
      "13/13 - 1s - loss: 1313.7251 - lunch_target_loss: 873.5886 - dinner_target_loss: 440.1364 - lunch_target_mse: 804004.3750 - dinner_target_mse: 209103.8125 - val_loss: 1189.7219 - val_lunch_target_loss: 802.6127 - val_dinner_target_loss: 387.1091 - val_lunch_target_mse: 693128.9375 - val_dinner_target_mse: 171143.7656\n",
      "Epoch 11/200\n",
      "13/13 - 1s - loss: 1305.4570 - lunch_target_loss: 869.7880 - dinner_target_loss: 435.6691 - lunch_target_mse: 797457.3750 - dinner_target_mse: 204972.8125 - val_loss: 1181.4644 - val_lunch_target_loss: 798.7982 - val_dinner_target_loss: 382.6661 - val_lunch_target_mse: 687110.8125 - val_dinner_target_mse: 167508.1562\n",
      "Epoch 12/200\n",
      "13/13 - 1s - loss: 1296.8300 - lunch_target_loss: 865.8287 - dinner_target_loss: 431.0014 - lunch_target_mse: 790652.1875 - dinner_target_mse: 200712.0000 - val_loss: 1172.9022 - val_lunch_target_loss: 794.8418 - val_dinner_target_loss: 378.0603 - val_lunch_target_mse: 680901.1875 - val_dinner_target_mse: 163794.1562\n",
      "Epoch 13/200\n",
      "13/13 - 1s - loss: 1287.8846 - lunch_target_loss: 861.7108 - dinner_target_loss: 426.1737 - lunch_target_mse: 783594.5000 - dinner_target_mse: 196326.5938 - val_loss: 1164.0303 - val_lunch_target_loss: 790.7277 - val_dinner_target_loss: 373.3027 - val_lunch_target_mse: 674480.0000 - val_dinner_target_mse: 160014.2812\n",
      "Epoch 14/200\n",
      "13/13 - 1s - loss: 1278.5604 - lunch_target_loss: 857.4105 - dinner_target_loss: 421.1498 - lunch_target_mse: 776294.2500 - dinner_target_mse: 191846.2656 - val_loss: 1154.8021 - val_lunch_target_loss: 786.4453 - val_dinner_target_loss: 368.3568 - val_lunch_target_mse: 667835.2500 - val_dinner_target_mse: 156144.3906\n",
      "Epoch 15/200\n",
      "13/13 - 1s - loss: 1268.8529 - lunch_target_loss: 852.9275 - dinner_target_loss: 415.9254 - lunch_target_mse: 768713.7500 - dinner_target_mse: 187244.6875 - val_loss: 1145.2080 - val_lunch_target_loss: 781.9879 - val_dinner_target_loss: 363.2201 - val_lunch_target_mse: 660962.4375 - val_dinner_target_mse: 152186.6250\n",
      "Epoch 16/200\n",
      "13/13 - 1s - loss: 1258.7590 - lunch_target_loss: 848.2609 - dinner_target_loss: 410.4981 - lunch_target_mse: 760847.2500 - dinner_target_mse: 182536.7031 - val_loss: 1135.2640 - val_lunch_target_loss: 777.3655 - val_dinner_target_loss: 357.8986 - val_lunch_target_mse: 653878.7500 - val_dinner_target_mse: 148151.7031\n",
      "Epoch 17/200\n",
      "13/13 - 1s - loss: 1248.2448 - lunch_target_loss: 843.4001 - dinner_target_loss: 404.8445 - lunch_target_mse: 752790.5625 - dinner_target_mse: 177732.2188 - val_loss: 1124.9132 - val_lunch_target_loss: 772.5504 - val_dinner_target_loss: 352.3628 - val_lunch_target_mse: 646552.9375 - val_dinner_target_mse: 144028.2656\n",
      "Epoch 18/200\n",
      "13/13 - 1s - loss: 1237.3534 - lunch_target_loss: 838.3348 - dinner_target_loss: 399.0184 - lunch_target_mse: 744370.6250 - dinner_target_mse: 172804.9062 - val_loss: 1114.2649 - val_lunch_target_loss: 767.5765 - val_dinner_target_loss: 346.6883 - val_lunch_target_mse: 639034.6875 - val_dinner_target_mse: 139877.8125\n",
      "Epoch 19/200\n",
      "13/13 - 1s - loss: 1226.0386 - lunch_target_loss: 833.0950 - dinner_target_loss: 392.9436 - lunch_target_mse: 735703.6875 - dinner_target_mse: 167792.4062 - val_loss: 1103.1602 - val_lunch_target_loss: 762.4319 - val_dinner_target_loss: 340.7282 - val_lunch_target_mse: 631316.3750 - val_dinner_target_mse: 135623.8125\n",
      "Epoch 20/200\n",
      "13/13 - 1s - loss: 1214.3209 - lunch_target_loss: 827.6594 - dinner_target_loss: 386.6614 - lunch_target_mse: 726829.5000 - dinner_target_mse: 162684.8594 - val_loss: 1091.7373 - val_lunch_target_loss: 757.1278 - val_dinner_target_loss: 334.6095 - val_lunch_target_mse: 623412.9375 - val_dinner_target_mse: 131342.0312\n",
      "Epoch 21/200\n",
      "13/13 - 1s - loss: 1202.1959 - lunch_target_loss: 822.0613 - dinner_target_loss: 380.1348 - lunch_target_mse: 717712.3750 - dinner_target_mse: 157472.7500 - val_loss: 1079.8765 - val_lunch_target_loss: 751.7028 - val_dinner_target_loss: 328.1737 - val_lunch_target_mse: 615401.1875 - val_dinner_target_mse: 127000.4609\n",
      "Epoch 22/200\n",
      "13/13 - 1s - loss: 1189.6034 - lunch_target_loss: 816.3157 - dinner_target_loss: 373.2877 - lunch_target_mse: 708427.6250 - dinner_target_mse: 152224.8594 - val_loss: 1067.5825 - val_lunch_target_loss: 746.2275 - val_dinner_target_loss: 321.3550 - val_lunch_target_mse: 607392.9375 - val_dinner_target_mse: 122566.4219\n",
      "Epoch 23/200\n",
      "13/13 - 1s - loss: 1176.5597 - lunch_target_loss: 810.4531 - dinner_target_loss: 366.1068 - lunch_target_mse: 699064.7500 - dinner_target_mse: 146852.9844 - val_loss: 1054.9856 - val_lunch_target_loss: 740.7001 - val_dinner_target_loss: 314.2855 - val_lunch_target_mse: 599415.3125 - val_dinner_target_mse: 118116.3438\n",
      "Epoch 24/200\n",
      "13/13 - 1s - loss: 1163.0752 - lunch_target_loss: 804.2946 - dinner_target_loss: 358.7806 - lunch_target_mse: 689260.9375 - dinner_target_mse: 141417.4531 - val_loss: 1041.9420 - val_lunch_target_loss: 734.8045 - val_dinner_target_loss: 307.1375 - val_lunch_target_mse: 590935.6250 - val_dinner_target_mse: 113597.8672\n",
      "Epoch 25/200\n",
      "13/13 - 1s - loss: 1149.1359 - lunch_target_loss: 797.9496 - dinner_target_loss: 351.1862 - lunch_target_mse: 679302.5000 - dinner_target_mse: 135915.0000 - val_loss: 1028.7104 - val_lunch_target_loss: 728.7601 - val_dinner_target_loss: 299.9503 - val_lunch_target_mse: 582310.8125 - val_dinner_target_mse: 109094.1875\n",
      "Epoch 26/200\n",
      "13/13 - 1s - loss: 1134.8198 - lunch_target_loss: 791.5221 - dinner_target_loss: 343.2977 - lunch_target_mse: 669264.1875 - dinner_target_mse: 130386.9375 - val_loss: 1015.1551 - val_lunch_target_loss: 722.5779 - val_dinner_target_loss: 292.5771 - val_lunch_target_mse: 573572.8125 - val_dinner_target_mse: 104588.6016\n",
      "Epoch 27/200\n",
      "13/13 - 1s - loss: 1120.0337 - lunch_target_loss: 784.8165 - dinner_target_loss: 335.2172 - lunch_target_mse: 658897.5625 - dinner_target_mse: 124876.8672 - val_loss: 1001.2249 - val_lunch_target_loss: 716.1540 - val_dinner_target_loss: 285.0708 - val_lunch_target_mse: 564588.7500 - val_dinner_target_mse: 100083.8438\n",
      "Epoch 28/200\n",
      "13/13 - 1s - loss: 1104.8439 - lunch_target_loss: 777.7760 - dinner_target_loss: 327.0679 - lunch_target_mse: 648140.1875 - dinner_target_mse: 119265.3594 - val_loss: 986.9064 - val_lunch_target_loss: 709.5029 - val_dinner_target_loss: 277.4036 - val_lunch_target_mse: 555384.1875 - val_dinner_target_mse: 95592.6328\n",
      "Epoch 29/200\n",
      "13/13 - 1s - loss: 1089.1840 - lunch_target_loss: 770.6149 - dinner_target_loss: 318.5691 - lunch_target_mse: 637194.5625 - dinner_target_mse: 113685.9922 - val_loss: 972.2166 - val_lunch_target_loss: 702.6285 - val_dinner_target_loss: 269.5881 - val_lunch_target_mse: 545969.3750 - val_dinner_target_mse: 91118.4922\n",
      "Epoch 30/200\n",
      "13/13 - 1s - loss: 1073.1356 - lunch_target_loss: 763.1318 - dinner_target_loss: 310.0038 - lunch_target_mse: 626057.6875 - dinner_target_mse: 108127.5938 - val_loss: 957.1404 - val_lunch_target_loss: 695.5058 - val_dinner_target_loss: 261.6346 - val_lunch_target_mse: 536325.6250 - val_dinner_target_mse: 86694.0312\n",
      "Epoch 31/200\n",
      "13/13 - 1s - loss: 1056.6594 - lunch_target_loss: 755.3710 - dinner_target_loss: 301.2885 - lunch_target_mse: 614487.0625 - dinner_target_mse: 102580.0469 - val_loss: 941.7210 - val_lunch_target_loss: 688.2516 - val_dinner_target_loss: 253.4694 - val_lunch_target_mse: 526611.5000 - val_dinner_target_mse: 82320.8516\n",
      "Epoch 32/200\n",
      "13/13 - 1s - loss: 1039.6497 - lunch_target_loss: 747.4630 - dinner_target_loss: 292.1866 - lunch_target_mse: 602884.7500 - dinner_target_mse: 97041.2734 - val_loss: 925.7951 - val_lunch_target_loss: 680.7260 - val_dinner_target_loss: 245.0690 - val_lunch_target_mse: 516657.3750 - val_dinner_target_mse: 77929.9766\n",
      "Epoch 33/200\n",
      "13/13 - 1s - loss: 1022.2396 - lunch_target_loss: 739.2725 - dinner_target_loss: 282.9670 - lunch_target_mse: 590963.8125 - dinner_target_mse: 91503.6484 - val_loss: 909.7594 - val_lunch_target_loss: 673.0653 - val_dinner_target_loss: 236.6940 - val_lunch_target_mse: 506656.8125 - val_dinner_target_mse: 73663.0469\n",
      "Epoch 34/200\n",
      "13/13 - 1s - loss: 1004.3290 - lunch_target_loss: 730.8789 - dinner_target_loss: 273.4502 - lunch_target_mse: 578950.9375 - dinner_target_mse: 86073.1719 - val_loss: 893.3511 - val_lunch_target_loss: 665.1818 - val_dinner_target_loss: 228.1693 - val_lunch_target_mse: 496499.5312 - val_dinner_target_mse: 69443.0625\n",
      "Epoch 35/200\n",
      "13/13 - 1s - loss: 985.9675 - lunch_target_loss: 722.2318 - dinner_target_loss: 263.7357 - lunch_target_mse: 566757.5625 - dinner_target_mse: 80709.4531 - val_loss: 876.5857 - val_lunch_target_loss: 657.0857 - val_dinner_target_loss: 219.5000 - val_lunch_target_mse: 486209.2500 - val_dinner_target_mse: 65311.0039\n",
      "Epoch 36/200\n",
      "13/13 - 1s - loss: 967.1873 - lunch_target_loss: 713.3669 - dinner_target_loss: 253.8204 - lunch_target_mse: 554281.8125 - dinner_target_mse: 75376.7656 - val_loss: 859.6329 - val_lunch_target_loss: 648.8187 - val_dinner_target_loss: 210.8141 - val_lunch_target_mse: 475844.4688 - val_dinner_target_mse: 61293.1055\n",
      "Epoch 37/200\n",
      "13/13 - 1s - loss: 947.9803 - lunch_target_loss: 704.2903 - dinner_target_loss: 243.6899 - lunch_target_mse: 541789.4375 - dinner_target_mse: 70192.7031 - val_loss: 842.3495 - val_lunch_target_loss: 640.4105 - val_dinner_target_loss: 201.9390 - val_lunch_target_mse: 465466.7188 - val_dinner_target_mse: 57391.2109\n",
      "Epoch 38/200\n",
      "13/13 - 1s - loss: 928.2823 - lunch_target_loss: 694.9443 - dinner_target_loss: 233.3381 - lunch_target_mse: 529128.8750 - dinner_target_mse: 65118.7891 - val_loss: 824.6965 - val_lunch_target_loss: 631.7415 - val_dinner_target_loss: 192.9550 - val_lunch_target_mse: 454921.4375 - val_dinner_target_mse: 53616.6484\n",
      "Epoch 39/200\n",
      "13/13 - 1s - loss: 908.1951 - lunch_target_loss: 685.4101 - dinner_target_loss: 222.7850 - lunch_target_mse: 516277.5938 - dinner_target_mse: 60191.5859 - val_loss: 806.9424 - val_lunch_target_loss: 622.9224 - val_dinner_target_loss: 184.0201 - val_lunch_target_mse: 444363.3750 - val_dinner_target_mse: 49992.5781\n",
      "Epoch 40/200\n",
      "13/13 - 1s - loss: 887.6934 - lunch_target_loss: 675.5994 - dinner_target_loss: 212.0938 - lunch_target_mse: 503363.1250 - dinner_target_mse: 55360.6016 - val_loss: 789.2941 - val_lunch_target_loss: 613.9164 - val_dinner_target_loss: 175.3776 - val_lunch_target_mse: 433756.5938 - val_dinner_target_mse: 46524.5742\n",
      "Epoch 41/200\n",
      "13/13 - 1s - loss: 866.7056 - lunch_target_loss: 665.5653 - dinner_target_loss: 201.1403 - lunch_target_mse: 490336.1875 - dinner_target_mse: 50787.7500 - val_loss: 772.1545 - val_lunch_target_loss: 604.6965 - val_dinner_target_loss: 167.4579 - val_lunch_target_mse: 423083.6250 - val_dinner_target_mse: 43221.3594\n",
      "Epoch 42/200\n",
      "13/13 - 1s - loss: 845.2232 - lunch_target_loss: 655.2633 - dinner_target_loss: 189.9597 - lunch_target_mse: 477265.4688 - dinner_target_mse: 46352.2305 - val_loss: 755.1844 - val_lunch_target_loss: 595.2626 - val_dinner_target_loss: 159.9218 - val_lunch_target_mse: 412362.1875 - val_dinner_target_mse: 40116.9688\n",
      "Epoch 43/200\n",
      "13/13 - 1s - loss: 823.6544 - lunch_target_loss: 644.7294 - dinner_target_loss: 178.9249 - lunch_target_mse: 464081.6250 - dinner_target_mse: 42153.8789 - val_loss: 738.9814 - val_lunch_target_loss: 585.6956 - val_dinner_target_loss: 153.2858 - val_lunch_target_mse: 401681.0000 - val_dinner_target_mse: 37259.7188\n",
      "Epoch 44/200\n",
      "13/13 - 1s - loss: 801.9277 - lunch_target_loss: 633.9504 - dinner_target_loss: 167.9772 - lunch_target_mse: 450712.3125 - dinner_target_mse: 38182.6367 - val_loss: 723.8647 - val_lunch_target_loss: 575.8735 - val_dinner_target_loss: 147.9913 - val_lunch_target_mse: 390910.7188 - val_dinner_target_mse: 34590.9219\n",
      "Epoch 45/200\n",
      "13/13 - 1s - loss: 780.2488 - lunch_target_loss: 622.9338 - dinner_target_loss: 157.3149 - lunch_target_mse: 437410.0938 - dinner_target_mse: 34497.0508 - val_loss: 710.4007 - val_lunch_target_loss: 566.1536 - val_dinner_target_loss: 144.2471 - val_lunch_target_mse: 380569.5938 - val_dinner_target_mse: 32258.2344\n",
      "Epoch 46/200\n",
      "13/13 - 1s - loss: 758.9451 - lunch_target_loss: 611.7167 - dinner_target_loss: 147.2284 - lunch_target_mse: 424044.4688 - dinner_target_mse: 31105.1973 - val_loss: 696.7944 - val_lunch_target_loss: 556.2723 - val_dinner_target_loss: 140.5221 - val_lunch_target_mse: 370144.7500 - val_dinner_target_mse: 29985.4941\n",
      "Epoch 47/200\n",
      "13/13 - 1s - loss: 737.9076 - lunch_target_loss: 600.2407 - dinner_target_loss: 137.6669 - lunch_target_mse: 410626.5312 - dinner_target_mse: 28019.2246 - val_loss: 683.6573 - val_lunch_target_loss: 546.2040 - val_dinner_target_loss: 137.4533 - val_lunch_target_mse: 359896.4062 - val_dinner_target_mse: 28252.4453\n",
      "Epoch 48/200\n",
      "13/13 - 1s - loss: 717.3536 - lunch_target_loss: 588.5345 - dinner_target_loss: 128.8190 - lunch_target_mse: 397245.5938 - dinner_target_mse: 25211.6367 - val_loss: 670.6028 - val_lunch_target_loss: 535.9126 - val_dinner_target_loss: 134.6902 - val_lunch_target_mse: 349612.7500 - val_dinner_target_mse: 26784.5371\n",
      "Epoch 49/200\n",
      "13/13 - 1s - loss: 697.4810 - lunch_target_loss: 576.6375 - dinner_target_loss: 120.8435 - lunch_target_mse: 384024.8750 - dinner_target_mse: 22786.5234 - val_loss: 658.3765 - val_lunch_target_loss: 525.6205 - val_dinner_target_loss: 132.7560 - val_lunch_target_mse: 339477.0312 - val_dinner_target_mse: 25565.6777\n",
      "Epoch 50/200\n",
      "13/13 - 1s - loss: 678.2774 - lunch_target_loss: 564.4266 - dinner_target_loss: 113.8508 - lunch_target_mse: 370737.3125 - dinner_target_mse: 20647.9375 - val_loss: 647.8732 - val_lunch_target_loss: 515.8422 - val_dinner_target_loss: 132.0311 - val_lunch_target_mse: 329974.8750 - val_dinner_target_mse: 24985.3379\n",
      "Epoch 51/200\n",
      "13/13 - 1s - loss: 660.0881 - lunch_target_loss: 552.1190 - dinner_target_loss: 107.9691 - lunch_target_mse: 357500.6875 - dinner_target_mse: 18930.7520 - val_loss: 636.2191 - val_lunch_target_loss: 505.6056 - val_dinner_target_loss: 130.6135 - val_lunch_target_mse: 320083.3750 - val_dinner_target_mse: 24336.0898\n",
      "Epoch 52/200\n",
      "13/13 - 1s - loss: 642.7740 - lunch_target_loss: 539.5688 - dinner_target_loss: 103.2052 - lunch_target_mse: 344184.3125 - dinner_target_mse: 17400.7305 - val_loss: 624.5418 - val_lunch_target_loss: 495.1981 - val_dinner_target_loss: 129.3437 - val_lunch_target_mse: 310138.1250 - val_dinner_target_mse: 23767.2227\n",
      "Epoch 53/200\n",
      "13/13 - 1s - loss: 625.9094 - lunch_target_loss: 526.7244 - dinner_target_loss: 99.1850 - lunch_target_mse: 331098.2500 - dinner_target_mse: 16190.4678 - val_loss: 611.8010 - val_lunch_target_loss: 484.1936 - val_dinner_target_loss: 127.6074 - val_lunch_target_mse: 299834.5312 - val_dinner_target_mse: 23200.2383\n",
      "Epoch 54/200\n",
      "13/13 - 1s - loss: 609.5629 - lunch_target_loss: 513.6415 - dinner_target_loss: 95.9213 - lunch_target_mse: 317961.5938 - dinner_target_mse: 15269.4316 - val_loss: 598.9648 - val_lunch_target_loss: 473.0810 - val_dinner_target_loss: 125.8838 - val_lunch_target_mse: 289699.3750 - val_dinner_target_mse: 22701.7422\n",
      "Epoch 55/200\n",
      "13/13 - 1s - loss: 593.7181 - lunch_target_loss: 500.3619 - dinner_target_loss: 93.3563 - lunch_target_mse: 304933.6875 - dinner_target_mse: 14477.1191 - val_loss: 586.0806 - val_lunch_target_loss: 461.7659 - val_dinner_target_loss: 124.3148 - val_lunch_target_mse: 279533.0938 - val_dinner_target_mse: 22268.4082\n",
      "Epoch 56/200\n",
      "13/13 - 1s - loss: 578.1368 - lunch_target_loss: 486.8090 - dinner_target_loss: 91.3277 - lunch_target_mse: 292243.0312 - dinner_target_mse: 13880.8867 - val_loss: 572.9559 - val_lunch_target_loss: 450.3779 - val_dinner_target_loss: 122.5780 - val_lunch_target_mse: 269487.0938 - val_dinner_target_mse: 21813.7305\n",
      "Epoch 57/200\n",
      "13/13 - 1s - loss: 563.0551 - lunch_target_loss: 473.2689 - dinner_target_loss: 89.7862 - lunch_target_mse: 279592.3750 - dinner_target_mse: 13469.4658 - val_loss: 559.4009 - val_lunch_target_loss: 438.3735 - val_dinner_target_loss: 121.0274 - val_lunch_target_mse: 259115.7656 - val_dinner_target_mse: 21416.1543\n",
      "Epoch 58/200\n",
      "13/13 - 1s - loss: 547.8642 - lunch_target_loss: 459.4073 - dinner_target_loss: 88.4570 - lunch_target_mse: 266922.7812 - dinner_target_mse: 13083.5771 - val_loss: 546.7914 - val_lunch_target_loss: 427.0080 - val_dinner_target_loss: 119.7833 - val_lunch_target_mse: 249368.7031 - val_dinner_target_mse: 21144.6602\n",
      "Epoch 59/200\n",
      "13/13 - 1s - loss: 532.9933 - lunch_target_loss: 445.5575 - dinner_target_loss: 87.4358 - lunch_target_mse: 254765.0156 - dinner_target_mse: 12781.8301 - val_loss: 534.5200 - val_lunch_target_loss: 416.0152 - val_dinner_target_loss: 118.5048 - val_lunch_target_mse: 239798.5781 - val_dinner_target_mse: 20846.4395\n",
      "Epoch 60/200\n",
      "13/13 - 1s - loss: 518.2547 - lunch_target_loss: 431.7273 - dinner_target_loss: 86.5273 - lunch_target_mse: 242644.9375 - dinner_target_mse: 12542.8203 - val_loss: 522.6169 - val_lunch_target_loss: 405.2114 - val_dinner_target_loss: 117.4056 - val_lunch_target_mse: 230368.9219 - val_dinner_target_mse: 20522.1016\n",
      "Epoch 61/200\n",
      "13/13 - 1s - loss: 503.5044 - lunch_target_loss: 417.8510 - dinner_target_loss: 85.6535 - lunch_target_mse: 230869.7344 - dinner_target_mse: 12345.3320 - val_loss: 511.0116 - val_lunch_target_loss: 394.6554 - val_dinner_target_loss: 116.3562 - val_lunch_target_mse: 221109.2344 - val_dinner_target_mse: 20280.2266\n",
      "Epoch 62/200\n",
      "13/13 - 1s - loss: 488.9957 - lunch_target_loss: 404.2245 - dinner_target_loss: 84.7712 - lunch_target_mse: 219239.7344 - dinner_target_mse: 12115.0029 - val_loss: 501.1068 - val_lunch_target_loss: 385.0879 - val_dinner_target_loss: 116.0188 - val_lunch_target_mse: 212840.1250 - val_dinner_target_mse: 20304.6797\n",
      "Epoch 63/200\n",
      "13/13 - 1s - loss: 474.7314 - lunch_target_loss: 390.8434 - dinner_target_loss: 83.8880 - lunch_target_mse: 208078.0781 - dinner_target_mse: 11923.0146 - val_loss: 490.8662 - val_lunch_target_loss: 375.2605 - val_dinner_target_loss: 115.6057 - val_lunch_target_mse: 204430.4062 - val_dinner_target_mse: 20358.4727\n",
      "Epoch 64/200\n",
      "13/13 - 1s - loss: 460.5392 - lunch_target_loss: 377.5516 - dinner_target_loss: 82.9876 - lunch_target_mse: 197108.2812 - dinner_target_mse: 11727.2334 - val_loss: 479.9414 - val_lunch_target_loss: 365.3142 - val_dinner_target_loss: 114.6272 - val_lunch_target_mse: 195894.8125 - val_dinner_target_mse: 20109.5723\n",
      "Epoch 65/200\n",
      "13/13 - 1s - loss: 446.9315 - lunch_target_loss: 364.9102 - dinner_target_loss: 82.0212 - lunch_target_mse: 186576.0625 - dinner_target_mse: 11510.2070 - val_loss: 469.0375 - val_lunch_target_loss: 355.5709 - val_dinner_target_loss: 113.4666 - val_lunch_target_mse: 187606.3125 - val_dinner_target_mse: 19779.3223\n",
      "Epoch 66/200\n",
      "13/13 - 1s - loss: 433.7941 - lunch_target_loss: 352.6844 - dinner_target_loss: 81.1097 - lunch_target_mse: 176548.5156 - dinner_target_mse: 11294.6650 - val_loss: 458.1692 - val_lunch_target_loss: 345.8806 - val_dinner_target_loss: 112.2886 - val_lunch_target_mse: 179416.2656 - val_dinner_target_mse: 19433.2031\n",
      "Epoch 67/200\n",
      "13/13 - 1s - loss: 420.7490 - lunch_target_loss: 340.5139 - dinner_target_loss: 80.2351 - lunch_target_mse: 166752.2188 - dinner_target_mse: 11124.0098 - val_loss: 447.2447 - val_lunch_target_loss: 336.0698 - val_dinner_target_loss: 111.1749 - val_lunch_target_mse: 171218.2344 - val_dinner_target_mse: 19119.4668\n",
      "Epoch 68/200\n",
      "13/13 - 1s - loss: 407.8861 - lunch_target_loss: 328.5304 - dinner_target_loss: 79.3558 - lunch_target_mse: 157136.2188 - dinner_target_mse: 10910.6650 - val_loss: 436.7445 - val_lunch_target_loss: 326.8760 - val_dinner_target_loss: 109.8685 - val_lunch_target_mse: 163403.5781 - val_dinner_target_mse: 18753.5801\n",
      "Epoch 69/200\n",
      "13/13 - 1s - loss: 395.6783 - lunch_target_loss: 317.1498 - dinner_target_loss: 78.5284 - lunch_target_mse: 148031.5625 - dinner_target_mse: 10714.9521 - val_loss: 426.5594 - val_lunch_target_loss: 317.9737 - val_dinner_target_loss: 108.5857 - val_lunch_target_mse: 155985.7656 - val_dinner_target_mse: 18374.7832\n",
      "Epoch 70/200\n",
      "13/13 - 1s - loss: 383.8386 - lunch_target_loss: 306.1356 - dinner_target_loss: 77.7030 - lunch_target_mse: 139442.8125 - dinner_target_mse: 10537.8086 - val_loss: 416.5882 - val_lunch_target_loss: 309.4608 - val_dinner_target_loss: 107.1274 - val_lunch_target_mse: 148614.4844 - val_dinner_target_mse: 17941.1465\n",
      "Epoch 71/200\n",
      "13/13 - 1s - loss: 372.1277 - lunch_target_loss: 295.3361 - dinner_target_loss: 76.7916 - lunch_target_mse: 131231.1406 - dinner_target_mse: 10330.5322 - val_loss: 407.1559 - val_lunch_target_loss: 301.4487 - val_dinner_target_loss: 105.7073 - val_lunch_target_mse: 141451.3125 - val_dinner_target_mse: 17562.6113\n",
      "Epoch 72/200\n",
      "13/13 - 1s - loss: 360.8001 - lunch_target_loss: 284.8192 - dinner_target_loss: 75.9810 - lunch_target_mse: 123359.9297 - dinner_target_mse: 10148.7393 - val_loss: 398.2393 - val_lunch_target_loss: 294.1160 - val_dinner_target_loss: 104.1234 - val_lunch_target_mse: 135098.6406 - val_dinner_target_mse: 17067.4258\n",
      "Epoch 73/200\n",
      "13/13 - 1s - loss: 350.2210 - lunch_target_loss: 275.1394 - dinner_target_loss: 75.0816 - lunch_target_mse: 116187.6406 - dinner_target_mse: 9964.8281 - val_loss: 390.2228 - val_lunch_target_loss: 287.2395 - val_dinner_target_loss: 102.9833 - val_lunch_target_mse: 129124.6016 - val_dinner_target_mse: 16748.1113\n",
      "Epoch 74/200\n",
      "13/13 - 1s - loss: 340.0274 - lunch_target_loss: 265.7835 - dinner_target_loss: 74.2439 - lunch_target_mse: 109516.0703 - dinner_target_mse: 9770.7549 - val_loss: 382.6519 - val_lunch_target_loss: 280.6604 - val_dinner_target_loss: 101.9915 - val_lunch_target_mse: 123340.3281 - val_dinner_target_mse: 16496.8945\n",
      "Epoch 75/200\n",
      "13/13 - 1s - loss: 330.5056 - lunch_target_loss: 257.0721 - dinner_target_loss: 73.4335 - lunch_target_mse: 103326.3281 - dinner_target_mse: 9596.7852 - val_loss: 375.5946 - val_lunch_target_loss: 274.4622 - val_dinner_target_loss: 101.1323 - val_lunch_target_mse: 118094.4219 - val_dinner_target_mse: 16268.8096\n",
      "Epoch 76/200\n",
      "13/13 - 1s - loss: 321.7061 - lunch_target_loss: 249.0546 - dinner_target_loss: 72.6515 - lunch_target_mse: 97461.5625 - dinner_target_mse: 9419.5713 - val_loss: 368.7412 - val_lunch_target_loss: 268.3860 - val_dinner_target_loss: 100.3552 - val_lunch_target_mse: 112911.6094 - val_dinner_target_mse: 15961.1504\n",
      "Epoch 77/200\n",
      "13/13 - 1s - loss: 313.5951 - lunch_target_loss: 241.6848 - dinner_target_loss: 71.9103 - lunch_target_mse: 92438.6562 - dinner_target_mse: 9248.3369 - val_loss: 362.9261 - val_lunch_target_loss: 263.4735 - val_dinner_target_loss: 99.4526 - val_lunch_target_mse: 108193.4062 - val_dinner_target_mse: 15595.6562\n",
      "Epoch 78/200\n",
      "13/13 - 1s - loss: 306.3531 - lunch_target_loss: 235.0397 - dinner_target_loss: 71.3134 - lunch_target_mse: 87724.2891 - dinner_target_mse: 9140.2803 - val_loss: 357.7267 - val_lunch_target_loss: 258.4781 - val_dinner_target_loss: 99.2485 - val_lunch_target_mse: 103618.5625 - val_dinner_target_mse: 15482.6396\n",
      "Epoch 79/200\n",
      "13/13 - 1s - loss: 299.8061 - lunch_target_loss: 228.9611 - dinner_target_loss: 70.8450 - lunch_target_mse: 83270.9922 - dinner_target_mse: 9028.6621 - val_loss: 352.7164 - val_lunch_target_loss: 253.6293 - val_dinner_target_loss: 99.0871 - val_lunch_target_mse: 99485.6484 - val_dinner_target_mse: 15409.4902\n",
      "Epoch 80/200\n",
      "13/13 - 1s - loss: 294.1331 - lunch_target_loss: 223.7224 - dinner_target_loss: 70.4107 - lunch_target_mse: 79420.3125 - dinner_target_mse: 8954.4180 - val_loss: 347.7986 - val_lunch_target_loss: 249.3910 - val_dinner_target_loss: 98.4077 - val_lunch_target_mse: 96014.0391 - val_dinner_target_mse: 15163.5400\n",
      "Epoch 81/200\n",
      "13/13 - 1s - loss: 289.2874 - lunch_target_loss: 219.3829 - dinner_target_loss: 69.9045 - lunch_target_mse: 76296.2812 - dinner_target_mse: 8876.4697 - val_loss: 343.4141 - val_lunch_target_loss: 245.0601 - val_dinner_target_loss: 98.3540 - val_lunch_target_mse: 92605.6016 - val_dinner_target_mse: 15157.3076\n",
      "Epoch 82/200\n",
      "13/13 - 1s - loss: 284.6503 - lunch_target_loss: 215.1978 - dinner_target_loss: 69.4524 - lunch_target_mse: 73325.9844 - dinner_target_mse: 8844.2471 - val_loss: 339.1017 - val_lunch_target_loss: 241.1260 - val_dinner_target_loss: 97.9758 - val_lunch_target_mse: 89468.7969 - val_dinner_target_mse: 15099.7305\n",
      "Epoch 83/200\n",
      "13/13 - 1s - loss: 280.5958 - lunch_target_loss: 211.8175 - dinner_target_loss: 68.7783 - lunch_target_mse: 70637.5234 - dinner_target_mse: 8750.1953 - val_loss: 335.1412 - val_lunch_target_loss: 238.0089 - val_dinner_target_loss: 97.1323 - val_lunch_target_mse: 87032.7422 - val_dinner_target_mse: 14873.2803\n",
      "Epoch 84/200\n",
      "13/13 - 1s - loss: 277.2256 - lunch_target_loss: 208.7849 - dinner_target_loss: 68.4407 - lunch_target_mse: 68567.4375 - dinner_target_mse: 8712.1602 - val_loss: 332.4884 - val_lunch_target_loss: 234.9065 - val_dinner_target_loss: 97.5819 - val_lunch_target_mse: 84417.3516 - val_dinner_target_mse: 15069.2598\n",
      "Epoch 85/200\n",
      "13/13 - 1s - loss: 273.6452 - lunch_target_loss: 205.7056 - dinner_target_loss: 67.9397 - lunch_target_mse: 66301.6016 - dinner_target_mse: 8694.7178 - val_loss: 330.1085 - val_lunch_target_loss: 232.0626 - val_dinner_target_loss: 98.0459 - val_lunch_target_mse: 81844.2969 - val_dinner_target_mse: 15245.4258\n",
      "Epoch 86/200\n",
      "13/13 - 1s - loss: 270.5456 - lunch_target_loss: 202.9067 - dinner_target_loss: 67.6388 - lunch_target_mse: 64429.7852 - dinner_target_mse: 8740.7324 - val_loss: 327.4669 - val_lunch_target_loss: 229.7277 - val_dinner_target_loss: 97.7392 - val_lunch_target_mse: 79905.4766 - val_dinner_target_mse: 15208.1025\n",
      "Epoch 87/200\n",
      "13/13 - 1s - loss: 267.8919 - lunch_target_loss: 200.6295 - dinner_target_loss: 67.2624 - lunch_target_mse: 62874.8711 - dinner_target_mse: 8708.1064 - val_loss: 325.7942 - val_lunch_target_loss: 228.0087 - val_dinner_target_loss: 97.7855 - val_lunch_target_mse: 78443.2109 - val_dinner_target_mse: 15243.9229\n",
      "Epoch 88/200\n",
      "13/13 - 1s - loss: 265.2203 - lunch_target_loss: 198.5478 - dinner_target_loss: 66.6725 - lunch_target_mse: 61539.5117 - dinner_target_mse: 8617.7646 - val_loss: 324.0796 - val_lunch_target_loss: 226.7009 - val_dinner_target_loss: 97.3787 - val_lunch_target_mse: 77244.7188 - val_dinner_target_mse: 15126.7061\n",
      "Epoch 89/200\n",
      "13/13 - 1s - loss: 262.9651 - lunch_target_loss: 196.8032 - dinner_target_loss: 66.1619 - lunch_target_mse: 60482.7148 - dinner_target_mse: 8516.3584 - val_loss: 322.3096 - val_lunch_target_loss: 225.0533 - val_dinner_target_loss: 97.2563 - val_lunch_target_mse: 75996.2500 - val_dinner_target_mse: 15132.8633\n",
      "Epoch 90/200\n",
      "13/13 - 1s - loss: 259.9532 - lunch_target_loss: 194.5191 - dinner_target_loss: 65.4340 - lunch_target_mse: 58963.1367 - dinner_target_mse: 8385.7061 - val_loss: 320.5791 - val_lunch_target_loss: 223.3140 - val_dinner_target_loss: 97.2650 - val_lunch_target_mse: 74807.2578 - val_dinner_target_mse: 15170.1250\n",
      "Epoch 91/200\n",
      "13/13 - 1s - loss: 257.5723 - lunch_target_loss: 192.7145 - dinner_target_loss: 64.8578 - lunch_target_mse: 57940.8906 - dinner_target_mse: 8311.8359 - val_loss: 318.3485 - val_lunch_target_loss: 221.6719 - val_dinner_target_loss: 96.6766 - val_lunch_target_mse: 73731.4531 - val_dinner_target_mse: 15030.4902\n",
      "Epoch 92/200\n",
      "13/13 - 1s - loss: 255.4725 - lunch_target_loss: 191.0799 - dinner_target_loss: 64.3926 - lunch_target_mse: 57020.6953 - dinner_target_mse: 8168.3550 - val_loss: 317.3430 - val_lunch_target_loss: 220.2984 - val_dinner_target_loss: 97.0445 - val_lunch_target_mse: 72756.8203 - val_dinner_target_mse: 15178.9033\n",
      "Epoch 93/200\n",
      "13/13 - 1s - loss: 253.0451 - lunch_target_loss: 189.2771 - dinner_target_loss: 63.7681 - lunch_target_mse: 55943.3867 - dinner_target_mse: 8113.4829 - val_loss: 315.2664 - val_lunch_target_loss: 218.6849 - val_dinner_target_loss: 96.5814 - val_lunch_target_mse: 71598.2031 - val_dinner_target_mse: 15071.2539\n",
      "Epoch 94/200\n",
      "13/13 - 1s - loss: 250.5392 - lunch_target_loss: 186.8491 - dinner_target_loss: 63.6901 - lunch_target_mse: 54523.3203 - dinner_target_mse: 8122.8721 - val_loss: 313.2613 - val_lunch_target_loss: 217.1011 - val_dinner_target_loss: 96.1602 - val_lunch_target_mse: 70658.6016 - val_dinner_target_mse: 14987.7715\n",
      "Epoch 95/200\n",
      "13/13 - 1s - loss: 249.1753 - lunch_target_loss: 186.3442 - dinner_target_loss: 62.8311 - lunch_target_mse: 54373.8984 - dinner_target_mse: 7957.4473 - val_loss: 310.9322 - val_lunch_target_loss: 215.5667 - val_dinner_target_loss: 95.3655 - val_lunch_target_mse: 69620.7109 - val_dinner_target_mse: 14816.7402\n",
      "Epoch 96/200\n",
      "13/13 - 1s - loss: 246.1967 - lunch_target_loss: 184.2340 - dinner_target_loss: 61.9627 - lunch_target_mse: 53126.9453 - dinner_target_mse: 7770.9673 - val_loss: 309.1583 - val_lunch_target_loss: 213.9128 - val_dinner_target_loss: 95.2455 - val_lunch_target_mse: 68614.7500 - val_dinner_target_mse: 14801.3252\n",
      "Epoch 97/200\n",
      "13/13 - 1s - loss: 243.9505 - lunch_target_loss: 182.2396 - dinner_target_loss: 61.7109 - lunch_target_mse: 52171.2031 - dinner_target_mse: 7784.9204 - val_loss: 307.2265 - val_lunch_target_loss: 212.2750 - val_dinner_target_loss: 94.9516 - val_lunch_target_mse: 67648.6875 - val_dinner_target_mse: 14726.6338\n",
      "Epoch 98/200\n",
      "13/13 - 1s - loss: 241.7654 - lunch_target_loss: 180.7339 - dinner_target_loss: 61.0314 - lunch_target_mse: 51271.0352 - dinner_target_mse: 7659.8887 - val_loss: 305.3972 - val_lunch_target_loss: 211.3020 - val_dinner_target_loss: 94.0953 - val_lunch_target_mse: 67133.7812 - val_dinner_target_mse: 14605.0000\n",
      "Epoch 99/200\n",
      "13/13 - 1s - loss: 239.5574 - lunch_target_loss: 178.2359 - dinner_target_loss: 61.3215 - lunch_target_mse: 50041.8359 - dinner_target_mse: 7751.5601 - val_loss: 303.3582 - val_lunch_target_loss: 209.2167 - val_dinner_target_loss: 94.1416 - val_lunch_target_mse: 65948.0625 - val_dinner_target_mse: 14534.9385\n",
      "Epoch 100/200\n",
      "13/13 - 1s - loss: 237.2434 - lunch_target_loss: 176.6467 - dinner_target_loss: 60.5967 - lunch_target_mse: 49152.5703 - dinner_target_mse: 7548.0801 - val_loss: 298.4081 - val_lunch_target_loss: 208.1823 - val_dinner_target_loss: 90.2258 - val_lunch_target_mse: 65594.1016 - val_dinner_target_mse: 13687.1758\n",
      "Epoch 101/200\n",
      "13/13 - 1s - loss: 235.4605 - lunch_target_loss: 175.0431 - dinner_target_loss: 60.4174 - lunch_target_mse: 48484.2344 - dinner_target_mse: 7546.1157 - val_loss: 299.2047 - val_lunch_target_loss: 206.3314 - val_dinner_target_loss: 92.8733 - val_lunch_target_mse: 64221.1094 - val_dinner_target_mse: 14314.3555\n",
      "Epoch 102/200\n",
      "13/13 - 1s - loss: 232.9366 - lunch_target_loss: 173.3954 - dinner_target_loss: 59.5412 - lunch_target_mse: 47437.8750 - dinner_target_mse: 7427.8140 - val_loss: 298.5931 - val_lunch_target_loss: 205.0080 - val_dinner_target_loss: 93.5851 - val_lunch_target_mse: 63390.4805 - val_dinner_target_mse: 14543.7275\n",
      "Epoch 103/200\n",
      "13/13 - 1s - loss: 230.9703 - lunch_target_loss: 171.3048 - dinner_target_loss: 59.6655 - lunch_target_mse: 46315.2969 - dinner_target_mse: 7533.0786 - val_loss: 294.6429 - val_lunch_target_loss: 203.8280 - val_dinner_target_loss: 90.8149 - val_lunch_target_mse: 62877.6914 - val_dinner_target_mse: 13811.8125\n",
      "Epoch 104/200\n",
      "13/13 - 1s - loss: 228.8516 - lunch_target_loss: 169.6501 - dinner_target_loss: 59.2015 - lunch_target_mse: 45646.2148 - dinner_target_mse: 7364.1064 - val_loss: 289.7790 - val_lunch_target_loss: 201.7294 - val_dinner_target_loss: 88.0496 - val_lunch_target_mse: 62055.2031 - val_dinner_target_mse: 13306.8652\n",
      "Epoch 105/200\n",
      "13/13 - 1s - loss: 226.6192 - lunch_target_loss: 168.3312 - dinner_target_loss: 58.2880 - lunch_target_mse: 45107.7305 - dinner_target_mse: 7302.1548 - val_loss: 295.0710 - val_lunch_target_loss: 200.2151 - val_dinner_target_loss: 94.8559 - val_lunch_target_mse: 60884.0039 - val_dinner_target_mse: 14782.1865\n",
      "Epoch 106/200\n",
      "13/13 - 1s - loss: 224.8518 - lunch_target_loss: 166.5121 - dinner_target_loss: 58.3397 - lunch_target_mse: 44283.6484 - dinner_target_mse: 7262.6714 - val_loss: 291.4636 - val_lunch_target_loss: 199.8375 - val_dinner_target_loss: 91.6262 - val_lunch_target_mse: 60551.7266 - val_dinner_target_mse: 14011.0586\n",
      "Epoch 107/200\n",
      "13/13 - 1s - loss: 222.5829 - lunch_target_loss: 164.6318 - dinner_target_loss: 57.9511 - lunch_target_mse: 43191.3906 - dinner_target_mse: 7184.7104 - val_loss: 283.3390 - val_lunch_target_loss: 197.2110 - val_dinner_target_loss: 86.1280 - val_lunch_target_mse: 60164.9258 - val_dinner_target_mse: 12742.1963\n",
      "Epoch 108/200\n",
      "13/13 - 1s - loss: 221.3150 - lunch_target_loss: 163.7182 - dinner_target_loss: 57.5968 - lunch_target_mse: 42902.6406 - dinner_target_mse: 7166.9863 - val_loss: 287.5255 - val_lunch_target_loss: 196.8346 - val_dinner_target_loss: 90.6909 - val_lunch_target_mse: 59112.4414 - val_dinner_target_mse: 13726.3379\n",
      "Epoch 109/200\n",
      "13/13 - 1s - loss: 218.5758 - lunch_target_loss: 161.8027 - dinner_target_loss: 56.7731 - lunch_target_mse: 41921.3711 - dinner_target_mse: 7037.2036 - val_loss: 285.2120 - val_lunch_target_loss: 195.7631 - val_dinner_target_loss: 89.4489 - val_lunch_target_mse: 58585.7188 - val_dinner_target_mse: 13331.6885\n",
      "Epoch 110/200\n",
      "13/13 - 1s - loss: 217.3837 - lunch_target_loss: 160.6787 - dinner_target_loss: 56.7051 - lunch_target_mse: 41175.0391 - dinner_target_mse: 7112.1992 - val_loss: 284.3784 - val_lunch_target_loss: 194.1335 - val_dinner_target_loss: 90.2449 - val_lunch_target_mse: 57856.3008 - val_dinner_target_mse: 13537.1729\n",
      "Epoch 111/200\n",
      "13/13 - 1s - loss: 215.3347 - lunch_target_loss: 159.1512 - dinner_target_loss: 56.1836 - lunch_target_mse: 40691.6562 - dinner_target_mse: 6992.7031 - val_loss: 284.2657 - val_lunch_target_loss: 192.5467 - val_dinner_target_loss: 91.7191 - val_lunch_target_mse: 57003.5312 - val_dinner_target_mse: 13960.3037\n",
      "Epoch 112/200\n",
      "13/13 - 1s - loss: 213.3022 - lunch_target_loss: 157.5067 - dinner_target_loss: 55.7955 - lunch_target_mse: 39862.2031 - dinner_target_mse: 6952.2212 - val_loss: 282.8950 - val_lunch_target_loss: 191.0282 - val_dinner_target_loss: 91.8668 - val_lunch_target_mse: 56309.7539 - val_dinner_target_mse: 14014.3350\n",
      "Epoch 113/200\n",
      "13/13 - 1s - loss: 211.3931 - lunch_target_loss: 156.2840 - dinner_target_loss: 55.1091 - lunch_target_mse: 39301.0859 - dinner_target_mse: 6841.0410 - val_loss: 280.1900 - val_lunch_target_loss: 189.8864 - val_dinner_target_loss: 90.3035 - val_lunch_target_mse: 55912.1914 - val_dinner_target_mse: 13623.4092\n",
      "Epoch 114/200\n",
      "13/13 - 1s - loss: 210.2214 - lunch_target_loss: 154.9687 - dinner_target_loss: 55.2527 - lunch_target_mse: 38743.6758 - dinner_target_mse: 6876.8530 - val_loss: 277.8382 - val_lunch_target_loss: 188.5957 - val_dinner_target_loss: 89.2424 - val_lunch_target_mse: 55163.3086 - val_dinner_target_mse: 13407.6689\n",
      "Epoch 115/200\n",
      "13/13 - 1s - loss: 208.4280 - lunch_target_loss: 153.7634 - dinner_target_loss: 54.6646 - lunch_target_mse: 38108.1836 - dinner_target_mse: 6764.1348 - val_loss: 277.5739 - val_lunch_target_loss: 187.5445 - val_dinner_target_loss: 90.0294 - val_lunch_target_mse: 54513.9492 - val_dinner_target_mse: 13582.8447\n",
      "Epoch 116/200\n",
      "13/13 - 1s - loss: 206.3879 - lunch_target_loss: 152.1202 - dinner_target_loss: 54.2677 - lunch_target_mse: 37229.1016 - dinner_target_mse: 6757.4736 - val_loss: 273.9818 - val_lunch_target_loss: 186.3389 - val_dinner_target_loss: 87.6429 - val_lunch_target_mse: 54066.6211 - val_dinner_target_mse: 12945.2461\n",
      "Epoch 117/200\n",
      "13/13 - 1s - loss: 204.4928 - lunch_target_loss: 150.5448 - dinner_target_loss: 53.9480 - lunch_target_mse: 36568.8281 - dinner_target_mse: 6725.2295 - val_loss: 277.6454 - val_lunch_target_loss: 185.4105 - val_dinner_target_loss: 92.2349 - val_lunch_target_mse: 53349.3555 - val_dinner_target_mse: 14123.0000\n",
      "Epoch 118/200\n",
      "13/13 - 1s - loss: 202.9015 - lunch_target_loss: 149.9181 - dinner_target_loss: 52.9834 - lunch_target_mse: 36144.5273 - dinner_target_mse: 6558.8496 - val_loss: 273.5536 - val_lunch_target_loss: 184.2023 - val_dinner_target_loss: 89.3514 - val_lunch_target_mse: 52874.9414 - val_dinner_target_mse: 13466.8086\n",
      "Epoch 119/200\n",
      "13/13 - 1s - loss: 202.3472 - lunch_target_loss: 148.9613 - dinner_target_loss: 53.3859 - lunch_target_mse: 35718.5156 - dinner_target_mse: 6585.0464 - val_loss: 272.7482 - val_lunch_target_loss: 183.1664 - val_dinner_target_loss: 89.5818 - val_lunch_target_mse: 52214.8984 - val_dinner_target_mse: 13475.9463\n",
      "Epoch 120/200\n",
      "13/13 - 1s - loss: 199.9077 - lunch_target_loss: 147.9074 - dinner_target_loss: 52.0003 - lunch_target_mse: 35159.6719 - dinner_target_mse: 6445.6152 - val_loss: 273.2941 - val_lunch_target_loss: 182.3191 - val_dinner_target_loss: 90.9750 - val_lunch_target_mse: 51819.6406 - val_dinner_target_mse: 13839.8184\n",
      "Epoch 121/200\n",
      "13/13 - 1s - loss: 198.1496 - lunch_target_loss: 146.2341 - dinner_target_loss: 51.9155 - lunch_target_mse: 34469.9531 - dinner_target_mse: 6443.5396 - val_loss: 270.8819 - val_lunch_target_loss: 181.1573 - val_dinner_target_loss: 89.7246 - val_lunch_target_mse: 51270.8359 - val_dinner_target_mse: 13528.4297\n",
      "Epoch 122/200\n",
      "13/13 - 1s - loss: 196.9510 - lunch_target_loss: 145.3773 - dinner_target_loss: 51.5738 - lunch_target_mse: 34046.1484 - dinner_target_mse: 6340.8389 - val_loss: 267.9660 - val_lunch_target_loss: 179.7373 - val_dinner_target_loss: 88.2288 - val_lunch_target_mse: 50838.4297 - val_dinner_target_mse: 13020.0342\n",
      "Epoch 123/200\n",
      "13/13 - 1s - loss: 195.1985 - lunch_target_loss: 144.3493 - dinner_target_loss: 50.8491 - lunch_target_mse: 33620.7539 - dinner_target_mse: 6307.0908 - val_loss: 269.0230 - val_lunch_target_loss: 179.5617 - val_dinner_target_loss: 89.4613 - val_lunch_target_mse: 50607.4648 - val_dinner_target_mse: 13319.9199\n",
      "Epoch 124/200\n",
      "13/13 - 1s - loss: 193.4906 - lunch_target_loss: 143.3155 - dinner_target_loss: 50.1750 - lunch_target_mse: 33042.4805 - dinner_target_mse: 6178.5737 - val_loss: 271.2312 - val_lunch_target_loss: 179.1108 - val_dinner_target_loss: 92.1204 - val_lunch_target_mse: 50086.3203 - val_dinner_target_mse: 14010.4785\n",
      "Epoch 125/200\n",
      "13/13 - 1s - loss: 192.5183 - lunch_target_loss: 142.4786 - dinner_target_loss: 50.0397 - lunch_target_mse: 32610.0352 - dinner_target_mse: 6203.5420 - val_loss: 267.3681 - val_lunch_target_loss: 177.5204 - val_dinner_target_loss: 89.8477 - val_lunch_target_mse: 49609.4141 - val_dinner_target_mse: 13331.6436\n",
      "Epoch 126/200\n",
      "13/13 - 1s - loss: 190.9520 - lunch_target_loss: 140.9559 - dinner_target_loss: 49.9961 - lunch_target_mse: 31935.8320 - dinner_target_mse: 6169.6870 - val_loss: 269.4602 - val_lunch_target_loss: 177.2832 - val_dinner_target_loss: 92.1770 - val_lunch_target_mse: 49099.8984 - val_dinner_target_mse: 13935.8086\n",
      "Epoch 127/200\n",
      "13/13 - 1s - loss: 189.4259 - lunch_target_loss: 140.0450 - dinner_target_loss: 49.3810 - lunch_target_mse: 31594.1348 - dinner_target_mse: 6132.7100 - val_loss: 267.7631 - val_lunch_target_loss: 176.2408 - val_dinner_target_loss: 91.5223 - val_lunch_target_mse: 48742.5742 - val_dinner_target_mse: 13679.4473\n",
      "Epoch 128/200\n",
      "13/13 - 1s - loss: 187.9415 - lunch_target_loss: 138.6780 - dinner_target_loss: 49.2635 - lunch_target_mse: 30973.1523 - dinner_target_mse: 6108.4468 - val_loss: 266.6332 - val_lunch_target_loss: 175.2421 - val_dinner_target_loss: 91.3911 - val_lunch_target_mse: 48143.1133 - val_dinner_target_mse: 13595.7559\n",
      "Epoch 129/200\n",
      "13/13 - 1s - loss: 186.7149 - lunch_target_loss: 137.9579 - dinner_target_loss: 48.7570 - lunch_target_mse: 30686.9141 - dinner_target_mse: 6038.3999 - val_loss: 266.8492 - val_lunch_target_loss: 174.8997 - val_dinner_target_loss: 91.9495 - val_lunch_target_mse: 47948.0781 - val_dinner_target_mse: 13736.7178\n",
      "Epoch 130/200\n",
      "13/13 - 1s - loss: 185.5994 - lunch_target_loss: 137.0053 - dinner_target_loss: 48.5941 - lunch_target_mse: 30361.7832 - dinner_target_mse: 6018.2349 - val_loss: 266.4356 - val_lunch_target_loss: 174.4267 - val_dinner_target_loss: 92.0089 - val_lunch_target_mse: 47515.5117 - val_dinner_target_mse: 13713.8975\n",
      "Epoch 131/200\n",
      "13/13 - 1s - loss: 183.7187 - lunch_target_loss: 135.9879 - dinner_target_loss: 47.7308 - lunch_target_mse: 29825.1406 - dinner_target_mse: 5900.9985 - val_loss: 264.7421 - val_lunch_target_loss: 173.3419 - val_dinner_target_loss: 91.4002 - val_lunch_target_mse: 47076.1211 - val_dinner_target_mse: 13550.4404\n",
      "Epoch 132/200\n",
      "13/13 - 1s - loss: 182.5915 - lunch_target_loss: 134.9241 - dinner_target_loss: 47.6673 - lunch_target_mse: 29409.2031 - dinner_target_mse: 5875.0820 - val_loss: 265.3775 - val_lunch_target_loss: 172.8633 - val_dinner_target_loss: 92.5142 - val_lunch_target_mse: 46758.4844 - val_dinner_target_mse: 13785.9629\n",
      "Epoch 133/200\n",
      "13/13 - 1s - loss: 181.7075 - lunch_target_loss: 133.8403 - dinner_target_loss: 47.8672 - lunch_target_mse: 29061.9219 - dinner_target_mse: 5869.3657 - val_loss: 264.2791 - val_lunch_target_loss: 172.0053 - val_dinner_target_loss: 92.2738 - val_lunch_target_mse: 46359.0664 - val_dinner_target_mse: 13691.5684\n",
      "Epoch 134/200\n",
      "13/13 - 1s - loss: 179.7423 - lunch_target_loss: 132.6658 - dinner_target_loss: 47.0765 - lunch_target_mse: 28478.1172 - dinner_target_mse: 5813.3994 - val_loss: 265.9534 - val_lunch_target_loss: 171.9632 - val_dinner_target_loss: 93.9903 - val_lunch_target_mse: 46114.7148 - val_dinner_target_mse: 14098.8574\n",
      "Epoch 135/200\n",
      "13/13 - 1s - loss: 178.4682 - lunch_target_loss: 131.7831 - dinner_target_loss: 46.6851 - lunch_target_mse: 28046.6895 - dinner_target_mse: 5761.6660 - val_loss: 264.0613 - val_lunch_target_loss: 170.7670 - val_dinner_target_loss: 93.2943 - val_lunch_target_mse: 45642.5508 - val_dinner_target_mse: 13924.2725\n",
      "Epoch 136/200\n",
      "13/13 - 1s - loss: 177.7216 - lunch_target_loss: 130.7848 - dinner_target_loss: 46.9368 - lunch_target_mse: 27763.3477 - dinner_target_mse: 5769.3936 - val_loss: 263.7772 - val_lunch_target_loss: 170.0816 - val_dinner_target_loss: 93.6956 - val_lunch_target_mse: 45132.8594 - val_dinner_target_mse: 13969.5742\n",
      "Epoch 137/200\n",
      "13/13 - 1s - loss: 176.2491 - lunch_target_loss: 130.1561 - dinner_target_loss: 46.0930 - lunch_target_mse: 27363.8906 - dinner_target_mse: 5707.0806 - val_loss: 262.3789 - val_lunch_target_loss: 169.4968 - val_dinner_target_loss: 92.8821 - val_lunch_target_mse: 44980.4766 - val_dinner_target_mse: 13787.2383\n",
      "Epoch 138/200\n",
      "13/13 - 1s - loss: 174.5471 - lunch_target_loss: 128.8087 - dinner_target_loss: 45.7385 - lunch_target_mse: 26895.3730 - dinner_target_mse: 5655.8394 - val_loss: 264.6052 - val_lunch_target_loss: 168.9805 - val_dinner_target_loss: 95.6246 - val_lunch_target_mse: 44458.7891 - val_dinner_target_mse: 14378.3535\n",
      "Epoch 139/200\n",
      "13/13 - 1s - loss: 173.7748 - lunch_target_loss: 127.7852 - dinner_target_loss: 45.9896 - lunch_target_mse: 26534.0703 - dinner_target_mse: 5662.9058 - val_loss: 261.7094 - val_lunch_target_loss: 168.0386 - val_dinner_target_loss: 93.6708 - val_lunch_target_mse: 44275.8711 - val_dinner_target_mse: 13985.8135\n",
      "Epoch 140/200\n",
      "13/13 - 1s - loss: 172.3956 - lunch_target_loss: 126.9398 - dinner_target_loss: 45.4557 - lunch_target_mse: 26256.7734 - dinner_target_mse: 5604.7427 - val_loss: 261.0029 - val_lunch_target_loss: 167.5025 - val_dinner_target_loss: 93.5004 - val_lunch_target_mse: 43826.1367 - val_dinner_target_mse: 13904.0664\n",
      "Epoch 141/200\n",
      "13/13 - 1s - loss: 170.6326 - lunch_target_loss: 125.4236 - dinner_target_loss: 45.2090 - lunch_target_mse: 25605.5645 - dinner_target_mse: 5579.1577 - val_loss: 259.2753 - val_lunch_target_loss: 166.3443 - val_dinner_target_loss: 92.9310 - val_lunch_target_mse: 43597.1914 - val_dinner_target_mse: 13776.5010\n",
      "Epoch 142/200\n",
      "13/13 - 1s - loss: 169.4685 - lunch_target_loss: 124.5668 - dinner_target_loss: 44.9017 - lunch_target_mse: 25352.9844 - dinner_target_mse: 5534.0444 - val_loss: 261.0898 - val_lunch_target_loss: 166.1454 - val_dinner_target_loss: 94.9443 - val_lunch_target_mse: 43207.6094 - val_dinner_target_mse: 14212.1924\n",
      "Epoch 143/200\n",
      "13/13 - 1s - loss: 167.9410 - lunch_target_loss: 122.8128 - dinner_target_loss: 45.1281 - lunch_target_mse: 24723.0605 - dinner_target_mse: 5554.3379 - val_loss: 261.0901 - val_lunch_target_loss: 165.3580 - val_dinner_target_loss: 95.7321 - val_lunch_target_mse: 43074.4609 - val_dinner_target_mse: 14380.3916\n",
      "Epoch 144/200\n",
      "13/13 - 1s - loss: 166.6065 - lunch_target_loss: 122.0735 - dinner_target_loss: 44.5330 - lunch_target_mse: 24506.4180 - dinner_target_mse: 5483.9717 - val_loss: 257.2003 - val_lunch_target_loss: 164.2184 - val_dinner_target_loss: 92.9819 - val_lunch_target_mse: 42798.9141 - val_dinner_target_mse: 13858.0986\n",
      "Epoch 145/200\n",
      "13/13 - 1s - loss: 165.5831 - lunch_target_loss: 120.8170 - dinner_target_loss: 44.7661 - lunch_target_mse: 24134.3828 - dinner_target_mse: 5542.9570 - val_loss: 258.3976 - val_lunch_target_loss: 163.8588 - val_dinner_target_loss: 94.5389 - val_lunch_target_mse: 42769.8242 - val_dinner_target_mse: 14119.5430\n",
      "Epoch 146/200\n",
      "13/13 - 1s - loss: 164.1397 - lunch_target_loss: 119.3600 - dinner_target_loss: 44.7797 - lunch_target_mse: 23534.7656 - dinner_target_mse: 5557.3013 - val_loss: 258.0574 - val_lunch_target_loss: 163.5571 - val_dinner_target_loss: 94.5003 - val_lunch_target_mse: 42180.7734 - val_dinner_target_mse: 14141.1934\n",
      "Epoch 147/200\n",
      "13/13 - 1s - loss: 162.5348 - lunch_target_loss: 118.6875 - dinner_target_loss: 43.8473 - lunch_target_mse: 23261.2793 - dinner_target_mse: 5396.8848 - val_loss: 255.3235 - val_lunch_target_loss: 162.1966 - val_dinner_target_loss: 93.1270 - val_lunch_target_mse: 42113.8867 - val_dinner_target_mse: 13851.4004\n",
      "Epoch 148/200\n",
      "13/13 - 1s - loss: 161.1623 - lunch_target_loss: 117.1709 - dinner_target_loss: 43.9914 - lunch_target_mse: 22861.8906 - dinner_target_mse: 5379.8623 - val_loss: 260.0906 - val_lunch_target_loss: 162.8771 - val_dinner_target_loss: 97.2135 - val_lunch_target_mse: 41638.3867 - val_dinner_target_mse: 14787.6992\n",
      "Epoch 149/200\n",
      "13/13 - 1s - loss: 159.8747 - lunch_target_loss: 116.6117 - dinner_target_loss: 43.2630 - lunch_target_mse: 22513.0625 - dinner_target_mse: 5344.7686 - val_loss: 259.9378 - val_lunch_target_loss: 162.1682 - val_dinner_target_loss: 97.7696 - val_lunch_target_mse: 41543.2617 - val_dinner_target_mse: 14840.4258\n",
      "Epoch 150/200\n",
      "13/13 - 1s - loss: 159.3266 - lunch_target_loss: 115.6002 - dinner_target_loss: 43.7264 - lunch_target_mse: 22301.9824 - dinner_target_mse: 5333.7812 - val_loss: 259.6041 - val_lunch_target_loss: 161.9743 - val_dinner_target_loss: 97.6297 - val_lunch_target_mse: 41223.8164 - val_dinner_target_mse: 14817.7451\n",
      "Epoch 151/200\n",
      "13/13 - 1s - loss: 157.7206 - lunch_target_loss: 113.8811 - dinner_target_loss: 43.8395 - lunch_target_mse: 21730.0078 - dinner_target_mse: 5440.2769 - val_loss: 257.2896 - val_lunch_target_loss: 161.3835 - val_dinner_target_loss: 95.9061 - val_lunch_target_mse: 41389.7930 - val_dinner_target_mse: 14405.1777\n",
      "Epoch 152/200\n",
      "13/13 - 1s - loss: 155.9695 - lunch_target_loss: 112.9154 - dinner_target_loss: 43.0541 - lunch_target_mse: 21355.8105 - dinner_target_mse: 5278.4473 - val_loss: 257.9030 - val_lunch_target_loss: 161.2494 - val_dinner_target_loss: 96.6536 - val_lunch_target_mse: 40916.8711 - val_dinner_target_mse: 14621.7383\n"
     ]
    }
   ],
   "source": [
    "model.compile(optimizer='rmsprop', \n",
    "              loss='mae', \n",
    "              metrics=['mse'])\n",
    "\n",
    "history = model.fit({'morning': morning_train, 'lunch': lunch_train, 'dinner': dinner_train, 'other':x_train}, \n",
    "                    {'lunch_target': y_lunch_train, 'dinner_target': y_dinner_train}, \n",
    "                    epochs=200, \n",
    "                    batch_size=64, \n",
    "                    callbacks=callbacks_list,\n",
    "                    validation_split=0.2,\n",
    "                    validation_data=(val_data, val_targets),\n",
    "                    verbose=2)"
   ]
  },
  {
   "cell_type": "code",
   "execution_count": 139,
   "metadata": {
    "colab": {
     "base_uri": "https://localhost:8080/"
    },
    "id": "WE6VWAXveZdu",
    "outputId": "8c93eeae-9983-41e7-a73b-835efe1ac2d7"
   },
   "outputs": [
    {
     "name": "stdout",
     "output_type": "stream",
     "text": [
      "7/7 [==============================] - 0s 7ms/step - loss: 332.0566 - lunch_target_loss: 206.5355 - dinner_target_loss: 125.5212 - lunch_target_mse: 65713.6562 - dinner_target_mse: 23196.6660\n"
     ]
    },
    {
     "data": {
      "text/plain": [
       "[332.056640625,\n",
       " 206.53546142578125,\n",
       " 125.52117156982422,\n",
       " 65713.65625,\n",
       " 23196.666015625]"
      ]
     },
     "execution_count": 139,
     "metadata": {
      "tags": []
     },
     "output_type": "execute_result"
    }
   ],
   "source": [
    "model.evaluate(val_data, val_targets)"
   ]
  },
  {
   "cell_type": "code",
   "execution_count": 140,
   "metadata": {
    "id": "qySnQxqyeWoN"
   },
   "outputs": [],
   "source": [
    "y = model.predict(val_data)"
   ]
  },
  {
   "cell_type": "code",
   "execution_count": 141,
   "metadata": {
    "colab": {
     "base_uri": "https://localhost:8080/"
    },
    "id": "b9MaPFyXda1F",
    "outputId": "cdaa974a-2ed1-4779-a4bf-427c6dabb79e"
   },
   "outputs": [
    {
     "data": {
      "text/plain": [
       "(array([[ 839.47046],\n",
       "        [1077.4441 ],\n",
       "        [1071.0242 ],\n",
       "        [ 898.03406],\n",
       "        [ 719.0855 ]], dtype=float32), 1000     642.0\n",
       " 1001    1276.0\n",
       " 1002    1019.0\n",
       " 1003     967.0\n",
       " 1004     804.0\n",
       " Name: 중식계, dtype: float64)"
      ]
     },
     "execution_count": 141,
     "metadata": {
      "tags": []
     },
     "output_type": "execute_result"
    }
   ],
   "source": [
    "y[0][:5], val_y_lunch[:5]"
   ]
  },
  {
   "cell_type": "code",
   "execution_count": 142,
   "metadata": {
    "colab": {
     "base_uri": "https://localhost:8080/"
    },
    "id": "sgjy1Vv4f_HF",
    "outputId": "e77bc1cf-5055-4106-e5e9-a5162bfed34e"
   },
   "outputs": [
    {
     "data": {
      "text/plain": [
       "(array([[493.18365],\n",
       "        [609.5668 ],\n",
       "        [631.8106 ],\n",
       "        [528.1058 ],\n",
       "        [294.62366]], dtype=float32), 1000    379.0\n",
       " 1001    640.0\n",
       " 1002    575.0\n",
       " 1003    487.0\n",
       " 1004    614.0\n",
       " Name: 석식계, dtype: float64)"
      ]
     },
     "execution_count": 142,
     "metadata": {
      "tags": []
     },
     "output_type": "execute_result"
    }
   ],
   "source": [
    "y[1][:5], val_y_dinner[:5]"
   ]
  },
  {
   "cell_type": "code",
   "execution_count": 143,
   "metadata": {
    "id": "e3KuJhtsUlmR"
   },
   "outputs": [],
   "source": [
    "import matplotlib.pyplot as plt\n",
    "\n",
    "def drawHistory(history):\n",
    "    loss = history.history['loss']\n",
    "    val_loss = history.history['val_loss']\n",
    "    \n",
    "    epochs = range(1, len(loss) + 1)\n",
    "    \n",
    "    plt.figure()\n",
    "    plt.plot(epochs, loss, 'ro', label='Training loss')\n",
    "    plt.plot(epochs, val_loss, 'b', label='Validation loss')\n",
    "    plt.title('Training and validation loss')\n",
    "    plt.legend()\n",
    "    \n",
    "    plt.show()"
   ]
  },
  {
   "cell_type": "code",
   "execution_count": 144,
   "metadata": {
    "colab": {
     "base_uri": "https://localhost:8080/",
     "height": 281
    },
    "id": "KiOosMEmVKV3",
    "outputId": "12e2ae7e-a867-4c51-c044-a33fce0d85e7"
   },
   "outputs": [
    {
     "data": {
      "image/png": "[encoded data removed]",
      "text/plain": [
       "<Figure size 432x288 with 1 Axes>"
      ]
     },
     "metadata": {
      "needs_background": "light",
      "tags": []
     },
     "output_type": "display_data"
    }
   ],
   "source": [
    "drawHistory(history)"
   ]
  },
  {
   "cell_type": "code",
   "execution_count": 35,
   "metadata": {
    "id": "SJeyi1AEYKUB"
   },
   "outputs": [],
   "source": [
    "test = pd.read_csv(\"/content/datasets/MyDrive/test.csv\")"
   ]
  },
  {
   "cell_type": "code",
   "execution_count": 36,
   "metadata": {
    "colab": {
     "base_uri": "https://localhost:8080/"
    },
    "id": "ulkxb5l5YPjk",
    "outputId": "bd73f7dd-314e-4dae-9be7-70ccb2ac7047"
   },
   "outputs": [
    {
     "name": "stdout",
     "output_type": "stream",
     "text": [
      "<class 'pandas.core.frame.DataFrame'>\n",
      "RangeIndex: 50 entries, 0 to 49\n",
      "Data columns (total 10 columns):\n",
      " #   Column          Non-Null Count  Dtype  \n",
      "---  ------          --------------  -----  \n",
      " 0   일자              50 non-null     object \n",
      " 1   요일              50 non-null     object \n",
      " 2   본사정원수           50 non-null     int64  \n",
      " 3   본사휴가자수          50 non-null     int64  \n",
      " 4   본사출장자수          50 non-null     int64  \n",
      " 5   본사시간외근무명령서승인건수  50 non-null     int64  \n",
      " 6   현본사소속재택근무자수     50 non-null     float64\n",
      " 7   조식메뉴            50 non-null     object \n",
      " 8   중식메뉴            50 non-null     object \n",
      " 9   석식메뉴            50 non-null     object \n",
      "dtypes: float64(1), int64(4), object(5)\n",
      "memory usage: 4.0+ KB\n"
     ]
    }
   ],
   "source": [
    "test.info()"
   ]
  },
  {
   "cell_type": "code",
   "execution_count": 37,
   "metadata": {
    "id": "9NdqiPqsYQh0"
   },
   "outputs": [],
   "source": [
    "morning_test_x = tokenizer.texts_to_sequences(test['조식메뉴'])\n",
    "lunch_test_x = tokenizer.texts_to_sequences(test['중식메뉴'])\n",
    "dinner_test_x = tokenizer.texts_to_sequences(test['석식메뉴'])"
   ]
  },
  {
   "cell_type": "code",
   "execution_count": 38,
   "metadata": {
    "id": "NHuauTgPYqM0"
   },
   "outputs": [],
   "source": [
    "morning_test_x = sequence.pad_sequences(morning_test_x, maxlen=max_len)\n",
    "lunch_test_x = sequence.pad_sequences(lunch_test_x, maxlen=max_len)\n",
    "dinner_test_x = sequence.pad_sequences(dinner_test_x, maxlen=max_len)"
   ]
  },
  {
   "cell_type": "code",
   "execution_count": 39,
   "metadata": {
    "colab": {
     "base_uri": "https://localhost:8080/"
    },
    "id": "n4BMu2rnY2lm",
    "outputId": "432e9898-993d-402d-b50a-ca30c35c7d63"
   },
   "outputs": [
    {
     "data": {
      "text/plain": [
       "(50, 9)"
      ]
     },
     "execution_count": 39,
     "metadata": {
      "tags": []
     },
     "output_type": "execute_result"
    }
   ],
   "source": [
    "morning_test_x.shape"
   ]
  },
  {
   "cell_type": "code",
   "execution_count": 41,
   "metadata": {
    "id": "4Y6OaGE3Zf2K"
   },
   "outputs": [],
   "source": [
    "def change_day(x):\n",
    "    if x == '월':\n",
    "        return 0\n",
    "    elif x == '화':\n",
    "        return 1\n",
    "    elif x == '수':\n",
    "        return 2\n",
    "    elif x == '목':\n",
    "        return 3\n",
    "    elif x == '금':\n",
    "        return 4"
   ]
  },
  {
   "cell_type": "code",
   "execution_count": 42,
   "metadata": {
    "id": "jXMKH621ZYMA"
   },
   "outputs": [],
   "source": [
    "test['day'] = test['요일'].map(change_day)"
   ]
  },
  {
   "cell_type": "code",
   "execution_count": 44,
   "metadata": {
    "id": "49qDKvVmZlWB"
   },
   "outputs": [],
   "source": [
    "import numpy as np\n",
    "\n",
    "for col in ['본사정원수', '본사휴가자수', '본사출장자수', '본사시간외근무명령서승인건수', '현본사소속재택근무자수']:\n",
    "    test[col] -= np.mean(test[col])\n",
    "    test[col] /= np.std(test[col])"
   ]
  },
  {
   "cell_type": "code",
   "execution_count": 45,
   "metadata": {
    "id": "oJNsHUYQZFEB"
   },
   "outputs": [],
   "source": [
    "other_test_x = test[['본사정원수', '본사휴가자수', '본사출장자수', '본사시간외근무명령서승인건수', '현본사소속재택근무자수', 'day']]"
   ]
  },
  {
   "cell_type": "code",
   "execution_count": 46,
   "metadata": {
    "colab": {
     "base_uri": "https://localhost:8080/",
     "height": 297
    },
    "id": "z0hh7gaAZlmf",
    "outputId": "d6206b3e-4ece-49cb-fcff-aed4e044af1f"
   },
   "outputs": [
    {
     "data": {
      "text/html": [
       "<div>\n",
       "<style scoped>\n",
       "    .dataframe tbody tr th:only-of-type {\n",
       "        vertical-align: middle;\n",
       "    }\n",
       "\n",
       "    .dataframe tbody tr th {\n",
       "        vertical-align: top;\n",
       "    }\n",
       "\n",
       "    .dataframe thead th {\n",
       "        text-align: right;\n",
       "    }\n",
       "</style>\n",
       "<table border=\"1\" class=\"dataframe\">\n",
       "  <thead>\n",
       "    <tr style=\"text-align: right;\">\n",
       "      <th></th>\n",
       "      <th>본사정원수</th>\n",
       "      <th>본사휴가자수</th>\n",
       "      <th>본사출장자수</th>\n",
       "      <th>본사시간외근무명령서승인건수</th>\n",
       "      <th>현본사소속재택근무자수</th>\n",
       "      <th>day</th>\n",
       "    </tr>\n",
       "  </thead>\n",
       "  <tbody>\n",
       "    <tr>\n",
       "      <th>count</th>\n",
       "      <td>5.000000e+01</td>\n",
       "      <td>5.000000e+01</td>\n",
       "      <td>5.000000e+01</td>\n",
       "      <td>5.000000e+01</td>\n",
       "      <td>5.000000e+01</td>\n",
       "      <td>50.000000</td>\n",
       "    </tr>\n",
       "    <tr>\n",
       "      <th>mean</th>\n",
       "      <td>-6.279421e-15</td>\n",
       "      <td>-1.065814e-16</td>\n",
       "      <td>7.105427e-17</td>\n",
       "      <td>5.329071e-17</td>\n",
       "      <td>2.486900e-16</td>\n",
       "      <td>2.040000</td>\n",
       "    </tr>\n",
       "    <tr>\n",
       "      <th>std</th>\n",
       "      <td>1.010153e+00</td>\n",
       "      <td>1.010153e+00</td>\n",
       "      <td>1.010153e+00</td>\n",
       "      <td>1.010153e+00</td>\n",
       "      <td>1.010153e+00</td>\n",
       "      <td>1.399125</td>\n",
       "    </tr>\n",
       "    <tr>\n",
       "      <th>min</th>\n",
       "      <td>-1.328592e+00</td>\n",
       "      <td>-9.555284e-01</td>\n",
       "      <td>-2.002660e+00</td>\n",
       "      <td>-1.108018e+00</td>\n",
       "      <td>-2.311834e+00</td>\n",
       "      <td>0.000000</td>\n",
       "    </tr>\n",
       "    <tr>\n",
       "      <th>25%</th>\n",
       "      <td>-1.328592e+00</td>\n",
       "      <td>-6.160707e-01</td>\n",
       "      <td>-8.377273e-01</td>\n",
       "      <td>-1.105103e+00</td>\n",
       "      <td>-7.934437e-01</td>\n",
       "      <td>1.000000</td>\n",
       "    </tr>\n",
       "    <tr>\n",
       "      <th>50%</th>\n",
       "      <td>6.942338e-01</td>\n",
       "      <td>-4.147993e-01</td>\n",
       "      <td>-1.720516e-01</td>\n",
       "      <td>2.488041e-01</td>\n",
       "      <td>3.609208e-02</td>\n",
       "      <td>2.000000</td>\n",
       "    </tr>\n",
       "    <tr>\n",
       "      <th>75%</th>\n",
       "      <td>7.346904e-01</td>\n",
       "      <td>9.588930e-02</td>\n",
       "      <td>9.224730e-01</td>\n",
       "      <td>8.769354e-01</td>\n",
       "      <td>6.812866e-01</td>\n",
       "      <td>3.000000</td>\n",
       "    </tr>\n",
       "    <tr>\n",
       "      <th>max</th>\n",
       "      <td>1.058342e+00</td>\n",
       "      <td>4.319584e+00</td>\n",
       "      <td>1.786571e+00</td>\n",
       "      <td>1.815489e+00</td>\n",
       "      <td>2.228783e+00</td>\n",
       "      <td>4.000000</td>\n",
       "    </tr>\n",
       "  </tbody>\n",
       "</table>\n",
       "</div>"
      ],
      "text/plain": [
       "              본사정원수        본사휴가자수  ...   현본사소속재택근무자수        day\n",
       "count  5.000000e+01  5.000000e+01  ...  5.000000e+01  50.000000\n",
       "mean  -6.279421e-15 -1.065814e-16  ...  2.486900e-16   2.040000\n",
       "std    1.010153e+00  1.010153e+00  ...  1.010153e+00   1.399125\n",
       "min   -1.328592e+00 -9.555284e-01  ... -2.311834e+00   0.000000\n",
       "25%   -1.328592e+00 -6.160707e-01  ... -7.934437e-01   1.000000\n",
       "50%    6.942338e-01 -4.147993e-01  ...  3.609208e-02   2.000000\n",
       "75%    7.346904e-01  9.588930e-02  ...  6.812866e-01   3.000000\n",
       "max    1.058342e+00  4.319584e+00  ...  2.228783e+00   4.000000\n",
       "\n",
       "[8 rows x 6 columns]"
      ]
     },
     "execution_count": 46,
     "metadata": {
      "tags": []
     },
     "output_type": "execute_result"
    }
   ],
   "source": [
    "other_test_x.describe()"
   ]
  },
  {
   "cell_type": "code",
   "execution_count": 145,
   "metadata": {
    "id": "2EVcDbJOY3xR"
   },
   "outputs": [],
   "source": [
    "prediction = model.predict({'morning': morning_test_x, \n",
    "                            'lunch': lunch_test_x, \n",
    "                            'dinner': dinner_test_x, \n",
    "                            'other':other_test_x})"
   ]
  },
  {
   "cell_type": "code",
   "execution_count": 146,
   "metadata": {
    "colab": {
     "base_uri": "https://localhost:8080/"
    },
    "id": "7ihgTJ8eZMbL",
    "outputId": "13d99765-fda0-4f4c-b7cc-5338a2cd4cda"
   },
   "outputs": [
    {
     "data": {
      "text/plain": [
       "array([[ 13.587049],\n",
       "       [ 19.008055],\n",
       "       [ 19.133585],\n",
       "       [256.3602  ],\n",
       "       [246.4743  ],\n",
       "       [201.54565 ],\n",
       "       [239.21948 ],\n",
       "       [ 96.885056],\n",
       "       [256.84995 ],\n",
       "       [216.75397 ],\n",
       "       [ 48.295807],\n",
       "       [223.31358 ],\n",
       "       [188.48969 ],\n",
       "       [103.40424 ],\n",
       "       [125.612305],\n",
       "       [ 78.91327 ],\n",
       "       [320.37283 ],\n",
       "       [351.9286  ],\n",
       "       [194.20685 ],\n",
       "       [229.87251 ],\n",
       "       [112.83054 ],\n",
       "       [210.13982 ],\n",
       "       [ 83.64813 ],\n",
       "       [141.00693 ],\n",
       "       [ 68.67676 ],\n",
       "       [307.07156 ],\n",
       "       [248.99861 ],\n",
       "       [111.06947 ],\n",
       "       [183.24811 ],\n",
       "       [ 39.049103],\n",
       "       [185.3105  ],\n",
       "       [ 77.01426 ],\n",
       "       [ 19.951193],\n",
       "       [ 69.9035  ],\n",
       "       [ 91.24278 ],\n",
       "       [ 96.093185],\n",
       "       [ 76.173386],\n",
       "       [ 30.4111  ],\n",
       "       [ 38.920437],\n",
       "       [ 34.642235],\n",
       "       [114.76902 ],\n",
       "       [117.225204],\n",
       "       [ 32.325203],\n",
       "       [ 44.489155],\n",
       "       [ 41.631855],\n",
       "       [113.69514 ],\n",
       "       [114.652695],\n",
       "       [ 24.05774 ],\n",
       "       [ 95.4095  ],\n",
       "       [ 43.35125 ]], dtype=float32)"
      ]
     },
     "execution_count": 146,
     "metadata": {
      "tags": []
     },
     "output_type": "execute_result"
    }
   ],
   "source": [
    "prediction[0]"
   ]
  },
  {
   "cell_type": "code",
   "execution_count": 148,
   "metadata": {
    "colab": {
     "base_uri": "https://localhost:8080/"
    },
    "id": "x5JzBk1baJqB",
    "outputId": "71df0a32-6148-4fb5-b389-b75f706989b9"
   },
   "outputs": [
    {
     "data": {
      "text/plain": [
       "2"
      ]
     },
     "execution_count": 148,
     "metadata": {
      "tags": []
     },
     "output_type": "execute_result"
    }
   ],
   "source": [
    "len(prediction)"
   ]
  },
  {
   "cell_type": "code",
   "execution_count": 147,
   "metadata": {
    "colab": {
     "base_uri": "https://localhost:8080/"
    },
    "id": "w0moG4FRaT1j",
    "outputId": "d4f7cfe6-2033-4f8c-ec96-1b75a5887cdc"
   },
   "outputs": [
    {
     "data": {
      "text/plain": [
       "array([[-7.02218246e+00],\n",
       "       [ 6.53454113e+00],\n",
       "       [ 6.58611250e+00],\n",
       "       [ 1.15178978e+02],\n",
       "       [ 9.96040649e+01],\n",
       "       [ 6.04861412e+01],\n",
       "       [ 8.12258377e+01],\n",
       "       [-1.09858990e-01],\n",
       "       [ 1.16809921e+02],\n",
       "       [ 9.07198410e+01],\n",
       "       [ 1.60407805e+00],\n",
       "       [ 1.13846748e+02],\n",
       "       [ 9.86622238e+01],\n",
       "       [ 3.46368904e+01],\n",
       "       [ 3.58266716e+01],\n",
       "       [ 1.09449100e+00],\n",
       "       [ 1.30112381e+02],\n",
       "       [ 1.37302704e+02],\n",
       "       [ 4.31498833e+01],\n",
       "       [ 6.41497726e+01],\n",
       "       [-1.64940262e+00],\n",
       "       [ 9.04728394e+01],\n",
       "       [ 7.10350418e+00],\n",
       "       [ 4.43408852e+01],\n",
       "       [ 1.22729969e+00],\n",
       "       [ 1.36989044e+02],\n",
       "       [ 1.17993996e+02],\n",
       "       [ 2.89911766e+01],\n",
       "       [ 6.46360092e+01],\n",
       "       [ 3.05886841e+00],\n",
       "       [ 9.83926926e+01],\n",
       "       [ 4.27816544e+01],\n",
       "       [ 6.06418991e+00],\n",
       "       [ 1.99922562e+01],\n",
       "       [ 2.53652649e+01],\n",
       "       [ 5.40020714e+01],\n",
       "       [ 4.00952530e+01],\n",
       "       [ 3.42201638e+00],\n",
       "       [ 4.76751995e+00],\n",
       "       [ 3.71481228e+00],\n",
       "       [ 5.94580460e+01],\n",
       "       [ 5.28476791e+01],\n",
       "       [ 3.34477544e+00],\n",
       "       [ 4.33367252e+00],\n",
       "       [ 2.71653342e+00],\n",
       "       [ 6.12736511e+01],\n",
       "       [ 6.21378174e+01],\n",
       "       [ 4.14508247e+00],\n",
       "       [ 2.66779900e+01],\n",
       "       [ 2.66009545e+00]], dtype=float32)"
      ]
     },
     "execution_count": 147,
     "metadata": {
      "tags": []
     },
     "output_type": "execute_result"
    }
   ],
   "source": [
    "prediction[1]"
   ]
  },
  {
   "cell_type": "code",
   "execution_count": 149,
   "metadata": {
    "id": "4sOlo05GaVU3"
   },
   "outputs": [],
   "source": [
    "from tensorflow.keras.models import load_model\n",
    "saved_model = load_model('my_model_val.h5')"
   ]
  },
  {
   "cell_type": "code",
   "execution_count": 150,
   "metadata": {
    "id": "IwHFol9Ka7h5"
   },
   "outputs": [],
   "source": [
    "result = saved_model.predict({'morning': morning_test_x, \n",
    "                            'lunch': lunch_test_x, \n",
    "                            'dinner': dinner_test_x, \n",
    "                            'other':other_test_x})"
   ]
  },
  {
   "cell_type": "code",
   "execution_count": 151,
   "metadata": {
    "colab": {
     "base_uri": "https://localhost:8080/"
    },
    "id": "E2Wq2BCzbQ6R",
    "outputId": "c1e5c50f-ff40-4dbb-d910-e124b56d4f57"
   },
   "outputs": [
    {
     "data": {
      "text/plain": [
       "array([[ 13.763306],\n",
       "       [ 20.220268],\n",
       "       [ 22.255383],\n",
       "       [241.32166 ],\n",
       "       [235.33307 ],\n",
       "       [196.57744 ],\n",
       "       [232.87376 ],\n",
       "       [102.3659  ],\n",
       "       [242.21843 ],\n",
       "       [206.82399 ],\n",
       "       [ 51.262466],\n",
       "       [208.44548 ],\n",
       "       [178.90462 ],\n",
       "       [102.73247 ],\n",
       "       [126.73667 ],\n",
       "       [ 85.47665 ],\n",
       "       [303.2116  ],\n",
       "       [334.8787  ],\n",
       "       [191.532   ],\n",
       "       [225.8376  ],\n",
       "       [119.68717 ],\n",
       "       [197.05699 ],\n",
       "       [ 82.4226  ],\n",
       "       [138.24644 ],\n",
       "       [ 74.02296 ],\n",
       "       [287.9812  ],\n",
       "       [233.10165 ],\n",
       "       [108.23425 ],\n",
       "       [181.38408 ],\n",
       "       [ 45.250553],\n",
       "       [171.5318  ],\n",
       "       [ 73.6801  ],\n",
       "       [ 20.213188],\n",
       "       [ 72.35383 ],\n",
       "       [ 92.993904],\n",
       "       [ 90.42285 ],\n",
       "       [ 72.50303 ],\n",
       "       [ 33.003777],\n",
       "       [ 42.633633],\n",
       "       [ 38.894485],\n",
       "       [106.561966],\n",
       "       [111.00777 ],\n",
       "       [ 34.248276],\n",
       "       [ 47.800472],\n",
       "       [ 49.253796],\n",
       "       [105.437996],\n",
       "       [107.85374 ],\n",
       "       [ 25.183998],\n",
       "       [ 96.19446 ],\n",
       "       [ 50.64666 ]], dtype=float32)"
      ]
     },
     "execution_count": 151,
     "metadata": {
      "tags": []
     },
     "output_type": "execute_result"
    }
   ],
   "source": [
    "result[0]"
   ]
  },
  {
   "cell_type": "code",
   "execution_count": 152,
   "metadata": {
    "colab": {
     "base_uri": "https://localhost:8080/"
    },
    "id": "8S5vuO50bR74",
    "outputId": "57478d5c-156c-4052-9531-de9ff767bb12"
   },
   "outputs": [
    {
     "data": {
      "text/plain": [
       "array([[ -7.0788064 ],\n",
       "       [  6.0350485 ],\n",
       "       [  5.6201763 ],\n",
       "       [113.50604   ],\n",
       "       [ 98.023186  ],\n",
       "       [ 58.984356  ],\n",
       "       [ 79.33618   ],\n",
       "       [ -2.3557558 ],\n",
       "       [115.230736  ],\n",
       "       [ 89.36937   ],\n",
       "       [  0.82170594],\n",
       "       [112.444756  ],\n",
       "       [ 98.33981   ],\n",
       "       [ 34.6987    ],\n",
       "       [ 35.097332  ],\n",
       "       [ -1.0410427 ],\n",
       "       [127.15927   ],\n",
       "       [134.05869   ],\n",
       "       [ 41.076176  ],\n",
       "       [ 61.62386   ],\n",
       "       [ -4.481168  ],\n",
       "       [ 88.29236   ],\n",
       "       [  7.1500254 ],\n",
       "       [ 42.896473  ],\n",
       "       [ -0.5395621 ],\n",
       "       [134.56876   ],\n",
       "       [116.07398   ],\n",
       "       [ 28.065506  ],\n",
       "       [ 64.17077   ],\n",
       "       [  1.7198837 ],\n",
       "       [ 96.67107   ],\n",
       "       [ 42.753082  ],\n",
       "       [  5.716661  ],\n",
       "       [ 20.982166  ],\n",
       "       [ 23.529057  ],\n",
       "       [ 53.08538   ],\n",
       "       [ 39.94499   ],\n",
       "       [  2.8232303 ],\n",
       "       [  3.7049656 ],\n",
       "       [  1.9406397 ],\n",
       "       [ 58.70891   ],\n",
       "       [ 52.173027  ],\n",
       "       [  2.8568087 ],\n",
       "       [  3.2563677 ],\n",
       "       [  1.0343913 ],\n",
       "       [ 60.29529   ],\n",
       "       [ 61.667     ],\n",
       "       [  3.706524  ],\n",
       "       [ 25.5659    ],\n",
       "       [  1.0090951 ]], dtype=float32)"
      ]
     },
     "execution_count": 152,
     "metadata": {
      "tags": []
     },
     "output_type": "execute_result"
    }
   ],
   "source": [
    "result[1]"
   ]
  },
  {
   "cell_type": "code",
   "execution_count": 154,
   "metadata": {
    "id": "GO7s0gx4bTKS"
   },
   "outputs": [],
   "source": [
    "submission = pd.read_csv(\"/content/datasets/MyDrive/sample_submission.csv\")\n",
    "submission['중식계'] = result[0]\n",
    "submission['석식계'] = result[1]\n",
    "submission.to_csv('/content/datasets/MyDrive/val.csv', index=False)"
   ]
  },
  {
   "cell_type": "code",
   "execution_count": null,
   "metadata": {
    "id": "IAQxo_ownA9S"
   },
   "outputs": [],
   "source": []
  }
 ],
 "metadata": {
  "accelerator": "GPU",
  "colab": {
   "collapsed_sections": [],
   "name": "keras_cafe_predict.ipynb",
   "provenance": []
  },
  "kernelspec": {
   "display_name": "Python 3",
   "language": "python",
   "name": "python3"
  },
  "language_info": {
   "codemirror_mode": {
    "name": "ipython",
    "version": 3
   },
   "file_extension": ".py",
   "mimetype": "text/x-python",
   "name": "python",
   "nbconvert_exporter": "python",
   "pygments_lexer": "ipython3",
   "version": "3.7.6"
  }
 },
 "nbformat": 4,
 "nbformat_minor": 4
}
