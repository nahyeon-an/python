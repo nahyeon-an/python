{
 "cells": [
  {
   "cell_type": "markdown",
   "metadata": {},
   "source": [
    "### 목표 : 총평점 & 총평 text generator"
   ]
  },
  {
   "cell_type": "code",
   "execution_count": 1,
   "metadata": {},
   "outputs": [],
   "source": [
    "from pymongo import MongoClient\n",
    "import json\n",
    "import pandas as pd\n",
    "import numpy as np\n",
    "\n",
    "with open(\"../letter-preprocess/secrets.json\", 'r') as f:\n",
    "    info = json.load(f)\n",
    "\n",
    "mongo_host = \"mongodb://{}:{}@{}:{}\".format(info['mongo_info']['user'],\n",
    "                                                    info['mongo_info']['password'],\n",
    "                                                    info['host'],\n",
    "                                                    info['mongo_info']['port'])\n",
    "\n",
    "mongo = MongoClient(mongo_host)"
   ]
  },
  {
   "cell_type": "code",
   "execution_count": 2,
   "metadata": {},
   "outputs": [],
   "source": [
    "db = mongo['rating_db']\n",
    "posts = db.posts"
   ]
  },
  {
   "cell_type": "code",
   "execution_count": 3,
   "metadata": {},
   "outputs": [
    {
     "data": {
      "text/plain": [
       "4050"
      ]
     },
     "execution_count": 3,
     "metadata": {},
     "output_type": "execute_result"
    }
   ],
   "source": [
    "posts.count_documents({})"
   ]
  },
  {
   "cell_type": "code",
   "execution_count": 4,
   "metadata": {},
   "outputs": [
    {
     "data": {
      "text/plain": [
       "{'_id': ObjectId('608d29d23469c2524d528203'),\n",
       " 'target': 3.0,\n",
       " 'content': '\\n1. 객체지향프로그래밍\\nA+,프로그래밍 수업을 들으면서 프로그램을 만들고 수정하는 과정이 어릴 때부터 좋아하던 수학문제를 푸는 과정과 비슷하다는 것을 깨달으면서 WEP/APP개발에 관심을 갖게 되었습니다. \\n\\n2.데이터베이스 설계\\nA0,데이터베이스를 설계하고 빅 데이터를 분석하는데 필요한 언어와 프로그램의 사용법을 익혔습니다. \\n\\n3. 컴퓨터그래픽스 설계\\nA0, 컴퓨터 그래픽스 설계 과목을 수강하며 OpenGL을 이용하여 3D 공간을 만들고 객체를 생성하여 컴퓨터 그래픽을 사용하는 방법을 익혔습니다. \\n\\n한국oo협회가 운영하는 빅 데이터 관리자과정을 수강하여 Java, 오라클, 하둡, R 등 데이터베이스를 설계하고 빅 데이터를 분석하는데 필요한 언어와 프로그램의 사용법을 익혔습니다. \\n\\n또한 단순히 수업을 듣는 데에 만족하지 않고 프로그램 하나를 배울 때마다 미니프로젝트를 진행하여 실제 사용에 필요한 경험을 얻을 수 있었고, 특허와 관련된 데이터베이스와 그 안에서 원하는 정보를 검색하는 시스템 설계하는 졸업 프로젝트를 진행 중에 있습니다. \\n\\nNHN엔터테이먼트는 생활, 문화 기반의 IT서비스를 제공하는 기업이기 때문에 많은 사용자가 편리하게 이용할 수 있는 프로그램을 개발하는 것이 가장 중요하다고 생각합니다. 저는 입사 후 단순히 성과를 내기위한 개발이 아닌 고객이 필요로 하는 프로그램을 개발하려고 사용자가 만족하는 성능을 내도록 노력하겠습니다. \\n'}"
      ]
     },
     "execution_count": 4,
     "metadata": {},
     "output_type": "execute_result"
    }
   ],
   "source": [
    "posts.find_one()"
   ]
  },
  {
   "cell_type": "code",
   "execution_count": 5,
   "metadata": {},
   "outputs": [
    {
     "name": "stdout",
     "output_type": "stream",
     "text": [
      "<class 'pandas.core.frame.DataFrame'>\n",
      "RangeIndex: 4050 entries, 0 to 4049\n",
      "Data columns (total 2 columns):\n",
      " #   Column   Non-Null Count  Dtype  \n",
      "---  ------   --------------  -----  \n",
      " 0   content  4050 non-null   object \n",
      " 1   target   4050 non-null   float64\n",
      "dtypes: float64(1), object(1)\n",
      "memory usage: 63.4+ KB\n"
     ]
    }
   ],
   "source": [
    "data = []\n",
    "\n",
    "for post in posts.find():\n",
    "    data.append([post['content'], post['target']])\n",
    "    \n",
    "df = pd.DataFrame(data, columns=['content', 'target'])\n",
    "df.info()"
   ]
  },
  {
   "cell_type": "code",
   "execution_count": 6,
   "metadata": {},
   "outputs": [],
   "source": [
    "from keras.preprocessing.text import Tokenizer\n",
    "from sklearn.model_selection import train_test_split\n",
    "\n",
    "train_x, test_x, train_y, test_y = train_test_split(df['content'], df['target'], test_size=0.2, random_state=121)\n",
    "\n",
    "tokenizer = Tokenizer(num_words=10000)\n",
    "tokenizer.fit_on_texts(list(train_x))"
   ]
  },
  {
   "cell_type": "code",
   "execution_count": 7,
   "metadata": {},
   "outputs": [
    {
     "data": {
      "text/plain": [
       "(3240, 810)"
      ]
     },
     "execution_count": 7,
     "metadata": {},
     "output_type": "execute_result"
    }
   ],
   "source": [
    "len(train_x), len(test_x)"
   ]
  },
  {
   "cell_type": "code",
   "execution_count": 8,
   "metadata": {},
   "outputs": [
    {
     "name": "stdout",
     "output_type": "stream",
     "text": [
      "index_word : 55283\n",
      "word_index : 55283\n",
      "단어 출현 빈도수 :  55283\n",
      "문장 수 :  3240\n"
     ]
    }
   ],
   "source": [
    "print(\"index_word :\" , len(tokenizer.index_word ))  # index - word dict\n",
    "print(\"word_index :\" , len(tokenizer.word_index ))  # word - index dict\n",
    "print(\"단어 출현 빈도수 : \" , len(tokenizer.index_docs ))\n",
    "print(\"문장 수 : \" , tokenizer.document_count)"
   ]
  },
  {
   "cell_type": "code",
   "execution_count": null,
   "metadata": {},
   "outputs": [],
   "source": [
    "print(\"0번째 자소서의 단어 길이\", len(token_train_x[0]))"
   ]
  },
  {
   "cell_type": "code",
   "execution_count": 9,
   "metadata": {},
   "outputs": [
    {
     "name": "stdout",
     "output_type": "stream",
     "text": [
      "one_hot_train_x:  [[0. 1. 0. ... 0. 0. 0.]\n",
      " [0. 1. 1. ... 0. 0. 0.]\n",
      " [0. 1. 1. ... 0. 0. 0.]\n",
      " ...\n",
      " [0. 1. 1. ... 0. 0. 0.]\n",
      " [0. 1. 0. ... 0. 0. 0.]\n",
      " [0. 1. 1. ... 0. 0. 0.]]\n"
     ]
    }
   ],
   "source": [
    "# 원-핫 이진 벡터 표현\n",
    "one_hot_train_x = tokenizer.texts_to_matrix(train_x, mode='binary')#TODO\n",
    "one_hot_test_x = tokenizer.texts_to_matrix(test_x, mode='binary')\n",
    "print( \"one_hot_train_x: \", one_hot_train_x  )"
   ]
  },
  {
   "cell_type": "code",
   "execution_count": null,
   "metadata": {},
   "outputs": [],
   "source": [
    "from keras.utils.np_utils import to_categorical\n",
    "\n",
    "one_hot_train_y = to_categorical(train_y)\n",
    "one_hot_test_y = to_categorical(test_y)"
   ]
  },
  {
   "cell_type": "code",
   "execution_count": null,
   "metadata": {},
   "outputs": [],
   "source": [
    "one_hot_train_y[:1], train_y[:1]"
   ]
  },
  {
   "cell_type": "code",
   "execution_count": 10,
   "metadata": {},
   "outputs": [],
   "source": [
    "label_dict = {1.0 : 0, 1.5 : 1, 2.0 : 2, 2.5 : 3, \n",
    "              3.0 : 4, 3.5 : 5, 4.0 : 6, 4.5 : 7, 5.0 : 8}\n",
    "\n",
    "def to_one_hot(labels, dimension=9):\n",
    "    results = np.zeros((len(labels), dimension))\n",
    "    for i, label in enumerate(labels):\n",
    "        l = label_dict[label]\n",
    "        results[i, l] = 1.\n",
    "    return results\n",
    "\n",
    "one_hot_label = to_one_hot(train_y)\n",
    "one_hot_test = to_one_hot(test_y)"
   ]
  },
  {
   "cell_type": "code",
   "execution_count": 11,
   "metadata": {},
   "outputs": [
    {
     "data": {
      "text/plain": [
       "(array([[0., 0., 1., 0., 0., 0., 0., 0., 0.]]),\n",
       " 3508    2.0\n",
       " Name: target, dtype: float64)"
      ]
     },
     "execution_count": 11,
     "metadata": {},
     "output_type": "execute_result"
    }
   ],
   "source": [
    "one_hot_label[:1], train_y[:1]"
   ]
  },
  {
   "cell_type": "code",
   "execution_count": null,
   "metadata": {},
   "outputs": [],
   "source": [
    "len(temp), len(train_y)"
   ]
  },
  {
   "cell_type": "code",
   "execution_count": null,
   "metadata": {},
   "outputs": [],
   "source": [
    "len(label_dict)"
   ]
  },
  {
   "cell_type": "code",
   "execution_count": null,
   "metadata": {},
   "outputs": [],
   "source": [
    "one_hot_label[0].shape[0]"
   ]
  },
  {
   "cell_type": "code",
   "execution_count": 13,
   "metadata": {},
   "outputs": [],
   "source": [
    "x_val = one_hot_train_x[:1000]\n",
    "partial_x_train = one_hot_train_x[1000:]\n",
    "\n",
    "y_val = one_hot_label[:1000]\n",
    "partial_y_train = one_hot_label[1000:]"
   ]
  },
  {
   "cell_type": "code",
   "execution_count": 12,
   "metadata": {},
   "outputs": [],
   "source": [
    "from keras import models, layers\n",
    "\n",
    "model = models.Sequential()\n",
    "model.add(layers.Dense(64, activation='relu', input_shape=(10000,)))\n",
    "model.add(layers.Dense(64, activation='relu'))\n",
    "model.add(layers.Dense(len(label_dict), activation='softmax'))\n",
    "\n",
    "model.compile(optimizer='rmsprop',\n",
    "             loss='categorical_crossentropy',\n",
    "             metrics=['accuracy'])"
   ]
  },
  {
   "cell_type": "code",
   "execution_count": 14,
   "metadata": {},
   "outputs": [
    {
     "name": "stdout",
     "output_type": "stream",
     "text": [
      "Epoch 1/20\n",
      "5/5 [==============================] - 1s 157ms/step - loss: 1.6368 - accuracy: 0.4044 - val_loss: 0.6728 - val_accuracy: 0.7420\n",
      "Epoch 2/20\n",
      "5/5 [==============================] - 0s 26ms/step - loss: 0.4819 - accuracy: 0.8714 - val_loss: 0.2558 - val_accuracy: 0.9690\n",
      "Epoch 3/20\n",
      "5/5 [==============================] - 0s 25ms/step - loss: 0.1849 - accuracy: 0.9802 - val_loss: 0.1397 - val_accuracy: 0.9820\n",
      "Epoch 4/20\n",
      "5/5 [==============================] - 0s 25ms/step - loss: 0.0745 - accuracy: 0.9976 - val_loss: 0.0877 - val_accuracy: 0.9840\n",
      "Epoch 5/20\n",
      "5/5 [==============================] - 0s 25ms/step - loss: 0.0363 - accuracy: 0.9995 - val_loss: 0.0695 - val_accuracy: 0.9850\n",
      "Epoch 6/20\n",
      "5/5 [==============================] - 0s 26ms/step - loss: 0.0235 - accuracy: 0.9984 - val_loss: 0.0740 - val_accuracy: 0.9830\n",
      "Epoch 7/20\n",
      "5/5 [==============================] - 0s 25ms/step - loss: 0.0148 - accuracy: 0.9992 - val_loss: 0.0564 - val_accuracy: 0.9870\n",
      "Epoch 8/20\n",
      "5/5 [==============================] - 0s 24ms/step - loss: 0.0104 - accuracy: 0.9983 - val_loss: 0.0630 - val_accuracy: 0.9860\n",
      "Epoch 9/20\n",
      "5/5 [==============================] - 0s 27ms/step - loss: 0.0106 - accuracy: 0.9982 - val_loss: 0.0556 - val_accuracy: 0.9860\n",
      "Epoch 10/20\n",
      "5/5 [==============================] - 0s 27ms/step - loss: 0.0104 - accuracy: 0.9966 - val_loss: 0.0616 - val_accuracy: 0.9840\n",
      "Epoch 11/20\n",
      "5/5 [==============================] - 0s 27ms/step - loss: 0.0055 - accuracy: 0.9989 - val_loss: 0.0547 - val_accuracy: 0.9850\n",
      "Epoch 12/20\n",
      "5/5 [==============================] - 0s 23ms/step - loss: 0.0052 - accuracy: 0.9983 - val_loss: 0.0599 - val_accuracy: 0.9850\n",
      "Epoch 13/20\n",
      "5/5 [==============================] - 0s 25ms/step - loss: 0.0027 - accuracy: 0.9995 - val_loss: 0.0605 - val_accuracy: 0.9860\n",
      "Epoch 14/20\n",
      "5/5 [==============================] - 0s 25ms/step - loss: 0.0054 - accuracy: 0.9976 - val_loss: 0.0565 - val_accuracy: 0.9850\n",
      "Epoch 15/20\n",
      "5/5 [==============================] - 0s 27ms/step - loss: 0.0034 - accuracy: 0.9989 - val_loss: 0.0572 - val_accuracy: 0.9850\n",
      "Epoch 16/20\n",
      "5/5 [==============================] - 0s 25ms/step - loss: 0.0019 - accuracy: 0.9990 - val_loss: 0.0721 - val_accuracy: 0.9850\n",
      "Epoch 17/20\n",
      "5/5 [==============================] - 0s 27ms/step - loss: 0.0021 - accuracy: 0.9994 - val_loss: 0.0579 - val_accuracy: 0.9850\n",
      "Epoch 18/20\n",
      "5/5 [==============================] - 0s 29ms/step - loss: 0.0025 - accuracy: 0.9983 - val_loss: 0.0660 - val_accuracy: 0.9850\n",
      "Epoch 19/20\n",
      "5/5 [==============================] - 0s 25ms/step - loss: 0.0030 - accuracy: 0.9988 - val_loss: 0.0723 - val_accuracy: 0.9850\n",
      "Epoch 20/20\n",
      "5/5 [==============================] - 0s 24ms/step - loss: 0.0018 - accuracy: 0.9994 - val_loss: 0.0605 - val_accuracy: 0.9860\n"
     ]
    }
   ],
   "source": [
    "history = model.fit(partial_x_train,\n",
    "                   partial_y_train,\n",
    "                   epochs=20,\n",
    "                   batch_size=512,\n",
    "                   validation_data=(x_val, y_val))"
   ]
  },
  {
   "cell_type": "code",
   "execution_count": 15,
   "metadata": {},
   "outputs": [
    {
     "data": {
      "image/png": "[encoded data removed]",
      "text/plain": [
       "<Figure size 432x288 with 1 Axes>"
      ]
     },
     "metadata": {
      "needs_background": "light"
     },
     "output_type": "display_data"
    }
   ],
   "source": [
    "# loss graph\n",
    "import matplotlib.pyplot as plt\n",
    "\n",
    "loss = history.history['loss']  # training loss\n",
    "val_loss = history.history['val_loss']  # validation loss\n",
    "\n",
    "epochs = range(1, len(loss)+1)\n",
    "\n",
    "plt.plot(epochs, loss, 'ro', label='Training loss')\n",
    "plt.plot(epochs, val_loss, 'b', label='Validation loss')\n",
    "plt.title('Training and validation loss')\n",
    "plt.xlabel('Epochs')\n",
    "plt.ylabel('Loss')\n",
    "plt.legend()\n",
    "\n",
    "plt.show()"
   ]
  },
  {
   "cell_type": "code",
   "execution_count": 16,
   "metadata": {},
   "outputs": [
    {
     "data": {
      "image/png": "[encoded data removed]",
      "text/plain": [
       "<Figure size 432x288 with 1 Axes>"
      ]
     },
     "metadata": {
      "needs_background": "light"
     },
     "output_type": "display_data"
    }
   ],
   "source": [
    "# accuracy graph\n",
    "plt.clf()  # 그래프 초기화\n",
    "\n",
    "acc = history.history['accuracy']\n",
    "val_acc = history.history['val_accuracy']\n",
    "\n",
    "plt.plot(epochs, acc, 'ro', label='Training accuracy')\n",
    "plt.plot(epochs, val_acc, 'b', label='Validation accuracy')\n",
    "plt.title('Training and validation accuracy')\n",
    "plt.xlabel('Epochs')\n",
    "plt.ylabel('Accuracy')\n",
    "plt.legend()\n",
    "\n",
    "plt.show()"
   ]
  },
  {
   "cell_type": "code",
   "execution_count": 17,
   "metadata": {},
   "outputs": [
    {
     "name": "stdout",
     "output_type": "stream",
     "text": [
      "26/26 [==============================] - 0s 2ms/step - loss: 0.0340 - accuracy: 0.9877\n",
      "[0.03398588299751282, 0.9876543283462524]\n"
     ]
    }
   ],
   "source": [
    "results = model.evaluate(one_hot_test_x, one_hot_test)\n",
    "\n",
    "print(results)"
   ]
  },
  {
   "cell_type": "code",
   "execution_count": 20,
   "metadata": {},
   "outputs": [
    {
     "name": "stdout",
     "output_type": "stream",
     "text": [
      "Epoch 1/4\n",
      "5/5 [==============================] - 1s 54ms/step - loss: 1.6691 - accuracy: 0.3880 - val_loss: 0.9561 - val_accuracy: 0.5300\n",
      "Epoch 2/4\n",
      "5/5 [==============================] - 0s 23ms/step - loss: 0.6461 - accuracy: 0.7803 - val_loss: 0.2945 - val_accuracy: 0.9520\n",
      "Epoch 3/4\n",
      "5/5 [==============================] - 0s 23ms/step - loss: 0.2101 - accuracy: 0.9817 - val_loss: 0.1518 - val_accuracy: 0.9840\n",
      "Epoch 4/4\n",
      "5/5 [==============================] - 0s 22ms/step - loss: 0.0980 - accuracy: 0.9946 - val_loss: 0.1077 - val_accuracy: 0.9780\n"
     ]
    }
   ],
   "source": [
    "model = models.Sequential()\n",
    "model.add(layers.Dense(64, activation='relu', input_shape=(10000,)))\n",
    "model.add(layers.Dense(64, activation='relu'))\n",
    "model.add(layers.Dense(len(label_dict), activation='softmax'))\n",
    "\n",
    "model.compile(optimizer='rmsprop',\n",
    "             loss='categorical_crossentropy',\n",
    "             metrics=['accuracy'])\n",
    "\n",
    "history = model.fit(partial_x_train,\n",
    "                   partial_y_train,\n",
    "                   epochs=4,\n",
    "                   batch_size=512,\n",
    "                   validation_data=(x_val, y_val))"
   ]
  },
  {
   "cell_type": "code",
   "execution_count": 29,
   "metadata": {},
   "outputs": [
    {
     "name": "stdout",
     "output_type": "stream",
     "text": [
      "26/26 [==============================] - 0s 1ms/step - loss: 0.0871 - accuracy: 0.9877\n"
     ]
    }
   ],
   "source": [
    "results = model.evaluate(one_hot_test_x, one_hot_test)"
   ]
  },
  {
   "cell_type": "code",
   "execution_count": 30,
   "metadata": {},
   "outputs": [
    {
     "data": {
      "text/plain": [
       "[0.08710188418626785, 0.9876543283462524]"
      ]
     },
     "execution_count": 30,
     "metadata": {},
     "output_type": "execute_result"
    }
   ],
   "source": [
    "results"
   ]
  },
  {
   "cell_type": "code",
   "execution_count": 22,
   "metadata": {},
   "outputs": [
    {
     "data": {
      "image/png": "[encoded data removed]",
      "text/plain": [
       "<Figure size 432x288 with 1 Axes>"
      ]
     },
     "metadata": {
      "needs_background": "light"
     },
     "output_type": "display_data"
    }
   ],
   "source": [
    "loss = history.history['loss']  # training loss\n",
    "val_loss = history.history['val_loss']  # validation loss\n",
    "\n",
    "epochs = range(1, len(loss)+1)\n",
    "\n",
    "plt.plot(epochs, loss, 'ro', label='Training loss')\n",
    "plt.plot(epochs, val_loss, 'b', label='Validation loss')\n",
    "plt.title('Training and validation loss')\n",
    "plt.xlabel('Epochs')\n",
    "plt.ylabel('Loss')\n",
    "plt.legend()\n",
    "\n",
    "plt.show()"
   ]
  },
  {
   "cell_type": "code",
   "execution_count": 23,
   "metadata": {},
   "outputs": [
    {
     "data": {
      "image/png": "[encoded data removed]",
      "text/plain": [
       "<Figure size 432x288 with 1 Axes>"
      ]
     },
     "metadata": {
      "needs_background": "light"
     },
     "output_type": "display_data"
    }
   ],
   "source": [
    "# accuracy graph\n",
    "plt.clf()  # 그래프 초기화\n",
    "\n",
    "acc = history.history['accuracy']\n",
    "val_acc = history.history['val_accuracy']\n",
    "\n",
    "plt.plot(epochs, acc, 'ro', label='Training accuracy')\n",
    "plt.plot(epochs, val_acc, 'b', label='Validation accuracy')\n",
    "plt.title('Training and validation accuracy')\n",
    "plt.xlabel('Epochs')\n",
    "plt.ylabel('Accuracy')\n",
    "plt.legend()\n",
    "\n",
    "plt.show()"
   ]
  },
  {
   "cell_type": "code",
   "execution_count": 25,
   "metadata": {},
   "outputs": [],
   "source": [
    "reverse_label = {value : key for (key, value) in label_dict.items()}"
   ]
  },
  {
   "cell_type": "code",
   "execution_count": 31,
   "metadata": {},
   "outputs": [
    {
     "name": "stdout",
     "output_type": "stream",
     "text": [
      "1031    3.0\n",
      "1781    2.0\n",
      "1572    3.0\n",
      "18      3.0\n",
      "3484    2.0\n",
      "Name: target, dtype: float64\n",
      "[4, 2, 4, 2, 2]\n",
      "[3.0, 2.0, 3.0, 2.0, 2.0]\n",
      "[[0. 0. 0. 0. 1. 0. 0. 0. 0.]\n",
      " [0. 0. 1. 0. 0. 0. 0. 0. 0.]\n",
      " [0. 0. 0. 0. 1. 0. 0. 0. 0.]\n",
      " [0. 0. 0. 0. 1. 0. 0. 0. 0.]\n",
      " [0. 0. 1. 0. 0. 0. 0. 0. 0.]]\n"
     ]
    }
   ],
   "source": [
    "prediction = model.predict(one_hot_test_x)\n",
    "print(test_y[:5])\n",
    "print([ np.argmax(x) for x in prediction[:5]])\n",
    "print( [reverse_label[np.argmax(x)] for x in prediction[:5]] )\n",
    "print(one_hot_test[:5])"
   ]
  },
  {
   "cell_type": "code",
   "execution_count": 33,
   "metadata": {},
   "outputs": [
    {
     "name": "stdout",
     "output_type": "stream",
     "text": [
      "prediction: [4, 2, 4, 2, 2]\n",
      "predicted rating: [3.0, 2.0, 3.0, 2.0, 2.0]\n",
      "answer: [4, 2, 4, 4, 2]\n",
      "answer rating: [3.0, 2.0, 3.0, 3.0, 2.0]\n"
     ]
    }
   ],
   "source": [
    "prediction = model.predict(one_hot_test_x)\n",
    "\n",
    "print('prediction:',[ np.argmax(x) for x in prediction[:5] ])\n",
    "print('predicted rating:', [ reverse_label[np.argmax(x)] for x in prediction[:5] ] )\n",
    "\n",
    "print('answer:', [ np.argmax(x) for x in one_hot_test[:5] ])\n",
    "print('answer rating:', [ reverse_label[np.argmax(x)] for x in one_hot_test[:5] ])"
   ]
  },
  {
   "cell_type": "code",
   "execution_count": null,
   "metadata": {},
   "outputs": [],
   "source": [
    "model.save('rating_evaluate_model')"
   ]
  },
  {
   "cell_type": "code",
   "execution_count": null,
   "metadata": {},
   "outputs": [],
   "source": [
    "import pickle\n",
    "\n",
    "with open('rating_tokenizer.pkl', 'wb') as f:\n",
    "    pickle.dump(tokenizer, f)"
   ]
  },
  {
   "cell_type": "code",
   "execution_count": null,
   "metadata": {},
   "outputs": [],
   "source": [
    "with open('rating_test_x.pkl', 'wb') as f:\n",
    "    pickle.dump(vector_test_x, f)"
   ]
  },
  {
   "cell_type": "code",
   "execution_count": null,
   "metadata": {},
   "outputs": [],
   "source": [
    "with open('rating_test_y.pkl', 'wb') as f:\n",
    "    pickle.dump(one_hot_test_y, f)"
   ]
  },
  {
   "cell_type": "code",
   "execution_count": null,
   "metadata": {},
   "outputs": [],
   "source": []
  }
 ],
 "metadata": {
  "kernelspec": {
   "display_name": "Python 3",
   "language": "python",
   "name": "python3"
  },
  "language_info": {
   "codemirror_mode": {
    "name": "ipython",
    "version": 3
   },
   "file_extension": ".py",
   "mimetype": "text/x-python",
   "name": "python",
   "nbconvert_exporter": "python",
   "pygments_lexer": "ipython3",
   "version": "3.7.6"
  }
 },
 "nbformat": 4,
 "nbformat_minor": 4
}
