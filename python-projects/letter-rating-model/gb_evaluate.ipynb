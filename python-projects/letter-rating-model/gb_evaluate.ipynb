{
 "cells": [
  {
   "cell_type": "code",
   "execution_count": null,
   "metadata": {},
   "outputs": [],
   "source": [
    "# mongo db 에서 데이터 가져와서 학습"
   ]
  },
  {
   "cell_type": "code",
   "execution_count": 1,
   "metadata": {},
   "outputs": [],
   "source": [
    "from pymongo import MongoClient\n",
    "import json\n",
    "\n",
    "with open(\"../letter-preprocess/secrets.json\", 'r') as f:\n",
    "    info = json.load(f)\n",
    "\n",
    "mongo_host = \"mongodb://{}:{}@{}:{}\".format(info['mongo_info']['user'],\n",
    "                                                    info['mongo_info']['password'],\n",
    "                                                    info['host'],\n",
    "                                                    info['mongo_info']['port'])\n",
    "\n",
    "mongo = MongoClient(mongo_host)"
   ]
  },
  {
   "cell_type": "code",
   "execution_count": 2,
   "metadata": {},
   "outputs": [],
   "source": [
    "db = mongo['letter_db']\n",
    "posts = db.posts"
   ]
  },
  {
   "cell_type": "code",
   "execution_count": 3,
   "metadata": {},
   "outputs": [
    {
     "data": {
      "text/plain": [
       "29957"
      ]
     },
     "execution_count": 3,
     "metadata": {},
     "output_type": "execute_result"
    }
   ],
   "source": [
    "posts.count_documents({})"
   ]
  },
  {
   "cell_type": "code",
   "execution_count": 4,
   "metadata": {},
   "outputs": [
    {
     "data": {
      "text/plain": [
       "{'_id': ObjectId('608ccc6267a93c593d5b6c2f'),\n",
       " 'target': 1,\n",
       " 'content': '1. 객체지향프로그래밍\\nA+,프로그래밍 수업을 들으면서 프로그램을 만들고 수정하는 과정이 어릴 때부터 좋아하던 수학문제를 푸는 과정과 비슷하다는 것을 깨달으면서 WEP/APP개발에 관심을 갖게 되었습니다. '}"
      ]
     },
     "execution_count": 4,
     "metadata": {},
     "output_type": "execute_result"
    }
   ],
   "source": [
    "posts.find_one()"
   ]
  },
  {
   "cell_type": "code",
   "execution_count": 5,
   "metadata": {},
   "outputs": [
    {
     "data": {
      "text/plain": [
       "29957"
      ]
     },
     "execution_count": 5,
     "metadata": {},
     "output_type": "execute_result"
    }
   ],
   "source": [
    "posts.count_documents({})"
   ]
  },
  {
   "cell_type": "code",
   "execution_count": 6,
   "metadata": {},
   "outputs": [],
   "source": [
    "posts.find_one({\"_id\":29956})"
   ]
  },
  {
   "cell_type": "code",
   "execution_count": null,
   "metadata": {},
   "outputs": [],
   "source": []
  },
  {
   "cell_type": "code",
   "execution_count": 7,
   "metadata": {},
   "outputs": [],
   "source": [
    "import pandas as pd"
   ]
  },
  {
   "cell_type": "code",
   "execution_count": 8,
   "metadata": {},
   "outputs": [
    {
     "name": "stdout",
     "output_type": "stream",
     "text": [
      "<class 'pandas.core.frame.DataFrame'>\n",
      "RangeIndex: 29957 entries, 0 to 29956\n",
      "Data columns (total 2 columns):\n",
      " #   Column   Non-Null Count  Dtype \n",
      "---  ------   --------------  ----- \n",
      " 0   content  29957 non-null  object\n",
      " 1   target   29957 non-null  int64 \n",
      "dtypes: int64(1), object(1)\n",
      "memory usage: 468.2+ KB\n"
     ]
    }
   ],
   "source": [
    "data = []\n",
    "\n",
    "for post in posts.find():\n",
    "    data.append([post['content'], post['target']])\n",
    "    \n",
    "df = pd.DataFrame(data, columns=['content', 'target'])\n",
    "df.info()"
   ]
  },
  {
   "cell_type": "code",
   "execution_count": 9,
   "metadata": {},
   "outputs": [
    {
     "data": {
      "text/html": [
       "<div>\n",
       "<style scoped>\n",
       "    .dataframe tbody tr th:only-of-type {\n",
       "        vertical-align: middle;\n",
       "    }\n",
       "\n",
       "    .dataframe tbody tr th {\n",
       "        vertical-align: top;\n",
       "    }\n",
       "\n",
       "    .dataframe thead th {\n",
       "        text-align: right;\n",
       "    }\n",
       "</style>\n",
       "<table border=\"1\" class=\"dataframe\">\n",
       "  <thead>\n",
       "    <tr style=\"text-align: right;\">\n",
       "      <th></th>\n",
       "      <th>content</th>\n",
       "      <th>target</th>\n",
       "    </tr>\n",
       "  </thead>\n",
       "  <tbody>\n",
       "    <tr>\n",
       "      <th>0</th>\n",
       "      <td>1. 객체지향프로그래밍\\nA+,프로그래밍 수업을 들으면서 프로그램을 만들고 수정하는...</td>\n",
       "      <td>1</td>\n",
       "    </tr>\n",
       "    <tr>\n",
       "      <th>1</th>\n",
       "      <td>한국oo협회가 운영하는 빅 데이터 관리자과정을 수강하여 Java, 오라클, 하둡, ...</td>\n",
       "      <td>1</td>\n",
       "    </tr>\n",
       "    <tr>\n",
       "      <th>2</th>\n",
       "      <td>NHN엔터테이먼트는 생활, 문화 기반의 IT서비스를 제공하는 기업이기 때문에 많은 ...</td>\n",
       "      <td>1</td>\n",
       "    </tr>\n",
       "    <tr>\n",
       "      <th>3</th>\n",
       "      <td>당시 가장 큰 문제는 12명으로 이뤄진 팀원들 간의 의사소통 문제였습니다. 학과, ...</td>\n",
       "      <td>1</td>\n",
       "    </tr>\n",
       "    <tr>\n",
       "      <th>4</th>\n",
       "      <td>[고객의 마음을 움직이는 밝고 친절한 미소]\\n제 꿈은 내가 사랑하는 ‘사람들’과 ...</td>\n",
       "      <td>1</td>\n",
       "    </tr>\n",
       "  </tbody>\n",
       "</table>\n",
       "</div>"
      ],
      "text/plain": [
       "                                             content  target\n",
       "0  1. 객체지향프로그래밍\\nA+,프로그래밍 수업을 들으면서 프로그램을 만들고 수정하는...       1\n",
       "1  한국oo협회가 운영하는 빅 데이터 관리자과정을 수강하여 Java, 오라클, 하둡, ...       1\n",
       "2  NHN엔터테이먼트는 생활, 문화 기반의 IT서비스를 제공하는 기업이기 때문에 많은 ...       1\n",
       "3  당시 가장 큰 문제는 12명으로 이뤄진 팀원들 간의 의사소통 문제였습니다. 학과, ...       1\n",
       "4  [고객의 마음을 움직이는 밝고 친절한 미소]\\n제 꿈은 내가 사랑하는 ‘사람들’과 ...       1"
      ]
     },
     "execution_count": 9,
     "metadata": {},
     "output_type": "execute_result"
    }
   ],
   "source": [
    "df.head()"
   ]
  },
  {
   "cell_type": "code",
   "execution_count": null,
   "metadata": {},
   "outputs": [],
   "source": []
  },
  {
   "cell_type": "code",
   "execution_count": 10,
   "metadata": {},
   "outputs": [],
   "source": [
    "from keras.preprocessing.text import Tokenizer\n",
    "from sklearn.model_selection import train_test_split\n",
    "\n",
    "train_x, test_x, train_y, test_y = train_test_split(df['content'], df['target'], \n",
    "                                                    test_size=0.2, random_state=121)\n",
    "\n",
    "tokenizer = Tokenizer(num_words=10000)\n",
    "tokenizer.fit_on_texts(list(train_x))"
   ]
  },
  {
   "cell_type": "code",
   "execution_count": 11,
   "metadata": {},
   "outputs": [
    {
     "name": "stdout",
     "output_type": "stream",
     "text": [
      "index_word : 44393\n",
      "word_index : 44393\n",
      "단어 출현 빈도수 :  44393\n",
      "문장 수 :  23965\n"
     ]
    }
   ],
   "source": [
    "print(\"index_word :\" , len(tokenizer.index_word ))  # index - word dict\n",
    "print(\"word_index :\" , len(tokenizer.word_index ))  # word - index dict\n",
    "print(\"단어 출현 빈도수 : \" , len(tokenizer.index_docs ))\n",
    "print(\"문장 수 : \" , tokenizer.document_count)"
   ]
  },
  {
   "cell_type": "code",
   "execution_count": null,
   "metadata": {},
   "outputs": [],
   "source": []
  },
  {
   "cell_type": "code",
   "execution_count": null,
   "metadata": {},
   "outputs": [],
   "source": [
    "# split content to line\n",
    "words = df['content'].map(lambda x: x.splitlines())"
   ]
  },
  {
   "cell_type": "code",
   "execution_count": null,
   "metadata": {},
   "outputs": [],
   "source": [
    "words.head()"
   ]
  },
  {
   "cell_type": "code",
   "execution_count": null,
   "metadata": {},
   "outputs": [],
   "source": [
    "words.loc[0]"
   ]
  },
  {
   "cell_type": "code",
   "execution_count": null,
   "metadata": {},
   "outputs": [],
   "source": [
    "# split lines to word\n",
    "def function(row):\n",
    "    ret = []\n",
    "    for r in row:\n",
    "        ret.extend(r.split())\n",
    "        \n",
    "    return ret\n",
    "\n",
    "words = words.map(function)"
   ]
  },
  {
   "cell_type": "code",
   "execution_count": null,
   "metadata": {},
   "outputs": [],
   "source": [
    "words.loc[0]"
   ]
  },
  {
   "cell_type": "code",
   "execution_count": null,
   "metadata": {},
   "outputs": [],
   "source": [
    "words.map(len).plot(kind='bar')"
   ]
  },
  {
   "cell_type": "code",
   "execution_count": null,
   "metadata": {},
   "outputs": [],
   "source": [
    "words.map(len).describe()"
   ]
  },
  {
   "cell_type": "code",
   "execution_count": null,
   "metadata": {},
   "outputs": [],
   "source": []
  },
  {
   "cell_type": "code",
   "execution_count": 12,
   "metadata": {},
   "outputs": [],
   "source": [
    "# 원-핫 이진 벡터 표현\n",
    "one_hot_train_x = tokenizer.texts_to_matrix(train_x, mode='binary')\n",
    "one_hot_test_x = tokenizer.texts_to_matrix(test_x, mode='binary')"
   ]
  },
  {
   "cell_type": "code",
   "execution_count": 13,
   "metadata": {},
   "outputs": [
    {
     "data": {
      "text/plain": [
       "array([0., 0., 1., ..., 0., 0., 0.])"
      ]
     },
     "execution_count": 13,
     "metadata": {},
     "output_type": "execute_result"
    }
   ],
   "source": [
    "one_hot_train_x[0]"
   ]
  },
  {
   "cell_type": "code",
   "execution_count": 14,
   "metadata": {},
   "outputs": [
    {
     "data": {
      "text/plain": [
       "(23965, 10000)"
      ]
     },
     "execution_count": 14,
     "metadata": {},
     "output_type": "execute_result"
    }
   ],
   "source": [
    "one_hot_train_x.shape"
   ]
  },
  {
   "cell_type": "code",
   "execution_count": 15,
   "metadata": {},
   "outputs": [
    {
     "data": {
      "text/plain": [
       "(23965, 5992)"
      ]
     },
     "execution_count": 15,
     "metadata": {},
     "output_type": "execute_result"
    }
   ],
   "source": [
    "len(one_hot_train_x), len(one_hot_test_x)"
   ]
  },
  {
   "cell_type": "code",
   "execution_count": 16,
   "metadata": {},
   "outputs": [
    {
     "data": {
      "text/plain": [
       "array([[0., 0., 1., ..., 0., 0., 0.],\n",
       "       [0., 0., 1., ..., 0., 0., 0.],\n",
       "       [0., 0., 0., ..., 0., 0., 0.],\n",
       "       ...,\n",
       "       [0., 0., 1., ..., 0., 0., 0.],\n",
       "       [0., 0., 0., ..., 0., 0., 0.],\n",
       "       [0., 1., 0., ..., 0., 0., 0.]])"
      ]
     },
     "execution_count": 16,
     "metadata": {},
     "output_type": "execute_result"
    }
   ],
   "source": [
    "one_hot_train_x"
   ]
  },
  {
   "cell_type": "code",
   "execution_count": 18,
   "metadata": {},
   "outputs": [],
   "source": [
    "from keras.utils.np_utils import to_categorical\n",
    "\n",
    "one_hot_train_y = to_categorical(train_y)\n",
    "one_hot_test_y = to_categorical(test_y)"
   ]
  },
  {
   "cell_type": "code",
   "execution_count": 19,
   "metadata": {},
   "outputs": [
    {
     "data": {
      "text/plain": [
       "array([[1., 0.],\n",
       "       [0., 1.],\n",
       "       [1., 0.],\n",
       "       ...,\n",
       "       [1., 0.],\n",
       "       [0., 1.],\n",
       "       [1., 0.]], dtype=float32)"
      ]
     },
     "execution_count": 19,
     "metadata": {},
     "output_type": "execute_result"
    }
   ],
   "source": [
    "one_hot_train_y"
   ]
  },
  {
   "cell_type": "code",
   "execution_count": 21,
   "metadata": {},
   "outputs": [],
   "source": [
    "# validate\n",
    "x_val = one_hot_train_x[:1000]\n",
    "partial_x_train = one_hot_train_x[1000:]\n",
    "\n",
    "y_val = one_hot_train_y[:1000]\n",
    "partial_y_train = one_hot_train_y[1000:]"
   ]
  },
  {
   "cell_type": "code",
   "execution_count": 22,
   "metadata": {},
   "outputs": [
    {
     "name": "stdout",
     "output_type": "stream",
     "text": [
      "Epoch 1/20\n",
      "45/45 [==============================] - 1s 17ms/step - loss: 0.4278 - accuracy: 0.7838 - val_loss: 0.0822 - val_accuracy: 0.9850\n",
      "Epoch 2/20\n",
      "45/45 [==============================] - 1s 14ms/step - loss: 0.0357 - accuracy: 0.9936 - val_loss: 0.0512 - val_accuracy: 0.9940\n",
      "Epoch 3/20\n",
      "45/45 [==============================] - 1s 15ms/step - loss: 0.0087 - accuracy: 0.9978 - val_loss: 0.0584 - val_accuracy: 0.9930\n",
      "Epoch 4/20\n",
      "45/45 [==============================] - 1s 17ms/step - loss: 0.0064 - accuracy: 0.9973 - val_loss: 0.0718 - val_accuracy: 0.9940\n",
      "Epoch 5/20\n",
      "45/45 [==============================] - 1s 15ms/step - loss: 0.0047 - accuracy: 0.9982 - val_loss: 0.0744 - val_accuracy: 0.9920\n",
      "Epoch 6/20\n",
      "45/45 [==============================] - 1s 14ms/step - loss: 0.0048 - accuracy: 0.9977 - val_loss: 0.0809 - val_accuracy: 0.9930\n",
      "Epoch 7/20\n",
      "45/45 [==============================] - 1s 14ms/step - loss: 0.0054 - accuracy: 0.9976 - val_loss: 0.0854 - val_accuracy: 0.9910\n",
      "Epoch 8/20\n",
      "45/45 [==============================] - 1s 15ms/step - loss: 0.0051 - accuracy: 0.9972 - val_loss: 0.0912 - val_accuracy: 0.9920\n",
      "Epoch 9/20\n",
      "45/45 [==============================] - 1s 14ms/step - loss: 0.0044 - accuracy: 0.9973 - val_loss: 0.0841 - val_accuracy: 0.9920\n",
      "Epoch 10/20\n",
      "45/45 [==============================] - 1s 15ms/step - loss: 0.0038 - accuracy: 0.9980 - val_loss: 0.0895 - val_accuracy: 0.9930\n",
      "Epoch 11/20\n",
      "45/45 [==============================] - 1s 14ms/step - loss: 0.0042 - accuracy: 0.9979 - val_loss: 0.0888 - val_accuracy: 0.9900\n",
      "Epoch 12/20\n",
      "45/45 [==============================] - 1s 14ms/step - loss: 0.0042 - accuracy: 0.9974 - val_loss: 0.0937 - val_accuracy: 0.9930\n",
      "Epoch 13/20\n",
      "45/45 [==============================] - 1s 14ms/step - loss: 0.0039 - accuracy: 0.9982 - val_loss: 0.0974 - val_accuracy: 0.9910\n",
      "Epoch 14/20\n",
      "45/45 [==============================] - 1s 14ms/step - loss: 0.0034 - accuracy: 0.9980 - val_loss: 0.0920 - val_accuracy: 0.9930\n",
      "Epoch 15/20\n",
      "45/45 [==============================] - 1s 14ms/step - loss: 0.0038 - accuracy: 0.9979 - val_loss: 0.0987 - val_accuracy: 0.9930\n",
      "Epoch 16/20\n",
      "45/45 [==============================] - 1s 14ms/step - loss: 0.0043 - accuracy: 0.9976 - val_loss: 0.0977 - val_accuracy: 0.9900\n",
      "Epoch 17/20\n",
      "45/45 [==============================] - 1s 14ms/step - loss: 0.0040 - accuracy: 0.9976 - val_loss: 0.1030 - val_accuracy: 0.9930\n",
      "Epoch 18/20\n",
      "45/45 [==============================] - 1s 14ms/step - loss: 0.0042 - accuracy: 0.9971 - val_loss: 0.1061 - val_accuracy: 0.9930\n",
      "Epoch 19/20\n",
      "45/45 [==============================] - 1s 15ms/step - loss: 0.0041 - accuracy: 0.9977 - val_loss: 0.1020 - val_accuracy: 0.9900\n",
      "Epoch 20/20\n",
      "45/45 [==============================] - 1s 14ms/step - loss: 0.0037 - accuracy: 0.9983 - val_loss: 0.1036 - val_accuracy: 0.9920\n"
     ]
    }
   ],
   "source": [
    "# modeling\n",
    "from keras import models, layers\n",
    "\n",
    "model = models.Sequential()\n",
    "model.add(layers.Dense(64, activation='relu', input_shape=(10000,)))\n",
    "model.add(layers.Dense(64, activation='relu'))\n",
    "model.add(layers.Dense(2, activation='softmax'))\n",
    "\n",
    "# compile\n",
    "model.compile(optimizer='rmsprop',\n",
    "             loss='categorical_crossentropy',\n",
    "             metrics=['accuracy'])\n",
    "\n",
    "# train\n",
    "history = model.fit(partial_x_train,\n",
    "                   partial_y_train,\n",
    "                   epochs=20,\n",
    "                   batch_size=512,\n",
    "                   validation_data=(x_val, y_val))"
   ]
  },
  {
   "cell_type": "code",
   "execution_count": 23,
   "metadata": {},
   "outputs": [
    {
     "name": "stdout",
     "output_type": "stream",
     "text": [
      "188/188 [==============================] - 0s 1ms/step - loss: 0.0178 - accuracy: 0.9963\n"
     ]
    }
   ],
   "source": [
    "results = model.evaluate(one_hot_test_x, one_hot_test_y)"
   ]
  },
  {
   "cell_type": "code",
   "execution_count": 24,
   "metadata": {},
   "outputs": [
    {
     "data": {
      "text/plain": [
       "[0.01780134066939354, 0.9963284134864807]"
      ]
     },
     "execution_count": 24,
     "metadata": {},
     "output_type": "execute_result"
    }
   ],
   "source": [
    "results"
   ]
  },
  {
   "cell_type": "code",
   "execution_count": 25,
   "metadata": {},
   "outputs": [
    {
     "data": {
      "image/png": "[encoded data removed]",
      "text/plain": [
       "<Figure size 432x288 with 1 Axes>"
      ]
     },
     "metadata": {
      "needs_background": "light"
     },
     "output_type": "display_data"
    }
   ],
   "source": [
    "# loss graph\n",
    "import matplotlib.pyplot as plt\n",
    "\n",
    "loss = history.history['loss']  # training loss\n",
    "val_loss = history.history['val_loss']  # validation loss\n",
    "\n",
    "epochs = range(1, len(loss)+1)\n",
    "\n",
    "plt.plot(epochs, loss, 'ro', label='Training loss')\n",
    "plt.plot(epochs, val_loss, 'b', label='Validation loss')\n",
    "plt.title('Training and validation loss')\n",
    "plt.xlabel('Epochs')\n",
    "plt.ylabel('Loss')\n",
    "plt.legend()\n",
    "\n",
    "plt.show()"
   ]
  },
  {
   "cell_type": "code",
   "execution_count": 26,
   "metadata": {},
   "outputs": [
    {
     "data": {
      "image/png": "[encoded data removed]",
      "text/plain": [
       "<Figure size 432x288 with 1 Axes>"
      ]
     },
     "metadata": {
      "needs_background": "light"
     },
     "output_type": "display_data"
    }
   ],
   "source": [
    "# accuracy graph\n",
    "plt.clf()  # 그래프 초기화\n",
    "\n",
    "acc = history.history['accuracy']\n",
    "val_acc = history.history['val_accuracy']\n",
    "\n",
    "plt.plot(epochs, acc, 'ro', label='Training accuracy')\n",
    "plt.plot(epochs, val_acc, 'b', label='Validation accuracy')\n",
    "plt.title('Training and validation accuracy')\n",
    "plt.xlabel('Epochs')\n",
    "plt.ylabel('Accuracy')\n",
    "plt.legend()\n",
    "\n",
    "plt.show()"
   ]
  },
  {
   "cell_type": "code",
   "execution_count": 27,
   "metadata": {},
   "outputs": [
    {
     "name": "stdout",
     "output_type": "stream",
     "text": [
      "Epoch 1/8\n",
      "45/45 [==============================] - 1s 20ms/step - loss: 0.4224 - accuracy: 0.7978 - val_loss: 0.0887 - val_accuracy: 0.9830\n",
      "Epoch 2/8\n",
      "45/45 [==============================] - 1s 14ms/step - loss: 0.0350 - accuracy: 0.9941 - val_loss: 0.0545 - val_accuracy: 0.9900\n",
      "Epoch 3/8\n",
      "45/45 [==============================] - 1s 13ms/step - loss: 0.0095 - accuracy: 0.9972 - val_loss: 0.0719 - val_accuracy: 0.9910\n",
      "Epoch 4/8\n",
      "45/45 [==============================] - 1s 14ms/step - loss: 0.0065 - accuracy: 0.9976 - val_loss: 0.0655 - val_accuracy: 0.9890\n",
      "Epoch 5/8\n",
      "45/45 [==============================] - 1s 16ms/step - loss: 0.0050 - accuracy: 0.9976 - val_loss: 0.0798 - val_accuracy: 0.9930\n",
      "Epoch 6/8\n",
      "45/45 [==============================] - 1s 14ms/step - loss: 0.0055 - accuracy: 0.9977 - val_loss: 0.0870 - val_accuracy: 0.9910\n",
      "Epoch 7/8\n",
      "45/45 [==============================] - 1s 14ms/step - loss: 0.0048 - accuracy: 0.9980 - val_loss: 0.0822 - val_accuracy: 0.9900\n",
      "Epoch 8/8\n",
      "45/45 [==============================] - 1s 14ms/step - loss: 0.0055 - accuracy: 0.9971 - val_loss: 0.0831 - val_accuracy: 0.9910\n"
     ]
    }
   ],
   "source": [
    "# modeling\n",
    "from keras import models, layers\n",
    "\n",
    "model = models.Sequential()\n",
    "model.add(layers.Dense(64, activation='relu', input_shape=(10000,)))\n",
    "model.add(layers.Dense(64, activation='relu'))\n",
    "model.add(layers.Dense(2, activation='softmax'))\n",
    "\n",
    "# compile\n",
    "model.compile(optimizer='rmsprop',\n",
    "             loss='categorical_crossentropy',\n",
    "             metrics=['accuracy'])\n",
    "\n",
    "# train\n",
    "history = model.fit(partial_x_train,\n",
    "                   partial_y_train,\n",
    "                   epochs=8,\n",
    "                   batch_size=512,\n",
    "                   validation_data=(x_val, y_val))"
   ]
  },
  {
   "cell_type": "code",
   "execution_count": 28,
   "metadata": {},
   "outputs": [
    {
     "data": {
      "image/png": "[encoded data removed]",
      "text/plain": [
       "<Figure size 432x288 with 1 Axes>"
      ]
     },
     "metadata": {
      "needs_background": "light"
     },
     "output_type": "display_data"
    }
   ],
   "source": [
    "# loss graph\n",
    "import matplotlib.pyplot as plt\n",
    "\n",
    "loss = history.history['loss']  # training loss\n",
    "val_loss = history.history['val_loss']  # validation loss\n",
    "\n",
    "epochs = range(1, len(loss)+1)\n",
    "\n",
    "plt.plot(epochs, loss, 'ro', label='Training loss')\n",
    "plt.plot(epochs, val_loss, 'b', label='Validation loss')\n",
    "plt.title('Training and validation loss')\n",
    "plt.xlabel('Epochs')\n",
    "plt.ylabel('Loss')\n",
    "plt.legend()\n",
    "\n",
    "plt.show()"
   ]
  },
  {
   "cell_type": "code",
   "execution_count": 29,
   "metadata": {},
   "outputs": [
    {
     "data": {
      "image/png": "[encoded data removed]",
      "text/plain": [
       "<Figure size 432x288 with 1 Axes>"
      ]
     },
     "metadata": {
      "needs_background": "light"
     },
     "output_type": "display_data"
    }
   ],
   "source": [
    "# accuracy graph\n",
    "plt.clf()  # 그래프 초기화\n",
    "\n",
    "acc = history.history['accuracy']\n",
    "val_acc = history.history['val_accuracy']\n",
    "\n",
    "plt.plot(epochs, acc, 'ro', label='Training accuracy')\n",
    "plt.plot(epochs, val_acc, 'b', label='Validation accuracy')\n",
    "plt.title('Training and validation accuracy')\n",
    "plt.xlabel('Epochs')\n",
    "plt.ylabel('Accuracy')\n",
    "plt.legend()\n",
    "\n",
    "plt.show()"
   ]
  },
  {
   "cell_type": "code",
   "execution_count": null,
   "metadata": {},
   "outputs": [],
   "source": [
    "# test evaluate"
   ]
  },
  {
   "cell_type": "code",
   "execution_count": 34,
   "metadata": {},
   "outputs": [
    {
     "name": "stdout",
     "output_type": "stream",
     "text": [
      "188/188 [==============================] - 0s 1ms/step - loss: 0.0177 - accuracy: 0.9963\n"
     ]
    }
   ],
   "source": [
    "results = model.evaluate(one_hot_test_x, one_hot_test_y)"
   ]
  },
  {
   "cell_type": "code",
   "execution_count": 35,
   "metadata": {},
   "outputs": [
    {
     "data": {
      "text/plain": [
       "[0.01765509881079197, 0.9963284134864807]"
      ]
     },
     "execution_count": 35,
     "metadata": {},
     "output_type": "execute_result"
    }
   ],
   "source": [
    "results"
   ]
  },
  {
   "cell_type": "code",
   "execution_count": 33,
   "metadata": {},
   "outputs": [
    {
     "name": "stdout",
     "output_type": "stream",
     "text": [
      "predict : [1 0 0 0 1 ]\n",
      "answer : [1 0 0 0 1 ]\n"
     ]
    }
   ],
   "source": [
    "import numpy as np\n",
    "\n",
    "prediction = model.predict(one_hot_test_x)\n",
    "\n",
    "print('predict : [', end='')\n",
    "for p in prediction[:5]:\n",
    "    print(np.argmax(p), end=' ')\n",
    "#     print(p, end=' ')\n",
    "print(']')\n",
    "\n",
    "print('answer : [', end='')\n",
    "for y in one_hot_test_y[:5]:\n",
    "    print(np.argmax(y), end=' ')\n",
    "print(']')"
   ]
  },
  {
   "cell_type": "code",
   "execution_count": 36,
   "metadata": {},
   "outputs": [
    {
     "name": "stdout",
     "output_type": "stream",
     "text": [
      "Epoch 1/2\n",
      "45/45 [==============================] - 1s 18ms/step - loss: 0.4103 - accuracy: 0.8120 - val_loss: 0.0816 - val_accuracy: 0.9890\n",
      "Epoch 2/2\n",
      "45/45 [==============================] - 1s 14ms/step - loss: 0.0340 - accuracy: 0.9953 - val_loss: 0.0591 - val_accuracy: 0.9880\n"
     ]
    }
   ],
   "source": [
    "# modeling\n",
    "from keras import models, layers\n",
    "\n",
    "model = models.Sequential()\n",
    "model.add(layers.Dense(64, activation='relu', input_shape=(10000,)))\n",
    "model.add(layers.Dense(64, activation='relu'))\n",
    "model.add(layers.Dense(2, activation='softmax'))\n",
    "\n",
    "# compile\n",
    "model.compile(optimizer='rmsprop',\n",
    "             loss='categorical_crossentropy',\n",
    "             metrics=['accuracy'])\n",
    "\n",
    "# train\n",
    "history = model.fit(partial_x_train,\n",
    "                   partial_y_train,\n",
    "                   epochs=2,\n",
    "                   batch_size=512,\n",
    "                   validation_data=(x_val, y_val))"
   ]
  },
  {
   "cell_type": "code",
   "execution_count": 37,
   "metadata": {},
   "outputs": [
    {
     "name": "stdout",
     "output_type": "stream",
     "text": [
      "188/188 [==============================] - 0s 1ms/step - loss: 0.0190 - accuracy: 0.9962\n"
     ]
    }
   ],
   "source": [
    "results = model.evaluate(one_hot_test_x, one_hot_test_y)"
   ]
  },
  {
   "cell_type": "code",
   "execution_count": 38,
   "metadata": {},
   "outputs": [
    {
     "data": {
      "text/plain": [
       "[0.019035158678889275, 0.9961615204811096]"
      ]
     },
     "execution_count": 38,
     "metadata": {},
     "output_type": "execute_result"
    }
   ],
   "source": [
    "results"
   ]
  },
  {
   "cell_type": "code",
   "execution_count": null,
   "metadata": {},
   "outputs": [],
   "source": []
  }
 ],
 "metadata": {
  "kernelspec": {
   "display_name": "Python 3",
   "language": "python",
   "name": "python3"
  },
  "language_info": {
   "codemirror_mode": {
    "name": "ipython",
    "version": 3
   },
   "file_extension": ".py",
   "mimetype": "text/x-python",
   "name": "python",
   "nbconvert_exporter": "python",
   "pygments_lexer": "ipython3",
   "version": "3.7.6"
  }
 },
 "nbformat": 4,
 "nbformat_minor": 4
}
