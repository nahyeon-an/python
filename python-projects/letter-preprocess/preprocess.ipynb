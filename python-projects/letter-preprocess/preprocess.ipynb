{
 "cells": [
  {
   "cell_type": "markdown",
   "metadata": {},
   "source": [
    "# data\n",
    "\n",
    "## 모델 1.  \n",
    "data, target  \n",
    "question, answer, bad/good   \n",
    "=> training  \n",
    "=> 내가 쓴 자소서 넣으면 bad or good 판단 확률로 나타내는게 좋을 것 같다.  "
   ]
  },
  {
   "cell_type": "code",
   "execution_count": 1,
   "metadata": {},
   "outputs": [],
   "source": [
    "import os\n",
    "from pathlib import Path"
   ]
  },
  {
   "cell_type": "code",
   "execution_count": 2,
   "metadata": {},
   "outputs": [
    {
     "data": {
      "text/plain": [
       "'/Users/nahyeonan/python/python-projects/letter-analysis'"
      ]
     },
     "execution_count": 2,
     "metadata": {},
     "output_type": "execute_result"
    }
   ],
   "source": [
    "str( Path.cwd() )"
   ]
  },
  {
   "cell_type": "code",
   "execution_count": 3,
   "metadata": {},
   "outputs": [
    {
     "name": "stdout",
     "output_type": "stream",
     "text": [
      "6681\n"
     ]
    }
   ],
   "source": [
    "path = str( Path.cwd() ) + \"/jobkorea\"\n",
    "print( len(os.listdir(path)) )"
   ]
  },
  {
   "cell_type": "markdown",
   "metadata": {},
   "source": [
    "decompose : 태그 하나만 삭제함..;;  \n",
    "good : 1  \n",
    "bad : 0  "
   ]
  },
  {
   "cell_type": "code",
   "execution_count": 6,
   "metadata": {},
   "outputs": [],
   "source": [
    "good = []\n",
    "bad = []"
   ]
  },
  {
   "cell_type": "code",
   "execution_count": 7,
   "metadata": {},
   "outputs": [],
   "source": [
    "fd = open(str( Path.cwd() ) + \"/new-logs.txt\", \"at\")"
   ]
  },
  {
   "cell_type": "code",
   "execution_count": 8,
   "metadata": {},
   "outputs": [
    {
     "data": {
      "text/plain": [
       "'/Users/nahyeonan/python/python-projects/letter-analysis/jobkorea'"
      ]
     },
     "execution_count": 8,
     "metadata": {},
     "output_type": "execute_result"
    }
   ],
   "source": [
    "path"
   ]
  },
  {
   "cell_type": "code",
   "execution_count": 10,
   "metadata": {},
   "outputs": [],
   "source": [
    "from bs4 import BeautifulSoup\n",
    "\n",
    "for file in os.listdir(path):\n",
    "    if file[0] == '.':\n",
    "        continue\n",
    "    f = open(path + \"/\" + file, \"rt\")\n",
    "    soup = BeautifulSoup(f.read())\n",
    "    body = soup.body\n",
    "    \n",
    "    try:\n",
    "        qnaLists = body.find_all(\"dl\", {\"class\" : \"qnaLists\"})[0]\n",
    "    except:\n",
    "        fd.write(file + \"\\n\")\n",
    "        continue\n",
    "        \n",
    "    good_ans_list = qnaLists.find_all(\"b\", {\"class\" : \"good\"})\n",
    "    bad_ans_list = qnaLists.find_all(\"b\", {\"class\" : \"bad\"})\n",
    "#     print(\"<good> {}\\n{}\".format(len(good_ans_list), good_ans_list))\n",
    "#     print(\"<bad> {}\\n{}\".format(len(bad_ans_list), bad_ans_list))\n",
    "   \n",
    "    for ans in good_ans_list:\n",
    "        try:\n",
    "            for span in ans.find_all(\"span\"):\n",
    "                span.decompose()\n",
    "        except:\n",
    "            pass\n",
    "        \n",
    "        try:\n",
    "            for br in ans.find_all(\"br\"):\n",
    "                br.decompose()\n",
    "        except:\n",
    "            pass\n",
    "        \n",
    "        good.append([ans.text, 1])\n",
    "        \n",
    "    for ans in bad_ans_list:\n",
    "        try:\n",
    "            for span in ans.find_all(\"span\"):\n",
    "                span.decompose()\n",
    "        except:\n",
    "            pass\n",
    "        \n",
    "        try:\n",
    "            for br in ans.find_all(\"br\"):\n",
    "                br.decompose()\n",
    "        except:\n",
    "            pass\n",
    "        \n",
    "        bad.append([ans.text, 0])\n",
    "        \n",
    "    f.close()\n",
    "    \n",
    "fd.close()"
   ]
  },
  {
   "cell_type": "code",
   "execution_count": 11,
   "metadata": {},
   "outputs": [
    {
     "name": "stdout",
     "output_type": "stream",
     "text": [
      "[['1. 객체지향프로그래밍\\nA+,프로그래밍 수업을 들으면서 프로그램을 만들고 수정하는 과정이 어릴 때부터 좋아하던 수학문제를 푸는 과정과 비슷하다는 것을 깨달으면서 WEP/APP개발에 관심을 갖게 되었습니다. ', 1], ['한국oo협회가 운영하는 빅 데이터 관리자과정을 수강하여 Java, 오라클, 하둡, R 등 데이터베이스를 설계하고 빅 데이터를 분석하는데 필요한 언어와 프로그램의 사용법을 익혔습니다. ', 1], ['NHN엔터테이먼트는 생활, 문화 기반의 IT서비스를 제공하는 기업이기 때문에 많은 사용자가 편리하게 이용할 수 있는 프로그램을 개발하는 것이 가장 중요하다고 생각합니다.', 1]]\n",
      "[['3. 컴퓨터그래픽스 설계\\nA0, 컴퓨터 그래픽스 설계 과목을 수강하며 OpenGL을 이용하여 3D 공간을 만들고 객체를 생성하여 컴퓨터 그래픽을 사용하는 방법을 익혔습니다.', 0], ['또한 단순히 수업을 듣는 데에 만족하지 않고 프로그램 하나를 배울 때마다 미니프로젝트를 진행하여 실제 사용에 필요한 경험을 얻을 수 있었고, 특허와 관련된 데이터베이스와 그 안에서 원하는 정보를 검색하는 시스템 설계하는 졸업 프로젝트를 진행 중에 있습니다.', 0], ['저는 입사 후 단순히 성과를 내기위한 개발이 아닌 고객이 필요로 하는 프로그램을 개발하려고 사용자가 만족하는 성능을 내도록 노력하겠습니다.', 0]]\n"
     ]
    }
   ],
   "source": [
    "print(good[:3])\n",
    "print(bad[:3])"
   ]
  },
  {
   "cell_type": "code",
   "execution_count": 15,
   "metadata": {},
   "outputs": [
    {
     "data": {
      "text/plain": [
       "[['대학시절 동아리 활동의 장을 하면서 하나의 써클이 아닌 학교와 지역의 대표라고 생각을 하며 동아리를 이끌었습니다. 활동적인 동아리속에서도 내부적인 활동도 구체화 시키면서 동아리의 입지를 잡아갔습니다. 또한 동아리 연합회 활동을 통해 전국적으로 인맥을 중요시하며 서로에게 도움이 되는 삶을 살고 있습니다. 저 뿐만 아니라 회원 개인의 장단점의 특성을 알고 이끌었습니다. 처음 보는 상황에서도 만나는 사람, 분위기에 맞추어 서로에게 도움이 될 수 있는 사람이 되는 것이, 동아리 활동보다 더 중요한 우리의 태도를 후배들에게 일깨워 주었습니다. ',\n",
       "  0],\n",
       " ['항상 아이디어를 메모하는 습관을 가지고 있습니다. 언제 어디서든지 펜과 종이를 들고다니며 떠오르는 생각을 바로 작성하였고, 휴대폰의 메모를 통해서도 메모 정리를 꾸준하며 지금도 하고 있습니다.',\n",
       "  0],\n",
       " ['현재에 머물지 않고, 시대에 맞춘 의견을 잘 수립하여 타 부서와 친화적인 마인드로 자주 공유할 수 있는 조력자가 되겠습니다. 업무와 기업의 진출시장 분석을 통해 성장도약에 매진하며, 기업과 함께하는 다수의 성공을 통해 자그마한 부분이라도 소홀히 여기지 않고 작은 행복이라도 나누어줄 수 있는 회사의 트랜드를 만들고 싶습니다.',\n",
       "  0]]"
      ]
     },
     "execution_count": 15,
     "metadata": {},
     "output_type": "execute_result"
    }
   ],
   "source": [
    "good[-3:]"
   ]
  },
  {
   "cell_type": "code",
   "execution_count": 16,
   "metadata": {},
   "outputs": [],
   "source": [
    "import pandas as pd\n",
    "\n",
    "df = pd.DataFrame(good, columns=['content', 'target'])"
   ]
  },
  {
   "cell_type": "code",
   "execution_count": 17,
   "metadata": {},
   "outputs": [
    {
     "name": "stdout",
     "output_type": "stream",
     "text": [
      "<class 'pandas.core.frame.DataFrame'>\n",
      "RangeIndex: 29845 entries, 0 to 29844\n",
      "Data columns (total 2 columns):\n",
      " #   Column   Non-Null Count  Dtype \n",
      "---  ------   --------------  ----- \n",
      " 0   content  29845 non-null  object\n",
      " 1   target   29845 non-null  int64 \n",
      "dtypes: int64(1), object(1)\n",
      "memory usage: 466.5+ KB\n"
     ]
    }
   ],
   "source": [
    "df.info()"
   ]
  },
  {
   "cell_type": "code",
   "execution_count": 18,
   "metadata": {},
   "outputs": [
    {
     "data": {
      "text/html": [
       "<div>\n",
       "<style scoped>\n",
       "    .dataframe tbody tr th:only-of-type {\n",
       "        vertical-align: middle;\n",
       "    }\n",
       "\n",
       "    .dataframe tbody tr th {\n",
       "        vertical-align: top;\n",
       "    }\n",
       "\n",
       "    .dataframe thead th {\n",
       "        text-align: right;\n",
       "    }\n",
       "</style>\n",
       "<table border=\"1\" class=\"dataframe\">\n",
       "  <thead>\n",
       "    <tr style=\"text-align: right;\">\n",
       "      <th></th>\n",
       "      <th>content</th>\n",
       "      <th>target</th>\n",
       "    </tr>\n",
       "  </thead>\n",
       "  <tbody>\n",
       "    <tr>\n",
       "      <th>0</th>\n",
       "      <td>1. 객체지향프로그래밍\\nA+,프로그래밍 수업을 들으면서 프로그램을 만들고 수정하는...</td>\n",
       "      <td>1</td>\n",
       "    </tr>\n",
       "    <tr>\n",
       "      <th>1</th>\n",
       "      <td>한국oo협회가 운영하는 빅 데이터 관리자과정을 수강하여 Java, 오라클, 하둡, ...</td>\n",
       "      <td>1</td>\n",
       "    </tr>\n",
       "    <tr>\n",
       "      <th>2</th>\n",
       "      <td>NHN엔터테이먼트는 생활, 문화 기반의 IT서비스를 제공하는 기업이기 때문에 많은 ...</td>\n",
       "      <td>1</td>\n",
       "    </tr>\n",
       "    <tr>\n",
       "      <th>3</th>\n",
       "      <td>당시 가장 큰 문제는 12명으로 이뤄진 팀원들 간의 의사소통 문제였습니다. 학과, ...</td>\n",
       "      <td>1</td>\n",
       "    </tr>\n",
       "    <tr>\n",
       "      <th>4</th>\n",
       "      <td>[고객의 마음을 움직이는 밝고 친절한 미소]\\n제 꿈은 내가 사랑하는 ‘사람들’과 ...</td>\n",
       "      <td>1</td>\n",
       "    </tr>\n",
       "  </tbody>\n",
       "</table>\n",
       "</div>"
      ],
      "text/plain": [
       "                                             content  target\n",
       "0  1. 객체지향프로그래밍\\nA+,프로그래밍 수업을 들으면서 프로그램을 만들고 수정하는...       1\n",
       "1  한국oo협회가 운영하는 빅 데이터 관리자과정을 수강하여 Java, 오라클, 하둡, ...       1\n",
       "2  NHN엔터테이먼트는 생활, 문화 기반의 IT서비스를 제공하는 기업이기 때문에 많은 ...       1\n",
       "3  당시 가장 큰 문제는 12명으로 이뤄진 팀원들 간의 의사소통 문제였습니다. 학과, ...       1\n",
       "4  [고객의 마음을 움직이는 밝고 친절한 미소]\\n제 꿈은 내가 사랑하는 ‘사람들’과 ...       1"
      ]
     },
     "execution_count": 18,
     "metadata": {},
     "output_type": "execute_result"
    }
   ],
   "source": [
    "df.head()"
   ]
  },
  {
   "cell_type": "code",
   "execution_count": 19,
   "metadata": {},
   "outputs": [
    {
     "data": {
      "text/html": [
       "<div>\n",
       "<style scoped>\n",
       "    .dataframe tbody tr th:only-of-type {\n",
       "        vertical-align: middle;\n",
       "    }\n",
       "\n",
       "    .dataframe tbody tr th {\n",
       "        vertical-align: top;\n",
       "    }\n",
       "\n",
       "    .dataframe thead th {\n",
       "        text-align: right;\n",
       "    }\n",
       "</style>\n",
       "<table border=\"1\" class=\"dataframe\">\n",
       "  <thead>\n",
       "    <tr style=\"text-align: right;\">\n",
       "      <th></th>\n",
       "      <th>content</th>\n",
       "      <th>target</th>\n",
       "    </tr>\n",
       "  </thead>\n",
       "  <tbody>\n",
       "    <tr>\n",
       "      <th>29840</th>\n",
       "      <td>1) 사내활동 적극적인 참여\\nAmkor Technology에서는 사원들의 단합을 ...</td>\n",
       "      <td>0</td>\n",
       "    </tr>\n",
       "    <tr>\n",
       "      <th>29841</th>\n",
       "      <td>업무 능률향상에 힘쓰겠습니다. 대학에서 쌓아왔던 전공지식과 실습실 장비 관리 경험을...</td>\n",
       "      <td>0</td>\n",
       "    </tr>\n",
       "    <tr>\n",
       "      <th>29842</th>\n",
       "      <td>대학시절 동아리 활동의 장을 하면서 하나의 써클이 아닌 학교와 지역의 대표라고 생각...</td>\n",
       "      <td>0</td>\n",
       "    </tr>\n",
       "    <tr>\n",
       "      <th>29843</th>\n",
       "      <td>항상 아이디어를 메모하는 습관을 가지고 있습니다. 언제 어디서든지 펜과 종이를 들고...</td>\n",
       "      <td>0</td>\n",
       "    </tr>\n",
       "    <tr>\n",
       "      <th>29844</th>\n",
       "      <td>현재에 머물지 않고, 시대에 맞춘 의견을 잘 수립하여 타 부서와 친화적인 마인드로 ...</td>\n",
       "      <td>0</td>\n",
       "    </tr>\n",
       "  </tbody>\n",
       "</table>\n",
       "</div>"
      ],
      "text/plain": [
       "                                                 content  target\n",
       "29840  1) 사내활동 적극적인 참여\\nAmkor Technology에서는 사원들의 단합을 ...       0\n",
       "29841  업무 능률향상에 힘쓰겠습니다. 대학에서 쌓아왔던 전공지식과 실습실 장비 관리 경험을...       0\n",
       "29842  대학시절 동아리 활동의 장을 하면서 하나의 써클이 아닌 학교와 지역의 대표라고 생각...       0\n",
       "29843  항상 아이디어를 메모하는 습관을 가지고 있습니다. 언제 어디서든지 펜과 종이를 들고...       0\n",
       "29844  현재에 머물지 않고, 시대에 맞춘 의견을 잘 수립하여 타 부서와 친화적인 마인드로 ...       0"
      ]
     },
     "execution_count": 19,
     "metadata": {},
     "output_type": "execute_result"
    }
   ],
   "source": [
    "df.tail()"
   ]
  },
  {
   "cell_type": "code",
   "execution_count": 20,
   "metadata": {},
   "outputs": [],
   "source": [
    "df.to_csv(\"letter_evaluation.csv\", index=False, encoding=\"utf-8-sig\")"
   ]
  },
  {
   "cell_type": "code",
   "execution_count": 21,
   "metadata": {},
   "outputs": [
    {
     "data": {
      "text/html": [
       "<div>\n",
       "<style scoped>\n",
       "    .dataframe tbody tr th:only-of-type {\n",
       "        vertical-align: middle;\n",
       "    }\n",
       "\n",
       "    .dataframe tbody tr th {\n",
       "        vertical-align: top;\n",
       "    }\n",
       "\n",
       "    .dataframe thead th {\n",
       "        text-align: right;\n",
       "    }\n",
       "</style>\n",
       "<table border=\"1\" class=\"dataframe\">\n",
       "  <thead>\n",
       "    <tr style=\"text-align: right;\">\n",
       "      <th></th>\n",
       "      <th>content</th>\n",
       "      <th>target</th>\n",
       "    </tr>\n",
       "  </thead>\n",
       "  <tbody>\n",
       "    <tr>\n",
       "      <th>0</th>\n",
       "      <td>1. 객체지향프로그래밍\\nA+,프로그래밍 수업을 들으면서 프로그램을 만들고 수정하는...</td>\n",
       "      <td>1</td>\n",
       "    </tr>\n",
       "    <tr>\n",
       "      <th>1</th>\n",
       "      <td>한국oo협회가 운영하는 빅 데이터 관리자과정을 수강하여 Java, 오라클, 하둡, ...</td>\n",
       "      <td>1</td>\n",
       "    </tr>\n",
       "    <tr>\n",
       "      <th>2</th>\n",
       "      <td>NHN엔터테이먼트는 생활, 문화 기반의 IT서비스를 제공하는 기업이기 때문에 많은 ...</td>\n",
       "      <td>1</td>\n",
       "    </tr>\n",
       "    <tr>\n",
       "      <th>3</th>\n",
       "      <td>당시 가장 큰 문제는 12명으로 이뤄진 팀원들 간의 의사소통 문제였습니다. 학과, ...</td>\n",
       "      <td>1</td>\n",
       "    </tr>\n",
       "    <tr>\n",
       "      <th>4</th>\n",
       "      <td>[고객의 마음을 움직이는 밝고 친절한 미소]\\n제 꿈은 내가 사랑하는 ‘사람들’과 ...</td>\n",
       "      <td>1</td>\n",
       "    </tr>\n",
       "    <tr>\n",
       "      <th>...</th>\n",
       "      <td>...</td>\n",
       "      <td>...</td>\n",
       "    </tr>\n",
       "    <tr>\n",
       "      <th>29840</th>\n",
       "      <td>1) 사내활동 적극적인 참여\\nAmkor Technology에서는 사원들의 단합을 ...</td>\n",
       "      <td>0</td>\n",
       "    </tr>\n",
       "    <tr>\n",
       "      <th>29841</th>\n",
       "      <td>업무 능률향상에 힘쓰겠습니다. 대학에서 쌓아왔던 전공지식과 실습실 장비 관리 경험을...</td>\n",
       "      <td>0</td>\n",
       "    </tr>\n",
       "    <tr>\n",
       "      <th>29842</th>\n",
       "      <td>대학시절 동아리 활동의 장을 하면서 하나의 써클이 아닌 학교와 지역의 대표라고 생각...</td>\n",
       "      <td>0</td>\n",
       "    </tr>\n",
       "    <tr>\n",
       "      <th>29843</th>\n",
       "      <td>항상 아이디어를 메모하는 습관을 가지고 있습니다. 언제 어디서든지 펜과 종이를 들고...</td>\n",
       "      <td>0</td>\n",
       "    </tr>\n",
       "    <tr>\n",
       "      <th>29844</th>\n",
       "      <td>현재에 머물지 않고, 시대에 맞춘 의견을 잘 수립하여 타 부서와 친화적인 마인드로 ...</td>\n",
       "      <td>0</td>\n",
       "    </tr>\n",
       "  </tbody>\n",
       "</table>\n",
       "<p>29845 rows × 2 columns</p>\n",
       "</div>"
      ],
      "text/plain": [
       "                                                 content  target\n",
       "0      1. 객체지향프로그래밍\\nA+,프로그래밍 수업을 들으면서 프로그램을 만들고 수정하는...       1\n",
       "1      한국oo협회가 운영하는 빅 데이터 관리자과정을 수강하여 Java, 오라클, 하둡, ...       1\n",
       "2      NHN엔터테이먼트는 생활, 문화 기반의 IT서비스를 제공하는 기업이기 때문에 많은 ...       1\n",
       "3      당시 가장 큰 문제는 12명으로 이뤄진 팀원들 간의 의사소통 문제였습니다. 학과, ...       1\n",
       "4      [고객의 마음을 움직이는 밝고 친절한 미소]\\n제 꿈은 내가 사랑하는 ‘사람들’과 ...       1\n",
       "...                                                  ...     ...\n",
       "29840  1) 사내활동 적극적인 참여\\nAmkor Technology에서는 사원들의 단합을 ...       0\n",
       "29841  업무 능률향상에 힘쓰겠습니다. 대학에서 쌓아왔던 전공지식과 실습실 장비 관리 경험을...       0\n",
       "29842  대학시절 동아리 활동의 장을 하면서 하나의 써클이 아닌 학교와 지역의 대표라고 생각...       0\n",
       "29843  항상 아이디어를 메모하는 습관을 가지고 있습니다. 언제 어디서든지 펜과 종이를 들고...       0\n",
       "29844  현재에 머물지 않고, 시대에 맞춘 의견을 잘 수립하여 타 부서와 친화적인 마인드로 ...       0\n",
       "\n",
       "[29845 rows x 2 columns]"
      ]
     },
     "execution_count": 21,
     "metadata": {},
     "output_type": "execute_result"
    }
   ],
   "source": [
    "pd.read_csv(\"letter_evaluation.csv\")"
   ]
  },
  {
   "cell_type": "markdown",
   "metadata": {},
   "source": [
    "## 모델 2.\n"
   ]
  },
  {
   "cell_type": "code",
   "execution_count": 21,
   "metadata": {},
   "outputs": [],
   "source": [
    "ans_rating_list = []\n",
    "ans_advice_rating_list = []"
   ]
  },
  {
   "cell_type": "code",
   "execution_count": 26,
   "metadata": {},
   "outputs": [],
   "source": [
    "from bs4 import BeautifulSoup\n",
    "\n",
    "fd = open(\"rating_logs.txt\", \"wt\")\n",
    "\n",
    "for file in os.listdir(path):\n",
    "    if file[0] == '.':\n",
    "        continue\n",
    "    f = open(path + \"/\" + file, \"rt\")\n",
    "    soup = BeautifulSoup(f.read())\n",
    "    body = soup.body\n",
    "    \n",
    "    try:\n",
    "        advice = body.find_all(\"div\", {\"class\": \"adviceTotal\"})[0]\n",
    "\n",
    "        grade = advice.find_all(\"span\", {\"class\": \"grade\"})  # 자소서 평점\n",
    "        text = advice.p  # 총평\n",
    "    except:\n",
    "        fd.write(file)\n",
    "        continue\n",
    "    \n",
    "    try:\n",
    "        qnaList = body.find_all(\"dl\", {\"class\": \"qnaLists\"})[0]\n",
    "    except:\n",
    "        fd.write(file)\n",
    "        continue\n",
    "        \n",
    "    ddList = qnaList.find_all(\"dd\")\n",
    "    answer = \"\"\n",
    "    for dd in ddList:\n",
    "        ans = dd.find_all(\"div\", {\"class\": \"tx\"})[0]\n",
    "        for span in ans.find_all(\"span\"):\n",
    "            span.decompose()\n",
    "        answer += ans.text\n",
    "    \n",
    "    ans_rating_list.append([answer, float(grade[0].text.strip())])\n",
    "    ans_advice_rating_list.append([answer, text.text, float(grade[0].text.strip())])\n",
    "    \n",
    "fd.close()\n"
   ]
  },
  {
   "cell_type": "code",
   "execution_count": 27,
   "metadata": {},
   "outputs": [
    {
     "data": {
      "text/plain": [
       "[['\\n1. 객체지향프로그래밍\\nA+,프로그래밍 수업을 들으면서 프로그램을 만들고 수정하는 과정이 어릴 때부터 좋아하던 수학문제를 푸는 과정과 비슷하다는 것을 깨달으면서 WEP/APP개발에 관심을 갖게 되었습니다. \\n\\n2.데이터베이스 설계\\nA0,데이터베이스를 설계하고 빅 데이터를 분석하는데 필요한 언어와 프로그램의 사용법을 익혔습니다. \\n\\n3. 컴퓨터그래픽스 설계\\nA0, 컴퓨터 그래픽스 설계 과목을 수강하며 OpenGL을 이용하여 3D 공간을 만들고 객체를 생성하여 컴퓨터 그래픽을 사용하는 방법을 익혔습니다. \\n\\n한국oo협회가 운영하는 빅 데이터 관리자과정을 수강하여 Java, 오라클, 하둡, R 등 데이터베이스를 설계하고 빅 데이터를 분석하는데 필요한 언어와 프로그램의 사용법을 익혔습니다. \\n\\n또한 단순히 수업을 듣는 데에 만족하지 않고 프로그램 하나를 배울 때마다 미니프로젝트를 진행하여 실제 사용에 필요한 경험을 얻을 수 있었고, 특허와 관련된 데이터베이스와 그 안에서 원하는 정보를 검색하는 시스템 설계하는 졸업 프로젝트를 진행 중에 있습니다. \\n\\nNHN엔터테이먼트는 생활, 문화 기반의 IT서비스를 제공하는 기업이기 때문에 많은 사용자가 편리하게 이용할 수 있는 프로그램을 개발하는 것이 가장 중요하다고 생각합니다. 저는 입사 후 단순히 성과를 내기위한 개발이 아닌 고객이 필요로 하는 프로그램을 개발하려고 사용자가 만족하는 성능을 내도록 노력하겠습니다. \\n',\n",
       "  3],\n",
       " ['\\n현장실습을 나가게 되었을 때 LNG선의 시험 운전 날짜가 얼마 남지 않아 저희 팀은 야간근무 및 주말근무까지 하는 일이 발생하였습니다. 맡은 업무는 외부가 다 완성된 배 내부에 결선 상태를 회로도를 보고 테스터기를 활용하여 유지보수 하는 역할을 하였습니다. 시험 운전 날짜도 얼마 남지 않았을뿐더러 구성원이 적었기 때문에 일의 강도는 커져만 갔습니다. 비전공자이다 보니 직접적인 도움이 되지 못한다는 생각에 조금이라도 도움이 되고자 필요한 공구를 미리 전해주는 역할을 하였습니다. 또한, 작업환경이 어수선하면 능률이 떨어지기 때문에 주변정리와 뒷정리를 함으로써 조금이라도 도움을 주었습니다. \\n\\n하지만 직접적인 도움에 비해 큰 도움이 되지 못해 죄송한 마음에 주말에는 개인보다는 회사와 선배들을 위해 문제집과 인터넷 강의를 통해 전기기능사 자격증을 취득하였습니다. 그 덕분에 일 처리 속도가 향상되어 정해진 시험 운전 기간 안에 무사히 목표를 달성할 수 있었습니다. 이를 계기로 처음 접한 업무에서 두려워하기보다는 구체적인 계획과 도전을 통해 새로운 기술을 습득할 수 있다는 것을 알게 되었습니다. \\n\\n학창시절 자격증 필기시험에 합격하고 실기를 준비하던 중 실기시험 기간이 중간고사 기간과 겹친다는 사실을 알게 되었습니다. 성적과 자격증 둘 다 회사에서 중요시하는 것이었기 때문에 어느 하나 포기할 수 없는 상황이었습니다. 그러던 중 친구들은 중간고사는 다시 볼 수 없지만, 자격증 시험은 다시 볼 수 있다며 중간고사를 택하는 걸 추천하였습니다. 기존의 방식이었다면 친구들 말처럼 학교 성적을 선택하여 자격증을 포기했을 것입니다. 하지만 구체적인 계획을 세운다면 둘 다 좋은 결과를 얻을 수 있다는 생각에 도전하였습니다. 가장 먼저 수업시간에는 진도를 맞추기 위해 실습보다는 학교 공부에 시간을 투자하였고 집에 와서는 예습과 복습을 통해 부족한 부분을 채워나갔습니다. 또한, 방과 후 시간에는 실습강좌를 신청하여 자격증 공부를 하였습니다. 하지만 방과 후 시간으로는 부족했기 때문에 선생님께 말씀드린 후 주말에 나와 실습을 꾸준히 하여 실력을 향상했습니다. 그 결과 수업시간에는 수업을 듣고 주말과 방과 후 시간에 실습한 덕분에 성적과 자격증 모두 좋은 결과를 얻을 수 있었습니다.\\n \\n\\n학창시절 CAD/CAM 프로그램을 이용하여 도면을 만드는 작업을 하였습니다. 프로그램을 다 완성하면 휴식 시간을 준다는 말과 작업이 오래 걸려 힘들다는 단점이 있었습니다. 그때 모두 같은 도면을 받았기 때문에 한 사람만 완성하여 공유하면 된다는 친구의 말이 저를 유혹하였습니다. 아무도 보고 있지 않는다는 생각에 그냥 그렇게 할까? 라는 생각을 하였습니다. 하지만 이번을 계기로 편법을 쓰는 게 당연하게 느껴질까 두려워 정정당당해지자고 다짐하였습니다. 친구들은 서로 정보를 공유하며 빠르게 끝내 휴식시간을 보냈지만 저는 스스로 프로그램을 완성하여 마무리하였습니다. 그 덕분에 시간이 오래 걸리기는 했지만 제 손으로 마지막까지 작업한 덕분에 기술능력이 향상될 수 있었습니다. 만약 이번 한 번 편하자고 편법을 썼더라면 나중에도 같은 실수를 반복했을 것입니다. 이를 통해 부족했던 실습 능력을 향상할 수 있었으며, 자격증 취득도 할 수 있었습니다. 또한, 편법을 써서 빠르게 문제를 해결한다면 그 당시에는 좋을지 몰라도 나중이 되면 비록 속도는 느렸지만, 자신의 부족함을 채운 사람보다 뒤처진다는 사실을 깨닫는 계기가 되었습니다. \\n',\n",
       "  2],\n",
       " ['\\n\\n[신선한 과일주스와 같은 ‘fresh’ 한 인재 = ***]\\n똑같은 아라비카 원두를 사용한 아메리카노와 같은 획일화된 인재가 되고 싶지 않았습니다. 저는 신선한 과일을 이용해 방금 착즙 된 달콤한 과일주스처럼, 항상 새롭고 신선한 일에 도전을 마다치 않는 인재로 성장하기 위해 노력해왔습니다.\\n\\n첫째로, 대학 시절부터 근로장학생, 대형마트, 학원 강사 등 10여 개가 되는 다양한 아르바이트와 회사 인턴 생활을 통해 내부적으로는 사회적 적응력을 키웠고 외부적으로는 고객의 요구를 파악하기 위해 노력하였습니다. \\n\\n***** 공식인증 대리점 판매 직원으로 일할 당시, 부진 재고 모델을 효과적으로 판매한 경험은 앞선 이야기를 뒷받침해줍니다. 제품이 있어야 하는 분명한 대상 설정과 발로 뛴 실행력으로 판매수익을 20% 끌어올릴 수 있었고 새로운 분야에서 성과를 올리는 도전은 늘 저를 설레게 합니다.\\n\\n둘째로, 사람들과 함께하는 업무에서 리더의 책임감과 팀워크의 중요성 배웠습니다. 교양 수업 커뮤니케이션의 이해 수강 때, 팀 프로젝트의 조장을 맡았습니다. \\n\\n당시 가장 큰 문제는 12명으로 이뤄진 팀원들 간의 의사소통 문제였습니다. 학과, 학년이 모두 다르고 친분이 없기에 적극적으로 참여하는 인원이 저조했습니다. \\n\\n이를 해결하기 위해 정기적인 모임을 추진하여 조원들 간의 친밀도를 높여 팀워크를 향상했고 프로젝트를 3명씩 세부적으로 나눠 진행하여 완성도를 높였습니다. 모두가 적극적으로 참여한 결과 120명 참여하는 수업, 10개 팀의 조별 발표에서 1등이란 값진 결과를 얻었습니다. \\n\\n전사적으로 많은 사람과 대화를 나눠야 하는 영업은 동료들과의 협업이 필수입니다. 맡은 업무에 항상 리더라는 책임감을 느끼고 팀원들과 하나가 되는 노력을 통해 저의 역량을 최고로 발휘하겠습니다.\\n\\n저는 입사 후에도 막연하게 주어진 일만 기계적으로 수행하지 않을 것입니다. 한 발짝 더 나아가 어떠한 것을 첨가하면 일의 완성도가 더 높아질 수 있을지 스스로 생각하며, 진취적 자세를 바탕으로 한국후지제록스의 발전에 도움이 되는 인재로 성장하겠습니다.                        \\n\\n\\n[행복은 향수와 같다.]\\n제 인생의 가치관을 가장 잘 반영한 말은 행복은 향수와 같다는 것입니다. 나 자신 스스로가 행복하지 않다면 그 누군가에게도 행복을 전파할 수 없기에 긍정적인 마음으로 매사에 최선을 다합니다. \\n\\n그렇기에 사람들과 함께하는 업무에서 즐겁고 적극적으로 대안을 제시하고 좋은 결과물을 만들기 위해 웃으며 노력합니다. 한국 후지제록스의 행복 바이러스, 김아름 신입사원이 되어 긍정의 힘으로 업무의 성과를 높이겠습니다.\\n\\n[나태함을 극복하는 우선순위 정하기]\\n제 성격의 단점은 한꺼번에 많은 일을 처리하려고 한다는 것입니다. 일례로 시험이 끝난 직후의 다음 시간을 제대로 활용하지 못했습니다. 이를 개선하기 위해 일을 함에 있어 우선순위를 정하고 중요한 것부터 차례로 마무리하려는 노력을 지속해서 하고 있습니다. 또한, 꾸준히 메모하는 습관을 통해 그날 주어진 일을 마무리하기 위해 노력합니다. \\n\\n[고객의 마음을 움직이는 밝고 친절한 미소]\\n제 꿈은 내가 사랑하는 ‘사람들’과 내가 사랑하는 ‘일’을 하며 내가 느끼는 ‘행복’을 함께 나누는 것입니다. 그 꿈의 실현은 고객과 만남을 통해 깨닫습니다. \\n\\n호프집 서빙 아르바이트를 하며 처음 고객과 마주했습니다. 서툴지만 상냥한 인사로 고객을 맞이했고 양질의 서비스를 제공하기 위해 노력했습니다. 고맙다는 인사와 함께 다시 저를 찾아와주었고 고객의 만족스러운 미소에 큰 행복을 느꼈습니다.\\n\\n제가 영업이란 직무를 택한 가장 큰 이유는 바로, 고객과 행복을 나눌 때 가장 큰 보람을 느꼈기 때문입니다. 우리의 제품을 잘 팔기 위해서는 물론 제품에 대한 지식도 중요할 것입니다. \\n\\n하지만 사람과 사람의 관계이기 때문에 고객의 마음을 잘 헤아리고 움직일 줄 알아야 합니다. 저는 10여 개가 되는 다양한 아르바이트를 통해 다양한 고객들의 요구를 파악했고 누구보다 소통을 잘할 자신이 있습니다.\\n\\n영업은 사람을 상대하기 때문에 힘들고 궂은일을 겪을 수도 있습니다. 그럴 때마다 고객에게 내 감정을 표시하고 불쾌한 행동을 하는 것은 잠재고객을 떠나보낼 것입니다. \\n\\n그동안 쌓아온 다양한 사회적 경험을 토대로 누구보다 밝은 미소로 주어진 상황을 대처할 자신이 있습니다. 매사에 긍정적인 자세로 항상 밝은 미소로 평정심을 유지하며 고객을 맞이하겠습니다.                        \\n\\n\\n[글로벌 역량은 해외에서? 편견을 깨기 위한 도전]\\n국제적 역량은 해외 유학을 통해서 키운다는 편견을 깨고, 국내에서도 충분히 키울 수 있다는 것을 보여주기 위해 영어 학원 강사에 도전하였습니다. \\n\\n취업을 위해 배우는 정형화된 수업은 다양한 사람들과 소통하며 회화 능력을 키우기에는 한계가 있었고 직접 누군가를 가르치며 함께 발전된 회화 능력을 키우겠다는 목표를 세웠습니다. 때마침 알맞은 구인 공고를 찾았고 중등부 회화 강사에 도전하였습니다.\\n\\n초등학교 시절부터 배운 영어였지만, 제가 대답한 수준은 유치원 학생의 말하기 수준도 되지 못했습니다. 처음에 세웠던 목표에 비해 너무 초라한 제 실력에 크게 실망했습니다. \\n\\n그래서 원장 선생님께 아이들이 공부하는 영어 회화 서적을 받아 미숙한 발음과 모르는 문법들을 매일 5시간 이상 공부했습니다. 강사들이 아이들과 대화를 할 때 어떤 문장으로 시작하는지, 문장을 주의 깊게 듣고 메모하여 연습했습니다. \\n\\n막히는 문장이나 발음이 있다면 서슴지 않고 동료에게 질문도 하였습니다. 하루를 거르지 않고 공부하다 보니 비록 유창한 발음은 아니지만, 아이들에게 유익한 강의를 제공하고 월말 평가 1등 강사로 거듭날 수 있었습니다.\\n\\n앞선 경험은 도전적인 목표를 세우고 점진적으로 나아가야 하는 영업 과정에서 원하는 결과를 끈기있게 이뤄내는 데 도움이 될 것입니다. 미래를 위한 다음 단계의 혁신에 도전하는 자세가 중요하다 생각합니다. 한국 후지제록스의 도전에 함께하며 더 높은 실현을 위해 노력하는 지원자가 되겠습니다.                        \\n\\n\\n[실무경험을 토대로 탄탄한 직무준비]\\n한국후지제록스의 사무용 복합기 부분 15년 연속 1위에 달하는 제품과 서비스에 대한 높은 만족도에 저의 ‘도전정신’을 보태어 미래의 1위 달성에도 늘 함께하고 싶다고 생각했습니다. \\n\\n‘최고’라는 말뿐인 서비스가 제공이 아니라 ‘고객’을 중심으로 최고의 서비스와 품질을 고객이 올바르게 알고 사용하도록 최선의 노력을 할 것입니다.\\n\\n영업은 간접유통망인 대리점을 통해 가입자를 모으고 성과를 창출합니다. 저는 SK 공식인증 대리점에서 일하며 영업을 본격적으로 배웠습니다. 약 6개월이란 시간 동안, 휴대전화 판매 및 각종 CS 업무 그리고 사내 특판 행사를 길거리에서 진행하면서 다양한 IT 상품 판매에 대한 전반적인 과정을 익혔습니다. \\n\\n이는 한국후지제록스에서 해당 직무를 맡게 되었을 때, 회사의 정책을 대리점 혹은 고객에게 올바르게 전달하는 일부터 시작해서 영업하는 데 필요한 다양한 관리자의 역할을 잘할 수 있을 거라 확신합니다. \\n\\n저는 한국후지제록스에서 사람들의 생활을 이롭게 하는 서비스를 제공하며 행복한 미래를 함께 만들고 싶습니다. 특히 현장의 영업 사원으로서, 한국후지제록스 내 다양한 유통채널을 고객들이 다시 찾고 싶은 행복한 공간으로 만들고 싶습니다. \\n\\n이를 위해 입사 후 1년, 성실하겠습니다. 직무 교육과 현장 실습을 바탕으로 업무 전반에 대해 충실히 익히고 함께 발로 뛰는 실행력을 통해 맡게 되는 영업점의 실적을 최대로 끌어올리겠습니다. 입사 후 5년, 경쟁하겠습니다. \\n\\n현재 한국후지제록스에서 쌓은 노하우를 바탕으로 전략적인 영업 정책을 수립하여, 문서 관리 시장의 점유율을 30% 끌어올리며 고객의 만족도를 높이겠습니다.                        \\n',\n",
       "  3]]"
      ]
     },
     "execution_count": 27,
     "metadata": {},
     "output_type": "execute_result"
    }
   ],
   "source": [
    "ans_rating_list[:3]"
   ]
  },
  {
   "cell_type": "code",
   "execution_count": 28,
   "metadata": {},
   "outputs": [
    {
     "data": {
      "text/plain": [
       "['\\n1. 객체지향프로그래밍\\nA+,프로그래밍 수업을 들으면서 프로그램을 만들고 수정하는 과정이 어릴 때부터 좋아하던 수학문제를 푸는 과정과 비슷하다는 것을 깨달으면서 WEP/APP개발에 관심을 갖게 되었습니다. \\n\\n2.데이터베이스 설계\\nA0,데이터베이스를 설계하고 빅 데이터를 분석하는데 필요한 언어와 프로그램의 사용법을 익혔습니다. \\n\\n3. 컴퓨터그래픽스 설계\\nA0, 컴퓨터 그래픽스 설계 과목을 수강하며 OpenGL을 이용하여 3D 공간을 만들고 객체를 생성하여 컴퓨터 그래픽을 사용하는 방법을 익혔습니다. \\n\\n한국oo협회가 운영하는 빅 데이터 관리자과정을 수강하여 Java, 오라클, 하둡, R 등 데이터베이스를 설계하고 빅 데이터를 분석하는데 필요한 언어와 프로그램의 사용법을 익혔습니다. \\n\\n또한 단순히 수업을 듣는 데에 만족하지 않고 프로그램 하나를 배울 때마다 미니프로젝트를 진행하여 실제 사용에 필요한 경험을 얻을 수 있었고, 특허와 관련된 데이터베이스와 그 안에서 원하는 정보를 검색하는 시스템 설계하는 졸업 프로젝트를 진행 중에 있습니다. \\n\\nNHN엔터테이먼트는 생활, 문화 기반의 IT서비스를 제공하는 기업이기 때문에 많은 사용자가 편리하게 이용할 수 있는 프로그램을 개발하는 것이 가장 중요하다고 생각합니다. 저는 입사 후 단순히 성과를 내기위한 개발이 아닌 고객이 필요로 하는 프로그램을 개발하려고 사용자가 만족하는 성능을 내도록 노력하겠습니다. \\n',\n",
       " '지원자님의 직무 역량이 전체적인 내용에 잘 반영되어 있는 점이 좋습니다. 다만 전체적인 자기소개서 항목별 내용이 지원자님의 구체적인 경험과 연결이 부족하여 아쉬운 점이 있습니다. ‘자신이 어떤 면에서 회사에 필요한 인재 인지’ 와 ‘다른 지원자들과는 차별되는 나만의 경쟁력’ 등을 이야기 해주셔야 합니다. 먼저 ‘무엇을 알고 싶어 하는지 그 핵심을 파악’ 한 후 인사담당자가 알고 싶어 하는 내용을 중점적으로 내세우고 강조해 주셔야 합니다. NHN Entertainment 분석과 직무분석을 통해 웹프로그램으로 입사 후 어떤 업무나 내용을 해낼 수 있을지를 구체적으로 작성하시면 좋겠습니다. ',\n",
       " 3]"
      ]
     },
     "execution_count": 28,
     "metadata": {},
     "output_type": "execute_result"
    }
   ],
   "source": [
    "ans_advice_rating_list[0]"
   ]
  },
  {
   "cell_type": "code",
   "execution_count": 31,
   "metadata": {},
   "outputs": [],
   "source": [
    "import pandas as pd\n",
    "\n",
    "df1 = pd.DataFrame(ans_rating_list, columns=['letter', 'rating'])\n",
    "df2 = pd.DataFrame(ans_advice_rating_list, columns=['letter', 'advice', 'rating'])"
   ]
  },
  {
   "cell_type": "code",
   "execution_count": 32,
   "metadata": {},
   "outputs": [],
   "source": [
    "df1.to_csv(\"answer_rating.csv\", index=False, encoding=\"utf-8-sig\")\n",
    "df2.to_csv(\"answer_advice_rating.csv\", index=False, encoding=\"utf-8-sig\")"
   ]
  },
  {
   "cell_type": "code",
   "execution_count": 33,
   "metadata": {},
   "outputs": [
    {
     "name": "stdout",
     "output_type": "stream",
     "text": [
      "<class 'pandas.core.frame.DataFrame'>\n",
      "RangeIndex: 4032 entries, 0 to 4031\n",
      "Data columns (total 2 columns):\n",
      " #   Column  Non-Null Count  Dtype  \n",
      "---  ------  --------------  -----  \n",
      " 0   letter  4032 non-null   object \n",
      " 1   rating  4032 non-null   float64\n",
      "dtypes: float64(1), object(1)\n",
      "memory usage: 63.1+ KB\n"
     ]
    }
   ],
   "source": [
    "pd.read_csv(\"answer_rating.csv\").info()"
   ]
  },
  {
   "cell_type": "markdown",
   "metadata": {},
   "source": [
    "# 모델 3\n",
    "<좋은점/아쉬운점 - 해당 내용 - 해당 조언> 추출"
   ]
  },
  {
   "cell_type": "code",
   "execution_count": null,
   "metadata": {},
   "outputs": [],
   "source": []
  }
 ],
 "metadata": {
  "kernelspec": {
   "display_name": "ml env",
   "language": "python",
   "name": ".venv"
  },
  "language_info": {
   "codemirror_mode": {
    "name": "ipython",
    "version": 3
   },
   "file_extension": ".py",
   "mimetype": "text/x-python",
   "name": "python",
   "nbconvert_exporter": "python",
   "pygments_lexer": "ipython3",
   "version": "3.7.6"
  }
 },
 "nbformat": 4,
 "nbformat_minor": 4
}
