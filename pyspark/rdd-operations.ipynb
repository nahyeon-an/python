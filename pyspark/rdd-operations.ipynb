{
 "cells": [
  {
   "cell_type": "markdown",
   "id": "declared-shuttle",
   "metadata": {},
   "source": [
    "## RDD Action"
   ]
  },
  {
   "cell_type": "code",
   "execution_count": 19,
   "id": "vanilla-intelligence",
   "metadata": {},
   "outputs": [
    {
     "name": "stdout",
     "output_type": "stream",
     "text": [
      "[1, 2, 3, 4, 5, 6, 7, 8, 9, 10]\n"
     ]
    }
   ],
   "source": [
    "# 1. collect\n",
    "rdd = sc.parallelize(range(1, 11))\n",
    "result = rdd.collect()\n",
    "print(result)"
   ]
  },
  {
   "cell_type": "code",
   "execution_count": 20,
   "id": "comprehensive-mobility",
   "metadata": {},
   "outputs": [
    {
     "name": "stdout",
     "output_type": "stream",
     "text": [
      "10\n"
     ]
    }
   ],
   "source": [
    "# 2. count\n",
    "result = rdd.count()\n",
    "print(result)"
   ]
  },
  {
   "cell_type": "code",
   "execution_count": 21,
   "id": "potential-picture",
   "metadata": {},
   "outputs": [
    {
     "name": "stdout",
     "output_type": "stream",
     "text": [
      "[1, 2, 3, 4, 5]\n"
     ]
    }
   ],
   "source": [
    "# 3. take\n",
    "rdd = sc.parallelize(range(1, 100))\n",
    "result = rdd.take(5)\n",
    "print(result)"
   ]
  },
  {
   "cell_type": "code",
   "execution_count": 22,
   "id": "earlier-holiday",
   "metadata": {},
   "outputs": [
    {
     "name": "stdout",
     "output_type": "stream",
     "text": [
      "5\n"
     ]
    }
   ],
   "source": [
    "# 4. first\n",
    "rdd = sc.parallelize([5, 4, 1])\n",
    "result = rdd.first()\n",
    "print(result)"
   ]
  },
  {
   "cell_type": "code",
   "execution_count": 23,
   "id": "opposite-bahamas",
   "metadata": {},
   "outputs": [
    {
     "name": "stdout",
     "output_type": "stream",
     "text": [
      "defaultdict(<class 'int'>, {1: 2, 2: 1, 3: 2})\n"
     ]
    }
   ],
   "source": [
    "# 5. countByValue\n",
    "rdd = sc.parallelize((1, 1, 2, 3, 3))\n",
    "result = rdd.countByValue()\n",
    "print(result)"
   ]
  },
  {
   "cell_type": "code",
   "execution_count": 24,
   "id": "simple-princeton",
   "metadata": {},
   "outputs": [
    {
     "name": "stdout",
     "output_type": "stream",
     "text": [
      "55\n"
     ]
    }
   ],
   "source": [
    "# 6. reduce\n",
    "rdd = sc.parallelize(list(range(1, 11)))\n",
    "result = rdd.reduce(lambda x, y: x + y)\n",
    "print(result)"
   ]
  },
  {
   "cell_type": "code",
   "execution_count": 25,
   "id": "legal-surgery",
   "metadata": {},
   "outputs": [
    {
     "name": "stdout",
     "output_type": "stream",
     "text": [
      "55\n"
     ]
    }
   ],
   "source": [
    "# 7. sum\n",
    "result = rdd.sum()\n",
    "print(result)"
   ]
  },
  {
   "cell_type": "markdown",
   "id": "manufactured-cooler",
   "metadata": {},
   "source": [
    "## RDD Transformation\n",
    "반환 결과 : 새로운 RDD  \n",
    "action 연산을 사용할 때 계산하여 실제 값으로 확인 가능함"
   ]
  },
  {
   "cell_type": "code",
   "execution_count": 26,
   "id": "animated-niger",
   "metadata": {},
   "outputs": [
    {
     "name": "stdout",
     "output_type": "stream",
     "text": [
      "PythonRDD[49] at RDD at PythonRDD.scala:53\n"
     ]
    }
   ],
   "source": [
    "# 1. map\n",
    "rdd = sc.parallelize(list(range(1, 6)))\n",
    "result = rdd.map(lambda x: x + 1)\n",
    "print(result)"
   ]
  },
  {
   "cell_type": "code",
   "execution_count": 27,
   "id": "quantitative-evanescence",
   "metadata": {},
   "outputs": [
    {
     "name": "stdout",
     "output_type": "stream",
     "text": [
      "[2, 3, 4, 5, 6]\n"
     ]
    }
   ],
   "source": [
    "print(result.collect())"
   ]
  },
  {
   "cell_type": "code",
   "execution_count": 28,
   "id": "ultimate-backup",
   "metadata": {},
   "outputs": [
    {
     "name": "stdout",
     "output_type": "stream",
     "text": [
      "['apple', 'orange', 'grape', 'apple', 'mango', 'bluberry', 'tomato', 'banana']\n"
     ]
    }
   ],
   "source": [
    "# 2. flatMap\n",
    "fruits = (\"apple,orange\", \"grape,apple,mango\", \"bluberry,tomato,banana\")\n",
    "rdd1 = sc.parallelize(fruits)\n",
    "rdd2 = rdd1.flatMap(lambda x: x.split(\",\"))\n",
    "print(rdd2.collect())"
   ]
  },
  {
   "cell_type": "code",
   "execution_count": 29,
   "id": "egyptian-davis",
   "metadata": {},
   "outputs": [
    {
     "name": "stdout",
     "output_type": "stream",
     "text": [
      "[['apple', 'orange'], ['grape', 'apple', 'mango'], ['bluberry', 'tomato', 'banana']]\n"
     ]
    }
   ],
   "source": [
    "rdd2 = rdd1.map(lambda x: x.split(\",\"))\n",
    "print(rdd2.collect())"
   ]
  },
  {
   "cell_type": "code",
   "execution_count": 30,
   "id": "certain-armor",
   "metadata": {},
   "outputs": [
    {
     "name": "stdout",
     "output_type": "stream",
     "text": [
      "[('a', 2), ('b', 2), ('c', 2)]\n"
     ]
    }
   ],
   "source": [
    "# 3. mapValues\n",
    "rdd1 = sc.parallelize([\"a\", \"b\", \"c\"])\n",
    "rdd2 = rdd1.map(lambda v: (v, 1))  # [('a', 1), ('b', 1), ('c', 1)]\n",
    "rdd3 = rdd2.mapValues(lambda i: i+1)  # 모든 value 값에 +1\n",
    "print(rdd3.collect())"
   ]
  },
  {
   "cell_type": "code",
   "execution_count": 31,
   "id": "floppy-grave",
   "metadata": {},
   "outputs": [
    {
     "name": "stdout",
     "output_type": "stream",
     "text": [
      "[(1, 'a'), (1, 'b'), (2, 'a'), (2, 'c'), (1, 'd'), (1, 'e')]\n"
     ]
    }
   ],
   "source": [
    "# 4. flatMapValues\n",
    "rdd1 = sc.parallelize( [(1, \"a,b\"), (2, \"a,c\"), (1, \"d,e\")] )\n",
    "rdd2 = rdd1.flatMapValues(lambda s: s.split(\",\"))\n",
    "print(rdd2.collect())  # 결과를 1차원 배열로 반환"
   ]
  },
  {
   "cell_type": "code",
   "execution_count": 32,
   "id": "pressing-cattle",
   "metadata": {},
   "outputs": [
    {
     "name": "stdout",
     "output_type": "stream",
     "text": [
      "[('a', 1), ('b', 2), ('c', 3)]\n"
     ]
    }
   ],
   "source": [
    "# 5. zip\n",
    "rdd1 = sc.parallelize([\"a\", \"b\", \"c\"])\n",
    "rdd2 = sc.parallelize([1, 2, 3])\n",
    "result = rdd1.zip(rdd2)\n",
    "print(result.collect())"
   ]
  },
  {
   "cell_type": "code",
   "execution_count": 33,
   "id": "connected-stephen",
   "metadata": {},
   "outputs": [
    {
     "name": "stdout",
     "output_type": "stream",
     "text": [
      "[('even', <pyspark.resultiterable.ResultIterable object at 0x7f037d1087d0>), ('odd', <pyspark.resultiterable.ResultIterable object at 0x7f037d108d50>)]\n"
     ]
    }
   ],
   "source": [
    "# 6. groupBy\n",
    "rdd1 = sc.parallelize(range(1, 11))\n",
    "rdd2 = rdd1.groupBy(lambda x: \"even\" if x % 2 == 0 else \"odd\")\n",
    "print(rdd2.collect())"
   ]
  },
  {
   "cell_type": "code",
   "execution_count": 34,
   "id": "corresponding-nylon",
   "metadata": {},
   "outputs": [
    {
     "name": "stdout",
     "output_type": "stream",
     "text": [
      "even [2, 4, 6, 8, 10]\n",
      "odd [1, 3, 5, 7, 9]\n"
     ]
    }
   ],
   "source": [
    "for x in rdd2.collect():\n",
    "    print(x[0], list(x[1]))"
   ]
  },
  {
   "cell_type": "code",
   "execution_count": 35,
   "id": "varied-reggae",
   "metadata": {},
   "outputs": [
    {
     "name": "stdout",
     "output_type": "stream",
     "text": [
      "b [1, 1]\n",
      "c [1, 1]\n",
      "a [1]\n"
     ]
    }
   ],
   "source": [
    "# 7. groupByKey\n",
    "rdd1 = sc.parallelize([\"a\", \"b\", \"c\", \"b\", \"c\"]).map(lambda v: (v, 1))\n",
    "rdd2 = rdd1.groupByKey()\n",
    "for x in rdd2.collect():\n",
    "    print(x[0], list(x[1]))"
   ]
  },
  {
   "cell_type": "code",
   "execution_count": 37,
   "id": "molecular-parts",
   "metadata": {},
   "outputs": [
    {
     "name": "stdout",
     "output_type": "stream",
     "text": [
      "[2, 1, 3]\n"
     ]
    }
   ],
   "source": [
    "# 8. distinct\n",
    "rdd = sc.parallelize([1, 2, 3, 1, 2, 3, 1, 2, 3])\n",
    "result = rdd.distinct()\n",
    "print(result.collect())"
   ]
  },
  {
   "cell_type": "code",
   "execution_count": 38,
   "id": "conditional-berlin",
   "metadata": {},
   "outputs": [
    {
     "name": "stdout",
     "output_type": "stream",
     "text": [
      "[3, 4, 5]\n"
     ]
    }
   ],
   "source": [
    "# 9. filter\n",
    "rdd1 = sc.parallelize(range(1, 6))\n",
    "rdd2 = rdd1.filter(lambda i: i > 2)\n",
    "print(rdd2.collect())"
   ]
  },
  {
   "cell_type": "code",
   "execution_count": 41,
   "id": "convinced-accreditation",
   "metadata": {},
   "outputs": [
    {
     "name": "stdout",
     "output_type": "stream",
     "text": [
      "[('a', 1), ('q', 1), ('z', 1)]\n"
     ]
    }
   ],
   "source": [
    "# 10. sortByKey\n",
    "rdd = sc.parallelize( [(\"q\", 1), (\"z\", 1), (\"a\", 1)] )\n",
    "result = rdd.sortByKey()\n",
    "print(result.collect())"
   ]
  },
  {
   "cell_type": "code",
   "execution_count": 42,
   "id": "iraqi-memphis",
   "metadata": {},
   "outputs": [
    {
     "name": "stdout",
     "output_type": "stream",
     "text": [
      "['k1', 'k2', 'k3']\n",
      "['v1', 'v2', 'v3']\n"
     ]
    }
   ],
   "source": [
    "# 11. keys, values\n",
    "rdd = sc.parallelize( [(\"k1\", \"v1\"), (\"k2\", \"v2\"), (\"k3\", \"v3\")] )\n",
    "print(rdd.keys().collect())\n",
    "print(rdd.values().collect())"
   ]
  },
  {
   "cell_type": "code",
   "execution_count": 43,
   "id": "closed-jones",
   "metadata": {},
   "outputs": [
    {
     "name": "stdout",
     "output_type": "stream",
     "text": [
      "[2, 5, 6, 10, 12]\n",
      "[1, 2, 2, 3, 4]\n"
     ]
    }
   ],
   "source": [
    "# 12. sample\n",
    "rdd = sc.parallelize(range(1, 101))\n",
    "result1 = rdd.sample(False, 0.5, 100)\n",
    "result2 = rdd.sample(True, 1.5, 100)\n",
    "print(result1.take(5))\n",
    "print(result2.take(5))"
   ]
  },
  {
   "cell_type": "code",
   "execution_count": 44,
   "id": "nuclear-bonus",
   "metadata": {},
   "outputs": [
    {
     "name": "stdout",
     "output_type": "stream",
     "text": [
      "[(1, 'a'), (1, 'b'), (1, 'c'), (2, 'a'), (3, 'a'), (2, 'b'), (2, 'c'), (3, 'b'), (3, 'c')]\n"
     ]
    }
   ],
   "source": [
    "# 13. catesian\n",
    "rdd1 = sc.parallelize([1, 2, 3])\n",
    "rdd2 = sc.parallelize([\"a\", \"b\", \"c\"])\n",
    "result = rdd1.cartesian(rdd2)\n",
    "print(result.collect())"
   ]
  },
  {
   "cell_type": "code",
   "execution_count": 45,
   "id": "theoretical-honolulu",
   "metadata": {},
   "outputs": [
    {
     "name": "stdout",
     "output_type": "stream",
     "text": [
      "['b', 'c', 'a']\n"
     ]
    }
   ],
   "source": [
    "# 14. subtract\n",
    "rdd1 = sc.parallelize([\"a\", \"b\", \"c\", \"d\", \"e\"])\n",
    "rdd2 = sc.parallelize([\"d\", \"e\"])\n",
    "result = rdd1.subtract(rdd2)\n",
    "print(result.collect())"
   ]
  },
  {
   "cell_type": "code",
   "execution_count": 46,
   "id": "empirical-cinema",
   "metadata": {},
   "outputs": [
    {
     "name": "stdout",
     "output_type": "stream",
     "text": [
      "['a', 'b', 'c', 'd', 'e', 'f']\n"
     ]
    }
   ],
   "source": [
    "# 15. union\n",
    "rdd1 = sc.parallelize([\"a\", \"b\", \"c\"])\n",
    "rdd2 = sc.parallelize([\"d\", \"e\", \"f\"])\n",
    "result = rdd1.union(rdd2)\n",
    "print(result.collect())"
   ]
  },
  {
   "cell_type": "code",
   "execution_count": 47,
   "id": "humanitarian-letters",
   "metadata": {},
   "outputs": [
    {
     "name": "stdout",
     "output_type": "stream",
     "text": [
      "['c', 'a']\n"
     ]
    }
   ],
   "source": [
    "# 16. intersection\n",
    "rdd1 = sc.parallelize([\"a\", \"a\", \"b\", \"c\"])\n",
    "rdd2 = sc.parallelize([\"a\", \"a\", \"c\", \"c\"])\n",
    "result = rdd1.intersection(rdd2)\n",
    "print(result.collect())"
   ]
  },
  {
   "cell_type": "code",
   "execution_count": 48,
   "id": "considered-potato",
   "metadata": {},
   "outputs": [
    {
     "name": "stdout",
     "output_type": "stream",
     "text": [
      "[('b', (1, 2)), ('c', (1, 2))]\n"
     ]
    }
   ],
   "source": [
    "# 17. join\n",
    "rdd1 = sc.parallelize([\"a\", \"b\", \"c\", \"d\", \"e\"]).map(lambda v: (v,1))\n",
    "rdd2 = sc.parallelize([\"b\", \"c\"]).map(lambda v: (v, 2))\n",
    "result = rdd1.join(rdd2)\n",
    "print(result.collect())"
   ]
  },
  {
   "cell_type": "code",
   "execution_count": 49,
   "id": "human-theme",
   "metadata": {},
   "outputs": [
    {
     "name": "stdout",
     "output_type": "stream",
     "text": [
      "Left: [('b', (1, 2)), ('c', (1, 2)), ('a', (1, None))]\n",
      "Right: [('b', (1, 2)), ('c', (1, 2))]\n"
     ]
    }
   ],
   "source": [
    "# 18. leftOuterJoin, rightOuterJoin\n",
    "rdd1 = sc.parallelize([\"a\", \"b\", \"c\"]).map(lambda v: (v, 1))\n",
    "rdd2 = sc.parallelize([\"b\", \"c\"]).map(lambda v: (v, 2))\n",
    "\n",
    "result1 = rdd1.leftOuterJoin(rdd2)\n",
    "result2 = rdd1.rightOuterJoin(rdd2)\n",
    "\n",
    "print(\"Left: %s\" % result1.collect())\n",
    "print(\"Right: %s\" % result2.collect())"
   ]
  }
 ],
 "metadata": {
  "kernelspec": {
   "display_name": "Python 3",
   "language": "python",
   "name": "python3"
  },
  "language_info": {
   "codemirror_mode": {
    "name": "ipython",
    "version": 3
   },
   "file_extension": ".py",
   "mimetype": "text/x-python",
   "name": "python",
   "nbconvert_exporter": "python",
   "pygments_lexer": "ipython3",
   "version": "3.7.10"
  }
 },
 "nbformat": 4,
 "nbformat_minor": 5
}
