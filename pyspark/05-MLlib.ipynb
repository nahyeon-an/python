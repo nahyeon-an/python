{
 "cells": [
  {
   "cell_type": "code",
   "execution_count": 1,
   "id": "727c256c-f961-4138-a808-5b4776b9053e",
   "metadata": {},
   "outputs": [
    {
     "data": {
      "text/html": [
       "\n",
       "            <div>\n",
       "                <p><b>SparkSession - hive</b></p>\n",
       "                \n",
       "        <div>\n",
       "            <p><b>SparkContext</b></p>\n",
       "\n",
       "            <p><a href=\"http://namenode:4040\">Spark UI</a></p>\n",
       "\n",
       "            <dl>\n",
       "              <dt>Version</dt>\n",
       "                <dd><code>v2.4.7</code></dd>\n",
       "              <dt>Master</dt>\n",
       "                <dd><code>spark://192.168.56.100:7077</code></dd>\n",
       "              <dt>AppName</dt>\n",
       "                <dd><code>PySparkShell</code></dd>\n",
       "            </dl>\n",
       "        </div>\n",
       "        \n",
       "            </div>\n",
       "        "
      ],
      "text/plain": [
       "<pyspark.sql.session.SparkSession at 0x7ff10ba8f890>"
      ]
     },
     "execution_count": 1,
     "metadata": {},
     "output_type": "execute_result"
    }
   ],
   "source": [
    "spark"
   ]
  },
  {
   "cell_type": "markdown",
   "id": "dc1c6d18-9ced-42f7-a8cd-e5abfb99c6bc",
   "metadata": {},
   "source": [
    "# MLlib, Introduction"
   ]
  },
  {
   "cell_type": "markdown",
   "id": "caffa7ff-edd6-4b25-8944-9a3f9856573e",
   "metadata": {},
   "source": [
    "크게 세 단계의 머신 러닝 기능으로 구분된다.  \n",
    "\n",
    "1. 데이터 전처리 : feature 추출, 변형, 선택, 카테고리 피처에 대한 해싱, 자연어 처리 기술  \n",
    "\n",
    "2. 머신러닝 알고리즘 : 회귀, 분류, 군집화 알고리즘  \n",
    "\n",
    "3. 유틸리티 : 기술 통계, Chi-square test, linear algebra, 모델평가 등의 통계적 방법론  "
   ]
  },
  {
   "cell_type": "code",
   "execution_count": 2,
   "id": "ceb409fb-8672-494f-915f-be49e2e25487",
   "metadata": {},
   "outputs": [],
   "source": [
    "import pyspark.sql.types as typ\n",
    "\n",
    "labels = [\n",
    "    ('INFANT_ALIVE_AT_REPORT', typ.StringType()),\n",
    "    ('BIRTH_YEAR', typ.IntegerType()),\n",
    "    ('BIRTH_MONTH', typ.IntegerType()),\n",
    "    ('BIRTH_PLACE', typ.StringType()),\n",
    "    ('MOTHER_AGE_YEARS', typ.IntegerType()),\n",
    "    ('MOTHER_RACE_6CODE', typ.StringType()),\n",
    "    ('MOTHER_EDUCATION', typ.StringType()),\n",
    "    ('FATHER_COMBINED_AGE', typ.IntegerType()),\n",
    "    ('FATHER_EDUCATION', typ.StringType()),\n",
    "    ('MONTH_PRECARE_RECODE', typ.StringType()),\n",
    "    ('CIG_BEFORE', typ.IntegerType()),\n",
    "    ('CIG_1_TRI', typ.IntegerType()),\n",
    "    ('CIG_2_TRI', typ.IntegerType()),\n",
    "    ('CIG_3_TRI', typ.IntegerType()),\n",
    "    ('MOTHER_HEIGHT_IN', typ.IntegerType()),\n",
    "    ('MOTHER_BMI_RECODE', typ.IntegerType()),\n",
    "    ('MOTHER_PRE_WEIGHT', typ.IntegerType()),\n",
    "    ('MOTHER_DELIVERY_WEIGHT', typ.IntegerType()),\n",
    "    ('MOTHER_WEIGHT_GAIN', typ.IntegerType()),\n",
    "    ('DIABETES_PRE', typ.StringType()),\n",
    "    ('DIABETES_GEST', typ.StringType()),\n",
    "    ('HYP_TENS_PRE', typ.StringType()),\n",
    "    ('HYP_TENS_GEST', typ.StringType()),\n",
    "    ('PREV_BIRTH_PRETERM', typ.StringType()),\n",
    "    ('NO_RISK', typ.StringType()),\n",
    "    ('NO_INFECTIONS_REPORTED', typ.StringType()),\n",
    "    ('LABOR_IND', typ.StringType()),\n",
    "    ('LABOR_AUGM', typ.StringType()),\n",
    "    ('STEROIDS', typ.StringType()),\n",
    "    ('ANTIBIOTICS', typ.StringType()),\n",
    "    ('ANESTHESIA', typ.StringType()),\n",
    "    ('DELIV_METHOD_RECODE_COMB', typ.StringType()),\n",
    "    ('ATTENDANT_BIRTH', typ.StringType()),\n",
    "    ('APGAR_5', typ.IntegerType()),\n",
    "    ('APGAR_5_RECODE', typ.StringType()),\n",
    "    ('APGAR_10', typ.IntegerType()),\n",
    "    ('APGAR_10_RECODE', typ.StringType()),\n",
    "    ('INFANT_SEX', typ.StringType()),\n",
    "    ('OBSTETRIC_GESTATION_WEEKS', typ.IntegerType()),\n",
    "    ('INFANT_WEIGHT_GRAMS', typ.IntegerType()),\n",
    "    ('INFANT_ASSIST_VENTI', typ.StringType()),\n",
    "    ('INFANT_ASSIST_VENTI_6HRS', typ.StringType()),\n",
    "    ('INFANT_NICU_ADMISSION', typ.StringType()),\n",
    "    ('INFANT_SURFACANT', typ.StringType()),\n",
    "    ('INFANT_ANTIBIOTICS', typ.StringType()),\n",
    "    ('INFANT_SEIZURES', typ.StringType()),\n",
    "    ('INFANT_NO_ABNORMALITIES', typ.StringType()),\n",
    "    ('INFANT_ANCEPHALY', typ.StringType()),\n",
    "    ('INFANT_MENINGOMYELOCELE', typ.StringType()),\n",
    "    ('INFANT_LIMB_REDUCTION', typ.StringType()),\n",
    "    ('INFANT_DOWN_SYNDROME', typ.StringType()),\n",
    "    ('INFANT_SUSPECTED_CHROMOSOMAL_DISORDER', typ.StringType()),\n",
    "    ('INFANT_NO_CONGENITAL_ANOMALIES_CHECKED', typ.StringType()),\n",
    "    ('INFANT_BREASTFED', typ.StringType())\n",
    "]\n",
    "\n",
    "schema = typ.StructType([typ.StructField(e[0], e[1], False) for e in labels])"
   ]
  },
  {
   "cell_type": "markdown",
   "id": "eb9ef605-7cbb-4fdf-b3ed-355bed30801d",
   "metadata": {},
   "source": [
    "spark.read.csv() 는 압축된 csv 파일이나 그냥 csv 파일 모두 읽을 수 있다."
   ]
  },
  {
   "cell_type": "code",
   "execution_count": 6,
   "id": "c552016c-050f-428f-bad6-ea0f7953e66d",
   "metadata": {},
   "outputs": [],
   "source": [
    "births = spark.read.csv('hdfs://192.168.56.100:9000/births_train.csv.gz', header=True, schema=schema)"
   ]
  },
  {
   "cell_type": "markdown",
   "id": "c91292cd-df46-42c9-9084-684caf9be58f",
   "metadata": {},
   "source": [
    "목적 : INFANT_ALIVE_AT_REPORT 가 1인지 0인지 예측  "
   ]
  },
  {
   "cell_type": "code",
   "execution_count": 7,
   "id": "3bfe6379-5606-457d-846a-0caee5ef2f75",
   "metadata": {},
   "outputs": [],
   "source": [
    "selected_features = [\n",
    "    'INFANT_ALIVE_AT_REPORT',\n",
    "    'BIRTH_PLACE',\n",
    "    'MOTHER_AGE_YEARS',\n",
    "    'FATHER_COMBINED_AGE',\n",
    "    'CIG_BEFORE',\n",
    "    'CIG_1_TRI',\n",
    "    'CIG_2_TRI',\n",
    "    'CIG_3_TRI',\n",
    "    'MOTHER_HEIGHT_IN',\n",
    "    'MOTHER_PRE_WEIGHT',\n",
    "    'MOTHER_DELIVERY_WEIGHT',\n",
    "    'MOTHER_WEIGHT_GAIN',\n",
    "    'DIABETES_PRE',\n",
    "    'DIABETES_GEST',\n",
    "    'HYP_TENS_PRE',\n",
    "    'HYP_TENS_GEST',\n",
    "    'PREV_BIRTH_PRETERM'\n",
    "]\n",
    "\n",
    "births_trimmed = births.select(selected_features)"
   ]
  },
  {
   "cell_type": "markdown",
   "id": "8375e4b2-9da1-4e2b-b564-e1ddfe3d6cdc",
   "metadata": {},
   "source": [
    "yes 는 1, no와 unkown은 0 으로 "
   ]
  },
  {
   "cell_type": "code",
   "execution_count": 9,
   "id": "7719bbc4-d07e-4ef7-9a13-fa1463c8ba20",
   "metadata": {},
   "outputs": [],
   "source": [
    "recode_dict = {\n",
    "    'YNU': {\n",
    "        'Y': 1,\n",
    "        'N': 0,\n",
    "        'U': 0\n",
    "    }\n",
    "}"
   ]
  },
  {
   "cell_type": "code",
   "execution_count": 10,
   "id": "604b82f1-f997-4be0-b3ba-f57709f08067",
   "metadata": {},
   "outputs": [],
   "source": [
    "import pyspark.sql.functions as func\n",
    "\n",
    "def recode(col, key):\n",
    "    return recode_dict[key][col]\n",
    "\n",
    "def correct_cig(feat):\n",
    "    \"\"\"\n",
    "    feat feature의 값이 99가 아니면 그 값을 리턴, 99이면 0을 리턴\n",
    "    \"\"\"\n",
    "    return func.when(func.col(feat) != 99, func.col(feat)).otherwise(0)\n",
    "\n",
    "# udf( 함수, 리턴값의 타입 )\n",
    "rec_integer = func.udf(recode, typ.IntegerType())"
   ]
  },
  {
   "cell_type": "markdown",
   "id": "b2eafa2b-6e98-42e4-819b-97ff73d2e1db",
   "metadata": {},
   "source": [
    "withColumn( 컬럼명, transformation )"
   ]
  },
  {
   "cell_type": "code",
   "execution_count": 11,
   "id": "640d7cfa-493e-4400-a5d7-d6506e8f05d4",
   "metadata": {},
   "outputs": [],
   "source": [
    "births_transformed = births_trimmed.withColumn('CIG_BEFORE', correct_cig('CIG_BEFORE'))\\\n",
    "                                   .withColumn('CIG_1_TRI', correct_cig('CIG_1_TRI'))\\\n",
    "                                   .withColumn('CIG_2_TRI', correct_cig('CIG_2_TRI'))\\\n",
    "                                   .withColumn('CIG_3_TRI', correct_cig('CIG_3_TRI'))"
   ]
  },
  {
   "cell_type": "code",
   "execution_count": 12,
   "id": "d64dc302-e525-4689-b683-c6d89fcb2b58",
   "metadata": {},
   "outputs": [],
   "source": [
    "# (컬럼명, 데이터 타입)\n",
    "cols = [(col.name, col.dataType) for col in births_trimmed.schema]\n",
    "\n",
    "YNU_cols = []\n",
    "\n",
    "for i, s in enumerate(cols):\n",
    "    # StringType인 컬럼에 대해\n",
    "    if s[1] == typ.StringType():\n",
    "        dis = births.select(s[0]).distinct().rdd.map(lambda row: row[0]).collect()\n",
    "        \n",
    "        # 해당 컬럼에 'Y'값이 존재하면 컬럼명을 YNU_cols 에 추가함\n",
    "        if 'Y' in dis:\n",
    "            YNU_cols.append(s[0])"
   ]
  },
  {
   "cell_type": "code",
   "execution_count": 13,
   "id": "088adcc3-d874-472f-b733-fadc9d9dfede",
   "metadata": {},
   "outputs": [
    {
     "data": {
      "text/plain": [
       "['INFANT_ALIVE_AT_REPORT',\n",
       " 'DIABETES_PRE',\n",
       " 'DIABETES_GEST',\n",
       " 'HYP_TENS_PRE',\n",
       " 'HYP_TENS_GEST']"
      ]
     },
     "execution_count": 13,
     "metadata": {},
     "output_type": "execute_result"
    }
   ],
   "source": [
    "YNU_cols[:5]"
   ]
  },
  {
   "cell_type": "code",
   "execution_count": 14,
   "id": "de346e71-bbbd-46aa-8811-71236a35272e",
   "metadata": {},
   "outputs": [
    {
     "data": {
      "text/plain": [
       "6"
      ]
     },
     "execution_count": 14,
     "metadata": {},
     "output_type": "execute_result"
    }
   ],
   "source": [
    "len(YNU_cols)"
   ]
  },
  {
   "cell_type": "markdown",
   "id": "f462e6ba-35cf-422a-add7-dea5a8f2f226",
   "metadata": {},
   "source": [
    "DataFrame은 select()에서 feature를 고르는 것과 동시에 변형(rec_integer)하여 가져오는 것이 가능하다."
   ]
  },
  {
   "cell_type": "code",
   "execution_count": 15,
   "id": "c1791029-90cd-431c-af46-23a18a1a0e33",
   "metadata": {},
   "outputs": [
    {
     "data": {
      "text/plain": [
       "[Row(INFANT_NICU_ADMISSION='Y', INFANT_NICU_ADMISSION_RECODE=1),\n",
       " Row(INFANT_NICU_ADMISSION='Y', INFANT_NICU_ADMISSION_RECODE=1),\n",
       " Row(INFANT_NICU_ADMISSION='U', INFANT_NICU_ADMISSION_RECODE=0),\n",
       " Row(INFANT_NICU_ADMISSION='N', INFANT_NICU_ADMISSION_RECODE=0),\n",
       " Row(INFANT_NICU_ADMISSION='U', INFANT_NICU_ADMISSION_RECODE=0)]"
      ]
     },
     "execution_count": 15,
     "metadata": {},
     "output_type": "execute_result"
    }
   ],
   "source": [
    "births.select(['INFANT_NICU_ADMISSION', \n",
    "               rec_integer('INFANT_NICU_ADMISSION', \n",
    "                           func.lit('YNU')).alias('INFANT_NICU_ADMISSION_RECODE')\n",
    "              ]).take(5)"
   ]
  },
  {
   "cell_type": "markdown",
   "id": "8ca8e2a2-093a-4bc4-b0b2-3dc550d3acdc",
   "metadata": {},
   "source": [
    "이제 YNU_cols 의 컬럼들을 한 번에 모두 변형하자."
   ]
  },
  {
   "cell_type": "code",
   "execution_count": 16,
   "id": "b7156cc3-de65-4397-a4f7-b3150a4f1b93",
   "metadata": {},
   "outputs": [],
   "source": [
    "exprs_YNU = [\n",
    "    rec_integer(x, func.lit('YNU')).alias(x)\n",
    "    if x in YNU_cols\n",
    "    else x\n",
    "    for x in births_transformed.columns\n",
    "]\n",
    "\n",
    "births_transformed = births_transformed.select(exprs_YNU)"
   ]
  },
  {
   "cell_type": "code",
   "execution_count": 17,
   "id": "0943bb91-af3e-4750-b355-b8d58853af90",
   "metadata": {},
   "outputs": [
    {
     "name": "stdout",
     "output_type": "stream",
     "text": [
      "+------------+-------------+------------+-------------+------------------+\n",
      "|DIABETES_PRE|DIABETES_GEST|HYP_TENS_PRE|HYP_TENS_GEST|PREV_BIRTH_PRETERM|\n",
      "+------------+-------------+------------+-------------+------------------+\n",
      "|           0|            0|           0|            0|                 0|\n",
      "|           0|            0|           0|            0|                 0|\n",
      "|           0|            0|           0|            0|                 0|\n",
      "|           0|            0|           0|            0|                 1|\n",
      "|           0|            0|           0|            0|                 0|\n",
      "+------------+-------------+------------+-------------+------------------+\n",
      "only showing top 5 rows\n",
      "\n"
     ]
    }
   ],
   "source": [
    "births_transformed.select(YNU_cols[-5:]).show(5)"
   ]
  },
  {
   "cell_type": "markdown",
   "id": "60c54f2a-2303-4bb8-9ecc-c4e7470d0641",
   "metadata": {},
   "source": [
    "## 데이터에 대해 알아보기"
   ]
  },
  {
   "cell_type": "markdown",
   "id": "b4718ae1-a869-4aa1-89df-883b298a4566",
   "metadata": {},
   "source": [
    "### 기술 통계"
   ]
  },
  {
   "cell_type": "markdown",
   "id": "f5302e08-7736-4c75-8b54-a4b22077f1ba",
   "metadata": {},
   "source": [
    "데이터프레임은 describe() 함수로 기술 통계를 확인할 수 있다."
   ]
  },
  {
   "cell_type": "markdown",
   "id": "105b5ee6-e55b-4321-b3ac-e28a67d52b10",
   "metadata": {},
   "source": [
    "MLlib 에서 제공하는 colStats() 함수로 기술 통계를 확인해보자."
   ]
  },
  {
   "cell_type": "markdown",
   "id": "9d986f69-6655-4b41-8259-679ec62db6c9",
   "metadata": {},
   "source": [
    "colStats()\n",
    "- 샘플에 기반하여 기술 통계를 계산한다. 데이터셋이 100개 미만일 때 문제가 될 수 있다.  \n",
    "- RDD 데이터를 이용하여 기술 통계 정보를 계산하고,   \n",
    "- 기술 통계 정보를 포함하는 MultivariateStatisticalSummary 객체를 리턴한다.  \n",
    "\n",
    "count() : 데이터 행 개수  \n",
    "max() : 한 컬럼의 최댓값  \n",
    "mean() : 한 컬럼의 평균  \n",
    "min() : 한 컬럼의 최솟값  \n",
    "normL1() : 한 컬럼의 L1-norm 값  \n",
    "normL2() : 한 컬럼의 L2-norm 값  \n",
    "numNonzeros() : 한 컬럼에서 0이 아닌 값의 개수  \n",
    "variance() : 한 컬럼의 분산  "
   ]
  },
  {
   "cell_type": "markdown",
   "id": "d90cd2f8-4307-48d4-ab47-f7880b6dad92",
   "metadata": {},
   "source": [
    "worker node 모두 numpy 등 사용할 패키지가 설치되어 있어야 한다. "
   ]
  },
  {
   "cell_type": "code",
   "execution_count": 20,
   "id": "16fe987d-72d4-40b7-a89f-bca5a99bdc24",
   "metadata": {},
   "outputs": [
    {
     "name": "stdout",
     "output_type": "stream",
     "text": [
      "MOTHER_AGE_YEARS: \t28.30 \t 6.08\n",
      "FATHER_COMBINED_AGE: \t44.55 \t 27.55\n",
      "CIG_BEFORE: \t1.43 \t 5.18\n",
      "CIG_1_TRI: \t0.91 \t 3.83\n",
      "CIG_2_TRI: \t0.70 \t 3.31\n",
      "CIG_3_TRI: \t0.58 \t 3.11\n",
      "MOTHER_HEIGHT_IN: \t65.12 \t 6.45\n",
      "MOTHER_PRE_WEIGHT: \t214.50 \t 210.21\n",
      "MOTHER_DELIVERY_WEIGHT: \t223.63 \t 180.01\n",
      "MOTHER_WEIGHT_GAIN: \t30.74 \t 26.23\n"
     ]
    }
   ],
   "source": [
    "import pyspark.mllib.stat as st\n",
    "import numpy as np\n",
    "\n",
    "numeric_cols = ['MOTHER_AGE_YEARS', 'FATHER_COMBINED_AGE', \n",
    "                'CIG_BEFORE', 'CIG_1_TRI', 'CIG_2_TRI', 'CIG_3_TRI',\n",
    "                'MOTHER_HEIGHT_IN', 'MOTHER_PRE_WEIGHT',\n",
    "                'MOTHER_DELIVERY_WEIGHT', 'MOTHER_WEIGHT_GAIN']\n",
    "\n",
    "numeric_rdd = births_transformed.select(numeric_cols).rdd.map(lambda row: [e for e in row])\n",
    "\n",
    "mllib_stats = st.Statistics.colStats(numeric_rdd)\n",
    "for col, m, v in zip(numeric_cols, mllib_stats.mean(), mllib_stats.variance()):\n",
    "    print('{0}: \\t{1:.2f} \\t {2:.2f}'.format(col, m, np.sqrt(v)))"
   ]
  },
  {
   "cell_type": "markdown",
   "id": "3c72ee9d-b495-4a2b-9747-06751586a663",
   "metadata": {},
   "source": [
    "카테고리 변수들에 대해 값들의 빈도수를 계산하자."
   ]
  },
  {
   "cell_type": "code",
   "execution_count": 21,
   "id": "482b427a-da7d-404c-855a-b4c1a472e367",
   "metadata": {},
   "outputs": [
    {
     "name": "stdout",
     "output_type": "stream",
     "text": [
      "INFANT_ALIVE_AT_REPORT [(1, 23349), (0, 22080)]\n",
      "BIRTH_PLACE [('1', 44558), ('4', 327), ('3', 224), ('2', 136), ('7', 91), ('5', 74), ('6', 11), ('9', 8)]\n",
      "DIABETES_PRE [(0, 44881), (1, 548)]\n",
      "DIABETES_GEST [(0, 43451), (1, 1978)]\n",
      "HYP_TENS_PRE [(0, 44348), (1, 1081)]\n",
      "HYP_TENS_GEST [(0, 43302), (1, 2127)]\n",
      "PREV_BIRTH_PRETERM [(0, 43088), (1, 2341)]\n"
     ]
    }
   ],
   "source": [
    "categorical_cols = [e for e in births_transformed.columns \n",
    "                    if e not in numeric_cols]\n",
    "\n",
    "categorical_rdd = births_transformed.select(categorical_cols)\\\n",
    "                                    .rdd\\\n",
    "                                    .map(lambda row: [e for e in row])\n",
    "\n",
    "for i, col in enumerate(categorical_cols):\n",
    "    agg = categorical_rdd.groupBy(lambda row: row[i])\\\n",
    "                         .map(lambda row: (row[0], len(row[1])))\n",
    "    print(col, sorted(agg.collect(), key=lambda el: el[1], reverse=True))"
   ]
  },
  {
   "cell_type": "markdown",
   "id": "25ab941f-43de-4bda-8fdd-735836c6da78",
   "metadata": {},
   "source": [
    "### 상관 계수"
   ]
  },
  {
   "cell_type": "markdown",
   "id": "43f5bee1-0abb-493c-ae51-cf52ac19d399",
   "metadata": {},
   "source": [
    "feature 간의 관계를 확인한다. "
   ]
  },
  {
   "cell_type": "code",
   "execution_count": 22,
   "id": "a11e0ef2-c112-4367-a63c-251566382515",
   "metadata": {},
   "outputs": [
    {
     "name": "stdout",
     "output_type": "stream",
     "text": [
      "CIG_BEFORE-to-CIG_1_TRI: 0.83\n",
      "CIG_BEFORE-to-CIG_2_TRI: 0.72\n",
      "CIG_BEFORE-to-CIG_3_TRI: 0.62\n",
      "CIG_1_TRI-to-CIG_BEFORE: 0.83\n",
      "CIG_1_TRI-to-CIG_2_TRI: 0.87\n",
      "CIG_1_TRI-to-CIG_3_TRI: 0.76\n",
      "CIG_2_TRI-to-CIG_BEFORE: 0.72\n",
      "CIG_2_TRI-to-CIG_1_TRI: 0.87\n",
      "CIG_2_TRI-to-CIG_3_TRI: 0.89\n",
      "CIG_3_TRI-to-CIG_BEFORE: 0.62\n",
      "CIG_3_TRI-to-CIG_1_TRI: 0.76\n",
      "CIG_3_TRI-to-CIG_2_TRI: 0.89\n",
      "MOTHER_PRE_WEIGHT-to-MOTHER_DELIVERY_WEIGHT: 0.54\n",
      "MOTHER_PRE_WEIGHT-to-MOTHER_WEIGHT_GAIN: 0.65\n",
      "MOTHER_DELIVERY_WEIGHT-to-MOTHER_PRE_WEIGHT: 0.54\n",
      "MOTHER_DELIVERY_WEIGHT-to-MOTHER_WEIGHT_GAIN: 0.60\n",
      "MOTHER_WEIGHT_GAIN-to-MOTHER_PRE_WEIGHT: 0.65\n",
      "MOTHER_WEIGHT_GAIN-to-MOTHER_DELIVERY_WEIGHT: 0.60\n"
     ]
    }
   ],
   "source": [
    "corrs = st.Statistics.corr(numeric_rdd)\n",
    "for i, el in enumerate(corrs > 0.5):\n",
    "    correlated = [(numeric_cols[j], corrs[i][j]) \n",
    "                  for j, e in enumerate(el) \n",
    "                  if e == 1.0 and j != i]\n",
    "\n",
    "    if len(correlated) > 0:\n",
    "        for e in correlated:\n",
    "            print('{0}-to-{1}: {2:.2f}'.format(numeric_cols[i], e[0], e[1]))"
   ]
  },
  {
   "cell_type": "markdown",
   "id": "2420add5-de5a-4d4b-bdcb-56c86134cbbd",
   "metadata": {},
   "source": [
    "Statistics.corr() 이 10개의 컬럼들 간의 상관계수를 계산하고 2D ndarray로 리턴함"
   ]
  },
  {
   "cell_type": "code",
   "execution_count": 23,
   "id": "c7d47e6d-5746-486e-954f-8f38ce3e4ab9",
   "metadata": {},
   "outputs": [
    {
     "data": {
      "text/plain": [
       "numpy.ndarray"
      ]
     },
     "execution_count": 23,
     "metadata": {},
     "output_type": "execute_result"
    }
   ],
   "source": [
    "type(corrs)"
   ]
  },
  {
   "cell_type": "code",
   "execution_count": 24,
   "id": "f7771be9-356e-46b9-a4e5-2fb74f61b796",
   "metadata": {},
   "outputs": [
    {
     "data": {
      "text/plain": [
       "(10, 10)"
      ]
     },
     "execution_count": 24,
     "metadata": {},
     "output_type": "execute_result"
    }
   ],
   "source": [
    "corrs.shape"
   ]
  },
  {
   "cell_type": "code",
   "execution_count": 26,
   "id": "14b432b6-dc48-4cf7-93c5-5849ae1d9178",
   "metadata": {},
   "outputs": [
    {
     "data": {
      "text/plain": [
       "[[29, 99, 0, 0, 0, 0, 99, 999, 999, 99],\n",
       " [22, 29, 0, 0, 0, 0, 65, 180, 198, 18],\n",
       " [38, 40, 0, 0, 0, 0, 63, 155, 167, 12]]"
      ]
     },
     "execution_count": 26,
     "metadata": {},
     "output_type": "execute_result"
    }
   ],
   "source": [
    "numeric_rdd.take(3)"
   ]
  },
  {
   "cell_type": "code",
   "execution_count": 27,
   "id": "7c0f8644-c82d-42bd-b36b-bd3f7473e597",
   "metadata": {},
   "outputs": [
    {
     "data": {
      "text/plain": [
       "45429"
      ]
     },
     "execution_count": 27,
     "metadata": {},
     "output_type": "execute_result"
    }
   ],
   "source": [
    "numeric_rdd.count()"
   ]
  },
  {
   "cell_type": "markdown",
   "id": "063f0c85-a66f-4411-a8da-8857a60160a6",
   "metadata": {},
   "source": [
    "위의 상관계수에서 0.5 보다 큰 것만을 출력하여 확인하였다.  \n",
    "서로 상관계수가 큰 컬럼들은 그 중 하나만 남기고 나머지는 제거하여 분석한다.  "
   ]
  },
  {
   "cell_type": "code",
   "execution_count": 28,
   "id": "0568ced5-eeca-4e2e-b1c0-2b6642ed659a",
   "metadata": {},
   "outputs": [],
   "source": [
    "features_to_keep = [\n",
    "    'INFANT_ALIVE_AT_REPORT',\n",
    "    'BIRTH_PLACE',\n",
    "    'MOTHER_AGE_YEARS',\n",
    "    'FATHER_COMBINED_AGE',\n",
    "    'CIG_1_TRI',\n",
    "    'MOTHER_HEIGHT_IN',\n",
    "    'MOTHER_PRE_WEIGHT',\n",
    "    'DIABETES_PRE',\n",
    "    'DIABETES_GEST',\n",
    "    'HYP_TENS_PRE',\n",
    "    'HYP_TENS_GEST',\n",
    "    'PREV_BIRTH_PRETERM'\n",
    "]\n",
    "births_transformed = births_transformed.select([e for e in features_to_keep])"
   ]
  },
  {
   "cell_type": "code",
   "execution_count": 29,
   "id": "734353ef-7a99-47cf-a501-d520c2ca88d0",
   "metadata": {},
   "outputs": [
    {
     "data": {
      "text/plain": [
       "[Row(INFANT_ALIVE_AT_REPORT=0, BIRTH_PLACE='1', MOTHER_AGE_YEARS=29, FATHER_COMBINED_AGE=99, CIG_1_TRI=0, MOTHER_HEIGHT_IN=99, MOTHER_PRE_WEIGHT=999, DIABETES_PRE=0, DIABETES_GEST=0, HYP_TENS_PRE=0, HYP_TENS_GEST=0, PREV_BIRTH_PRETERM=0),\n",
       " Row(INFANT_ALIVE_AT_REPORT=0, BIRTH_PLACE='1', MOTHER_AGE_YEARS=22, FATHER_COMBINED_AGE=29, CIG_1_TRI=0, MOTHER_HEIGHT_IN=65, MOTHER_PRE_WEIGHT=180, DIABETES_PRE=0, DIABETES_GEST=0, HYP_TENS_PRE=0, HYP_TENS_GEST=0, PREV_BIRTH_PRETERM=0)]"
      ]
     },
     "execution_count": 29,
     "metadata": {},
     "output_type": "execute_result"
    }
   ],
   "source": [
    "births_transformed.take(2)"
   ]
  },
  {
   "cell_type": "markdown",
   "id": "d02d2841-83f0-4507-81aa-c24a62627507",
   "metadata": {},
   "source": [
    "### 통계 값 테스트"
   ]
  },
  {
   "cell_type": "markdown",
   "id": "c16c3e3b-9bfc-46f4-a90c-9b1b0c7fda83",
   "metadata": {},
   "source": [
    "카테고리(범주형) 특성, feature에 대해서는 상관계수를 구할 수 없다.  \n",
    "모집단과 현재 데이터 셋에 큰 차이가 있는지 확인하기 위해 Chi-Square 테스트를 수행한다.  "
   ]
  },
  {
   "cell_type": "markdown",
   "id": "2d3d1bd9-e991-4ecd-bd16-8caa2ad29194",
   "metadata": {},
   "source": [
    "Chi-Square Test : 카이제곱 검정  "
   ]
  },
  {
   "cell_type": "markdown",
   "id": "7044f0cd-e243-4122-9731-31ce18bd53ff",
   "metadata": {},
   "source": [
    "아래의 검정을 통해 모든 feature는 서로 매우 다르다는 것을 알 수 있다.  \n",
    "따라서 예측하는 데에 모두 사용할 수 있는 특성들이다. "
   ]
  },
  {
   "cell_type": "code",
   "execution_count": 30,
   "id": "3ff76028-04ac-4d84-920c-1286f2738695",
   "metadata": {},
   "outputs": [
    {
     "name": "stdout",
     "output_type": "stream",
     "text": [
      "BIRTH_PLACE 0.0\n",
      "DIABETES_PRE 0.0\n",
      "DIABETES_GEST 0.0\n",
      "HYP_TENS_PRE 0.0\n",
      "HYP_TENS_GEST 0.0\n",
      "PREV_BIRTH_PRETERM 0.0\n"
     ]
    }
   ],
   "source": [
    "import pyspark.mllib.linalg as ln\n",
    "\n",
    "for cat in categorical_cols[1:]:\n",
    "    agg = births_transformed.groupby('INFANT_ALIVE_AT_REPORT').pivot(cat).count()\n",
    "    \n",
    "    agg_rdd = agg.rdd.map(lambda row: (row[1:]))\\\n",
    "                     .flatMap(lambda row: [0 if e == None else e for e in row])\\\n",
    "                     .collect()\n",
    "    \n",
    "    row_length = len(agg.collect()[0]) - 1\n",
    "    agg = ln.Matrices.dense(row_length, 2, agg_rdd)\n",
    "    test = st.Statistics.chiSqTest(agg)\n",
    "    print(cat, round(test.pValue, 4))"
   ]
  },
  {
   "cell_type": "code",
   "execution_count": 31,
   "id": "57c690a8-0e5a-4f0d-b1c5-6692475a755b",
   "metadata": {},
   "outputs": [
    {
     "name": "stdout",
     "output_type": "stream",
     "text": [
      "DenseMatrix([[1., 4.],\n",
      "             [2., 5.],\n",
      "             [3., 6.]])\n"
     ]
    }
   ],
   "source": [
    "print(ln.Matrices.dense(3, 2, [1, 2, 3, 4, 5, 6]))"
   ]
  },
  {
   "cell_type": "code",
   "execution_count": null,
   "id": "59177b83-66bf-49b8-ad69-f4bb21d85aa0",
   "metadata": {},
   "outputs": [],
   "source": []
  },
  {
   "cell_type": "markdown",
   "id": "6216059d-8a08-4f1d-a43f-c88e74a68be0",
   "metadata": {},
   "source": [
    "## 최종 데이터셋 생성하기"
   ]
  },
  {
   "cell_type": "markdown",
   "id": "04844439-35fb-4a41-b340-fe02c5871293",
   "metadata": {},
   "source": [
    "데이터프레임을 LabeledPoint의 RDD로 변환한다.  \n",
    "LabeledPoint 는 머신 러닝 모델을 학습할 MLlib 구조체이다.  \n",
    "label 과 feature 2개의 속성을 가지고 있다.  \n",
    "label : 타깃 변수  \n",
    "feature : numpy array, list, pyspark.mllib.linalg.SparseVector, pyspark.mllib.linalg.DenseVector, scipy.sparse 칼럼 행렬 등"
   ]
  },
  {
   "cell_type": "markdown",
   "id": "3d6d31ef-3ac6-4fb8-9fa2-fe0e01c91cac",
   "metadata": {},
   "source": [
    "### LabeledPoint RDD 생성하기"
   ]
  },
  {
   "cell_type": "markdown",
   "id": "1b1727c4-010c-4d00-9782-962ad8f387b1",
   "metadata": {},
   "source": [
    "BIRTH_PLACE 는 string이다. 따라서 **해싱**을 이용하여 인코딩한다. "
   ]
  },
  {
   "cell_type": "code",
   "execution_count": 32,
   "id": "4db8d577-b9aa-43f6-89f1-b6b5d0dfe95d",
   "metadata": {},
   "outputs": [],
   "source": [
    "import pyspark.mllib.feature as ft\n",
    "import pyspark.mllib.regression as reg\n",
    "\n",
    "# 레벨 7의 해시 모델\n",
    "hashing = ft.HashingTF(7)\n",
    "\n",
    "births_hashed = births_transformed.rdd.map(lambda row: [list(hashing.transform(row[1]).toArray()) \n",
    "                                                        if col == 'BIRTH_PLACE' \n",
    "                                                        else row[i] \n",
    "                                                        for i, col in enumerate(features_to_keep)]) \\\n",
    "                                      .map(lambda row: [[e] if type(e) == int else e for e in row]) \\\n",
    "                                      .map(lambda row: [item for sublist in row for item in sublist]) \\\n",
    "                                      .map(lambda row: reg.LabeledPoint(row[0], ln.Vectors.dense(row[1:]))) \\\n"
   ]
  },
  {
   "cell_type": "markdown",
   "id": "8f7cee8e-27d4-4cc8-8359-225089e4deb6",
   "metadata": {},
   "source": [
    "rdd 를 train set 과 test set 으로 분리하기"
   ]
  },
  {
   "cell_type": "code",
   "execution_count": 33,
   "id": "03fe8fa2-dec7-4c82-83ac-a9558623035a",
   "metadata": {},
   "outputs": [],
   "source": [
    "births_train, births_test = births_hashed.randomSplit([0.6, 0.4])"
   ]
  },
  {
   "cell_type": "markdown",
   "id": "053ce5f7-f4eb-46be-a98c-5c790cad63f0",
   "metadata": {},
   "source": [
    "## 유아 생존율 예측하기"
   ]
  },
  {
   "cell_type": "markdown",
   "id": "3cd6bb7a-ff26-4f63-bb36-04929aaead6e",
   "metadata": {},
   "source": [
    "두 개의 모델을 사용해보자.  \n",
    "선형 분류로써 로지스틱 회귀, 비선형 분류로써 랜덤 포레스트  "
   ]
  },
  {
   "cell_type": "markdown",
   "id": "e09de600-2555-4cad-8bf5-e9817b576d1b",
   "metadata": {},
   "source": [
    "### MLlib의 Logistic Regression"
   ]
  },
  {
   "cell_type": "markdown",
   "id": "df01072d-fef2-4141-8504-ae4e9d7bdf00",
   "metadata": {},
   "source": [
    "로지스틱 회귀 모델에 모든 특성을 사용한다.  "
   ]
  },
  {
   "cell_type": "markdown",
   "id": "bf292ee0-bb5e-4b5e-a19b-9249e632017b",
   "metadata": {},
   "source": [
    "LogisticRegressionWithLBFGS 모델은 제한 메모리 BFGS 최적화 알고리즘을 사용한다.  \n",
    "모델의 학습은 train() 함수를 호출하면 된다.  \n",
    "LabeledPoint로 구성된 RDD를 전달하면 된다. "
   ]
  },
  {
   "cell_type": "code",
   "execution_count": 34,
   "id": "9a6b39fb-baeb-4df5-8fd2-3b21b8b4cb98",
   "metadata": {},
   "outputs": [],
   "source": [
    "from pyspark.mllib.classification import LogisticRegressionWithLBFGS\n",
    "LR_model = LogisticRegressionWithLBFGS.train(births_train, iterations=10)"
   ]
  },
  {
   "cell_type": "markdown",
   "id": "4d6f388f-37e4-46d9-959c-896cfb2c894c",
   "metadata": {},
   "source": [
    "테스트 셋에서 예측해보자."
   ]
  },
  {
   "cell_type": "code",
   "execution_count": 35,
   "id": "40dae6c3-2eea-42d3-b27d-43aa132e8b60",
   "metadata": {},
   "outputs": [],
   "source": [
    "LR_results = (\n",
    "    births_test.map(lambda row: row.label)\n",
    "               .zip(LR_model.predict(births_test.map(lambda row: row.features)))\n",
    ").map(lambda row: (row[0], row[1] * 1.0))"
   ]
  },
  {
   "cell_type": "markdown",
   "id": "f8856858-a962-4271-85cf-c8053122ccea",
   "metadata": {},
   "source": [
    "첫번째 원소가 실제 레이블, 두번째 원소가 예측한 값"
   ]
  },
  {
   "cell_type": "code",
   "execution_count": 36,
   "id": "79ad522f-c260-449f-a6b4-d26cdb2fe5bf",
   "metadata": {},
   "outputs": [
    {
     "data": {
      "text/plain": [
       "[(0.0, 1.0), (0.0, 1.0), (0.0, 1.0), (0.0, 0.0), (0.0, 0.0)]"
      ]
     },
     "execution_count": 36,
     "metadata": {},
     "output_type": "execute_result"
    }
   ],
   "source": [
    "LR_results.take(5)"
   ]
  },
  {
   "cell_type": "markdown",
   "id": "6fdac547-11a4-43a7-bc01-dceddf0a2803",
   "metadata": {},
   "source": [
    "모델을 평가해보자."
   ]
  },
  {
   "cell_type": "markdown",
   "id": "758fded6-f1bc-4ab7-acd5-4f9f78753958",
   "metadata": {},
   "source": [
    "PR : Precision-Recall, 정밀도-재현율 곡선  \n",
    "ROC : False Positive Rate 와 True Positive Rate 를 가로축 세로축으로 표시하는 곡선(63% 수용할 수 있다)  "
   ]
  },
  {
   "cell_type": "code",
   "execution_count": 37,
   "id": "d26d6963-c048-4b68-8d0d-74a96d97013f",
   "metadata": {},
   "outputs": [
    {
     "name": "stdout",
     "output_type": "stream",
     "text": [
      "Area under PR: 0.79\n",
      "Area under ROC: 0.63\n"
     ]
    }
   ],
   "source": [
    "import pyspark.mllib.evaluation as ev\n",
    "LR_evaluation = ev.BinaryClassificationMetrics(LR_results)\n",
    "\n",
    "print(\"Area under PR: {0:.2f}\".format(LR_evaluation.areaUnderPR))\n",
    "print(\"Area under ROC: {0:.2f}\".format(LR_evaluation.areaUnderROC))\n",
    "LR_evaluation.unpersist()"
   ]
  },
  {
   "cell_type": "markdown",
   "id": "389cbef0-5bc3-43c2-9b63-20ad8f965b34",
   "metadata": {},
   "source": [
    "### MLlib의 Random Forest"
   ]
  },
  {
   "cell_type": "markdown",
   "id": "312e064b-dbfc-410c-8c89-8cd68f2f7ff3",
   "metadata": {},
   "source": [
    "랜덤 포레스트 모델에서는 ChiSqSelector() 함수를 사용하여 가장 좋은 4개의 특성을 선택하여 적용한다."
   ]
  },
  {
   "cell_type": "markdown",
   "id": "441a982a-d784-4ad2-9c43-6d189b3fe762",
   "metadata": {},
   "source": [
    "ChiSqSelector() 함수는 숫자 컬럼에만 사용할 수 있다.  \n",
    "카테고리 변수에 대해 사용하려면 **해시 값**으로 변환하거나 **더미 코드**를 이용하여 변환해야 한다.  "
   ]
  },
  {
   "cell_type": "code",
   "execution_count": 38,
   "id": "82c16ff0-ab0f-4231-99c9-8020b48ba09f",
   "metadata": {},
   "outputs": [],
   "source": [
    "# 가장 좋은 특성 4개를 리턴하여 births_train 을 학습시킨다. \n",
    "selector = ft.ChiSqSelector(4).fit(births_train)\n",
    "\n",
    "topFeatures_train = (\n",
    "    births_train.map(lambda row: row.label)\\\n",
    "                .zip(selector.transform(births_train.map(lambda row: row.features)))\n",
    ").map(lambda row: reg.LabeledPoint(row[0], row[1]))\n",
    "\n",
    "topFeatures_test = (\n",
    "    births_test.map(lambda row: row.label)\\\n",
    "               .zip(selector.transform(births_test.map(lambda row: row.features)))\n",
    ").map(lambda row: reg.LabeledPoint(row[0], row[1]))"
   ]
  },
  {
   "cell_type": "markdown",
   "id": "7f5d81d8-77ec-40d2-98c3-5a112e14ad00",
   "metadata": {},
   "source": [
    "data : 학습 데이터셋  \n",
    "numClasses : 타깃을 몇 개 가지고 있는지 결정  \n",
    "categoricalFeaturesInfo : 키는 rdd 내의 카테고리 특성 인덱스, 값은 각 카테고리 특성이 가지는 레벨의 수  \n",
    "numTrees : 생성할 트리의 개수  \n",
    "featureSubsetStrategy : 특성 사용방식 (여기서는 모든 특성을 사용한다)  "
   ]
  },
  {
   "cell_type": "code",
   "execution_count": 39,
   "id": "e402e2f5-c63c-4a5f-bc81-29011ba48635",
   "metadata": {},
   "outputs": [],
   "source": [
    "from pyspark.mllib.tree import RandomForest\n",
    "\n",
    "RF_model = RandomForest.trainClassifier(data=topFeatures_train, \n",
    "                                        numClasses=2, \n",
    "                                        categoricalFeaturesInfo={}, \n",
    "                                        numTrees=6, \n",
    "                                        featureSubsetStrategy='all', \n",
    "                                        seed=666)"
   ]
  },
  {
   "cell_type": "markdown",
   "id": "9071fca2-f51f-46cb-8296-e9126f15294e",
   "metadata": {},
   "source": [
    "테스트 셋으로 예측해보자."
   ]
  },
  {
   "cell_type": "code",
   "execution_count": 40,
   "id": "8f3663bd-a550-4997-a8d1-88bb4a5f97ce",
   "metadata": {},
   "outputs": [],
   "source": [
    "RF_results = (\n",
    "    topFeatures_test.map(lambda row: row.label)\\\n",
    "                    .zip(RF_model.predict(topFeatures_test.map(lambda row: row.features)))\n",
    ")"
   ]
  },
  {
   "cell_type": "code",
   "execution_count": 42,
   "id": "bb2f1692-2147-4e50-b1ba-cefed46e85b8",
   "metadata": {},
   "outputs": [
    {
     "data": {
      "text/plain": [
       "[(0.0, 1.0), (0.0, 1.0), (0.0, 1.0), (0.0, 1.0), (0.0, 0.0)]"
      ]
     },
     "execution_count": 42,
     "metadata": {},
     "output_type": "execute_result"
    }
   ],
   "source": [
    "RF_results.take(5)"
   ]
  },
  {
   "cell_type": "markdown",
   "id": "f37fc794-5a6b-4f83-ac23-5992b2222ce6",
   "metadata": {},
   "source": [
    "모델을 평가하자."
   ]
  },
  {
   "cell_type": "code",
   "execution_count": 43,
   "id": "88eb63c1-f3b7-48e2-9722-2ded6d1a899d",
   "metadata": {},
   "outputs": [
    {
     "name": "stdout",
     "output_type": "stream",
     "text": [
      "Area under PR: 0.84\n",
      "Area under ROC: 0.62\n"
     ]
    }
   ],
   "source": [
    "RF_evaluation = ev.BinaryClassificationMetrics(RF_results)\n",
    "\n",
    "print(\"Area under PR: {0:.2f}\".format(RF_evaluation.areaUnderPR))\n",
    "print(\"Area under ROC: {0:.2f}\".format(RF_evaluation.areaUnderROC))\n",
    "RF_evaluation.unpersist()"
   ]
  },
  {
   "cell_type": "markdown",
   "id": "0dbcdf34-d4fd-45d2-9347-09a3f55e01b0",
   "metadata": {},
   "source": [
    "로지스틱 회귀 모델을 적은 수의 특성으로 학습해보자."
   ]
  },
  {
   "cell_type": "code",
   "execution_count": 44,
   "id": "e8a773f2-1ec8-4ac4-991b-368c5e5884ad",
   "metadata": {},
   "outputs": [],
   "source": [
    "LR_model2 = LogisticRegressionWithLBFGS.train(topFeatures_train, iterations=10)\n",
    "\n",
    "LR_results2 = (\n",
    "    topFeatures_test.map(lambda row: row.label)\n",
    "                    .zip(LR_model2.predict(topFeatures_test.map(lambda row: row.features)))\n",
    ").map(lambda row: (row[0], row[1] * 1.0))"
   ]
  },
  {
   "cell_type": "code",
   "execution_count": 45,
   "id": "54b7385e-c78f-426d-8d13-32a560680868",
   "metadata": {},
   "outputs": [
    {
     "data": {
      "text/plain": [
       "[(0.0, 1.0), (0.0, 1.0), (0.0, 1.0), (0.0, 1.0), (0.0, 0.0)]"
      ]
     },
     "execution_count": 45,
     "metadata": {},
     "output_type": "execute_result"
    }
   ],
   "source": [
    "LR_results2.take(5)"
   ]
  },
  {
   "cell_type": "code",
   "execution_count": 46,
   "id": "89643cf9-e7e3-4ac7-83e8-f9ef9a467b2f",
   "metadata": {},
   "outputs": [
    {
     "name": "stdout",
     "output_type": "stream",
     "text": [
      "Area under PR: 0.84\n",
      "Area under ROC: 0.61\n"
     ]
    }
   ],
   "source": [
    "LR_evaluation2 = ev.BinaryClassificationMetrics(LR_results2)\n",
    "\n",
    "print(\"Area under PR: {0:.2f}\".format(LR_evaluation2.areaUnderPR))\n",
    "print(\"Area under ROC: {0:.2f}\".format(LR_evaluation2.areaUnderROC))\n",
    "LR_evaluation2.unpersist()"
   ]
  },
  {
   "cell_type": "code",
   "execution_count": null,
   "id": "11bde98f-1014-46de-91b7-4e08775fc5f9",
   "metadata": {},
   "outputs": [],
   "source": []
  }
 ],
 "metadata": {
  "kernelspec": {
   "display_name": "Python 3",
   "language": "python",
   "name": "python3"
  },
  "language_info": {
   "codemirror_mode": {
    "name": "ipython",
    "version": 3
   },
   "file_extension": ".py",
   "mimetype": "text/x-python",
   "name": "python",
   "nbconvert_exporter": "python",
   "pygments_lexer": "ipython3",
   "version": "3.7.10"
  }
 },
 "nbformat": 4,
 "nbformat_minor": 5
}
