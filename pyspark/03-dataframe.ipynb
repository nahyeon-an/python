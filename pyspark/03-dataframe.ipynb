{
 "cells": [
  {
   "cell_type": "code",
   "execution_count": 1,
   "id": "e9c38529-76c1-42f3-bba3-5db36f840579",
   "metadata": {},
   "outputs": [
    {
     "data": {
      "text/html": [
       "\n",
       "        <div>\n",
       "            <p><b>SparkContext</b></p>\n",
       "\n",
       "            <p><a href=\"http://namenode:4040\">Spark UI</a></p>\n",
       "\n",
       "            <dl>\n",
       "              <dt>Version</dt>\n",
       "                <dd><code>v2.4.7</code></dd>\n",
       "              <dt>Master</dt>\n",
       "                <dd><code>spark://192.168.56.100:7077</code></dd>\n",
       "              <dt>AppName</dt>\n",
       "                <dd><code>PySparkShell</code></dd>\n",
       "            </dl>\n",
       "        </div>\n",
       "        "
      ],
      "text/plain": [
       "<SparkContext master=spark://192.168.56.100:7077 appName=PySparkShell>"
      ]
     },
     "execution_count": 1,
     "metadata": {},
     "output_type": "execute_result"
    }
   ],
   "source": [
    "sc"
   ]
  },
  {
   "cell_type": "code",
   "execution_count": 2,
   "id": "2a252304-b5bc-4733-9d08-2c1007501ada",
   "metadata": {},
   "outputs": [
    {
     "data": {
      "text/plain": [
       "[1, 2, 3, 4, 5]"
      ]
     },
     "execution_count": 2,
     "metadata": {},
     "output_type": "execute_result"
    }
   ],
   "source": [
    "sc.parallelize([1,2,3,4,5]).collect()"
   ]
  },
  {
   "cell_type": "code",
   "execution_count": 3,
   "id": "fbc949d7-1781-48bb-978d-f461c9685ee3",
   "metadata": {},
   "outputs": [],
   "source": [
    "stringJsonRdd = sc.parallelize((\n",
    "    \"\"\"{\"id\": \"123\", \"name\": \"Katie\", \"age\": 19, \"eyeColor\": \"brown\"}\"\"\",\n",
    "    \"\"\"{\"id\": \"234\", \"name\": \"Michael\", \"age\": 22, \"eyeColor\": \"green\"}\"\"\",\n",
    "    \"\"\"{\"id\": \"345\", \"name\": \"Simone\", \"age\": 29, \"eyeColor\": \"blue\"}\"\"\"\n",
    "))"
   ]
  },
  {
   "cell_type": "code",
   "execution_count": 4,
   "id": "2e2f0555-4249-4ed0-a2bf-b029af9ad45f",
   "metadata": {},
   "outputs": [],
   "source": [
    "# dataframe 생성\n",
    "swimmerJson = spark.read.json(stringJsonRdd)"
   ]
  },
  {
   "cell_type": "code",
   "execution_count": 5,
   "id": "a529ba9c-24ae-47b3-b944-80d6a3d47f2e",
   "metadata": {},
   "outputs": [],
   "source": [
    "swimmerJson.createOrReplaceTempView(\"swimmerJson\")"
   ]
  },
  {
   "cell_type": "code",
   "execution_count": 6,
   "id": "868565fc-0ef1-4522-bd28-672232adfd40",
   "metadata": {},
   "outputs": [
    {
     "name": "stdout",
     "output_type": "stream",
     "text": [
      "+---+--------+---+-------+\n",
      "|age|eyeColor| id|   name|\n",
      "+---+--------+---+-------+\n",
      "| 19|   brown|123|  Katie|\n",
      "| 22|   green|234|Michael|\n",
      "| 29|    blue|345| Simone|\n",
      "+---+--------+---+-------+\n",
      "\n"
     ]
    }
   ],
   "source": [
    "swimmerJson.show()"
   ]
  },
  {
   "cell_type": "code",
   "execution_count": 7,
   "id": "c292e649-606f-4ed3-9138-161cca318ad0",
   "metadata": {},
   "outputs": [
    {
     "data": {
      "text/plain": [
       "[Row(age=19, eyeColor='brown', id='123', name='Katie'),\n",
       " Row(age=22, eyeColor='green', id='234', name='Michael'),\n",
       " Row(age=29, eyeColor='blue', id='345', name='Simone')]"
      ]
     },
     "execution_count": 7,
     "metadata": {},
     "output_type": "execute_result"
    }
   ],
   "source": [
    "spark.sql(\"select * from swimmerJson\").collect()"
   ]
  },
  {
   "cell_type": "code",
   "execution_count": 8,
   "id": "e520f29f-de5f-41b4-916d-b853e1683b1d",
   "metadata": {},
   "outputs": [
    {
     "name": "stdout",
     "output_type": "stream",
     "text": [
      "root\n",
      " |-- age: long (nullable = true)\n",
      " |-- eyeColor: string (nullable = true)\n",
      " |-- id: string (nullable = true)\n",
      " |-- name: string (nullable = true)\n",
      "\n"
     ]
    }
   ],
   "source": [
    "swimmerJson.printSchema()"
   ]
  },
  {
   "cell_type": "code",
   "execution_count": 9,
   "id": "4988dd39-ad59-4a2e-8502-862c91e2a9fe",
   "metadata": {},
   "outputs": [],
   "source": [
    "from pyspark.sql.types import *"
   ]
  },
  {
   "cell_type": "code",
   "execution_count": 10,
   "id": "230f6933-2465-4617-8d49-d083fe5f0a91",
   "metadata": {},
   "outputs": [],
   "source": [
    "stringCsvRdd = sc.parallelize([\n",
    "    (123, 'Katie', 19, 'brown'),\n",
    "    (234, 'Michael', 23, 'green'),\n",
    "    (345, 'Simone', 29, 'blue')\n",
    "])"
   ]
  },
  {
   "cell_type": "code",
   "execution_count": 11,
   "id": "e29e164a-3cfd-468c-a822-c67673dd21c3",
   "metadata": {},
   "outputs": [],
   "source": [
    "schema = StructType([\n",
    "    StructField(\"id\", LongType(), True),\n",
    "    StructField(\"name\", StringType(), True),\n",
    "    StructField(\"age\", LongType(), True),\n",
    "    StructField(\"eyeColor\", StringType(), True)\n",
    "])"
   ]
  },
  {
   "cell_type": "code",
   "execution_count": 12,
   "id": "fbbe7af9-8865-4e42-9a6c-337fcc0a973b",
   "metadata": {},
   "outputs": [],
   "source": [
    "swimmers = spark.createDataFrame(stringCsvRdd, schema)"
   ]
  },
  {
   "cell_type": "code",
   "execution_count": 13,
   "id": "5aaad4c9-e8d9-4cc3-82e0-275b9a298ff7",
   "metadata": {},
   "outputs": [],
   "source": [
    "swimmers.createOrReplaceTempView(\"swimmers\")"
   ]
  },
  {
   "cell_type": "code",
   "execution_count": 14,
   "id": "13e9127e-732a-4996-bf9a-b5d0b1c1089a",
   "metadata": {},
   "outputs": [
    {
     "name": "stdout",
     "output_type": "stream",
     "text": [
      "root\n",
      " |-- id: long (nullable = true)\n",
      " |-- name: string (nullable = true)\n",
      " |-- age: long (nullable = true)\n",
      " |-- eyeColor: string (nullable = true)\n",
      "\n"
     ]
    }
   ],
   "source": [
    "swimmers.printSchema()"
   ]
  },
  {
   "cell_type": "code",
   "execution_count": 15,
   "id": "400c7d13-abeb-4a26-91e0-3c8cde3a71cf",
   "metadata": {},
   "outputs": [
    {
     "data": {
      "text/plain": [
       "3"
      ]
     },
     "execution_count": 15,
     "metadata": {},
     "output_type": "execute_result"
    }
   ],
   "source": [
    "swimmers.count()  # 데이터프레임의 행의 개수"
   ]
  },
  {
   "cell_type": "code",
   "execution_count": 17,
   "id": "9b3924f0-9756-447c-9ec9-6c2c5348d6eb",
   "metadata": {},
   "outputs": [
    {
     "name": "stdout",
     "output_type": "stream",
     "text": [
      "+---+---+\n",
      "| id|age|\n",
      "+---+---+\n",
      "|234| 23|\n",
      "+---+---+\n",
      "\n"
     ]
    }
   ],
   "source": [
    "# select : 리턴할 컬럼 지정\n",
    "# filter : 조건 설정\n",
    "swimmers.select(\"id\", \"age\").filter(\"age=23\").show()"
   ]
  },
  {
   "cell_type": "code",
   "execution_count": 18,
   "id": "26cef814-e760-4244-b7e2-1b84619ac45d",
   "metadata": {},
   "outputs": [
    {
     "name": "stdout",
     "output_type": "stream",
     "text": [
      "+---+---+\n",
      "| id|age|\n",
      "+---+---+\n",
      "|234| 23|\n",
      "+---+---+\n",
      "\n"
     ]
    }
   ],
   "source": [
    "swimmers.select(swimmers.id, swimmers.age).filter(swimmers.age == 23).show()"
   ]
  },
  {
   "cell_type": "code",
   "execution_count": 19,
   "id": "e1f6e961-8654-4a6f-8976-ca62ce3b74b9",
   "metadata": {},
   "outputs": [
    {
     "name": "stdout",
     "output_type": "stream",
     "text": [
      "+------+--------+\n",
      "|  name|eyeColor|\n",
      "+------+--------+\n",
      "| Katie|   brown|\n",
      "|Simone|    blue|\n",
      "+------+--------+\n",
      "\n"
     ]
    }
   ],
   "source": [
    "# eyeColor가 b로 시작하는 데이터 조회\n",
    "swimmers.select(\"name\", \"eyeColor\").filter(\"eyeColor like 'b%'\").show()"
   ]
  },
  {
   "cell_type": "markdown",
   "id": "8a12e1fb-d840-41c6-b03c-d80a911e0330",
   "metadata": {},
   "source": [
    "### SQL로 쿼리"
   ]
  },
  {
   "cell_type": "code",
   "execution_count": 20,
   "id": "5d240ed7-3280-4e09-9d6c-460a8bb9b43c",
   "metadata": {},
   "outputs": [
    {
     "name": "stdout",
     "output_type": "stream",
     "text": [
      "+--------+\n",
      "|count(1)|\n",
      "+--------+\n",
      "|       3|\n",
      "+--------+\n",
      "\n"
     ]
    }
   ],
   "source": [
    "spark.sql(\"select count(1) from swimmers\").show()"
   ]
  },
  {
   "cell_type": "code",
   "execution_count": 21,
   "id": "56ddba9d-0409-4dbb-ade9-c7e2637b4b79",
   "metadata": {},
   "outputs": [
    {
     "name": "stdout",
     "output_type": "stream",
     "text": [
      "+---+---+\n",
      "| id|age|\n",
      "+---+---+\n",
      "|234| 23|\n",
      "+---+---+\n",
      "\n"
     ]
    }
   ],
   "source": [
    "spark.sql(\"select id, age from swimmers where age = 23\").show()"
   ]
  },
  {
   "cell_type": "code",
   "execution_count": 22,
   "id": "b74fab5d-1c14-40f2-bb0a-b1475ce10b20",
   "metadata": {},
   "outputs": [
    {
     "name": "stdout",
     "output_type": "stream",
     "text": [
      "+---+--------+\n",
      "| id|eyeColor|\n",
      "+---+--------+\n",
      "|123|   brown|\n",
      "|345|    blue|\n",
      "+---+--------+\n",
      "\n"
     ]
    }
   ],
   "source": [
    "spark.sql(\"select id, eyeColor from swimmers where eyeColor like 'b%'\").show()"
   ]
  },
  {
   "cell_type": "markdown",
   "id": "3935581f-5886-4163-9594-a45451746548",
   "metadata": {},
   "source": [
    "### DataFrame Senario"
   ]
  },
  {
   "cell_type": "code",
   "execution_count": 1,
   "id": "df2367b2-b64d-4f37-a5fe-c8f503976ba1",
   "metadata": {},
   "outputs": [],
   "source": [
    "flightFilePath = \"file:///home/an/nb-workspace/flight-data/departuredelays.csv\"\n",
    "airportFilePath = \"file:///home/an/nb-workspace/flight-data/airport-codes-na.txt\""
   ]
  },
  {
   "cell_type": "code",
   "execution_count": 2,
   "id": "bbef89f0-7f3f-4514-b2bd-7ee769aed6f9",
   "metadata": {},
   "outputs": [],
   "source": [
    "airports = spark.read.csv(airportFilePath, header='true', inferSchema='true', sep='\\t')"
   ]
  },
  {
   "cell_type": "code",
   "execution_count": 3,
   "id": "5bdaf5ea-9691-49d1-a8bb-6ba91d4ccb53",
   "metadata": {},
   "outputs": [],
   "source": [
    "airports.createOrReplaceTempView(\"airports\")"
   ]
  },
  {
   "cell_type": "code",
   "execution_count": 4,
   "id": "4f8fb5bb-8b6f-4b46-bf15-5be0d5b3b1fb",
   "metadata": {},
   "outputs": [],
   "source": [
    "fightPerf = spark.read.csv(flightFilePath, header='true')"
   ]
  },
  {
   "cell_type": "code",
   "execution_count": 5,
   "id": "fcfd2b89-2364-4f17-8855-7bccb57fd31e",
   "metadata": {},
   "outputs": [],
   "source": [
    "fightPerf.createOrReplaceTempView(\"FlightPerformance\")"
   ]
  },
  {
   "cell_type": "code",
   "execution_count": 6,
   "id": "d69e28f4-ea97-4ba4-9e34-6813f4eac5cd",
   "metadata": {},
   "outputs": [
    {
     "data": {
      "text/plain": [
       "DataFrame[date: string, delay: string, distance: string, origin: string, destination: string]"
      ]
     },
     "execution_count": 6,
     "metadata": {},
     "output_type": "execute_result"
    }
   ],
   "source": [
    "fightPerf.cache()"
   ]
  },
  {
   "cell_type": "code",
   "execution_count": 8,
   "id": "cb4ff674-a9ce-45d3-b3fb-e6d6231f095a",
   "metadata": {},
   "outputs": [
    {
     "name": "stdout",
     "output_type": "stream",
     "text": [
      "+-------+------+--------+\n",
      "|   City|origin|  Delays|\n",
      "+-------+------+--------+\n",
      "|Seattle|   SEA|159086.0|\n",
      "|Spokane|   GEG| 12404.0|\n",
      "|  Pasco|   PSC|   949.0|\n",
      "+-------+------+--------+\n",
      "\n"
     ]
    }
   ],
   "source": [
    "spark.sql(\"\"\"\n",
    "select a.City, f.origin, sum(f.delay) as Delays\n",
    "from FlightPerformance f\n",
    "join airports a\n",
    "on a.IATA = f.origin\n",
    "where a.State = 'WA'\n",
    "group by a.City, f.origin\n",
    "order by sum(f.delay) desc\n",
    "\"\"\").show()"
   ]
  },
  {
   "cell_type": "code",
   "execution_count": 12,
   "id": "01c3b516-f215-4229-b41e-114d015df746",
   "metadata": {},
   "outputs": [
    {
     "name": "stdout",
     "output_type": "stream",
     "text": [
      "+-----+---------+\n",
      "|State|   Delays|\n",
      "+-----+---------+\n",
      "|   SC|  80666.0|\n",
      "|   AZ| 401793.0|\n",
      "|   LA| 199136.0|\n",
      "|   MN| 256811.0|\n",
      "|   NJ| 452791.0|\n",
      "|   OR| 109333.0|\n",
      "|   VA|  98016.0|\n",
      "| null| 397237.0|\n",
      "|   RI|  30760.0|\n",
      "|   WY|  15365.0|\n",
      "|   KY|  61156.0|\n",
      "|   NH|  20474.0|\n",
      "|   MI| 366486.0|\n",
      "|   NV| 474208.0|\n",
      "|   WI| 152311.0|\n",
      "|   ID|  22932.0|\n",
      "|   CA|1891919.0|\n",
      "|   CT|  54662.0|\n",
      "|   NE|  59376.0|\n",
      "|   MT|  19271.0|\n",
      "+-----+---------+\n",
      "only showing top 20 rows\n",
      "\n"
     ]
    }
   ],
   "source": [
    "spark.sql(\"\"\"\n",
    "select a.State, sum(f.delay) as Delays\n",
    "from FlightPerformance f\n",
    "join airports a\n",
    "on a.IATA = f.origin\n",
    "where a.Country = 'USA'\n",
    "group by a.State\n",
    "\"\"\").show()"
   ]
  },
  {
   "cell_type": "code",
   "execution_count": null,
   "id": "ab2cfd09-f3ee-4bf8-a941-4ed68d8b68a6",
   "metadata": {},
   "outputs": [],
   "source": []
  }
 ],
 "metadata": {
  "kernelspec": {
   "display_name": "Python 3",
   "language": "python",
   "name": "python3"
  },
  "language_info": {
   "codemirror_mode": {
    "name": "ipython",
    "version": 3
   },
   "file_extension": ".py",
   "mimetype": "text/x-python",
   "name": "python",
   "nbconvert_exporter": "python",
   "pygments_lexer": "ipython3",
   "version": "3.7.10"
  }
 },
 "nbformat": 4,
 "nbformat_minor": 5
}
