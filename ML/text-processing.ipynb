{
 "cells": [
  {
   "cell_type": "markdown",
   "metadata": {},
   "source": [
    "## spam 구분하는 머신러닝 모델\n",
    "\n",
    "목표 : 텍스트 처리 모델 "
   ]
  },
  {
   "cell_type": "code",
   "execution_count": 1,
   "metadata": {},
   "outputs": [],
   "source": [
    "import numpy as np\n",
    "import pandas as pd\n",
    "import matplotlib.pyplot as plt\n",
    "import seaborn as sns"
   ]
  },
  {
   "cell_type": "code",
   "execution_count": 2,
   "metadata": {},
   "outputs": [],
   "source": [
    "message_df = pd.read_csv(\"data-files/SMSSpamCollection\", sep=\"\\t\", header=None, names=['label', 'message'])"
   ]
  },
  {
   "cell_type": "code",
   "execution_count": 3,
   "metadata": {},
   "outputs": [
    {
     "name": "stdout",
     "output_type": "stream",
     "text": [
      "<class 'pandas.core.frame.DataFrame'>\n",
      "RangeIndex: 5572 entries, 0 to 5571\n",
      "Data columns (total 2 columns):\n",
      " #   Column   Non-Null Count  Dtype \n",
      "---  ------   --------------  ----- \n",
      " 0   label    5572 non-null   object\n",
      " 1   message  5572 non-null   object\n",
      "dtypes: object(2)\n",
      "memory usage: 87.2+ KB\n"
     ]
    }
   ],
   "source": [
    "message_df.info()"
   ]
  },
  {
   "cell_type": "code",
   "execution_count": 4,
   "metadata": {},
   "outputs": [
    {
     "data": {
      "text/html": [
       "<div>\n",
       "<style scoped>\n",
       "    .dataframe tbody tr th:only-of-type {\n",
       "        vertical-align: middle;\n",
       "    }\n",
       "\n",
       "    .dataframe tbody tr th {\n",
       "        vertical-align: top;\n",
       "    }\n",
       "\n",
       "    .dataframe thead th {\n",
       "        text-align: right;\n",
       "    }\n",
       "</style>\n",
       "<table border=\"1\" class=\"dataframe\">\n",
       "  <thead>\n",
       "    <tr style=\"text-align: right;\">\n",
       "      <th></th>\n",
       "      <th>label</th>\n",
       "      <th>message</th>\n",
       "    </tr>\n",
       "  </thead>\n",
       "  <tbody>\n",
       "    <tr>\n",
       "      <th>0</th>\n",
       "      <td>ham</td>\n",
       "      <td>Go until jurong point, crazy.. Available only ...</td>\n",
       "    </tr>\n",
       "    <tr>\n",
       "      <th>1</th>\n",
       "      <td>ham</td>\n",
       "      <td>Ok lar... Joking wif u oni...</td>\n",
       "    </tr>\n",
       "    <tr>\n",
       "      <th>2</th>\n",
       "      <td>spam</td>\n",
       "      <td>Free entry in 2 a wkly comp to win FA Cup fina...</td>\n",
       "    </tr>\n",
       "    <tr>\n",
       "      <th>3</th>\n",
       "      <td>ham</td>\n",
       "      <td>U dun say so early hor... U c already then say...</td>\n",
       "    </tr>\n",
       "    <tr>\n",
       "      <th>4</th>\n",
       "      <td>ham</td>\n",
       "      <td>Nah I don't think he goes to usf, he lives aro...</td>\n",
       "    </tr>\n",
       "  </tbody>\n",
       "</table>\n",
       "</div>"
      ],
      "text/plain": [
       "  label                                            message\n",
       "0   ham  Go until jurong point, crazy.. Available only ...\n",
       "1   ham                      Ok lar... Joking wif u oni...\n",
       "2  spam  Free entry in 2 a wkly comp to win FA Cup fina...\n",
       "3   ham  U dun say so early hor... U c already then say...\n",
       "4   ham  Nah I don't think he goes to usf, he lives aro..."
      ]
     },
     "execution_count": 4,
     "metadata": {},
     "output_type": "execute_result"
    }
   ],
   "source": [
    "message_df.head()"
   ]
  },
  {
   "cell_type": "code",
   "execution_count": 5,
   "metadata": {},
   "outputs": [
    {
     "data": {
      "text/plain": [
       "ham     4825\n",
       "spam     747\n",
       "Name: label, dtype: int64"
      ]
     },
     "execution_count": 5,
     "metadata": {},
     "output_type": "execute_result"
    }
   ],
   "source": [
    "message_df['label'].value_counts()"
   ]
  },
  {
   "cell_type": "code",
   "execution_count": 6,
   "metadata": {},
   "outputs": [],
   "source": [
    "# 범주형 인코딩\n",
    "from sklearn.preprocessing import LabelEncoder\n",
    "\n",
    "message_df['label'] = LabelEncoder().fit_transform(message_df['label'])"
   ]
  },
  {
   "cell_type": "code",
   "execution_count": 7,
   "metadata": {},
   "outputs": [
    {
     "data": {
      "text/plain": [
       "0    4825\n",
       "1     747\n",
       "Name: label, dtype: int64"
      ]
     },
     "execution_count": 7,
     "metadata": {},
     "output_type": "execute_result"
    }
   ],
   "source": [
    "message_df['label'].value_counts()"
   ]
  },
  {
   "cell_type": "code",
   "execution_count": 8,
   "metadata": {},
   "outputs": [
    {
     "data": {
      "text/plain": [
       "0       go until jurong point crazy available only in ...\n",
       "1                                 ok lar joking wif u oni\n",
       "2       free entry in 2 a wkly comp to win fa cup fina...\n",
       "3             u dun say so early hor u c already then say\n",
       "4       nah i dont think he goes to usf he lives aroun...\n",
       "                              ...                        \n",
       "5567    this is the 2nd time we have tried 2 contact u...\n",
       "5568                  will ü b going to esplanade fr home\n",
       "5569    pity  was in mood for that soany other suggest...\n",
       "5570    the guy did some bitching but i acted like id ...\n",
       "5571                            rofl its true to its name\n",
       "Name: message, Length: 5572, dtype: object"
      ]
     },
     "execution_count": 8,
     "metadata": {},
     "output_type": "execute_result"
    }
   ],
   "source": [
    "# preprocessing\n",
    "message_df['message'] = message_df['message'].str.lower()\n",
    "message_df['message'] = message_df['message'].str.replace('[^\\w\\s]', '')\n",
    "\n",
    "message_df['message']"
   ]
  },
  {
   "cell_type": "code",
   "execution_count": 9,
   "metadata": {},
   "outputs": [
    {
     "name": "stderr",
     "output_type": "stream",
     "text": [
      "[nltk_data] Downloading package punkt to /Users/nahyeonan/nltk_data...\n",
      "[nltk_data]   Package punkt is already up-to-date!\n"
     ]
    },
    {
     "data": {
      "text/plain": [
       "True"
      ]
     },
     "execution_count": 9,
     "metadata": {},
     "output_type": "execute_result"
    }
   ],
   "source": [
    "import nltk\n",
    "nltk.download('punkt')"
   ]
  },
  {
   "cell_type": "code",
   "execution_count": 10,
   "metadata": {},
   "outputs": [],
   "source": [
    "message_df['message'] = message_df['message'].map(nltk.word_tokenize)"
   ]
  },
  {
   "cell_type": "code",
   "execution_count": 11,
   "metadata": {},
   "outputs": [
    {
     "data": {
      "text/plain": [
       "0    [go, until, jurong, point, crazy, available, o...\n",
       "1                       [ok, lar, joking, wif, u, oni]\n",
       "2    [free, entry, in, 2, a, wkly, comp, to, win, f...\n",
       "3    [u, dun, say, so, early, hor, u, c, already, t...\n",
       "4    [nah, i, dont, think, he, goes, to, usf, he, l...\n",
       "Name: message, dtype: object"
      ]
     },
     "execution_count": 11,
     "metadata": {},
     "output_type": "execute_result"
    }
   ],
   "source": [
    "message_df['message'].head()"
   ]
  },
  {
   "cell_type": "code",
   "execution_count": 12,
   "metadata": {},
   "outputs": [],
   "source": [
    "# 어근 추출\n",
    "from nltk.stem import PorterStemmer\n",
    "\n",
    "stemmer = PorterStemmer()\n",
    "\n",
    "message_df['message'] = message_df['message'].map(lambda x: [stemmer.stem(i) for i in x])\n",
    "\n",
    "message_df['message'] = message_df['message'].map(lambda x: ' '.join(x))"
   ]
  },
  {
   "cell_type": "code",
   "execution_count": 13,
   "metadata": {},
   "outputs": [
    {
     "data": {
      "text/plain": [
       "<5572x8169 sparse matrix of type '<class 'numpy.int64'>'\n",
       "\twith 72500 stored elements in Compressed Sparse Row format>"
      ]
     },
     "execution_count": 13,
     "metadata": {},
     "output_type": "execute_result"
    }
   ],
   "source": [
    "# 단어 -> 숫자(절대 빈도수)\n",
    "from sklearn.feature_extraction.text import CountVectorizer\n",
    "\n",
    "vectorizer = CountVectorizer()\n",
    "count = vectorizer.fit_transform(message_df['message'])\n",
    "\n",
    "count"
   ]
  },
  {
   "cell_type": "code",
   "execution_count": 14,
   "metadata": {},
   "outputs": [
    {
     "data": {
      "text/plain": [
       "<5572x8169 sparse matrix of type '<class 'numpy.float64'>'\n",
       "\twith 72500 stored elements in Compressed Sparse Row format>"
      ]
     },
     "execution_count": 14,
     "metadata": {},
     "output_type": "execute_result"
    }
   ],
   "source": [
    "# 단어 -> 숫자(상대 빈도수)\n",
    "from sklearn.feature_extraction.text import TfidfTransformer\n",
    "\n",
    "transformer = TfidfTransformer()\n",
    "count2 = transformer.fit_transform(count)\n",
    "\n",
    "count2"
   ]
  },
  {
   "cell_type": "code",
   "execution_count": 15,
   "metadata": {},
   "outputs": [
    {
     "name": "stdout",
     "output_type": "stream",
     "text": [
      "  (0, 1146)\t1\n",
      "  (0, 1340)\t1\n",
      "  (0, 1748)\t1\n",
      "  (0, 1750)\t1\n",
      "  (0, 2029)\t1\n",
      "  (0, 2248)\t1\n",
      "  (0, 3336)\t1\n",
      "  (0, 3388)\t1\n",
      "  (0, 3425)\t1\n",
      "  (0, 3872)\t1\n",
      "  (0, 4128)\t1\n",
      "  (0, 4273)\t1\n",
      "  (0, 5292)\t1\n",
      "  (0, 5635)\t1\n",
      "  (0, 7130)\t1\n",
      "  (0, 7497)\t1\n",
      "  (0, 7715)\t1\n",
      "  (0, 7925)\t1\n",
      "  (1, 4094)\t1\n",
      "  (1, 4308)\t1\n",
      "  (1, 5257)\t1\n",
      "  (1, 5289)\t1\n",
      "  (1, 7835)\t1\n",
      "  (2, 71)\t1\n",
      "  (2, 433)\t1\n",
      "  :\t:\n",
      "  (5570, 1777)\t1\n",
      "  (5570, 2492)\t1\n",
      "  (5570, 2760)\t1\n",
      "  (5570, 3105)\t1\n",
      "  (5570, 3148)\t1\n",
      "  (5570, 3255)\t1\n",
      "  (5570, 3477)\t1\n",
      "  (5570, 3559)\t1\n",
      "  (5570, 3823)\t1\n",
      "  (5570, 3872)\t1\n",
      "  (5570, 3940)\t1\n",
      "  (5570, 3987)\t1\n",
      "  (5570, 4396)\t1\n",
      "  (5570, 5048)\t1\n",
      "  (5570, 6587)\t1\n",
      "  (5570, 6596)\t1\n",
      "  (5570, 7109)\t1\n",
      "  (5570, 7236)\t1\n",
      "  (5570, 7534)\t1\n",
      "  (5570, 7754)\t1\n",
      "  (5571, 3987)\t2\n",
      "  (5571, 4970)\t1\n",
      "  (5571, 6114)\t1\n",
      "  (5571, 7236)\t1\n",
      "  (5571, 7366)\t1\n"
     ]
    }
   ],
   "source": [
    "print(count)"
   ]
  },
  {
   "cell_type": "code",
   "execution_count": 16,
   "metadata": {},
   "outputs": [
    {
     "name": "stdout",
     "output_type": "stream",
     "text": [
      "  (0, 7925)\t0.22378642176936625\n",
      "  (0, 7715)\t0.18293604147358436\n",
      "  (0, 7497)\t0.232012730496152\n",
      "  (0, 7130)\t0.15808501470085967\n",
      "  (0, 5635)\t0.22485506312666312\n",
      "  (0, 5292)\t0.1588008730270491\n",
      "  (0, 4273)\t0.2781965206152583\n",
      "  (0, 4128)\t0.32930301835453774\n",
      "  (0, 3872)\t0.10860920003212803\n",
      "  (0, 3425)\t0.18328548053939198\n",
      "  (0, 3388)\t0.15280952404957904\n",
      "  (0, 3336)\t0.132266862568599\n",
      "  (0, 2248)\t0.255022519528138\n",
      "  (0, 2029)\t0.2781965206152583\n",
      "  (0, 1750)\t0.2781965206152583\n",
      "  (0, 1748)\t0.31435532599420324\n",
      "  (0, 1340)\t0.2504083119963028\n",
      "  (0, 1146)\t0.32930301835453774\n",
      "  (1, 7835)\t0.44483654514496557\n",
      "  (1, 5289)\t0.5633498837724461\n",
      "  (1, 5257)\t0.2825014776211812\n",
      "  (1, 4308)\t0.42081977871680865\n",
      "  (1, 4094)\t0.4773478663822099\n",
      "  (2, 7883)\t0.18653623125647448\n",
      "  (2, 7848)\t0.14242759355834578\n",
      "  :\t:\n",
      "  (5570, 6587)\t0.19054252105358732\n",
      "  (5570, 5048)\t0.21643786562194572\n",
      "  (5570, 4396)\t0.16284308112975754\n",
      "  (5570, 3987)\t0.11780359009346424\n",
      "  (5570, 3940)\t0.27149395792904457\n",
      "  (5570, 3872)\t0.1156240697440695\n",
      "  (5570, 3823)\t0.23824037771001683\n",
      "  (5570, 3559)\t0.17834782034673616\n",
      "  (5570, 3477)\t0.2151717357048722\n",
      "  (5570, 3255)\t0.28366649166348035\n",
      "  (5570, 3148)\t0.16521213094749893\n",
      "  (5570, 3105)\t0.12517861385377763\n",
      "  (5570, 2760)\t0.25144577693862574\n",
      "  (5570, 2492)\t0.19259063566649914\n",
      "  (5570, 1777)\t0.21160140056576388\n",
      "  (5570, 1773)\t0.14185384464898346\n",
      "  (5570, 1563)\t0.301405381695999\n",
      "  (5570, 1463)\t0.14322419016375695\n",
      "  (5570, 1160)\t0.11592101913259747\n",
      "  (5570, 983)\t0.3074552754076518\n",
      "  (5571, 7366)\t0.47146981576404473\n",
      "  (5571, 7236)\t0.1625649279501769\n",
      "  (5571, 6114)\t0.6100619543472223\n",
      "  (5571, 4970)\t0.42607428138503617\n",
      "  (5571, 3987)\t0.4444929421534656\n"
     ]
    }
   ],
   "source": [
    "print(count2)"
   ]
  },
  {
   "cell_type": "code",
   "execution_count": 17,
   "metadata": {},
   "outputs": [],
   "source": [
    "# target / features 분할\n",
    "X = count\n",
    "y = message_df['label']"
   ]
  },
  {
   "cell_type": "code",
   "execution_count": 18,
   "metadata": {},
   "outputs": [],
   "source": [
    "# train / test data 분할\n",
    "\n",
    "from sklearn.model_selection import train_test_split\n",
    "\n",
    "X_train, X_test, y_train, y_test = train_test_split(X, y, test_size=0.2, random_state=42, stratify=y)"
   ]
  },
  {
   "cell_type": "code",
   "execution_count": 19,
   "metadata": {},
   "outputs": [
    {
     "data": {
      "text/plain": [
       "(4457, 8169)"
      ]
     },
     "execution_count": 19,
     "metadata": {},
     "output_type": "execute_result"
    }
   ],
   "source": [
    "X_train.shape"
   ]
  },
  {
   "cell_type": "code",
   "execution_count": 20,
   "metadata": {},
   "outputs": [
    {
     "data": {
      "text/plain": [
       "(1115, 8169)"
      ]
     },
     "execution_count": 20,
     "metadata": {},
     "output_type": "execute_result"
    }
   ],
   "source": [
    "X_test.shape"
   ]
  },
  {
   "cell_type": "markdown",
   "metadata": {},
   "source": [
    "### LogisticRegression"
   ]
  },
  {
   "cell_type": "code",
   "execution_count": 21,
   "metadata": {},
   "outputs": [
    {
     "data": {
      "text/plain": [
       "LogisticRegression(C=1.0, class_weight=None, dual=False, fit_intercept=True,\n",
       "                   intercept_scaling=1, l1_ratio=None, max_iter=100,\n",
       "                   multi_class='auto', n_jobs=None, penalty='l2',\n",
       "                   random_state=None, solver='lbfgs', tol=0.0001, verbose=0,\n",
       "                   warm_start=False)"
      ]
     },
     "execution_count": 21,
     "metadata": {},
     "output_type": "execute_result"
    }
   ],
   "source": [
    "# model\n",
    "\n",
    "from sklearn.linear_model import LogisticRegression\n",
    "\n",
    "logreg = LogisticRegression()\n",
    "logreg.fit(X_train, y_train)"
   ]
  },
  {
   "cell_type": "code",
   "execution_count": 22,
   "metadata": {},
   "outputs": [
    {
     "data": {
      "text/plain": [
       "(0.9973076060130133, 0.9838565022421525)"
      ]
     },
     "execution_count": 22,
     "metadata": {},
     "output_type": "execute_result"
    }
   ],
   "source": [
    "# score\n",
    "\n",
    "logreg.score(X_train, y_train), logreg.score(X_test, y_test)"
   ]
  },
  {
   "cell_type": "code",
   "execution_count": 23,
   "metadata": {},
   "outputs": [
    {
     "name": "stdout",
     "output_type": "stream",
     "text": [
      "[0 0 0 1 0 0 0 0 0 0]\n",
      "2825    0\n",
      "3695    0\n",
      "3904    0\n",
      "576     1\n",
      "2899    0\n",
      "3456    0\n",
      "5128    0\n",
      "919     0\n",
      "2505    0\n",
      "17      0\n",
      "Name: label, dtype: int64\n"
     ]
    }
   ],
   "source": [
    "# prediction\n",
    "\n",
    "prediction = logreg.predict(X_test[:10])\n",
    "print(prediction)\n",
    "print(y_test[:10])"
   ]
  },
  {
   "cell_type": "markdown",
   "metadata": {},
   "source": [
    "### Naive Bayes"
   ]
  },
  {
   "cell_type": "code",
   "execution_count": 24,
   "metadata": {},
   "outputs": [
    {
     "data": {
      "text/plain": [
       "BernoulliNB(alpha=1.0, binarize=0.0, class_prior=None, fit_prior=True)"
      ]
     },
     "execution_count": 24,
     "metadata": {},
     "output_type": "execute_result"
    }
   ],
   "source": [
    "from sklearn.naive_bayes import BernoulliNB\n",
    "\n",
    "bnb = BernoulliNB()\n",
    "bnb.fit(X_train, y_train)"
   ]
  },
  {
   "cell_type": "code",
   "execution_count": 25,
   "metadata": {},
   "outputs": [
    {
     "data": {
      "text/plain": [
       "(0.9851918330715728, 0.9730941704035875)"
      ]
     },
     "execution_count": 25,
     "metadata": {},
     "output_type": "execute_result"
    }
   ],
   "source": [
    "bnb.score(X_train, y_train), bnb.score(X_test, y_test)"
   ]
  },
  {
   "cell_type": "code",
   "execution_count": 26,
   "metadata": {},
   "outputs": [
    {
     "name": "stdout",
     "output_type": "stream",
     "text": [
      "[0 0 0 1 0 0 0 0 0 0]\n",
      "2825    0\n",
      "3695    0\n",
      "3904    0\n",
      "576     1\n",
      "2899    0\n",
      "3456    0\n",
      "5128    0\n",
      "919     0\n",
      "2505    0\n",
      "17      0\n",
      "Name: label, dtype: int64\n"
     ]
    }
   ],
   "source": [
    "prediction = bnb.predict(X_test[:10])\n",
    "print(prediction)\n",
    "print(y_test[:10])"
   ]
  },
  {
   "cell_type": "code",
   "execution_count": null,
   "metadata": {},
   "outputs": [],
   "source": []
  }
 ],
 "metadata": {
  "kernelspec": {
   "display_name": "Python 3",
   "language": "python",
   "name": "python3"
  },
  "language_info": {
   "codemirror_mode": {
    "name": "ipython",
    "version": 3
   },
   "file_extension": ".py",
   "mimetype": "text/x-python",
   "name": "python",
   "nbconvert_exporter": "python",
   "pygments_lexer": "ipython3",
   "version": "3.7.6"
  }
 },
 "nbformat": 4,
 "nbformat_minor": 4
}
