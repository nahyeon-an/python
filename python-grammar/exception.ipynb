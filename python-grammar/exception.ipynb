{
 "cells": [
  {
   "cell_type": "markdown",
   "metadata": {},
   "source": [
    "# 07. 예외 처리"
   ]
  },
  {
   "cell_type": "markdown",
   "metadata": {},
   "source": [
    "<hr>\n",
    "\n",
    "## 구문 에러(Syntax Error)\n",
    "\n",
    "오타, 들여쓰기 실수\n",
    "\n",
    "## 예외\n",
    "\n",
    "구문 에러 외에 발생가능한 에러\n",
    "1. 선언하지 않은 변수 (NameError)\n",
    "2. 정수를 0으로 나눔 (ZeroDivisionError)\n",
    "3. 배열의 인덱스를 넘어서는 경우 (IndexError)\n",
    "4. 숫자를 문자로 나눔 (TypeError)\n",
    "\n",
    "내장 예외 : exceptions 모듈에 미리 정의됨<br>\n",
    "but 개발자가 명시적으로 예외 발생시킬 수 있음<br>\n",
    "\n",
    "기본 예외 클래스 : Esception, ArithmeticError, LookupError, EnvironmentError<br>\n",
    "\n",
    "실제 발생되는 내장 예외 클래스 (더 많이 존재하지면 자주 보이는 것만 적음)\n",
    "- EOFError\n",
    "- IOError\n",
    "- ImportError\n",
    "- IndexError\n",
    "- KeyError\n",
    "- KeyboardInterrupt\n",
    "- SyntaxError\n",
    "- OverflowError\n",
    "- TypeError\n",
    "- ValueError\n",
    "- ZeroDivisionError"
   ]
  },
  {
   "cell_type": "markdown",
   "metadata": {},
   "source": [
    "<hr>\n",
    "\n",
    "## 예외 처리\n",
    "\n",
    "### try 구문\n",
    "try:<br>\n",
    "&nbsp;&nbsp;&nbsp; 예외 발생 가능한 문장<br>\n",
    "except \\[ 예외 종류 \\]:<br>\n",
    "&nbsp;&nbsp;&nbsp; 예외 처리<br>\n",
    "else:<br>\n",
    "&nbsp;&nbsp;&nbsp; 예외가 발생하지 않았을 때 수행할 동작 <br>\n",
    "finally:<br>\n",
    "&nbsp;&nbsp;&nbsp; 예외 발생과 상관없이 수행할 동작 <br>\n",
    "\n",
    "<br>\n",
    "\n",
    "예외처리는 좁은 범위에서 넓은 범위로 확장해야 함<br>\n",
    "책임 사슬, chain of responsibility : GoF 패턴 중 에러 처리에 유연한 패턴<br>"
   ]
  },
  {
   "cell_type": "code",
   "execution_count": 1,
   "metadata": {},
   "outputs": [],
   "source": [
    "def divide(a, b):\n",
    "    return a / b"
   ]
  },
  {
   "cell_type": "code",
   "execution_count": 2,
   "metadata": {},
   "outputs": [
    {
     "name": "stdout",
     "output_type": "stream",
     "text": [
      "나누기 연산은 숫자만 가능합니다.\n"
     ]
    }
   ],
   "source": [
    "try:\n",
    "    c = divide(5, 'string')\n",
    "except ZeroDivisionError:\n",
    "    print(\"0으로 나눌 수 없습니다.\")\n",
    "except TypeError:\n",
    "    print(\"나누기 연산은 숫자만 가능합니다.\")\n",
    "except:\n",
    "    print(\"무슨 에러인지 모르겠네요.\")"
   ]
  },
  {
   "cell_type": "code",
   "execution_count": 3,
   "metadata": {},
   "outputs": [
    {
     "name": "stdout",
     "output_type": "stream",
     "text": [
      "Result: 2.5\n",
      "finally 블록은 항상 실행됩니다.\n"
     ]
    }
   ],
   "source": [
    "try:\n",
    "    c = divide(5, 2)\n",
    "except ZeroDivisionError:\n",
    "    print(\"0으로 나눌 수 없습니다.\")\n",
    "except TypeError:\n",
    "    print(\"나누기 연산은 숫자만 가능합니다.\")\n",
    "except:\n",
    "    print(\"무슨 에러인지 모르겠네요.\")\n",
    "else:\n",
    "    print(\"Result: {}\".format(c))\n",
    "finally:\n",
    "    print(\"finally 블록은 항상 실행됩니다.\")"
   ]
  },
  {
   "cell_type": "markdown",
   "metadata": {},
   "source": [
    "### 에러 인스턴스 객체\n",
    "args 변수에 추가적인 정보가 전달됨<br>\n",
    "변수에 할당해서 추가적인 정보 출력 가능"
   ]
  },
  {
   "cell_type": "code",
   "execution_count": 4,
   "metadata": {},
   "outputs": [
    {
     "name": "stdout",
     "output_type": "stream",
     "text": [
      "나누기 연산은 숫자만 가능합니다.\n",
      "error : unsupported operand type(s) for /: 'int' and 'str'\n"
     ]
    }
   ],
   "source": [
    "try:\n",
    "    c = divide(5, \"af\")\n",
    "except TypeError as e:\n",
    "    print(\"나누기 연산은 숫자만 가능합니다.\")\n",
    "    print(\"error :\", e.args[0])\n",
    "except:\n",
    "    print(\"무슨 에러인지 모르겠네요.\")"
   ]
  },
  {
   "cell_type": "code",
   "execution_count": 5,
   "metadata": {},
   "outputs": [
    {
     "name": "stdout",
     "output_type": "stream",
     "text": [
      "수치 관련 에러입니다.\n"
     ]
    }
   ],
   "source": [
    "# 에러를 묶어서 처리하는 예제\n",
    "# 에러의 종류는 다르지만 동일하게 처리할 때\n",
    "try:\n",
    "    c = divide(5, 0)\n",
    "except (ZeroDivisionError, OverflowError, FloatingPointError):\n",
    "    print(\"수치 관련 에러입니다.\")\n",
    "except TypeError:\n",
    "    print(\"나누기 연산은 숫자만 가능합니다.\")\n",
    "except:\n",
    "    print(\"무슨 에러인지 모르겠네요.\")"
   ]
  },
  {
   "cell_type": "code",
   "execution_count": 6,
   "metadata": {},
   "outputs": [
    {
     "name": "stdout",
     "output_type": "stream",
     "text": [
      "수치 관련 에러입니다.\n"
     ]
    }
   ],
   "source": [
    "# 부모 클래스를 except 로 에러 처리를 하면\n",
    "# 해당 모든 하위 클래스도 동일한 에러 처리를 받음\n",
    "try:\n",
    "    c = divide(5, 0)\n",
    "except ArithmeticError:\n",
    "    print(\"수치 관련 에러입니다.\")\n",
    "except TypeError:\n",
    "    print(\"나누기 연산은 숫자만 가능합니다.\")\n",
    "except:\n",
    "    print(\"무슨 에러인지 모르겠네요.\")"
   ]
  },
  {
   "cell_type": "markdown",
   "metadata": {},
   "source": [
    "<hr>\n",
    "\n",
    "## raise 구문\n",
    "\n",
    "의도적으로 예외를 발생시킬 때 사용\n",
    "- raise \\[Exception\\]\n",
    "- raise \\[Exception(data)\\]\n",
    "- raise\n",
    "\n",
    "raise 구문의 예외 = 내장 예외 or 사용자정의 예외<br>\n",
    "사용자 정의 예외 -> Exception 클래스를 상속받아 정의해야 함"
   ]
  },
  {
   "cell_type": "code",
   "execution_count": 7,
   "metadata": {},
   "outputs": [],
   "source": [
    "def raise_error():\n",
    "    raise NameError"
   ]
  },
  {
   "cell_type": "code",
   "execution_count": 8,
   "metadata": {},
   "outputs": [
    {
     "name": "stdout",
     "output_type": "stream",
     "text": [
      "NameError is catched !\n"
     ]
    }
   ],
   "source": [
    "try:\n",
    "    raise_error()\n",
    "except:\n",
    "    print(\"NameError is catched !\")"
   ]
  },
  {
   "cell_type": "code",
   "execution_count": 9,
   "metadata": {},
   "outputs": [],
   "source": [
    "def raise_error():\n",
    "    raise NameError(\"NameError의 인자\")"
   ]
  },
  {
   "cell_type": "code",
   "execution_count": 10,
   "metadata": {},
   "outputs": [],
   "source": [
    "def propagate_error():\n",
    "    try:\n",
    "        raise_error()\n",
    "    except:\n",
    "        print(\"에러 전달 이전에 이 메시지부터 출력\")\n",
    "        raise # 발생한 에러를 상위로 전달 - 이를 처리하는 코드가 없기 때문에 프롬프트에 에러를 출력"
   ]
  },
  {
   "cell_type": "code",
   "execution_count": 11,
   "metadata": {},
   "outputs": [
    {
     "name": "stdout",
     "output_type": "stream",
     "text": [
      "에러 전달 이전에 이 메시지부터 출력\n"
     ]
    },
    {
     "ename": "NameError",
     "evalue": "NameError의 인자",
     "output_type": "error",
     "traceback": [
      "\u001b[0;31m---------------------------------------------------------------------------\u001b[0m",
      "\u001b[0;31mNameError\u001b[0m                                 Traceback (most recent call last)",
      "\u001b[0;32m<ipython-input-11-1b0b3138edb5>\u001b[0m in \u001b[0;36m<module>\u001b[0;34m\u001b[0m\n\u001b[0;32m----> 1\u001b[0;31m \u001b[0mpropagate_error\u001b[0m\u001b[0;34m(\u001b[0m\u001b[0;34m)\u001b[0m\u001b[0;34m\u001b[0m\u001b[0;34m\u001b[0m\u001b[0m\n\u001b[0m",
      "\u001b[0;32m<ipython-input-10-5dea328d2f76>\u001b[0m in \u001b[0;36mpropagate_error\u001b[0;34m()\u001b[0m\n\u001b[1;32m      1\u001b[0m \u001b[0;32mdef\u001b[0m \u001b[0mpropagate_error\u001b[0m\u001b[0;34m(\u001b[0m\u001b[0;34m)\u001b[0m\u001b[0;34m:\u001b[0m\u001b[0;34m\u001b[0m\u001b[0;34m\u001b[0m\u001b[0m\n\u001b[1;32m      2\u001b[0m     \u001b[0;32mtry\u001b[0m\u001b[0;34m:\u001b[0m\u001b[0;34m\u001b[0m\u001b[0;34m\u001b[0m\u001b[0m\n\u001b[0;32m----> 3\u001b[0;31m         \u001b[0mraise_error\u001b[0m\u001b[0;34m(\u001b[0m\u001b[0;34m)\u001b[0m\u001b[0;34m\u001b[0m\u001b[0;34m\u001b[0m\u001b[0m\n\u001b[0m\u001b[1;32m      4\u001b[0m     \u001b[0;32mexcept\u001b[0m\u001b[0;34m:\u001b[0m\u001b[0;34m\u001b[0m\u001b[0;34m\u001b[0m\u001b[0m\n\u001b[1;32m      5\u001b[0m         \u001b[0mprint\u001b[0m\u001b[0;34m(\u001b[0m\u001b[0;34m\"에러 전달 이전에 이 메시지부터 출력\"\u001b[0m\u001b[0;34m)\u001b[0m\u001b[0;34m\u001b[0m\u001b[0;34m\u001b[0m\u001b[0m\n",
      "\u001b[0;32m<ipython-input-9-3ad0c4fa391e>\u001b[0m in \u001b[0;36mraise_error\u001b[0;34m()\u001b[0m\n\u001b[1;32m      1\u001b[0m \u001b[0;32mdef\u001b[0m \u001b[0mraise_error\u001b[0m\u001b[0;34m(\u001b[0m\u001b[0;34m)\u001b[0m\u001b[0;34m:\u001b[0m\u001b[0;34m\u001b[0m\u001b[0;34m\u001b[0m\u001b[0m\n\u001b[0;32m----> 2\u001b[0;31m     \u001b[0;32mraise\u001b[0m \u001b[0mNameError\u001b[0m\u001b[0;34m(\u001b[0m\u001b[0;34m\"NameError의 인자\"\u001b[0m\u001b[0;34m)\u001b[0m\u001b[0;34m\u001b[0m\u001b[0;34m\u001b[0m\u001b[0m\n\u001b[0m",
      "\u001b[0;31mNameError\u001b[0m: NameError의 인자"
     ]
    }
   ],
   "source": [
    "propagate_error()"
   ]
  },
  {
   "cell_type": "markdown",
   "metadata": {},
   "source": [
    "<hr>\n",
    "\n",
    "## 사용자정의 예외\n",
    "\n",
    "내장 예외인 Exception 또는 그 하위 클래스를 상속받아 구현해야 함 <br>\n",
    "전달할 인자 = 생성자의 클래스 멤버 변수에 저장"
   ]
  },
  {
   "cell_type": "code",
   "execution_count": 12,
   "metadata": {},
   "outputs": [],
   "source": [
    "class NegativeDivisionError(Exception): # 사용자 정의 예외\n",
    "    def __init__(self, value):\n",
    "        self.value = value"
   ]
  },
  {
   "cell_type": "code",
   "execution_count": 13,
   "metadata": {},
   "outputs": [],
   "source": [
    "def positive_divide(a, b):\n",
    "    if b < 0:\n",
    "        raise NegativeDivisionError(b)\n",
    "    return a / b"
   ]
  },
  {
   "cell_type": "code",
   "execution_count": 14,
   "metadata": {},
   "outputs": [
    {
     "name": "stdout",
     "output_type": "stream",
     "text": [
      "Error: second argument of positive_divide is  -3\n"
     ]
    }
   ],
   "source": [
    "try:\n",
    "    ret = positive_divide(10, -3)\n",
    "    print(\"10 / 3 = {}\".format(ret))\n",
    "except NegativeDivisionError as e:\n",
    "    print(\"Error: second argument of positive_divide is \", e.value)\n",
    "except ZeroDivisionError as e:\n",
    "    print(\"Error: \", e.args[0])\n",
    "except:\n",
    "    print(\"Unexpected Error !\")"
   ]
  },
  {
   "cell_type": "markdown",
   "metadata": {},
   "source": [
    "<hr>\n",
    "\n",
    "## assert 구문\n",
    "\n",
    "제약사항 설정을 목적<br>\n",
    "조건식이 거짓이면 AssertionError가 발생<br>\n",
    "<br>\n",
    "assert 조건식, \\[관련 데이터\\]<br>\n",
    "<br>\n",
    "코드 실행시 최적화 옵션(-O)을 설정하면 assert 구문은 수행되지 않음"
   ]
  },
  {
   "cell_type": "code",
   "execution_count": 15,
   "metadata": {},
   "outputs": [],
   "source": [
    "def foo(x):\n",
    "    assert type(x)==int, \"Input value must be integer\"\n",
    "    return x * 10"
   ]
  },
  {
   "cell_type": "code",
   "execution_count": 16,
   "metadata": {},
   "outputs": [
    {
     "ename": "AssertionError",
     "evalue": "Input value must be integer",
     "output_type": "error",
     "traceback": [
      "\u001b[0;31m---------------------------------------------------------------------------\u001b[0m",
      "\u001b[0;31mAssertionError\u001b[0m                            Traceback (most recent call last)",
      "\u001b[0;32m<ipython-input-16-ac4af0a21f9d>\u001b[0m in \u001b[0;36m<module>\u001b[0;34m\u001b[0m\n\u001b[0;32m----> 1\u001b[0;31m \u001b[0mret\u001b[0m \u001b[0;34m=\u001b[0m \u001b[0mfoo\u001b[0m\u001b[0;34m(\u001b[0m\u001b[0;34m\"a\"\u001b[0m\u001b[0;34m)\u001b[0m\u001b[0;34m\u001b[0m\u001b[0;34m\u001b[0m\u001b[0m\n\u001b[0m\u001b[1;32m      2\u001b[0m \u001b[0mprint\u001b[0m\u001b[0;34m(\u001b[0m\u001b[0mret\u001b[0m\u001b[0;34m)\u001b[0m\u001b[0;34m\u001b[0m\u001b[0;34m\u001b[0m\u001b[0m\n",
      "\u001b[0;32m<ipython-input-15-168ea2dbbcc1>\u001b[0m in \u001b[0;36mfoo\u001b[0;34m(x)\u001b[0m\n\u001b[1;32m      1\u001b[0m \u001b[0;32mdef\u001b[0m \u001b[0mfoo\u001b[0m\u001b[0;34m(\u001b[0m\u001b[0mx\u001b[0m\u001b[0;34m)\u001b[0m\u001b[0;34m:\u001b[0m\u001b[0;34m\u001b[0m\u001b[0;34m\u001b[0m\u001b[0m\n\u001b[0;32m----> 2\u001b[0;31m     \u001b[0;32massert\u001b[0m \u001b[0mtype\u001b[0m\u001b[0;34m(\u001b[0m\u001b[0mx\u001b[0m\u001b[0;34m)\u001b[0m\u001b[0;34m==\u001b[0m\u001b[0mint\u001b[0m\u001b[0;34m,\u001b[0m \u001b[0;34m\"Input value must be integer\"\u001b[0m\u001b[0;34m\u001b[0m\u001b[0;34m\u001b[0m\u001b[0m\n\u001b[0m\u001b[1;32m      3\u001b[0m     \u001b[0;32mreturn\u001b[0m \u001b[0mx\u001b[0m \u001b[0;34m*\u001b[0m \u001b[0;36m10\u001b[0m\u001b[0;34m\u001b[0m\u001b[0;34m\u001b[0m\u001b[0m\n",
      "\u001b[0;31mAssertionError\u001b[0m: Input value must be integer"
     ]
    }
   ],
   "source": [
    "ret = foo(\"a\")\n",
    "print(ret)\n",
    "\n",
    "# python -O file.py 로 실행하면\n",
    "# aaaaaaaaaa 이 출력됨"
   ]
  },
  {
   "cell_type": "markdown",
   "metadata": {},
   "source": [
    "<hr>"
   ]
  }
 ],
 "metadata": {
  "kernelspec": {
   "display_name": "Python 3",
   "language": "python",
   "name": "python3"
  },
  "language_info": {
   "codemirror_mode": {
    "name": "ipython",
    "version": 3
   },
   "file_extension": ".py",
   "mimetype": "text/x-python",
   "name": "python",
   "nbconvert_exporter": "python",
   "pygments_lexer": "ipython3",
   "version": "3.7.6"
  }
 },
 "nbformat": 4,
 "nbformat_minor": 4
}
