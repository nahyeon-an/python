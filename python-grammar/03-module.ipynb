{
 "cells": [
  {
   "cell_type": "markdown",
   "metadata": {},
   "source": [
    "# 06. 모듈\n",
    "코드를 묶어 다른 곳에서 재사용할 수 있는 코드 모음\n"
   ]
  },
  {
   "cell_type": "markdown",
   "metadata": {},
   "source": [
    "<hr>\n",
    "\n",
    "### 모듈 사용하기\n",
    "\n",
    "import : 현재 이름공간으로 모듈을 가져오는 명령어<br>\n",
    "dir() : 모듈에 정의된 데이터, 함수를 확인하는 함수<br><br>\n",
    "\n",
    "모듈 사용 장점 : 1. 코드 재사용 2. 이름공간 구분 및 관리<br><br>\n",
    "\n",
    "[파이썬3. 표준 라이브러리](https://docs.python.org/ko/3/library/index.html)"
   ]
  },
  {
   "cell_type": "code",
   "execution_count": 1,
   "metadata": {},
   "outputs": [],
   "source": [
    "import math"
   ]
  },
  {
   "cell_type": "code",
   "execution_count": 2,
   "metadata": {},
   "outputs": [
    {
     "data": {
      "text/plain": [
       "1024.0"
      ]
     },
     "execution_count": 2,
     "metadata": {},
     "output_type": "execute_result"
    }
   ],
   "source": [
    "math.pow(2, 10)"
   ]
  },
  {
   "cell_type": "code",
   "execution_count": 3,
   "metadata": {},
   "outputs": [
    {
     "data": {
      "text/plain": [
       "4.605170185988092"
      ]
     },
     "execution_count": 3,
     "metadata": {},
     "output_type": "execute_result"
    }
   ],
   "source": [
    "math.log(100)"
   ]
  },
  {
   "cell_type": "code",
   "execution_count": 4,
   "metadata": {},
   "outputs": [
    {
     "data": {
      "text/plain": [
       "3.141592653589793"
      ]
     },
     "execution_count": 4,
     "metadata": {},
     "output_type": "execute_result"
    }
   ],
   "source": [
    "math.pi"
   ]
  },
  {
   "cell_type": "code",
   "execution_count": 5,
   "metadata": {},
   "outputs": [
    {
     "data": {
      "text/plain": [
       "['__doc__',\n",
       " '__file__',\n",
       " '__loader__',\n",
       " '__name__',\n",
       " '__package__',\n",
       " '__spec__',\n",
       " 'acos',\n",
       " 'acosh',\n",
       " 'asin',\n",
       " 'asinh',\n",
       " 'atan',\n",
       " 'atan2',\n",
       " 'atanh',\n",
       " 'ceil',\n",
       " 'copysign',\n",
       " 'cos',\n",
       " 'cosh',\n",
       " 'degrees',\n",
       " 'e',\n",
       " 'erf',\n",
       " 'erfc',\n",
       " 'exp',\n",
       " 'expm1',\n",
       " 'fabs',\n",
       " 'factorial',\n",
       " 'floor',\n",
       " 'fmod',\n",
       " 'frexp',\n",
       " 'fsum',\n",
       " 'gamma',\n",
       " 'gcd',\n",
       " 'hypot',\n",
       " 'inf',\n",
       " 'isclose',\n",
       " 'isfinite',\n",
       " 'isinf',\n",
       " 'isnan',\n",
       " 'ldexp',\n",
       " 'lgamma',\n",
       " 'log',\n",
       " 'log10',\n",
       " 'log1p',\n",
       " 'log2',\n",
       " 'modf',\n",
       " 'nan',\n",
       " 'pi',\n",
       " 'pow',\n",
       " 'radians',\n",
       " 'remainder',\n",
       " 'sin',\n",
       " 'sinh',\n",
       " 'sqrt',\n",
       " 'tan',\n",
       " 'tanh',\n",
       " 'tau',\n",
       " 'trunc']"
      ]
     },
     "execution_count": 5,
     "metadata": {},
     "output_type": "execute_result"
    }
   ],
   "source": [
    "dir(math) # math 모듈에 정의된 함수, 데이터를 확인 가능"
   ]
  },
  {
   "cell_type": "code",
   "execution_count": 6,
   "metadata": {},
   "outputs": [],
   "source": [
    "from ftplib import FTP"
   ]
  },
  {
   "cell_type": "code",
   "execution_count": 7,
   "metadata": {},
   "outputs": [],
   "source": [
    "ftp = FTP(\"ftp1.at.proftpd.org\") # ftp 서버에 접속"
   ]
  },
  {
   "cell_type": "code",
   "execution_count": 8,
   "metadata": {},
   "outputs": [
    {
     "data": {
      "text/plain": [
       "'230 Anonymous access granted, restrictions apply'"
      ]
     },
     "execution_count": 8,
     "metadata": {},
     "output_type": "execute_result"
    }
   ],
   "source": [
    "ftp.login()"
   ]
  },
  {
   "cell_type": "code",
   "execution_count": 9,
   "metadata": {},
   "outputs": [
    {
     "name": "stdout",
     "output_type": "stream",
     "text": [
      "-rw-rw-r--   1 ftp      ftp           451 Jul  1  2005 README.MIRRORS\n",
      "drwxrwxr-x   3 ftp      ftp          4096 Jul  1  2005 devel\n",
      "drwxrwxr-x   3 ftp      ftp          4096 Dec  2  2010 distrib\n",
      "drwxrwxr-x   4 ftp      ftp          4096 Jul  1  2005 historic\n"
     ]
    },
    {
     "data": {
      "text/plain": [
       "'226 Transfer complete'"
      ]
     },
     "execution_count": 9,
     "metadata": {},
     "output_type": "execute_result"
    }
   ],
   "source": [
    "ftp.retrlines('LIST')"
   ]
  },
  {
   "cell_type": "code",
   "execution_count": 10,
   "metadata": {},
   "outputs": [
    {
     "data": {
      "text/plain": [
       "'221 Goodbye.'"
      ]
     },
     "execution_count": 10,
     "metadata": {},
     "output_type": "execute_result"
    }
   ],
   "source": [
    "ftp.quit()"
   ]
  },
  {
   "cell_type": "markdown",
   "metadata": {},
   "source": [
    "<hr>\n",
    "\n",
    "### 모듈 만들기\n",
    "\n",
    "파이썬의 모듈 = 파일 = < 모듈이름 >.py<br><br>\n",
    "\n",
    "simpleset.py 라는 모듈을 만듦<br>\n",
    "- 파이썬 라이브러리 dir\n",
    "- 또는 현재 작업중인 노트북 파일과 같은 dir <br>\n",
    "\n",
    "에 위치시키면 모듈 사용 가능<br>"
   ]
  },
  {
   "cell_type": "code",
   "execution_count": 11,
   "metadata": {},
   "outputs": [
    {
     "name": "stdout",
     "output_type": "stream",
     "text": [
      "모듈을 임포트했다.\n"
     ]
    }
   ],
   "source": [
    "import simpleset"
   ]
  },
  {
   "cell_type": "code",
   "execution_count": 12,
   "metadata": {},
   "outputs": [
    {
     "data": {
      "text/plain": [
       "['WRAPPER_ASSIGNMENTS',\n",
       " 'WRAPPER_UPDATES',\n",
       " '__builtins__',\n",
       " '__cached__',\n",
       " '__doc__',\n",
       " '__file__',\n",
       " '__intersectSC',\n",
       " '__loader__',\n",
       " '__name__',\n",
       " '__package__',\n",
       " '__spec__',\n",
       " 'cmp_to_key',\n",
       " 'difference',\n",
       " 'intersect',\n",
       " 'lru_cache',\n",
       " 'main',\n",
       " 'partial',\n",
       " 'partialmethod',\n",
       " 'reduce',\n",
       " 'singledispatch',\n",
       " 'total_ordering',\n",
       " 'union',\n",
       " 'update_wrapper',\n",
       " 'wraps']"
      ]
     },
     "execution_count": 12,
     "metadata": {},
     "output_type": "execute_result"
    }
   ],
   "source": [
    "dir(simpleset)"
   ]
  },
  {
   "cell_type": "code",
   "execution_count": 13,
   "metadata": {},
   "outputs": [],
   "source": [
    "setA = [1, 3, 7, 10]\n",
    "setB = [2, 3, 4, 9]"
   ]
  },
  {
   "cell_type": "code",
   "execution_count": 14,
   "metadata": {},
   "outputs": [
    {
     "data": {
      "text/plain": [
       "[1, 3, 7, 10, 2, 4, 9]"
      ]
     },
     "execution_count": 14,
     "metadata": {},
     "output_type": "execute_result"
    }
   ],
   "source": [
    "simpleset.union(setA, setB)"
   ]
  },
  {
   "cell_type": "code",
   "execution_count": null,
   "metadata": {},
   "outputs": [],
   "source": [
    "simpleset.intersect(setA, setB, [1,2,3])"
   ]
  },
  {
   "cell_type": "markdown",
   "metadata": {},
   "source": [
    "<hr>\n",
    "\n",
    "### 모듈의 경로\n",
    "\n",
    "모듈 이름만으로 import 되려면 모듈 파일이 모듈 검색 경로에 존재해야 함<br><br>\n",
    "\n",
    "모듈 찾는 순서<br>\n",
    "\n",
    "1. 현재 작업 dir\n",
    "2. PYTHONPATH 환경변수에 등록된 위치  \n",
    "    - 사용자가 만든 dir 을 환경변수에 등록  \n",
    "3. 표준 라이브러리 디렉터리  \n",
    "\n",
    "<br>\n",
    "\n",
    "모듈 검색 경로 목록을 리스트 형식으로 관리 (sys.path)<br>\n",
    "\n",
    "- 프로그램 동작 중 경로 추가 가능\n",
    "- 이미 있는 경로를 삭제 가능"
   ]
  },
  {
   "cell_type": "code",
   "execution_count": 15,
   "metadata": {},
   "outputs": [],
   "source": [
    "import sys"
   ]
  },
  {
   "cell_type": "code",
   "execution_count": 16,
   "metadata": {},
   "outputs": [
    {
     "data": {
      "text/plain": [
       "['/Users/nahyeonan/python/python-grammar',\n",
       " '/Users/nahyeonan/opt/anaconda3/lib/python37.zip',\n",
       " '/Users/nahyeonan/opt/anaconda3/lib/python3.7',\n",
       " '/Users/nahyeonan/opt/anaconda3/lib/python3.7/lib-dynload',\n",
       " '',\n",
       " '/Users/nahyeonan/.local/lib/python3.7/site-packages',\n",
       " '/Users/nahyeonan/opt/anaconda3/lib/python3.7/site-packages',\n",
       " '/Users/nahyeonan/opt/anaconda3/lib/python3.7/site-packages/aeosa',\n",
       " '/Users/nahyeonan/opt/anaconda3/lib/python3.7/site-packages/IPython/extensions',\n",
       " '/Users/nahyeonan/.ipython']"
      ]
     },
     "execution_count": 16,
     "metadata": {},
     "output_type": "execute_result"
    }
   ],
   "source": [
    "sys.path"
   ]
  },
  {
   "cell_type": "markdown",
   "metadata": {},
   "source": [
    "<hr>\n",
    "\n",
    "### 모듈 임포트\n",
    "\n",
    "import 구문을 삽입할 수 있는 영역이 제한 없음<br>\n",
    "\n",
    "<br>\n",
    "\n",
    "import ( 모듈 )\n",
    "- 접근 : ( 모듈 ).( 어트리뷰트 )\n",
    "\n",
    "from ( 모듈 ) import ( 어트리뷰트 )\n",
    "- ( 어트리뷰트 )\n",
    "- 모듈 이름없이 바로 접근 가능\n",
    "\n",
    "from ( 모듈 ) import *\n",
    "- 밑줄로 시작하는 어트리뷰트를 제외한 모든 어트리뷰트를 현재 이름공간으로 가져옴\n",
    "\n",
    "import ( 모듈 ) as ( 별칭 )\n",
    "- 다른 이름으로 모듈 참조 가능\n",
    "\n",
    "<br>\n",
    "\n",
    "모듈 내에서만 사용되는 함수/변수는 밑줄(\\_)로 시작하면 <br>\n",
    "코드 충돌 줄어들고 이름공간에 삽입 안 됨"
   ]
  },
  {
   "cell_type": "code",
   "execution_count": 17,
   "metadata": {},
   "outputs": [
    {
     "data": {
      "text/plain": [
       "[1, 2, 3, 4, 6]"
      ]
     },
     "execution_count": 17,
     "metadata": {},
     "output_type": "execute_result"
    }
   ],
   "source": [
    "import simpleset\n",
    "simpleset.union([1,2,3],[4],[2,6])"
   ]
  },
  {
   "cell_type": "code",
   "execution_count": 18,
   "metadata": {},
   "outputs": [
    {
     "data": {
      "text/plain": [
       "[1, 2, 3, 4, 6]"
      ]
     },
     "execution_count": 18,
     "metadata": {},
     "output_type": "execute_result"
    }
   ],
   "source": [
    "from simpleset import union\n",
    "union([1,2,3],[4],[2,6])"
   ]
  },
  {
   "cell_type": "code",
   "execution_count": 19,
   "metadata": {},
   "outputs": [
    {
     "data": {
      "text/plain": [
       "['WRAPPER_ASSIGNMENTS',\n",
       " 'WRAPPER_UPDATES',\n",
       " '__builtins__',\n",
       " '__cached__',\n",
       " '__doc__',\n",
       " '__file__',\n",
       " '__intersectSC',\n",
       " '__loader__',\n",
       " '__name__',\n",
       " '__package__',\n",
       " '__spec__',\n",
       " 'cmp_to_key',\n",
       " 'difference',\n",
       " 'intersect',\n",
       " 'lru_cache',\n",
       " 'main',\n",
       " 'partial',\n",
       " 'partialmethod',\n",
       " 'reduce',\n",
       " 'singledispatch',\n",
       " 'total_ordering',\n",
       " 'union',\n",
       " 'update_wrapper',\n",
       " 'wraps']"
      ]
     },
     "execution_count": 19,
     "metadata": {},
     "output_type": "execute_result"
    }
   ],
   "source": [
    "from simpleset import *\n",
    "dir(simpleset) # __intersectSC 존재"
   ]
  },
  {
   "cell_type": "code",
   "execution_count": 20,
   "metadata": {},
   "outputs": [],
   "source": [
    "exit()"
   ]
  },
  {
   "cell_type": "code",
   "execution_count": 1,
   "metadata": {},
   "outputs": [
    {
     "name": "stdout",
     "output_type": "stream",
     "text": [
      "모듈을 임포트했다.\n"
     ]
    },
    {
     "data": {
      "text/plain": [
       "['In',\n",
       " 'Out',\n",
       " 'WRAPPER_ASSIGNMENTS',\n",
       " 'WRAPPER_UPDATES',\n",
       " '_',\n",
       " '__',\n",
       " '___',\n",
       " '__builtin__',\n",
       " '__builtins__',\n",
       " '__doc__',\n",
       " '__loader__',\n",
       " '__name__',\n",
       " '__package__',\n",
       " '__spec__',\n",
       " '_dh',\n",
       " '_i',\n",
       " '_i1',\n",
       " '_ih',\n",
       " '_ii',\n",
       " '_iii',\n",
       " '_oh',\n",
       " 'cmp_to_key',\n",
       " 'difference',\n",
       " 'exit',\n",
       " 'get_ipython',\n",
       " 'intersect',\n",
       " 'lru_cache',\n",
       " 'main',\n",
       " 'partial',\n",
       " 'partialmethod',\n",
       " 'quit',\n",
       " 'reduce',\n",
       " 'singledispatch',\n",
       " 'total_ordering',\n",
       " 'union',\n",
       " 'update_wrapper',\n",
       " 'wraps']"
      ]
     },
     "execution_count": 1,
     "metadata": {},
     "output_type": "execute_result"
    }
   ],
   "source": [
    "from simpleset import *\n",
    "dir() # __intersectSC 존재 안 함"
   ]
  },
  {
   "cell_type": "code",
   "execution_count": 2,
   "metadata": {},
   "outputs": [
    {
     "data": {
      "text/plain": [
       "<module 'xml.sax.handler' from '/Users/nahyeonan/opt/anaconda3/lib/python3.7/xml/sax/handler.py'>"
      ]
     },
     "execution_count": 2,
     "metadata": {},
     "output_type": "execute_result"
    }
   ],
   "source": [
    "import xml.sax.handler as handler\n",
    "handler"
   ]
  },
  {
   "cell_type": "markdown",
   "metadata": {},
   "source": [
    "<hr>\n",
    "\n",
    "### 모듈 임포트 시 내부 동작\n",
    "\n",
    "모듈 import -> sys.path 에 등록된 디렉터리에서 모듈을 찾음<br>\n",
    "-> 바이트코드가 있으면 바로 메모리 로드<br>\n",
    "-> 바이트코드가 없으면 인터프리터를 이용해 모듈을 바이트코드로 만듦<br>\n",
    "\n",
    "바이트코드 : .pyc 파일로 모듈과 같은 디렉터리에 저장됨<br>\n",
    "\n",
    "<br>\n",
    "\n",
    "모듈 임포트 후 메모리에 모듈코드가 로딩되면 프로그램/인터프리터가 끝나기 전까지 모듈이 변경되지 않음<br>\n",
    "프로그램/인터프리터 종료 후 파이썬을 실행해야 변경된 부분이 반영됨<br>\n",
    "-> 이미 임포트된 모듈을 다시 임포트<br>\n",
    "    import imp<br>\n",
    "    imp.reload( math )<br>\n",
    "    \n",
    "<br>\n",
    "    \n",
    "모듈 임포트 후 개발자는 레퍼런스(이름)로 접근<br>\n",
    "\n",
    "모듈은 한 번만 로딩되고 한 번만 실행됨"
   ]
  },
  {
   "cell_type": "markdown",
   "metadata": {},
   "source": [
    "<hr>\n",
    "\n",
    "### \\_\\_name__ 속성 이용\n",
    "\n",
    "\\_\\_name__ : 읽을 수만 있는 속성, 자기 모듈의 이름을 나타냄<br>\n",
    "- 직접 실행 시(메인파일로 실행), \\_\\_main__ 이 저장됨\n",
    "- 그렇지 않다면, 임포트된 것\n",
    "\n",
    "<br>\n",
    "\n",
    "모듈 개발 시 : \\_\\_name__ 을 이용한 구분을 자주 사용<br>\n",
    "- 직접 실행했을 때 테스트 수행 (모듈의 단위 테스트)"
   ]
  },
  {
   "cell_type": "code",
   "execution_count": 3,
   "metadata": {},
   "outputs": [],
   "source": [
    "import simpleset"
   ]
  },
  {
   "cell_type": "code",
   "execution_count": 4,
   "metadata": {},
   "outputs": [
    {
     "name": "stdout",
     "output_type": "stream",
     "text": [
      "simpleset\n"
     ]
    }
   ],
   "source": [
    "print(simpleset.__name__)"
   ]
  },
  {
   "cell_type": "markdown",
   "metadata": {},
   "source": [
    "임포트한 파일을 메인으로 실행하고 싶으면 .main() 함수를 통해 가능  \n",
    "반드시 main() 함수가 정의되어 있어야 한다.  "
   ]
  },
  {
   "cell_type": "code",
   "execution_count": 5,
   "metadata": {},
   "outputs": [
    {
     "name": "stdout",
     "output_type": "stream",
     "text": [
      "run as main file\n"
     ]
    }
   ],
   "source": [
    "simpleset.main()"
   ]
  },
  {
   "cell_type": "markdown",
   "metadata": {},
   "source": [
    "<hr>\n",
    "\n",
    "### 패키지\n",
    "\n",
    "패키지 : 여러 개의 모듈을 하나로 묶은 것<br>\n",
    "파이썬 모듈 이름공간을 구조화하는 방법<br>\n",
    "\n",
    "패키지의 디럭테리마다 \\_\\_init__.py가 반드시 존재<br>\n",
    "패키지를 초기화하는 코드<br>\n",
    "\\_\\_all__ : import * 을 실행할 때 포함할 하위 패키지 목록<br>\n",
    "\n",
    "어떤 패키지를 임포트할 때 해당 패키지의 하위 패키지가 자동으로 임포트되지 X<br>"
   ]
  },
  {
   "cell_type": "code",
   "execution_count": 6,
   "metadata": {},
   "outputs": [],
   "source": [
    "import xml"
   ]
  },
  {
   "cell_type": "code",
   "execution_count": 7,
   "metadata": {},
   "outputs": [
    {
     "data": {
      "text/plain": [
       "<module 'xml' from '/Users/nahyeonan/opt/anaconda3/lib/python3.7/xml/__init__.py'>"
      ]
     },
     "execution_count": 7,
     "metadata": {},
     "output_type": "execute_result"
    }
   ],
   "source": [
    "xml"
   ]
  },
  {
   "cell_type": "code",
   "execution_count": 8,
   "metadata": {},
   "outputs": [
    {
     "data": {
      "text/plain": [
       "<module 'xml.dom' from '/Users/nahyeonan/opt/anaconda3/lib/python3.7/xml/dom/__init__.py'>"
      ]
     },
     "execution_count": 8,
     "metadata": {},
     "output_type": "execute_result"
    }
   ],
   "source": [
    "xml.dom"
   ]
  },
  {
   "cell_type": "code",
   "execution_count": 9,
   "metadata": {},
   "outputs": [
    {
     "data": {
      "text/plain": [
       "<function xml.dom.domreg.getDOMImplementation(name=None, features=())>"
      ]
     },
     "execution_count": 9,
     "metadata": {},
     "output_type": "execute_result"
    }
   ],
   "source": [
    "xml.dom.getDOMImplementation"
   ]
  },
  {
   "cell_type": "code",
   "execution_count": 10,
   "metadata": {},
   "outputs": [],
   "source": [
    "import xml.dom"
   ]
  },
  {
   "cell_type": "markdown",
   "metadata": {},
   "source": [
    "<hr>\n",
    "\n",
    "### 패키지 안에서 패키지 안의 모듈 참조하기\n",
    "\n",
    "하위 디렉터리에 있는 모듈 : 그냥 파일의 상대경로 지정하듯이<br>\n",
    "대신 / 가 아니고 . 으로 지정<br>\n",
    "\n",
    "상위 디렉터리에 있는 모듈<br>\n",
    ". 을 통해 현재 디렉터리 참조<br>\n",
    ".. 을 통해 부모 디렉터리 참조<br>"
   ]
  },
  {
   "cell_type": "code",
   "execution_count": null,
   "metadata": {},
   "outputs": [],
   "source": [
    "# 같은/하위 디렉터리에 있는 모듈 참조 예시\n",
    "from auread import *"
   ]
  },
  {
   "cell_type": "code",
   "execution_count": null,
   "metadata": {},
   "outputs": [],
   "source": [
    "# 상위 디렉터리에 있는 모듈 참조\n",
    "from sound.filters.equalizer import equalizer\n",
    "# 현재 디렉터리에서 echo 모듈 참조\n",
    "from . import echo\n",
    "# 부모 디렉터리에서 formats 참조\n",
    "from .. import formats\n",
    "# 부모 디렉터리 모듈 중 filters의 eqaulizer 참조\n",
    "from ..filters import equalizer"
   ]
  },
  {
   "cell_type": "markdown",
   "metadata": {},
   "source": [
    "<hr>"
   ]
  }
 ],
 "metadata": {
  "kernelspec": {
   "display_name": "Python 3",
   "language": "python",
   "name": "python3"
  },
  "language_info": {
   "codemirror_mode": {
    "name": "ipython",
    "version": 3
   },
   "file_extension": ".py",
   "mimetype": "text/x-python",
   "name": "python",
   "nbconvert_exporter": "python",
   "pygments_lexer": "ipython3",
   "version": "3.7.6"
  }
 },
 "nbformat": 4,
 "nbformat_minor": 4
}
