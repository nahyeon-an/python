{
 "cells": [
  {
   "cell_type": "markdown",
   "metadata": {},
   "source": [
    "# Function"
   ]
  },
  {
   "cell_type": "code",
   "execution_count": 8,
   "metadata": {},
   "outputs": [
    {
     "name": "stdout",
     "output_type": "stream",
     "text": [
      "apple \n",
      "\n",
      "apple orange \n",
      "\n",
      "apple orange grape \n",
      "\n"
     ]
    }
   ],
   "source": [
    "# ARGumentS\n",
    "def function1( *args ):\n",
    "    for arg in args:\n",
    "        print(arg, end=' ')\n",
    "    print('\\n')\n",
    "        \n",
    "function1(\"apple\")\n",
    "function1(\"apple\", \"orange\")\n",
    "function1(\"apple\", \"orange\", \"grape\")"
   ]
  },
  {
   "cell_type": "code",
   "execution_count": 11,
   "metadata": {},
   "outputs": [
    {
     "name": "stdout",
     "output_type": "stream",
     "text": [
      "apple 2\n",
      "\n",
      "\n",
      "apple 2\n",
      "banana 3\n",
      "\n",
      "\n",
      "apple 2\n",
      "banana 3\n",
      "today Thursday\n",
      "\n",
      "\n"
     ]
    }
   ],
   "source": [
    "# Key Word ARGumentS\n",
    "def function2( **kwargs ):\n",
    "    for key, val in kwargs.items():\n",
    "        print(key, val)\n",
    "    print('\\n')\n",
    "    \n",
    "function2(apple=2)\n",
    "function2(apple=2, banana=3)\n",
    "function2(apple=2, banana=3, today='Thursday')"
   ]
  },
  {
   "cell_type": "code",
   "execution_count": 15,
   "metadata": {},
   "outputs": [
    {
     "name": "stdout",
     "output_type": "stream",
     "text": [
      "name anna\n",
      "age 20\n",
      "\n",
      "\n"
     ]
    }
   ],
   "source": [
    "temp = {'name':'anna', 'age':'20'}\n",
    "\n",
    "function2( **temp )"
   ]
  },
  {
   "cell_type": "code",
   "execution_count": 16,
   "metadata": {},
   "outputs": [
    {
     "name": "stdout",
     "output_type": "stream",
     "text": [
      "a b c d \n",
      "\n"
     ]
    }
   ],
   "source": [
    "l = [\"a\", \"b\", \"c\", \"d\"]\n",
    "function1( *l )"
   ]
  },
  {
   "cell_type": "code",
   "execution_count": 17,
   "metadata": {},
   "outputs": [
    {
     "name": "stdout",
     "output_type": "stream",
     "text": [
      "a b c d\n"
     ]
    }
   ],
   "source": [
    "print( *l )"
   ]
  },
  {
   "cell_type": "code",
   "execution_count": null,
   "metadata": {},
   "outputs": [],
   "source": []
  }
 ],
 "metadata": {
  "kernelspec": {
   "display_name": "Python 3",
   "language": "python",
   "name": "python3"
  },
  "language_info": {
   "codemirror_mode": {
    "name": "ipython",
    "version": 3
   },
   "file_extension": ".py",
   "mimetype": "text/x-python",
   "name": "python",
   "nbconvert_exporter": "python",
   "pygments_lexer": "ipython3",
   "version": "3.7.6"
  }
 },
 "nbformat": 4,
 "nbformat_minor": 4
}
