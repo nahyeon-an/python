{
 "cells": [
  {
   "cell_type": "markdown",
   "metadata": {},
   "source": [
    "# 05. 클래스 (p. 93 - 130)\n",
    "클래스를 사용하는 파이썬 프로젝트를 진행해보자  \n",
    "\n",
    "[python project ideas](https://www.upgrad.com/blog/python-projects-ideas-topics-beginners/)\n",
    "\n",
    "<hr>"
   ]
  },
  {
   "cell_type": "markdown",
   "metadata": {},
   "source": [
    "### 클래스와 인스턴스\n",
    "클래스를 정의 - 독립적인 이름공간이 생성됨 - 멤버 변수, 메소드가 존재<br><br>\n",
    "인스턴스 생성 - 독립적인 이름공간 생성 <br>\n",
    "but 인스턴스의 데이터 변경 전까지 클래스 객체와 데이터/메소드를 공유함<br><br>\n",
    "인스턴스 객체를 통해 변수/함수의 이름을 찾는 순서<br>\n",
    ": 인스턴스 객체 -> 클래스 객체 -> 전역"
   ]
  },
  {
   "cell_type": "code",
   "execution_count": 1,
   "metadata": {},
   "outputs": [],
   "source": [
    "class MyClass:\n",
    "    '''아주 간단한 클래스'''\n",
    "    pass"
   ]
  },
  {
   "cell_type": "code",
   "execution_count": 2,
   "metadata": {},
   "outputs": [
    {
     "data": {
      "text/plain": [
       "['In',\n",
       " 'MyClass',\n",
       " 'Out',\n",
       " '_',\n",
       " '__',\n",
       " '___',\n",
       " '__builtin__',\n",
       " '__builtins__',\n",
       " '__doc__',\n",
       " '__loader__',\n",
       " '__name__',\n",
       " '__package__',\n",
       " '__spec__',\n",
       " '_dh',\n",
       " '_i',\n",
       " '_i1',\n",
       " '_i2',\n",
       " '_ih',\n",
       " '_ii',\n",
       " '_iii',\n",
       " '_oh',\n",
       " 'exit',\n",
       " 'get_ipython',\n",
       " 'quit']"
      ]
     },
     "execution_count": 2,
     "metadata": {},
     "output_type": "execute_result"
    }
   ],
   "source": [
    "dir()\n",
    "# 클래스 선언을 통해 새로운 이름공간이 생성됨"
   ]
  },
  {
   "cell_type": "code",
   "execution_count": 3,
   "metadata": {},
   "outputs": [
    {
     "data": {
      "text/plain": [
       "type"
      ]
     },
     "execution_count": 3,
     "metadata": {},
     "output_type": "execute_result"
    }
   ],
   "source": [
    "type(MyClass) # MyClass 타입 "
   ]
  },
  {
   "cell_type": "code",
   "execution_count": 4,
   "metadata": {},
   "outputs": [],
   "source": [
    "class Person:\n",
    "    name = \"default name\" # 멤버 변수\n",
    "    def print_name(self): # 멤버 메소드\n",
    "        print(\"My name is {}\".format(self.name))"
   ]
  },
  {
   "cell_type": "code",
   "execution_count": 5,
   "metadata": {},
   "outputs": [],
   "source": [
    "p1 = Person() # 인스턴스 생성"
   ]
  },
  {
   "cell_type": "code",
   "execution_count": 6,
   "metadata": {},
   "outputs": [
    {
     "name": "stdout",
     "output_type": "stream",
     "text": [
      "My name is default name\n"
     ]
    }
   ],
   "source": [
    "p1.print_name() "
   ]
  },
  {
   "cell_type": "markdown",
   "metadata": {},
   "source": [
    "<hr>\n",
    "속성접근자 (.) : 멤버 변수, 메소드에 접근<br>\n",
    "멤버 변수/메소드에 대한 기본 접근 권한 : public<br><br>\n",
    "메소드의 첫 인자로 항상 self 를 전달<br>\n",
    "self : 현재 인스턴스 객체를 가리키는 것, this 키워드와 동일"
   ]
  },
  {
   "cell_type": "code",
   "execution_count": 7,
   "metadata": {},
   "outputs": [],
   "source": [
    "p1.name = \"anna\" # 인스턴스의 멤버 변수 값 변경"
   ]
  },
  {
   "cell_type": "code",
   "execution_count": 8,
   "metadata": {},
   "outputs": [
    {
     "name": "stdout",
     "output_type": "stream",
     "text": [
      "My name is anna\n"
     ]
    }
   ],
   "source": [
    "p1.print_name() # 바운드 메소드 호출"
   ]
  },
  {
   "cell_type": "code",
   "execution_count": 9,
   "metadata": {},
   "outputs": [
    {
     "name": "stdout",
     "output_type": "stream",
     "text": [
      "My name is anna\n"
     ]
    }
   ],
   "source": [
    "Person.print_name(p1) # 언바운드 메소드 호출"
   ]
  },
  {
   "cell_type": "markdown",
   "metadata": {},
   "source": [
    "<hr>\n",
    "\n",
    "클래스 객체, 인스턴스 객체에 동적으로 멤버 변수 추가/삭제 가능"
   ]
  },
  {
   "cell_type": "code",
   "execution_count": 10,
   "metadata": {},
   "outputs": [],
   "source": [
    "class Person:\n",
    "    name = \"default\""
   ]
  },
  {
   "cell_type": "code",
   "execution_count": 11,
   "metadata": {},
   "outputs": [],
   "source": [
    "p1 = Person()"
   ]
  },
  {
   "cell_type": "code",
   "execution_count": 12,
   "metadata": {},
   "outputs": [],
   "source": [
    "p2 = Person()"
   ]
  },
  {
   "cell_type": "code",
   "execution_count": 13,
   "metadata": {},
   "outputs": [
    {
     "name": "stdout",
     "output_type": "stream",
     "text": [
      "p1's name: default\n"
     ]
    }
   ],
   "source": [
    "print(\"p1's name:\", p1.name)"
   ]
  },
  {
   "cell_type": "code",
   "execution_count": 14,
   "metadata": {},
   "outputs": [
    {
     "name": "stdout",
     "output_type": "stream",
     "text": [
      "p2's name: default\n"
     ]
    }
   ],
   "source": [
    "print(\"p2's name:\", p2.name)"
   ]
  },
  {
   "cell_type": "code",
   "execution_count": 15,
   "metadata": {},
   "outputs": [],
   "source": [
    "p1.name = \"anna\""
   ]
  },
  {
   "cell_type": "code",
   "execution_count": 16,
   "metadata": {},
   "outputs": [
    {
     "name": "stdout",
     "output_type": "stream",
     "text": [
      "p1's name: anna\n"
     ]
    }
   ],
   "source": [
    "print(\"p1's name:\", p1.name)"
   ]
  },
  {
   "cell_type": "code",
   "execution_count": 17,
   "metadata": {},
   "outputs": [
    {
     "name": "stdout",
     "output_type": "stream",
     "text": [
      "p2;s name: default\n"
     ]
    }
   ],
   "source": [
    "print(\"p2;s name:\", p2.name)"
   ]
  },
  {
   "cell_type": "code",
   "execution_count": 18,
   "metadata": {},
   "outputs": [],
   "source": [
    "Person.title = \"new title\" # 클래스에 새로운 멤버 변수 추가"
   ]
  },
  {
   "cell_type": "code",
   "execution_count": 19,
   "metadata": {},
   "outputs": [
    {
     "name": "stdout",
     "output_type": "stream",
     "text": [
      "p1's title: new title\n"
     ]
    }
   ],
   "source": [
    "print(\"p1's title:\", p1.title)"
   ]
  },
  {
   "cell_type": "code",
   "execution_count": 20,
   "metadata": {},
   "outputs": [
    {
     "name": "stdout",
     "output_type": "stream",
     "text": [
      "p2's title: new title\n"
     ]
    }
   ],
   "source": [
    "print(\"p2's title:\", p2.title)"
   ]
  },
  {
   "cell_type": "code",
   "execution_count": 21,
   "metadata": {},
   "outputs": [
    {
     "name": "stdout",
     "output_type": "stream",
     "text": [
      "Person's title: new title\n"
     ]
    }
   ],
   "source": [
    "print(\"Person's title:\", Person.title)"
   ]
  },
  {
   "cell_type": "code",
   "execution_count": 22,
   "metadata": {},
   "outputs": [],
   "source": [
    "p1.age = 20 # 인스턴스 객체에 새로운 멤버 변수 추가"
   ]
  },
  {
   "cell_type": "code",
   "execution_count": 23,
   "metadata": {},
   "outputs": [
    {
     "name": "stdout",
     "output_type": "stream",
     "text": [
      "p1's age: 20\n"
     ]
    }
   ],
   "source": [
    "print(\"p1's age:\", p1.age)"
   ]
  },
  {
   "cell_type": "code",
   "execution_count": 24,
   "metadata": {},
   "outputs": [
    {
     "ename": "AttributeError",
     "evalue": "'Person' object has no attribute 'age'",
     "output_type": "error",
     "traceback": [
      "\u001b[0;31m---------------------------------------------------------------------------\u001b[0m",
      "\u001b[0;31mAttributeError\u001b[0m                            Traceback (most recent call last)",
      "\u001b[0;32m<ipython-input-24-9534e265e4d8>\u001b[0m in \u001b[0;36m<module>\u001b[0;34m\u001b[0m\n\u001b[0;32m----> 1\u001b[0;31m \u001b[0mprint\u001b[0m\u001b[0;34m(\u001b[0m\u001b[0;34m\"p2's age:\"\u001b[0m\u001b[0;34m,\u001b[0m \u001b[0mp2\u001b[0m\u001b[0;34m.\u001b[0m\u001b[0mage\u001b[0m\u001b[0;34m)\u001b[0m \u001b[0;31m# age 속성을 찾지 못 함\u001b[0m\u001b[0;34m\u001b[0m\u001b[0;34m\u001b[0m\u001b[0m\n\u001b[0m",
      "\u001b[0;31mAttributeError\u001b[0m: 'Person' object has no attribute 'age'"
     ]
    }
   ],
   "source": [
    "print(\"p2's age:\", p2.age) # age 속성을 찾지 못 함"
   ]
  },
  {
   "cell_type": "markdown",
   "metadata": {},
   "source": [
    "<hr>\n",
    "\n",
    "실수 : 클래스 메소드 내에서 self를 통하지 않고 멤버변수 접근<br>\n",
    "동일한 이름의 전역 변수를 접근하는 오류 발생"
   ]
  },
  {
   "cell_type": "code",
   "execution_count": 25,
   "metadata": {},
   "outputs": [],
   "source": [
    "string = \"Not class member\"\n",
    "class GString:\n",
    "    string = \"Class member\"\n",
    "    def set_str(self, msg):\n",
    "        self.string = msg\n",
    "    def print_string(self): \n",
    "        print(string) # 클래스 메소드 내에서 self 를 통해 멤버 변수를 참조하지 않음"
   ]
  },
  {
   "cell_type": "code",
   "execution_count": 26,
   "metadata": {},
   "outputs": [
    {
     "name": "stdout",
     "output_type": "stream",
     "text": [
      "Not class member\n"
     ]
    }
   ],
   "source": [
    "g = GString()\n",
    "g.set_str(\"first message\")\n",
    "g.print_string()"
   ]
  },
  {
   "cell_type": "markdown",
   "metadata": {},
   "source": [
    "<hr>\n",
    "\n",
    "\\_\\_class\\__ : 인스턴스 객체가 자신을 생성한 클래스 객체를 참조/접근"
   ]
  },
  {
   "cell_type": "code",
   "execution_count": 27,
   "metadata": {},
   "outputs": [],
   "source": [
    "class Test:\n",
    "    data = \"default\""
   ]
  },
  {
   "cell_type": "code",
   "execution_count": 28,
   "metadata": {},
   "outputs": [],
   "source": [
    "t1 = Test()\n",
    "t2 = Test()"
   ]
  },
  {
   "cell_type": "code",
   "execution_count": 29,
   "metadata": {},
   "outputs": [],
   "source": [
    "t1.__class__.data = \"change data\" # t1이 공유하는 클래스의 멤버변수가 수정됨"
   ]
  },
  {
   "cell_type": "code",
   "execution_count": 30,
   "metadata": {},
   "outputs": [
    {
     "name": "stdout",
     "output_type": "stream",
     "text": [
      "change data\n"
     ]
    }
   ],
   "source": [
    "print(t1.data)"
   ]
  },
  {
   "cell_type": "code",
   "execution_count": 31,
   "metadata": {},
   "outputs": [
    {
     "name": "stdout",
     "output_type": "stream",
     "text": [
      "change data\n"
     ]
    }
   ],
   "source": [
    "print(t2.data)"
   ]
  },
  {
   "cell_type": "code",
   "execution_count": 32,
   "metadata": {},
   "outputs": [],
   "source": [
    "t2.data = \"change only t2 data\" # t2 인스턴스 객체의 변수만 수정됨"
   ]
  },
  {
   "cell_type": "code",
   "execution_count": 33,
   "metadata": {},
   "outputs": [
    {
     "name": "stdout",
     "output_type": "stream",
     "text": [
      "change data\n"
     ]
    }
   ],
   "source": [
    "print(t1.data)"
   ]
  },
  {
   "cell_type": "code",
   "execution_count": 34,
   "metadata": {},
   "outputs": [
    {
     "name": "stdout",
     "output_type": "stream",
     "text": [
      "change only t2 data\n"
     ]
    }
   ],
   "source": [
    "print(t2.data)"
   ]
  },
  {
   "cell_type": "code",
   "execution_count": 35,
   "metadata": {},
   "outputs": [
    {
     "name": "stdout",
     "output_type": "stream",
     "text": [
      "change data\n"
     ]
    }
   ],
   "source": [
    "print(t2.__class__.data)"
   ]
  },
  {
   "cell_type": "markdown",
   "metadata": {},
   "source": [
    "<hr>\n",
    "\n",
    "### isinstance() 함수\n",
    "인스턴스 객체가 어떤 클래스로부터 생성되었는지 확인<br>\n",
    "isinstance( 인스턴스객체, 클래스객체 ) - return : boolean<br><br>\n",
    "상속관계 : 자식 클래스의 인스턴스는 부모 클래스의 인스턴스로 평가됨(true)<br>\n",
    "상속을 명시적으로 지정하지 않으면 모두 object 객체를 상속 "
   ]
  },
  {
   "cell_type": "code",
   "execution_count": 36,
   "metadata": {},
   "outputs": [],
   "source": [
    "class Person:\n",
    "    pass\n",
    "\n",
    "class Bird:\n",
    "    pass\n",
    "\n",
    "class Student(Person): # Person 클래스를 상속\n",
    "    pass"
   ]
  },
  {
   "cell_type": "code",
   "execution_count": 37,
   "metadata": {},
   "outputs": [],
   "source": [
    "p, s = Person(), Student()"
   ]
  },
  {
   "cell_type": "code",
   "execution_count": 38,
   "metadata": {},
   "outputs": [
    {
     "name": "stdout",
     "output_type": "stream",
     "text": [
      "p is instance of Person:  True\n"
     ]
    }
   ],
   "source": [
    "print(\"p is instance of Person: \", isinstance(p, Person))"
   ]
  },
  {
   "cell_type": "code",
   "execution_count": 39,
   "metadata": {},
   "outputs": [
    {
     "name": "stdout",
     "output_type": "stream",
     "text": [
      "s is instance of Person:  True\n"
     ]
    }
   ],
   "source": [
    "print(\"s is instance of Person: \", isinstance(s, Person))\n",
    "# 부모 클래스의 인스턴스로 평가됨"
   ]
  },
  {
   "cell_type": "code",
   "execution_count": 40,
   "metadata": {},
   "outputs": [
    {
     "name": "stdout",
     "output_type": "stream",
     "text": [
      "p is instance of object:  True\n"
     ]
    }
   ],
   "source": [
    "print(\"p is instance of object: \", isinstance(p, object))"
   ]
  },
  {
   "cell_type": "code",
   "execution_count": 41,
   "metadata": {},
   "outputs": [
    {
     "name": "stdout",
     "output_type": "stream",
     "text": [
      "p is instance of Bird:  False\n"
     ]
    }
   ],
   "source": [
    "print(\"p is instance of Bird: \", isinstance(p, Bird))"
   ]
  },
  {
   "cell_type": "code",
   "execution_count": 42,
   "metadata": {},
   "outputs": [
    {
     "name": "stdout",
     "output_type": "stream",
     "text": [
      "int is instance of object:  True\n"
     ]
    }
   ],
   "source": [
    "print(\"int is instance of object: \", isinstance(int, object))"
   ]
  },
  {
   "cell_type": "markdown",
   "metadata": {},
   "source": [
    "<hr>\n",
    "\n",
    "### 생성자, 소멸자\n",
    "생성자 메소드 : 인스턴스 생성 시 초기화 작업<br>\n",
    "- 인스턴스 생성 시 자동 호출<br><br>\n",
    "\n",
    "소멸자 메소드 : 메모리 해제 등의 종료 작업<br>\n",
    "- 인스턴스 객체의 레퍼런스 카운터가 0일 때 호출<br>"
   ]
  },
  {
   "cell_type": "code",
   "execution_count": 43,
   "metadata": {},
   "outputs": [],
   "source": [
    "class MyClass:\n",
    "    # 생성자\n",
    "    def __init__(self, value):\n",
    "        self.value = value\n",
    "        print(\"Class is created. value = \", value)\n",
    "    \n",
    "    # 소멸자\n",
    "    def __del__(self):\n",
    "        print(\"Class is deleted.\")"
   ]
  },
  {
   "cell_type": "code",
   "execution_count": 44,
   "metadata": {},
   "outputs": [],
   "source": [
    "def f():\n",
    "    d = MyClass(10)"
   ]
  },
  {
   "cell_type": "code",
   "execution_count": 45,
   "metadata": {},
   "outputs": [
    {
     "name": "stdout",
     "output_type": "stream",
     "text": [
      "Class is created. value =  10\n",
      "Class is deleted.\n"
     ]
    }
   ],
   "source": [
    "f()"
   ]
  },
  {
   "cell_type": "code",
   "execution_count": 46,
   "metadata": {},
   "outputs": [
    {
     "name": "stdout",
     "output_type": "stream",
     "text": [
      "Class is created. value =  30\n"
     ]
    }
   ],
   "source": [
    "c = MyClass(30) # 레퍼런스 카운터 : 1"
   ]
  },
  {
   "cell_type": "code",
   "execution_count": 47,
   "metadata": {},
   "outputs": [],
   "source": [
    "c_copy = c # 레퍼런스 카운터 : 2"
   ]
  },
  {
   "cell_type": "code",
   "execution_count": 48,
   "metadata": {},
   "outputs": [],
   "source": [
    "del c # 레퍼런스 카운터 : 1"
   ]
  },
  {
   "cell_type": "code",
   "execution_count": 49,
   "metadata": {},
   "outputs": [
    {
     "name": "stdout",
     "output_type": "stream",
     "text": [
      "Class is deleted.\n"
     ]
    }
   ],
   "source": [
    "del c_copy # 레퍼런스 카운터 : 0 - 소멸자 호출"
   ]
  },
  {
   "cell_type": "markdown",
   "metadata": {},
   "source": [
    "<hr>\n",
    "\n",
    "### __ 키워드\n",
    "\n",
    "\\_CounterManager__insCount 로 접근하여 변수 변경 가능<br>\n",
    "but private 변수라는 의미를 담으므로 그렇게 사용하지 X"
   ]
  },
  {
   "cell_type": "code",
   "execution_count": 50,
   "metadata": {},
   "outputs": [],
   "source": [
    "class CounterManager:\n",
    "    insCount = 0\n",
    "    def __init__(self):\n",
    "        CounterManager.insCount += 1\n",
    "    def printInstanceCount():\n",
    "        print(\"Instance count:\", CounterManager.insCount)"
   ]
  },
  {
   "cell_type": "code",
   "execution_count": 51,
   "metadata": {},
   "outputs": [],
   "source": [
    "a, b, c = CounterManager(), CounterManager(), CounterManager()"
   ]
  },
  {
   "cell_type": "code",
   "execution_count": 52,
   "metadata": {},
   "outputs": [
    {
     "name": "stdout",
     "output_type": "stream",
     "text": [
      "Instance count: 3\n"
     ]
    }
   ],
   "source": [
    "CounterManager.printInstanceCount() # 클래스를 통한 호출은 정상"
   ]
  },
  {
   "cell_type": "code",
   "execution_count": 53,
   "metadata": {},
   "outputs": [
    {
     "ename": "TypeError",
     "evalue": "printInstanceCount() takes 0 positional arguments but 1 was given",
     "output_type": "error",
     "traceback": [
      "\u001b[0;31m---------------------------------------------------------------------------\u001b[0m",
      "\u001b[0;31mTypeError\u001b[0m                                 Traceback (most recent call last)",
      "\u001b[0;32m<ipython-input-53-472c59a82213>\u001b[0m in \u001b[0;36m<module>\u001b[0;34m\u001b[0m\n\u001b[0;32m----> 1\u001b[0;31m \u001b[0mb\u001b[0m\u001b[0;34m.\u001b[0m\u001b[0mprintInstanceCount\u001b[0m\u001b[0;34m(\u001b[0m\u001b[0;34m)\u001b[0m \u001b[0;31m# 암묵적으로 인스턴스 객체를 받아서 에러 발생\u001b[0m\u001b[0;34m\u001b[0m\u001b[0;34m\u001b[0m\u001b[0m\n\u001b[0m",
      "\u001b[0;31mTypeError\u001b[0m: printInstanceCount() takes 0 positional arguments but 1 was given"
     ]
    }
   ],
   "source": [
    "b.printInstanceCount() # 암묵적으로 인스턴스 객체를 받아서 에러 발생"
   ]
  },
  {
   "cell_type": "code",
   "execution_count": 54,
   "metadata": {},
   "outputs": [],
   "source": [
    "class CounterManager:\n",
    "    insCount = 0\n",
    "    def __init__(self): # self : 인스턴스 객체\n",
    "        CounterManager.insCount += 1\n",
    "        \n",
    "    def staticPrintCount():\n",
    "        print(\"Instance count:\", CounterManager.insCount)\n",
    "    static_print = staticmethod(staticPrintCount) # 정적 메소드로 등록\n",
    "    \n",
    "    def classPrintCount(cls): # cls : 클래스 객체\n",
    "        print(\"Instance count:\", cls.insCount)\n",
    "    class_print = classmethod(classPrintCount) # 클래스 메소드로 등록"
   ]
  },
  {
   "cell_type": "code",
   "execution_count": 55,
   "metadata": {},
   "outputs": [],
   "source": [
    "a, b, c = CounterManager(), CounterManager(), CounterManager()"
   ]
  },
  {
   "cell_type": "code",
   "execution_count": 56,
   "metadata": {},
   "outputs": [
    {
     "name": "stdout",
     "output_type": "stream",
     "text": [
      "Instance count: 3\n"
     ]
    }
   ],
   "source": [
    "CounterManager.static_print() # 등록한 이름으로 호출해야 함"
   ]
  },
  {
   "cell_type": "code",
   "execution_count": 57,
   "metadata": {},
   "outputs": [
    {
     "name": "stdout",
     "output_type": "stream",
     "text": [
      "Instance count: 3\n"
     ]
    }
   ],
   "source": [
    "b.static_print()"
   ]
  },
  {
   "cell_type": "code",
   "execution_count": 58,
   "metadata": {},
   "outputs": [
    {
     "name": "stdout",
     "output_type": "stream",
     "text": [
      "Instance count: 3\n"
     ]
    }
   ],
   "source": [
    "CounterManager.class_print()"
   ]
  },
  {
   "cell_type": "code",
   "execution_count": 59,
   "metadata": {},
   "outputs": [
    {
     "name": "stdout",
     "output_type": "stream",
     "text": [
      "Instance count: 3\n"
     ]
    }
   ],
   "source": [
    "b.class_print()"
   ]
  },
  {
   "cell_type": "code",
   "execution_count": 60,
   "metadata": {},
   "outputs": [],
   "source": [
    "class CounterManager:\n",
    "    __insCount = 0 # private 변수라는 의미를 나타냄\n",
    "    \n",
    "    def __init__(self): \n",
    "        CounterManager.__insCount += 1 # __ 를 붙여서 접근해야 함\n",
    "        \n",
    "    def staticPrintCount():\n",
    "        print(\"Instance count:\", CounterManager.__insCount)\n",
    "    static_print = staticmethod(staticPrintCount) "
   ]
  },
  {
   "cell_type": "code",
   "execution_count": 61,
   "metadata": {},
   "outputs": [],
   "source": [
    "a, b, c = CounterManager(), CounterManager(), CounterManager()"
   ]
  },
  {
   "cell_type": "code",
   "execution_count": 62,
   "metadata": {},
   "outputs": [
    {
     "name": "stdout",
     "output_type": "stream",
     "text": [
      "Instance count: 3\n"
     ]
    }
   ],
   "source": [
    "CounterManager.static_print()"
   ]
  },
  {
   "cell_type": "code",
   "execution_count": 63,
   "metadata": {},
   "outputs": [
    {
     "ename": "AttributeError",
     "evalue": "type object 'CounterManager' has no attribute '__insCount'",
     "output_type": "error",
     "traceback": [
      "\u001b[0;31m---------------------------------------------------------------------------\u001b[0m",
      "\u001b[0;31mAttributeError\u001b[0m                            Traceback (most recent call last)",
      "\u001b[0;32m<ipython-input-63-085df3c6829b>\u001b[0m in \u001b[0;36m<module>\u001b[0;34m\u001b[0m\n\u001b[0;32m----> 1\u001b[0;31m \u001b[0mprint\u001b[0m\u001b[0;34m(\u001b[0m\u001b[0mCounterManager\u001b[0m\u001b[0;34m.\u001b[0m\u001b[0m__insCount\u001b[0m\u001b[0;34m)\u001b[0m\u001b[0;34m\u001b[0m\u001b[0;34m\u001b[0m\u001b[0m\n\u001b[0m",
      "\u001b[0;31mAttributeError\u001b[0m: type object 'CounterManager' has no attribute '__insCount'"
     ]
    }
   ],
   "source": [
    "print(CounterManager.__insCount)"
   ]
  },
  {
   "cell_type": "code",
   "execution_count": 64,
   "metadata": {},
   "outputs": [
    {
     "data": {
      "text/plain": [
       "['_CounterManager__insCount',\n",
       " '__class__',\n",
       " '__delattr__',\n",
       " '__dict__',\n",
       " '__dir__',\n",
       " '__doc__',\n",
       " '__eq__',\n",
       " '__format__',\n",
       " '__ge__',\n",
       " '__getattribute__',\n",
       " '__gt__',\n",
       " '__hash__',\n",
       " '__init__',\n",
       " '__init_subclass__',\n",
       " '__le__',\n",
       " '__lt__',\n",
       " '__module__',\n",
       " '__ne__',\n",
       " '__new__',\n",
       " '__reduce__',\n",
       " '__reduce_ex__',\n",
       " '__repr__',\n",
       " '__setattr__',\n",
       " '__sizeof__',\n",
       " '__str__',\n",
       " '__subclasshook__',\n",
       " '__weakref__',\n",
       " 'staticPrintCount',\n",
       " 'static_print']"
      ]
     },
     "execution_count": 64,
     "metadata": {},
     "output_type": "execute_result"
    }
   ],
   "source": [
    "dir(CounterManager)"
   ]
  },
  {
   "cell_type": "markdown",
   "metadata": {},
   "source": [
    "<hr>\n",
    "\n",
    "### 연산자 재정의( Over-Loading)\n",
    ": 미리 정의된 메소드를 재정의하여 연산자 동작을 변경<br>\n",
    "미리 정의된 메소드가 여러개 존재"
   ]
  },
  {
   "cell_type": "code",
   "execution_count": 65,
   "metadata": {},
   "outputs": [],
   "source": [
    "class GString:\n",
    "    def __init__(self, init=None):\n",
    "        self.content = init\n",
    "        \n",
    "    def __sub__(self, string): # 연산자 오버로딩\n",
    "        for i in string:\n",
    "            self.content = self.content.replace(i, '')\n",
    "        return GString(self.content)\n",
    "    \n",
    "    def remove(self, string):\n",
    "        return self.__sub__(string)"
   ]
  },
  {
   "cell_type": "code",
   "execution_count": 66,
   "metadata": {},
   "outputs": [],
   "source": [
    "g = GString(\"ABCDEFGabcdefg\")"
   ]
  },
  {
   "cell_type": "code",
   "execution_count": 67,
   "metadata": {},
   "outputs": [
    {
     "data": {
      "text/plain": [
       "<__main__.GString at 0x7feee1252dd0>"
      ]
     },
     "execution_count": 67,
     "metadata": {},
     "output_type": "execute_result"
    }
   ],
   "source": [
    "g - \"apple\""
   ]
  },
  {
   "cell_type": "code",
   "execution_count": 68,
   "metadata": {},
   "outputs": [
    {
     "data": {
      "text/plain": [
       "<__main__.GString at 0x7feee1286b10>"
      ]
     },
     "execution_count": 68,
     "metadata": {},
     "output_type": "execute_result"
    }
   ],
   "source": [
    "g.remove(\"apple\")"
   ]
  },
  {
   "cell_type": "code",
   "execution_count": 69,
   "metadata": {},
   "outputs": [
    {
     "ename": "TypeError",
     "evalue": "unsupported operand type(s) for +: 'GString' and 'str'",
     "output_type": "error",
     "traceback": [
      "\u001b[0;31m---------------------------------------------------------------------------\u001b[0m",
      "\u001b[0;31mTypeError\u001b[0m                                 Traceback (most recent call last)",
      "\u001b[0;32m<ipython-input-69-f76776d3ef48>\u001b[0m in \u001b[0;36m<module>\u001b[0;34m\u001b[0m\n\u001b[0;32m----> 1\u001b[0;31m \u001b[0mg\u001b[0m \u001b[0;34m+\u001b[0m \u001b[0;34m\"apple\"\u001b[0m \u001b[0;31m# 재정의 되지 않음\u001b[0m\u001b[0;34m\u001b[0m\u001b[0;34m\u001b[0m\u001b[0m\n\u001b[0m",
      "\u001b[0;31mTypeError\u001b[0m: unsupported operand type(s) for +: 'GString' and 'str'"
     ]
    }
   ],
   "source": [
    "g + \"apple\" # 재정의 되지 않음"
   ]
  },
  {
   "cell_type": "code",
   "execution_count": 70,
   "metadata": {},
   "outputs": [],
   "source": [
    "class GString:\n",
    "    '''\n",
    "    - 연산자, abs() 내장 함수를 오버로딩하는 클래스\n",
    "    '''\n",
    "    def __init__(self, init=None):\n",
    "        self.content = init\n",
    "        \n",
    "    def __sub__(self, string): # 연산자 오버로딩\n",
    "        for i in string:\n",
    "            self.content = self.content.replace(i, '')\n",
    "        return GString(self.content)\n",
    "    \n",
    "    def __abs__(self):\n",
    "        return GString(self.content.upper())\n",
    "    \n",
    "    def print_content(self):\n",
    "        print(self.content)"
   ]
  },
  {
   "cell_type": "code",
   "execution_count": 71,
   "metadata": {},
   "outputs": [],
   "source": [
    "g = GString(\"aBcdef\")"
   ]
  },
  {
   "cell_type": "code",
   "execution_count": 72,
   "metadata": {},
   "outputs": [],
   "source": [
    "g -= \"df\""
   ]
  },
  {
   "cell_type": "code",
   "execution_count": 73,
   "metadata": {},
   "outputs": [
    {
     "name": "stdout",
     "output_type": "stream",
     "text": [
      "aBce\n"
     ]
    }
   ],
   "source": [
    "g.print_content()"
   ]
  },
  {
   "cell_type": "code",
   "execution_count": 74,
   "metadata": {},
   "outputs": [],
   "source": [
    "g = abs(g)"
   ]
  },
  {
   "cell_type": "code",
   "execution_count": 75,
   "metadata": {},
   "outputs": [
    {
     "name": "stdout",
     "output_type": "stream",
     "text": [
      "ABCE\n"
     ]
    }
   ],
   "source": [
    "g.print_content()"
   ]
  },
  {
   "cell_type": "code",
   "execution_count": 76,
   "metadata": {},
   "outputs": [],
   "source": [
    "class GString:\n",
    "    '''\n",
    "    - 연산자, -= 연산자를 오버로딩하는 클래스\n",
    "    '''\n",
    "    def __init__(self, init=None):\n",
    "        self.content = init\n",
    "        \n",
    "    def __sub__(self, string): # 연산자 오버로딩\n",
    "        print(\"- operator is called\")\n",
    "    \n",
    "    def __isub__(self, string):\n",
    "        print(\"-= operator is called\")"
   ]
  },
  {
   "cell_type": "code",
   "execution_count": 77,
   "metadata": {},
   "outputs": [],
   "source": [
    "g = GString(\"aBcdef\")"
   ]
  },
  {
   "cell_type": "code",
   "execution_count": 78,
   "metadata": {},
   "outputs": [
    {
     "name": "stdout",
     "output_type": "stream",
     "text": [
      "- operator is called\n"
     ]
    }
   ],
   "source": [
    "g - \"a\""
   ]
  },
  {
   "cell_type": "code",
   "execution_count": 79,
   "metadata": {},
   "outputs": [
    {
     "name": "stdout",
     "output_type": "stream",
     "text": [
      "-= operator is called\n"
     ]
    }
   ],
   "source": [
    "g -= \"a\""
   ]
  },
  {
   "cell_type": "code",
   "execution_count": 80,
   "metadata": {},
   "outputs": [],
   "source": [
    "class Sequencer:\n",
    "    '''\n",
    "    시퀀스 객체\n",
    "    인덱스 값 * 10을 반환\n",
    "    '''\n",
    "    def __init__(self, maxValue):\n",
    "        self.maxValue = maxValue\n",
    "        \n",
    "    def __len__(self):\n",
    "        return self.maxValue\n",
    "    \n",
    "    def __getitem__(self, index): # 인덱스로 아이템 값에 접근, self[index]\n",
    "        if 0 < index <= self.maxValue:\n",
    "            return index * 10\n",
    "        else:\n",
    "            # raise : 사용자가 직접 예외를 발생시킴\n",
    "            raise IndexError(\"index out of range\")\n",
    "        \n",
    "    def __contains__(self, item): # item in self\n",
    "        return 0 < item <= self.maxValue"
   ]
  },
  {
   "cell_type": "code",
   "execution_count": 81,
   "metadata": {},
   "outputs": [],
   "source": [
    "s = Sequencer(5)"
   ]
  },
  {
   "cell_type": "code",
   "execution_count": 82,
   "metadata": {},
   "outputs": [
    {
     "data": {
      "text/plain": [
       "10"
      ]
     },
     "execution_count": 82,
     "metadata": {},
     "output_type": "execute_result"
    }
   ],
   "source": [
    "s[1]"
   ]
  },
  {
   "cell_type": "code",
   "execution_count": 83,
   "metadata": {},
   "outputs": [
    {
     "data": {
      "text/plain": [
       "30"
      ]
     },
     "execution_count": 83,
     "metadata": {},
     "output_type": "execute_result"
    }
   ],
   "source": [
    "s[3]"
   ]
  },
  {
   "cell_type": "code",
   "execution_count": 84,
   "metadata": {},
   "outputs": [
    {
     "data": {
      "text/plain": [
       "[10, 20, 30, 40, 50]"
      ]
     },
     "execution_count": 84,
     "metadata": {},
     "output_type": "execute_result"
    }
   ],
   "source": [
    "[ s[i] for i in range(1, 6) ]"
   ]
  },
  {
   "cell_type": "code",
   "execution_count": 85,
   "metadata": {},
   "outputs": [
    {
     "data": {
      "text/plain": [
       "5"
      ]
     },
     "execution_count": 85,
     "metadata": {},
     "output_type": "execute_result"
    }
   ],
   "source": [
    "len(s)"
   ]
  },
  {
   "cell_type": "code",
   "execution_count": 86,
   "metadata": {},
   "outputs": [
    {
     "data": {
      "text/plain": [
       "True"
      ]
     },
     "execution_count": 86,
     "metadata": {},
     "output_type": "execute_result"
    }
   ],
   "source": [
    "3 in s"
   ]
  },
  {
   "cell_type": "code",
   "execution_count": 87,
   "metadata": {},
   "outputs": [
    {
     "data": {
      "text/plain": [
       "False"
      ]
     },
     "execution_count": 87,
     "metadata": {},
     "output_type": "execute_result"
    }
   ],
   "source": [
    "7 in s"
   ]
  },
  {
   "cell_type": "code",
   "execution_count": 88,
   "metadata": {},
   "outputs": [
    {
     "ename": "IndexError",
     "evalue": "index out of range",
     "output_type": "error",
     "traceback": [
      "\u001b[0;31m---------------------------------------------------------------------------\u001b[0m",
      "\u001b[0;31mIndexError\u001b[0m                                Traceback (most recent call last)",
      "\u001b[0;32m<ipython-input-88-b035325af127>\u001b[0m in \u001b[0;36m<module>\u001b[0;34m\u001b[0m\n\u001b[0;32m----> 1\u001b[0;31m \u001b[0ms\u001b[0m\u001b[0;34m[\u001b[0m\u001b[0;36m7\u001b[0m\u001b[0;34m]\u001b[0m\u001b[0;34m\u001b[0m\u001b[0;34m\u001b[0m\u001b[0m\n\u001b[0m",
      "\u001b[0;32m<ipython-input-80-10b2bb3ff85e>\u001b[0m in \u001b[0;36m__getitem__\u001b[0;34m(self, index)\u001b[0m\n\u001b[1;32m     15\u001b[0m         \u001b[0;32melse\u001b[0m\u001b[0;34m:\u001b[0m\u001b[0;34m\u001b[0m\u001b[0;34m\u001b[0m\u001b[0m\n\u001b[1;32m     16\u001b[0m             \u001b[0;31m# raise : 사용자가 직접 예외를 발생시킴\u001b[0m\u001b[0;34m\u001b[0m\u001b[0;34m\u001b[0m\u001b[0;34m\u001b[0m\u001b[0m\n\u001b[0;32m---> 17\u001b[0;31m             \u001b[0;32mraise\u001b[0m \u001b[0mIndexError\u001b[0m\u001b[0;34m(\u001b[0m\u001b[0;34m\"index out of range\"\u001b[0m\u001b[0;34m)\u001b[0m\u001b[0;34m\u001b[0m\u001b[0;34m\u001b[0m\u001b[0m\n\u001b[0m\u001b[1;32m     18\u001b[0m \u001b[0;34m\u001b[0m\u001b[0m\n\u001b[1;32m     19\u001b[0m     \u001b[0;32mdef\u001b[0m \u001b[0m__contains__\u001b[0m\u001b[0;34m(\u001b[0m\u001b[0mself\u001b[0m\u001b[0;34m,\u001b[0m \u001b[0mitem\u001b[0m\u001b[0;34m)\u001b[0m\u001b[0;34m:\u001b[0m \u001b[0;31m# item in self\u001b[0m\u001b[0;34m\u001b[0m\u001b[0;34m\u001b[0m\u001b[0m\n",
      "\u001b[0;31mIndexError\u001b[0m: index out of range"
     ]
    }
   ],
   "source": [
    "s[7]"
   ]
  },
  {
   "cell_type": "markdown",
   "metadata": {},
   "source": [
    "<hr>\n",
    "\n",
    "### 상속\n",
    "부모 클래스의 데이터, 메소드를 자식 클래스에게 물려줄 수 있다.<br>\n",
    "여러 클래스의 공통 속성을 부모 클래스에 정의<br>\n",
    "자식/하위 클래스에서 그에 특화된 메소드, 데이터를 정의<br><br>\n",
    "issubclass() : 두 클래스 간의 상속 관계를 확인하는 함수<br>\n",
    "issubclass( 자식클래스, 부모클래스 )"
   ]
  },
  {
   "cell_type": "code",
   "execution_count": 89,
   "metadata": {},
   "outputs": [],
   "source": [
    "class Person:\n",
    "    ''' 부모 클래스 '''\n",
    "    def __init__(self, name, phoneNumber):\n",
    "        self.name = name\n",
    "        self.phoneNumber = phoneNumber\n",
    "        \n",
    "    def print_info(self):\n",
    "        print(\"Info(name: {}, phone number: {})\".formate(self.name, self.phoneNumber))\n",
    "        \n",
    "    def print_person_data(self):\n",
    "        print(\"Person(name: {}, phone number: {})\".format(self.name, self.phoneNumber))\n",
    "        \n",
    "class Student(Person):\n",
    "    ''' 자식 클래스 '''\n",
    "    def __init__(self, name, phoneNumber, subject, studentId):\n",
    "        self.name = name\n",
    "        self.phoneNumber = phoneNumber\n",
    "        self.subject = subject\n",
    "        self.studentId = studentId"
   ]
  },
  {
   "cell_type": "code",
   "execution_count": 90,
   "metadata": {},
   "outputs": [],
   "source": [
    "p = Person(\"Emily\", \"010-123-4567\")\n",
    "s = Student(\"Anna\", \"010-987-6543\", \"Computer Science\", \"980923\")"
   ]
  },
  {
   "cell_type": "code",
   "execution_count": 91,
   "metadata": {},
   "outputs": [
    {
     "data": {
      "text/plain": [
       "{'name': 'Emily', 'phoneNumber': '010-123-4567'}"
      ]
     },
     "execution_count": 91,
     "metadata": {},
     "output_type": "execute_result"
    }
   ],
   "source": [
    "p.__dict__ # 클래스 정보를 dict형으로 관리"
   ]
  },
  {
   "cell_type": "code",
   "execution_count": 92,
   "metadata": {},
   "outputs": [
    {
     "data": {
      "text/plain": [
       "{'name': 'Anna',\n",
       " 'phoneNumber': '010-987-6543',\n",
       " 'subject': 'Computer Science',\n",
       " 'studentId': '980923'}"
      ]
     },
     "execution_count": 92,
     "metadata": {},
     "output_type": "execute_result"
    }
   ],
   "source": [
    "s.__dict__"
   ]
  },
  {
   "cell_type": "code",
   "execution_count": 93,
   "metadata": {},
   "outputs": [
    {
     "data": {
      "text/plain": [
       "True"
      ]
     },
     "execution_count": 93,
     "metadata": {},
     "output_type": "execute_result"
    }
   ],
   "source": [
    "issubclass(Student, Person)"
   ]
  },
  {
   "cell_type": "code",
   "execution_count": 94,
   "metadata": {},
   "outputs": [
    {
     "data": {
      "text/plain": [
       "False"
      ]
     },
     "execution_count": 94,
     "metadata": {},
     "output_type": "execute_result"
    }
   ],
   "source": [
    "issubclass(Person, Student)"
   ]
  },
  {
   "cell_type": "code",
   "execution_count": 95,
   "metadata": {},
   "outputs": [
    {
     "data": {
      "text/plain": [
       "True"
      ]
     },
     "execution_count": 95,
     "metadata": {},
     "output_type": "execute_result"
    }
   ],
   "source": [
    "issubclass(Person, Person) # 자기 자신은 항상 true"
   ]
  },
  {
   "cell_type": "code",
   "execution_count": 96,
   "metadata": {},
   "outputs": [
    {
     "data": {
      "text/plain": [
       "True"
      ]
     },
     "execution_count": 96,
     "metadata": {},
     "output_type": "execute_result"
    }
   ],
   "source": [
    "issubclass(Person, object)"
   ]
  },
  {
   "cell_type": "code",
   "execution_count": 97,
   "metadata": {},
   "outputs": [
    {
     "data": {
      "text/plain": [
       "True"
      ]
     },
     "execution_count": 97,
     "metadata": {},
     "output_type": "execute_result"
    }
   ],
   "source": [
    "issubclass(Student, object)"
   ]
  },
  {
   "cell_type": "markdown",
   "metadata": {},
   "source": [
    "<hr>\n",
    "\n",
    "파이썬에서는 명시적으로 부모 클래스의 생성자를 호출해야 함<br>\n",
    "자식 클래스는 멤버 변수, 메소드 모두 상속 받음"
   ]
  },
  {
   "cell_type": "code",
   "execution_count": 98,
   "metadata": {},
   "outputs": [],
   "source": [
    "class Person:\n",
    "    ''' 부모 클래스 '''\n",
    "    def __init__(self, name, phoneNumber):\n",
    "        self.name = name\n",
    "        self.phoneNumber = phoneNumber\n",
    "        \n",
    "    def print_info(self):\n",
    "        print(\"Info(name: {}, phone number: {})\".formate(self.name, self.phoneNumber))\n",
    "        \n",
    "    def print_person_data(self):\n",
    "        print(\"Person(name: {}, phone number: {})\".format(self.name, self.phoneNumber))\n",
    "        \n",
    "class Student(Person):\n",
    "    ''' 자식 클래스 '''\n",
    "    def __init__(self, name, phoneNumber, subject, studentId):\n",
    "        Person.__init__(self, name, phoneNumber) # 부모 클래스의 생성자 호출\n",
    "        self.subject = subject\n",
    "        self.studentId = studentId\n",
    "        \n",
    "    def print_student(self): # 자식 클래스에 메소드 추가 \n",
    "        print(\"Student(subject: {}, student id: {})\".format(self.subject, self.studentId))"
   ]
  },
  {
   "cell_type": "code",
   "execution_count": 99,
   "metadata": {},
   "outputs": [],
   "source": [
    "s = Student(\"Emily\", \"010-123-4567\", \"Computer Engineering\", \"980427\")"
   ]
  },
  {
   "cell_type": "code",
   "execution_count": 100,
   "metadata": {},
   "outputs": [
    {
     "name": "stdout",
     "output_type": "stream",
     "text": [
      "Person(name: Emily, phone number: 010-123-4567)\n"
     ]
    }
   ],
   "source": [
    "s.print_person_data()"
   ]
  },
  {
   "cell_type": "code",
   "execution_count": 101,
   "metadata": {},
   "outputs": [
    {
     "name": "stdout",
     "output_type": "stream",
     "text": [
      "Student(subject: Computer Engineering, student id: 980427)\n"
     ]
    }
   ],
   "source": [
    "s.print_student()"
   ]
  },
  {
   "cell_type": "code",
   "execution_count": 102,
   "metadata": {},
   "outputs": [
    {
     "data": {
      "text/plain": [
       "['__class__',\n",
       " '__delattr__',\n",
       " '__dict__',\n",
       " '__dir__',\n",
       " '__doc__',\n",
       " '__eq__',\n",
       " '__format__',\n",
       " '__ge__',\n",
       " '__getattribute__',\n",
       " '__gt__',\n",
       " '__hash__',\n",
       " '__init__',\n",
       " '__init_subclass__',\n",
       " '__le__',\n",
       " '__lt__',\n",
       " '__module__',\n",
       " '__ne__',\n",
       " '__new__',\n",
       " '__reduce__',\n",
       " '__reduce_ex__',\n",
       " '__repr__',\n",
       " '__setattr__',\n",
       " '__sizeof__',\n",
       " '__str__',\n",
       " '__subclasshook__',\n",
       " '__weakref__',\n",
       " 'name',\n",
       " 'phoneNumber',\n",
       " 'print_info',\n",
       " 'print_person_data',\n",
       " 'print_student',\n",
       " 'studentId',\n",
       " 'subject']"
      ]
     },
     "execution_count": 102,
     "metadata": {},
     "output_type": "execute_result"
    }
   ],
   "source": [
    "dir(s) # 상속받은 변수, 메소드 모두 접근 가능"
   ]
  },
  {
   "cell_type": "markdown",
   "metadata": {},
   "source": [
    "<hr>\n",
    "\n",
    "### 메소드 재정의 ( Method Overriding ) \n",
    "부모 클래스의 메소드를 자식 클래스에서 재정의<br>\n",
    "두 메소드의 이름만 같으면 성립<br>\n",
    "(이름 공간의 속성 정보가 dict 형으로 관리되기 때문)<br>"
   ]
  },
  {
   "cell_type": "code",
   "execution_count": 103,
   "metadata": {},
   "outputs": [],
   "source": [
    "class Person:\n",
    "    ''' 부모 클래스 '''\n",
    "    def __init__(self, name, phoneNumber):\n",
    "        self.name = name\n",
    "        self.phoneNumber = phoneNumber\n",
    "        \n",
    "    def print_info(self):\n",
    "        print(\"Info(name: {}, phone number: {})\".format(self.name, self.phoneNumber))\n",
    "        \n",
    "    def print_person_data(self):\n",
    "        print(\"Person(name: {}, phone number: {})\".format(self.name, self.phoneNumber))\n",
    "        \n",
    "class Student(Person):\n",
    "    ''' 자식 클래스 '''\n",
    "    def __init__(self, name, phoneNumber, subject, studentId):\n",
    "        Person.__init__(self, name, phoneNumber) # 부모 클래스의 생성자 호출\n",
    "        self.subject = subject\n",
    "        self.studentId = studentId\n",
    "        \n",
    "    def print_student(self): # 자식 클래스에 메소드 추가 \n",
    "        print(\"Student(subject: {}, student id: {})\".format(self.subject, self.studentId))\n",
    "        \n",
    "    def print_info(self): # 부모 클래스의 메소드를 재정의 (Method Overriding)\n",
    "        print(\"Info(name: {}, phone number: {})\".format(self.name, self.phoneNumber))\n",
    "        print(\"Info(subject: {}, student id: {})\".format(self.subject, self.studentId))"
   ]
  },
  {
   "cell_type": "code",
   "execution_count": 104,
   "metadata": {},
   "outputs": [],
   "source": [
    "s = Student(\"Anna\", \"010-987-6543\", \"Computer Science\", \"980923\")"
   ]
  },
  {
   "cell_type": "code",
   "execution_count": 105,
   "metadata": {},
   "outputs": [
    {
     "name": "stdout",
     "output_type": "stream",
     "text": [
      "Info(name: Anna, phone number: 010-987-6543)\n",
      "Info(subject: Computer Science, student id: 980923)\n"
     ]
    }
   ],
   "source": [
    "s.print_info() # overriding 된 메소드를 호출함"
   ]
  },
  {
   "cell_type": "code",
   "execution_count": 106,
   "metadata": {},
   "outputs": [],
   "source": [
    "p = Person(\"Emily\", \"010-123-4567\")"
   ]
  },
  {
   "cell_type": "code",
   "execution_count": 107,
   "metadata": {},
   "outputs": [],
   "source": [
    "person_list = [p,s]"
   ]
  },
  {
   "cell_type": "code",
   "execution_count": 108,
   "metadata": {},
   "outputs": [
    {
     "name": "stdout",
     "output_type": "stream",
     "text": [
      "Info(name: Emily, phone number: 010-123-4567)\n",
      "Info(name: Anna, phone number: 010-987-6543)\n",
      "Info(subject: Computer Science, student id: 980923)\n"
     ]
    }
   ],
   "source": [
    "for item in person_list:\n",
    "    item.print_info() # 동일 인터페이스 호출 - 객체에 맞는 메소드가 호출됨"
   ]
  },
  {
   "cell_type": "markdown",
   "metadata": {},
   "source": [
    "<hr>\n",
    "\n",
    "### 메소드 확장\n",
    ": 부모 클래스의 메소드는 그대로 이용 + 자식 클래스의 메소드에서 필요한 기능만 정의"
   ]
  },
  {
   "cell_type": "code",
   "execution_count": 109,
   "metadata": {},
   "outputs": [],
   "source": [
    "class Person:\n",
    "    ''' 부모 클래스 '''\n",
    "    def __init__(self, name, phoneNumber):\n",
    "        self.name = name\n",
    "        self.phoneNumber = phoneNumber\n",
    "        \n",
    "    def print_info(self):\n",
    "        print(\"Info(name: {}, phone number: {})\".format(self.name, self.phoneNumber))\n",
    "        \n",
    "    def print_person_data(self):\n",
    "        print(\"Person(name: {}, phone number: {})\".format(self.name, self.phoneNumber))\n",
    "        \n",
    "class Student(Person):\n",
    "    ''' 자식 클래스 '''\n",
    "    def __init__(self, name, phoneNumber, subject, studentId):\n",
    "        Person.__init__(self, name, phoneNumber)\n",
    "        self.subject = subject\n",
    "        self.studentId = studentId\n",
    "        \n",
    "    def print_student(self): \n",
    "        print(\"Student(subject: {}, student id: {})\".format(self.subject, self.studentId))\n",
    "        \n",
    "    def print_info(self):\n",
    "        Person.print_info(self) # 명시적으로 부모클래스의 메소드를 호출\n",
    "        print(\"Info(subject: {}, student id: {})\".format(self.subject, self.studentId))"
   ]
  },
  {
   "cell_type": "code",
   "execution_count": 110,
   "metadata": {},
   "outputs": [],
   "source": [
    "s = Student(\"Anna\", \"010-987-6543\", \"Computer Science\", \"980923\")"
   ]
  },
  {
   "cell_type": "code",
   "execution_count": 111,
   "metadata": {},
   "outputs": [
    {
     "name": "stdout",
     "output_type": "stream",
     "text": [
      "Info(name: Anna, phone number: 010-987-6543)\n",
      "Info(subject: Computer Science, student id: 980923)\n"
     ]
    }
   ],
   "source": [
    "s.print_info()"
   ]
  },
  {
   "cell_type": "markdown",
   "metadata": {},
   "source": [
    "<hr>\n",
    "\n",
    "### 클래스 상속과 이름공간\n",
    "상속 관계 검색의 원칙, Principles of the inheritance search<br>\n",
    "인스턴스 객체 영역 > 자식 클래스 영역 > 부모 클래스 영역 > 전역 영역<br><br>\n",
    "자식 클래스가 상속받은 멤버에 대해 재정의하지 않으면 단순히 부모 클래스의 이름공간을 참조"
   ]
  },
  {
   "cell_type": "code",
   "execution_count": 112,
   "metadata": {},
   "outputs": [],
   "source": [
    "class SuperClass:\n",
    "    ''' 부모 클래스 '''\n",
    "    x = 10\n",
    "    def print_x(self):\n",
    "        print(self.x)\n",
    "        \n",
    "class SubClass(SuperClass):\n",
    "    ''' 자식 클래스 '''\n",
    "    y = 20\n",
    "    def print_y(self):\n",
    "        print(self.y)"
   ]
  },
  {
   "cell_type": "code",
   "execution_count": 113,
   "metadata": {},
   "outputs": [],
   "source": [
    "s = SubClass()"
   ]
  },
  {
   "cell_type": "code",
   "execution_count": 114,
   "metadata": {},
   "outputs": [],
   "source": [
    "s.a = 30"
   ]
  },
  {
   "cell_type": "code",
   "execution_count": 115,
   "metadata": {},
   "outputs": [
    {
     "name": "stdout",
     "output_type": "stream",
     "text": [
      "SuperClass:  {'__module__': '__main__', '__doc__': ' 부모 클래스 ', 'x': 10, 'print_x': <function SuperClass.print_x at 0x7feee1293050>, '__dict__': <attribute '__dict__' of 'SuperClass' objects>, '__weakref__': <attribute '__weakref__' of 'SuperClass' objects>}\n"
     ]
    }
   ],
   "source": [
    "print(\"SuperClass: \", SuperClass.__dict__) # 부모 클래스 객체의 이름공간"
   ]
  },
  {
   "cell_type": "code",
   "execution_count": 116,
   "metadata": {},
   "outputs": [
    {
     "name": "stdout",
     "output_type": "stream",
     "text": [
      "SubClass:  {'__module__': '__main__', '__doc__': ' 자식 클래스 ', 'y': 20, 'print_y': <function SubClass.print_y at 0x7feee12934d0>}\n"
     ]
    }
   ],
   "source": [
    "print(\"SubClass: \", SubClass.__dict__) # 생성한 클래스 객체의 이름공간"
   ]
  },
  {
   "cell_type": "code",
   "execution_count": 117,
   "metadata": {},
   "outputs": [
    {
     "name": "stdout",
     "output_type": "stream",
     "text": [
      "s:  {'a': 30}\n"
     ]
    }
   ],
   "source": [
    "print(\"s: \", s.__dict__) # 인스턴스 객체의 이름공간"
   ]
  },
  {
   "cell_type": "code",
   "execution_count": 118,
   "metadata": {},
   "outputs": [],
   "source": [
    "class SuperClass:\n",
    "    ''' 부모 클래스 '''\n",
    "    x = 10\n",
    "    def print_x(self):\n",
    "        print(self.x)\n",
    "        \n",
    "class SubClass(SuperClass):\n",
    "    ''' 자식 클래스 '''\n",
    "    y = 20\n",
    "    def print_x(self):\n",
    "        print(\"SubClass: \", self.x)\n",
    "    def print_y(self):\n",
    "        print(self.y)"
   ]
  },
  {
   "cell_type": "code",
   "execution_count": 119,
   "metadata": {},
   "outputs": [],
   "source": [
    "s = SubClass()"
   ]
  },
  {
   "cell_type": "code",
   "execution_count": 120,
   "metadata": {},
   "outputs": [],
   "source": [
    "s.a = 30\n",
    "s.x = 50"
   ]
  },
  {
   "cell_type": "code",
   "execution_count": 121,
   "metadata": {},
   "outputs": [
    {
     "name": "stdout",
     "output_type": "stream",
     "text": [
      "SuperClass:  {'__module__': '__main__', '__doc__': ' 부모 클래스 ', 'x': 10, 'print_x': <function SuperClass.print_x at 0x7feee1171710>, '__dict__': <attribute '__dict__' of 'SuperClass' objects>, '__weakref__': <attribute '__weakref__' of 'SuperClass' objects>}\n"
     ]
    }
   ],
   "source": [
    "print(\"SuperClass: \", SuperClass.__dict__)"
   ]
  },
  {
   "cell_type": "code",
   "execution_count": 122,
   "metadata": {},
   "outputs": [
    {
     "name": "stdout",
     "output_type": "stream",
     "text": [
      "SubClass:  {'__module__': '__main__', '__doc__': ' 자식 클래스 ', 'y': 20, 'print_x': <function SubClass.print_x at 0x7feee1171950>, 'print_y': <function SubClass.print_y at 0x7feee11717a0>}\n"
     ]
    }
   ],
   "source": [
    "print(\"SubClass: \", SubClass.__dict__)"
   ]
  },
  {
   "cell_type": "code",
   "execution_count": 123,
   "metadata": {},
   "outputs": [
    {
     "name": "stdout",
     "output_type": "stream",
     "text": [
      "s:  {'a': 30, 'x': 50}\n"
     ]
    }
   ],
   "source": [
    "print(\"s: \", s.__dict__)"
   ]
  },
  {
   "cell_type": "code",
   "execution_count": 124,
   "metadata": {},
   "outputs": [
    {
     "name": "stdout",
     "output_type": "stream",
     "text": [
      "SubClass:  50\n"
     ]
    }
   ],
   "source": [
    "s.print_x()"
   ]
  },
  {
   "cell_type": "markdown",
   "metadata": {},
   "source": [
    "<hr>\n",
    "\n",
    "### 다중 상속\n",
    ", 로 상속받을 클래스들을 나열<br>\n",
    "상속 받은 클래스들의 모든 속성을 물려받음<br>\n",
    "속성의 이름을 검색할 때, 나열 순서가 검색 결과에 영향을 줌 <br>\n",
    "\\_\\_mro__ : 메소드의 이름을 찾는 순서를 정의"
   ]
  },
  {
   "cell_type": "code",
   "execution_count": 125,
   "metadata": {},
   "outputs": [],
   "source": [
    "class Tiger:\n",
    "    def jump(self):\n",
    "        print(\"A Tiger jumps !\")\n",
    "        \n",
    "class Lion:\n",
    "    def bite(self):\n",
    "        print(\"A Lion bites !\")\n",
    "        \n",
    "class Liger(Tiger, Lion): # 다중 상속\n",
    "    def play(self):\n",
    "        print(\"A Liger plays !\")"
   ]
  },
  {
   "cell_type": "code",
   "execution_count": 126,
   "metadata": {},
   "outputs": [],
   "source": [
    "l = Liger()"
   ]
  },
  {
   "cell_type": "code",
   "execution_count": 127,
   "metadata": {},
   "outputs": [
    {
     "name": "stdout",
     "output_type": "stream",
     "text": [
      "A Lion bites !\n"
     ]
    }
   ],
   "source": [
    "l.bite()"
   ]
  },
  {
   "cell_type": "code",
   "execution_count": 128,
   "metadata": {},
   "outputs": [
    {
     "name": "stdout",
     "output_type": "stream",
     "text": [
      "A Tiger jumps !\n"
     ]
    }
   ],
   "source": [
    "l.jump()"
   ]
  },
  {
   "cell_type": "code",
   "execution_count": 129,
   "metadata": {},
   "outputs": [
    {
     "name": "stdout",
     "output_type": "stream",
     "text": [
      "A Liger plays !\n"
     ]
    }
   ],
   "source": [
    "l.play()"
   ]
  },
  {
   "cell_type": "code",
   "execution_count": 130,
   "metadata": {},
   "outputs": [],
   "source": [
    "class Tiger:\n",
    "    def jump(self):\n",
    "        print(\"A Tiger jumps !\")\n",
    "    def cry(self):\n",
    "        print(\"tiger : 어흥 !!\")\n",
    "        \n",
    "class Lion:\n",
    "    def bite(self):\n",
    "        print(\"A Lion bites !\")\n",
    "    def cry(self):\n",
    "        print(\"lion : 으르렁 ~~\")\n",
    "        \n",
    "class Liger(Tiger, Lion): # 다중 상속\n",
    "    def play(self):\n",
    "        print(\"A Liger plays !\")"
   ]
  },
  {
   "cell_type": "code",
   "execution_count": 131,
   "metadata": {},
   "outputs": [],
   "source": [
    "l = Liger()"
   ]
  },
  {
   "cell_type": "code",
   "execution_count": 132,
   "metadata": {},
   "outputs": [
    {
     "name": "stdout",
     "output_type": "stream",
     "text": [
      "tiger : 어흥 !!\n"
     ]
    }
   ],
   "source": [
    "l.cry()"
   ]
  },
  {
   "cell_type": "code",
   "execution_count": 133,
   "metadata": {},
   "outputs": [
    {
     "data": {
      "text/plain": [
       "(__main__.Liger, __main__.Tiger, __main__.Lion, object)"
      ]
     },
     "execution_count": 133,
     "metadata": {},
     "output_type": "execute_result"
    }
   ],
   "source": [
    "Liger.__mro__ # 다중 상속 구조에서 메소드를 찾는 순서가 정의되어 있음"
   ]
  },
  {
   "cell_type": "markdown",
   "metadata": {},
   "source": [
    "<hr>\n",
    "\n",
    "### super 함수\n",
    "super() : 부모 클래스의 객체를 반환 <br>\n",
    "super().method( parameter )<br>\n",
    "클래스 간의 상호 동작으로 다중 상속의 문제점을 해결"
   ]
  },
  {
   "cell_type": "code",
   "execution_count": 134,
   "metadata": {},
   "outputs": [],
   "source": [
    "# 다중 상속의 문제\n",
    "class Animal:\n",
    "    def __init__(self):\n",
    "        print(\"Animal __init__()\")\n",
    "        \n",
    "class Tiger(Animal):\n",
    "    def __init__(self):\n",
    "        Animal.__init__(self)\n",
    "        print(\"Tiger __init__()\")\n",
    "        \n",
    "class Lion(Animal):\n",
    "    def __init__(self):\n",
    "        Animal.__init__(self)\n",
    "        print(\"Lion __init__()\")\n",
    "        \n",
    "class Liger(Tiger, Lion):\n",
    "    def __init__(self):\n",
    "        Tiger.__init__(self)\n",
    "        Lion.__init__(self)\n",
    "        print(\"Liger __init__()\")"
   ]
  },
  {
   "cell_type": "code",
   "execution_count": 135,
   "metadata": {},
   "outputs": [
    {
     "name": "stdout",
     "output_type": "stream",
     "text": [
      "Animal __init__()\n",
      "Tiger __init__()\n",
      "Animal __init__()\n",
      "Lion __init__()\n",
      "Liger __init__()\n"
     ]
    }
   ],
   "source": [
    "l = Liger() # Animal 클래스의 생성자가 2번 호출되는 문제 발생"
   ]
  },
  {
   "cell_type": "code",
   "execution_count": 136,
   "metadata": {},
   "outputs": [],
   "source": [
    "# 부모 클래스의 생성자 호출을 모두 super() 함수를 통해 수행\n",
    "class Animal:\n",
    "    def __init__(self):\n",
    "        print(\"Animal __init__()\")\n",
    "        \n",
    "class Tiger(Animal):\n",
    "    def __init__(self):\n",
    "        super().__init__()\n",
    "        print(\"Tiger __init__()\")\n",
    "        \n",
    "class Lion(Animal):\n",
    "    def __init__(self):\n",
    "        super().__init__()\n",
    "        print(\"Lion __init__()\")\n",
    "        \n",
    "class Liger(Tiger, Lion):\n",
    "    def __init__(self):\n",
    "        super().__init__()\n",
    "        print(\"Liger __init__()\")"
   ]
  },
  {
   "cell_type": "code",
   "execution_count": 137,
   "metadata": {},
   "outputs": [
    {
     "name": "stdout",
     "output_type": "stream",
     "text": [
      "Animal __init__()\n",
      "Lion __init__()\n",
      "Tiger __init__()\n",
      "Liger __init__()\n"
     ]
    }
   ],
   "source": [
    "l = Liger()"
   ]
  },
  {
   "cell_type": "code",
   "execution_count": 138,
   "metadata": {},
   "outputs": [
    {
     "data": {
      "text/plain": [
       "(__main__.Liger, __main__.Tiger, __main__.Lion, __main__.Animal, object)"
      ]
     },
     "execution_count": 138,
     "metadata": {},
     "output_type": "execute_result"
    }
   ],
   "source": [
    "Liger.__mro__"
   ]
  },
  {
   "cell_type": "markdown",
   "metadata": {},
   "source": [
    "<hr>"
   ]
  }
 ],
 "metadata": {
  "kernelspec": {
   "display_name": "Python 3",
   "language": "python",
   "name": "python3"
  },
  "language_info": {
   "codemirror_mode": {
    "name": "ipython",
    "version": 3
   },
   "file_extension": ".py",
   "mimetype": "text/x-python",
   "name": "python",
   "nbconvert_exporter": "python",
   "pygments_lexer": "ipython3",
   "version": "3.7.6"
  }
 },
 "nbformat": 4,
 "nbformat_minor": 4
}
