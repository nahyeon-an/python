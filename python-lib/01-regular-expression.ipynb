{
 "cells": [
  {
   "cell_type": "markdown",
   "metadata": {},
   "source": [
    "# 정규 표현식(re)\n",
    "\n",
    "특정한 규칙을 가진 문자열을 표현하는 데 사용되는 형식 언어<br>\n",
    "\n",
    "패턴으로 문자열을 검색/치환<br>\n",
    "\n",
    "[정규표현식 규칙 참조](https://developer.mozilla.org/ko/docs/Web/JavaScript/Guide/%EC%A0%95%EA%B7%9C%EC%8B%9D)"
   ]
  },
  {
   "cell_type": "markdown",
   "metadata": {},
   "source": [
    "<hr>\n",
    "\n",
    "## 정규 표현식 문법\n",
    "\n",
    "### 문자, 패턴을 나타내기 위한 특수 문자\n",
    "\n",
    ". &nbsp;&nbsp;&nbsp; 개행 문자를 제외한 문자 1자<br>\n",
    "^ &nbsp;&nbsp;&nbsp; 문자열의 시작<br>\n",
    "\\$ &nbsp;&nbsp;&nbsp; 문자열의 종료<br>\n",
    "[ ] &nbsp;&nbsp;&nbsp; 문자의 집합<br>\n",
    "| &nbsp;&nbsp;&nbsp; or, 또는<br>\n",
    "() &nbsp;&nbsp;&nbsp; 정규식 그룹<br>\n",
    "\\* &nbsp;&nbsp;&nbsp; 문자가 0회 이상 반복됨<br>\n",
    "\\+ &nbsp;&nbsp;&nbsp; 문자가 1회 이상 반복됨<br>\n",
    "? &nbsp;&nbsp;&nbsp; 문자가 0 또는 1회 반복됨<br>\n",
    "\\{m\\} &nbsp;&nbsp; 문자가 m회 반복됨<br>\n",
    "\\{m, n\\} &nbsp;&nbsp; 문자가 m\\~n회 반복됨<br>\n",
    "\\{m, \\} &nbsp;&nbsp; 문자가 m\\~무한 반복됨\n",
    "\n",
    "### 이스케이프 문자열, Escape Sequence\n",
    "자주 사용되는 문자열의 집합\n",
    "\n",
    "\\w &nbsp;&nbsp;&nbsp; 숫자, 밑줄 등을 포함한 모든 문자 [a-zA-Z0-9_]<br>\n",
    "\\W &nbsp;&nbsp;&nbsp; 숫자, 밑줄, 문자를 제외한 나머지 문자<br>\n",
    "\\d &nbsp;&nbsp;&nbsp; [0-9] 포함 모든 숫자<br>\n",
    "\\D &nbsp;&nbsp;&nbsp; 숫자를 제외한 모든 문자<br>\n",
    "\\s &nbsp;&nbsp;&nbsp; [ \\t\\n\\r\\f\\v] 포함한 공백 문자<br> \n",
    "\\S &nbsp;&nbsp;&nbsp; 공백문자를 제외한 모든 문자<br>\n",
    "\\b &nbsp;&nbsp;&nbsp; 시작과 끝의 빈 공백<br>\n",
    "\\B &nbsp;&nbsp;&nbsp; 시작과 끝이 아닌 빈 공백<br>\n",
    "\\\\ &nbsp;&nbsp;&nbsp; 역슬래시 문자<br>\n",
    "\\\\[숫자\\] &nbsp;&nbsp; 숫자만큼 일치하는 문자열<br>\n",
    "\\A &nbsp;&nbsp;&nbsp; 문자열의 시작<br>\n",
    "\\Z &nbsp;&nbsp;&nbsp; 문자열의 끝"
   ]
  },
  {
   "cell_type": "markdown",
   "metadata": {},
   "source": [
    "<hr>\n",
    "\n",
    "## re 모듈 함수\n",
    "param1 : 정규식, 패턴 <br>\n",
    "param2 : 대상 문자열"
   ]
  },
  {
   "cell_type": "code",
   "execution_count": 1,
   "metadata": {},
   "outputs": [],
   "source": [
    "import re"
   ]
  },
  {
   "cell_type": "code",
   "execution_count": 2,
   "metadata": {},
   "outputs": [
    {
     "data": {
      "text/plain": [
       "<re.Match object; span=(0, 4), match='35th'>"
      ]
     },
     "execution_count": 2,
     "metadata": {},
     "output_type": "execute_result"
    }
   ],
   "source": [
    "re.match('[0-9]*th', '35th') # match 객체를 반환"
   ]
  },
  {
   "cell_type": "code",
   "execution_count": 3,
   "metadata": {},
   "outputs": [
    {
     "data": {
      "text/plain": [
       "<re.Match object; span=(0, 4), match='35th'>"
      ]
     },
     "execution_count": 3,
     "metadata": {},
     "output_type": "execute_result"
    }
   ],
   "source": [
    "re.search('[0-9]*th', '35th')"
   ]
  },
  {
   "cell_type": "code",
   "execution_count": 4,
   "metadata": {},
   "outputs": [
    {
     "data": {
      "text/plain": [
       "False"
      ]
     },
     "execution_count": 4,
     "metadata": {},
     "output_type": "execute_result"
    }
   ],
   "source": [
    "bool(re.match('[0-9]*th', '     35th')) # 대상 문자열의 시작부터 패턴을 검색"
   ]
  },
  {
   "cell_type": "code",
   "execution_count": 6,
   "metadata": {},
   "outputs": [
    {
     "data": {
      "text/plain": [
       "True"
      ]
     },
     "execution_count": 6,
     "metadata": {},
     "output_type": "execute_result"
    }
   ],
   "source": [
    "bool(re.match('[0-9]*th', '35th'))"
   ]
  },
  {
   "cell_type": "code",
   "execution_count": 5,
   "metadata": {},
   "outputs": [
    {
     "data": {
      "text/plain": [
       "True"
      ]
     },
     "execution_count": 5,
     "metadata": {},
     "output_type": "execute_result"
    }
   ],
   "source": [
    "bool(re.search('[0-9]*th', '     35th')) # 대상 문자열 전체에 대해 패턴이 존재하는지"
   ]
  },
  {
   "cell_type": "code",
   "execution_count": 7,
   "metadata": {},
   "outputs": [
    {
     "data": {
      "text/plain": [
       "False"
      ]
     },
     "execution_count": 7,
     "metadata": {},
     "output_type": "execute_result"
    }
   ],
   "source": [
    "bool(re.match('ap', 'This is an apple'))"
   ]
  },
  {
   "cell_type": "code",
   "execution_count": 8,
   "metadata": {},
   "outputs": [
    {
     "data": {
      "text/plain": [
       "True"
      ]
     },
     "execution_count": 8,
     "metadata": {},
     "output_type": "execute_result"
    }
   ],
   "source": [
    "bool(re.search('ap', 'This is an apple'))"
   ]
  },
  {
   "cell_type": "markdown",
   "metadata": {},
   "source": [
    "### row string notation, 로 문자열 표기법\n",
    "\n",
    "문자열 앞에 r을 더하여 표기<br>\n",
    "\n",
    "\\(back-slash) 문자를 이스케이프 문자로 처리하지 않고 일반 문자와 동일하게 사용"
   ]
  },
  {
   "cell_type": "code",
   "execution_count": 10,
   "metadata": {},
   "outputs": [
    {
     "data": {
      "text/plain": [
       "True"
      ]
     },
     "execution_count": 10,
     "metadata": {},
     "output_type": "execute_result"
    }
   ],
   "source": [
    "bool(re.search('\\\\\\\\\\w+', \"\\\\apple\")) # 일반 표기법"
   ]
  },
  {
   "cell_type": "code",
   "execution_count": 11,
   "metadata": {},
   "outputs": [
    {
     "data": {
      "text/plain": [
       "True"
      ]
     },
     "execution_count": 11,
     "metadata": {},
     "output_type": "execute_result"
    }
   ],
   "source": [
    "bool(re.search(r'\\\\\\w+', r\"\\apple\")) # 로 표기법"
   ]
  },
  {
   "cell_type": "code",
   "execution_count": 12,
   "metadata": {},
   "outputs": [
    {
     "data": {
      "text/plain": [
       "['apple', 'Orange', 'banana', 'tomato']"
      ]
     },
     "execution_count": 12,
     "metadata": {},
     "output_type": "execute_result"
    }
   ],
   "source": [
    "re.split('[:. ]+', \"apple Orange:banana  tomato\") # 구분자 : . 공백"
   ]
  },
  {
   "cell_type": "code",
   "execution_count": 13,
   "metadata": {},
   "outputs": [
    {
     "data": {
      "text/plain": [
       "['apple', ' ', 'Orange', ':', 'banana', ' ', 'tomato']"
      ]
     },
     "execution_count": 13,
     "metadata": {},
     "output_type": "execute_result"
    }
   ],
   "source": [
    "re.split('([:. ])+', \"apple Orange:banana  tomato\") # 패턴에 ( )를 사용하면 분리문자도 결과에 포함됨"
   ]
  },
  {
   "cell_type": "code",
   "execution_count": 14,
   "metadata": {},
   "outputs": [],
   "source": [
    "text = \"\"\"gee gee gee gee baby baby baby\n",
    "oh 너무 부끄러워\n",
    "쳐다볼 수 없어\"\"\""
   ]
  },
  {
   "cell_type": "code",
   "execution_count": 15,
   "metadata": {},
   "outputs": [
    {
     "data": {
      "text/plain": [
       "['gee gee gee gee baby baby baby', 'oh 너무 부끄러워', '쳐다볼 수 없어']"
      ]
     },
     "execution_count": 15,
     "metadata": {},
     "output_type": "execute_result"
    }
   ],
   "source": [
    "re.split('\\n+', text) # 각 행을 저장하여 반환"
   ]
  },
  {
   "cell_type": "code",
   "execution_count": 16,
   "metadata": {},
   "outputs": [
    {
     "data": {
      "text/plain": [
       "['application', 'apple']"
      ]
     },
     "execution_count": 16,
     "metadata": {},
     "output_type": "execute_result"
    }
   ],
   "source": [
    "re.findall(r'app\\w*', \"application orange apple banana\")"
   ]
  },
  {
   "cell_type": "code",
   "execution_count": 17,
   "metadata": {},
   "outputs": [
    {
     "data": {
      "text/plain": [
       "[]"
      ]
     },
     "execution_count": 17,
     "metadata": {},
     "output_type": "execute_result"
    }
   ],
   "source": [
    "re.findall(r'king\\w*', \"application orange apple banana\")"
   ]
  },
  {
   "cell_type": "code",
   "execution_count": 18,
   "metadata": {},
   "outputs": [
    {
     "data": {
      "text/plain": [
       "'9012251234567'"
      ]
     },
     "execution_count": 18,
     "metadata": {},
     "output_type": "execute_result"
    }
   ],
   "source": [
    "re.sub('-', '', \"901225-1234567\")"
   ]
  },
  {
   "cell_type": "code",
   "execution_count": 19,
   "metadata": {},
   "outputs": [
    {
     "data": {
      "text/plain": [
       "'Apple, Orange, Banana, Tomato'"
      ]
     },
     "execution_count": 19,
     "metadata": {},
     "output_type": "execute_result"
    }
   ],
   "source": [
    "re.sub(r'[:,|\\s]', ', ', \"Apple:Orange Banana|Tomato\") # 필드 구분자를 통일함"
   ]
  },
  {
   "cell_type": "code",
   "execution_count": 20,
   "metadata": {},
   "outputs": [
    {
     "data": {
      "text/plain": [
       "'Apple, Orange, Banana|Tomato'"
      ]
     },
     "execution_count": 20,
     "metadata": {},
     "output_type": "execute_result"
    }
   ],
   "source": [
    "re.sub(r'[:,|\\s]', ', ', \"Apple:Orange Banana|Tomato\", 2) # 변경횟수를 2회로 제한"
   ]
  },
  {
   "cell_type": "code",
   "execution_count": 21,
   "metadata": {},
   "outputs": [
    {
     "data": {
      "text/plain": [
       "'Copyright Derick <I>1990-2009</I>'"
      ]
     },
     "execution_count": 21,
     "metadata": {},
     "output_type": "execute_result"
    }
   ],
   "source": [
    "re.sub(r'\\b(\\d{4}-\\d{4})\\b', r'<I>\\1</I>', \"Copyright Derick 1990-2009\")\n",
    "# 패턴 : 사용할 부분을 소괄호로 묶음\n",
    "# 변경할 문자열 : \\숫자\n",
    "# 년도에 <I></I> 태그를 추가"
   ]
  },
  {
   "cell_type": "code",
   "execution_count": 22,
   "metadata": {},
   "outputs": [
    {
     "data": {
      "text/plain": [
       "'Copyright Derick <I>1990-2009</I>'"
      ]
     },
     "execution_count": 22,
     "metadata": {},
     "output_type": "execute_result"
    }
   ],
   "source": [
    "re.sub(r'\\b(?P<year>\\d{4}-\\d{4})\\b', r'<I>\\g<year></I>', \"Copyright Derick 1990-2009\")\n",
    "# 패턴 : ?P<패턴이름>\n",
    "# 변경할 문자열 : \\g<패턴이름>\n",
    "# 년도에 <I></I> 태그를 추가"
   ]
  },
  {
   "cell_type": "code",
   "execution_count": 23,
   "metadata": {},
   "outputs": [],
   "source": [
    "def my_upper(m):\n",
    "    return m.group().upper()"
   ]
  },
  {
   "cell_type": "code",
   "execution_count": 24,
   "metadata": {},
   "outputs": [
    {
     "data": {
      "text/plain": [
       "'THE time is THE money'"
      ]
     },
     "execution_count": 24,
     "metadata": {},
     "output_type": "execute_result"
    }
   ],
   "source": [
    "re.sub('[T|t]he', my_upper, \"The time is the money\") # 변경할 문자열 대신 함수로 변경 작업을 수행"
   ]
  },
  {
   "cell_type": "markdown",
   "metadata": {},
   "source": [
    "<hr>\n",
    "\n",
    "## 정규 표현식 객체\n",
    "\n",
    "re.compile(pattern) : 정규 표현식(패턴)을 컴파일해 정규 표현식 객체를 생성\n",
    "- 동일한 패턴을 반복적으로 검색할 경우 성능 향상\n",
    "\n",
    "<br>\n",
    "\n",
    "정규 표현식 객체가 지원하는 메소드 : search, match, split, findall, finditer, sub, subn\n",
    "- 정규식이 객체에 이미 컴파일돼 있음\n",
    "- 패턴을 인자로 전달 X\n",
    "\n",
    "<br>\n",
    "\n",
    "옵션 플래그<br>\n",
    "re.I : 대소문자를 구분하지 X<br>\n",
    "re.M<br>\n",
    "re.S<br>\n",
    "re.X<br>\n",
    "re.A<br>\n",
    "re.L"
   ]
  },
  {
   "cell_type": "code",
   "execution_count": 27,
   "metadata": {},
   "outputs": [],
   "source": [
    "c = re.compile(r'app\\w*')"
   ]
  },
  {
   "cell_type": "code",
   "execution_count": 28,
   "metadata": {},
   "outputs": [
    {
     "data": {
      "text/plain": [
       "['application', 'apple']"
      ]
     },
     "execution_count": 28,
     "metadata": {},
     "output_type": "execute_result"
    }
   ],
   "source": [
    "c.findall(\"application orange apple banana\")"
   ]
  },
  {
   "cell_type": "code",
   "execution_count": 29,
   "metadata": {},
   "outputs": [
    {
     "data": {
      "text/plain": [
       "['apples']"
      ]
     },
     "execution_count": 29,
     "metadata": {},
     "output_type": "execute_result"
    }
   ],
   "source": [
    "c.findall(\"There are so many apples in the basket\")"
   ]
  },
  {
   "cell_type": "code",
   "execution_count": 30,
   "metadata": {},
   "outputs": [],
   "source": [
    "s = \"Apple is a big company and apple is very delicious\""
   ]
  },
  {
   "cell_type": "code",
   "execution_count": 31,
   "metadata": {},
   "outputs": [],
   "source": [
    "c = re.compile('apple')"
   ]
  },
  {
   "cell_type": "code",
   "execution_count": 32,
   "metadata": {},
   "outputs": [
    {
     "data": {
      "text/plain": [
       "['apple']"
      ]
     },
     "execution_count": 32,
     "metadata": {},
     "output_type": "execute_result"
    }
   ],
   "source": [
    "c.findall(s)"
   ]
  },
  {
   "cell_type": "code",
   "execution_count": 35,
   "metadata": {},
   "outputs": [],
   "source": [
    "c = re.compile('apple', re.I) # 대소문자 구분 X 플래그"
   ]
  },
  {
   "cell_type": "code",
   "execution_count": 36,
   "metadata": {},
   "outputs": [
    {
     "data": {
      "text/plain": [
       "['Apple', 'apple']"
      ]
     },
     "execution_count": 36,
     "metadata": {},
     "output_type": "execute_result"
    }
   ],
   "source": [
    "c.findall(s)"
   ]
  },
  {
   "cell_type": "code",
   "execution_count": 37,
   "metadata": {},
   "outputs": [],
   "source": [
    "s = \"\"\"gee gee gee gee baby baby baby\n",
    "Oh 너무 부끄러워\n",
    "\n",
    "\n",
    "\n",
    "쳐다볼 수 없어\n",
    "\"\"\""
   ]
  },
  {
   "cell_type": "code",
   "execution_count": 38,
   "metadata": {},
   "outputs": [],
   "source": [
    "c = re.compile('^.+') # 첫 줄만 매칭"
   ]
  },
  {
   "cell_type": "code",
   "execution_count": 39,
   "metadata": {},
   "outputs": [
    {
     "data": {
      "text/plain": [
       "['gee gee gee gee baby baby baby']"
      ]
     },
     "execution_count": 39,
     "metadata": {},
     "output_type": "execute_result"
    }
   ],
   "source": [
    "c.findall(s)"
   ]
  },
  {
   "cell_type": "code",
   "execution_count": 40,
   "metadata": {},
   "outputs": [],
   "source": [
    "c = re.compile('^.+', re.M) # multi line 옵션, 빈 라인을 제외하고 라인별로 분리"
   ]
  },
  {
   "cell_type": "code",
   "execution_count": 41,
   "metadata": {},
   "outputs": [
    {
     "data": {
      "text/plain": [
       "['gee gee gee gee baby baby baby', 'Oh 너무 부끄러워', '쳐다볼 수 없어']"
      ]
     },
     "execution_count": 41,
     "metadata": {},
     "output_type": "execute_result"
    }
   ],
   "source": [
    "c.findall(s)"
   ]
  },
  {
   "cell_type": "code",
   "execution_count": 43,
   "metadata": {},
   "outputs": [],
   "source": [
    "import urllib.request"
   ]
  },
  {
   "cell_type": "code",
   "execution_count": 44,
   "metadata": {},
   "outputs": [],
   "source": [
    "web = urllib.request.urlopen(\"http://www.example.com\")"
   ]
  },
  {
   "cell_type": "code",
   "execution_count": 45,
   "metadata": {},
   "outputs": [],
   "source": [
    "html = web.read()"
   ]
  },
  {
   "cell_type": "code",
   "execution_count": 46,
   "metadata": {},
   "outputs": [],
   "source": [
    "web.close()"
   ]
  },
  {
   "cell_type": "code",
   "execution_count": 47,
   "metadata": {},
   "outputs": [],
   "source": [
    "s = str(html).encode('utf-8').decode('cp949')"
   ]
  },
  {
   "cell_type": "code",
   "execution_count": 48,
   "metadata": {},
   "outputs": [],
   "source": [
    "c = re.compile(r\"\"\".*?\n",
    "<title.*?>\n",
    "(.*)\n",
    "</title>\n",
    "\"\"\", re.I|re.S|re.X)"
   ]
  },
  {
   "cell_type": "code",
   "execution_count": 49,
   "metadata": {},
   "outputs": [
    {
     "data": {
      "text/plain": [
       "['Example Domain']"
      ]
     },
     "execution_count": 49,
     "metadata": {},
     "output_type": "execute_result"
    }
   ],
   "source": [
    "c.findall(s)"
   ]
  },
  {
   "cell_type": "markdown",
   "metadata": {},
   "source": [
    "### .\\*?\n",
    "\n",
    "greedy 방식 : .*\n",
    "- 조건을 만족하는 한 가장 긴 문자열을 선택\n",
    "\n",
    "lazy 방식 : .\\*?\n",
    "- 조건을 만족하는 가장 짧은 문자열을 선택"
   ]
  },
  {
   "cell_type": "code",
   "execution_count": 52,
   "metadata": {},
   "outputs": [
    {
     "data": {
      "text/plain": [
       "1"
      ]
     },
     "execution_count": 52,
     "metadata": {},
     "output_type": "execute_result"
    }
   ],
   "source": [
    "greedy = re.compile(r'<.*>', re.I|re.S)\n",
    "len( greedy.findall(s) )"
   ]
  },
  {
   "cell_type": "code",
   "execution_count": 53,
   "metadata": {},
   "outputs": [
    {
     "data": {
      "text/plain": [
       "24"
      ]
     },
     "execution_count": 53,
     "metadata": {},
     "output_type": "execute_result"
    }
   ],
   "source": [
    "lazy = re.compile(r'<.*?>', re.I|re.S)\n",
    "len( lazy.findall(s) ) # 가장 짧은 문자열이 24개, 여러개의 태그가 선택된 것"
   ]
  },
  {
   "cell_type": "markdown",
   "metadata": {},
   "source": [
    "<hr>\n",
    "\n",
    "## Match 객체\n",
    "\n",
    "검색된 결과를 효율적으로 처리할 수 있는 기능을 제공함<br>\n",
    "match(), search()의 수행 결과로 반환됨<br>\n",
    "\n",
    "메소드\n",
    "- group()\n",
    "- groups()\n",
    "- groupdict()\n",
    "- start()\n",
    "- end()\n",
    "\n",
    "속성\n",
    "- pos\n",
    "- endpos\n",
    "- lastindex\n",
    "- lastgroup\n",
    "- string"
   ]
  },
  {
   "cell_type": "code",
   "execution_count": 54,
   "metadata": {},
   "outputs": [],
   "source": [
    "tel_checker = re.compile(r\"(\\d{2,3})-(\\d{3,4})-(\\d{4})\")"
   ]
  },
  {
   "cell_type": "code",
   "execution_count": 55,
   "metadata": {},
   "outputs": [
    {
     "data": {
      "text/plain": [
       "True"
      ]
     },
     "execution_count": 55,
     "metadata": {},
     "output_type": "execute_result"
    }
   ],
   "source": [
    "bool(tel_checker.match(\"02-123-4567\"))"
   ]
  },
  {
   "cell_type": "code",
   "execution_count": 56,
   "metadata": {},
   "outputs": [
    {
     "data": {
      "text/plain": [
       "False"
      ]
     },
     "execution_count": 56,
     "metadata": {},
     "output_type": "execute_result"
    }
   ],
   "source": [
    "bool(tel_checker.match(\"02-가123-4567\"))"
   ]
  },
  {
   "cell_type": "code",
   "execution_count": 57,
   "metadata": {},
   "outputs": [
    {
     "data": {
      "text/plain": [
       "False"
      ]
     },
     "execution_count": 57,
     "metadata": {},
     "output_type": "execute_result"
    }
   ],
   "source": [
    "bool(tel_checker.match(\"3402-123-4567\"))"
   ]
  },
  {
   "cell_type": "code",
   "execution_count": 58,
   "metadata": {},
   "outputs": [
    {
     "data": {
      "text/plain": [
       "True"
      ]
     },
     "execution_count": 58,
     "metadata": {},
     "output_type": "execute_result"
    }
   ],
   "source": [
    "bool(tel_checker.match(\"032-1234-4567\"))"
   ]
  },
  {
   "cell_type": "code",
   "execution_count": 59,
   "metadata": {},
   "outputs": [],
   "source": [
    "m = tel_checker.match(\"02-123-4567\")"
   ]
  },
  {
   "cell_type": "code",
   "execution_count": 60,
   "metadata": {},
   "outputs": [
    {
     "data": {
      "text/plain": [
       "('02', '123', '4567')"
      ]
     },
     "execution_count": 60,
     "metadata": {},
     "output_type": "execute_result"
    }
   ],
   "source": [
    "m.groups() # 매칭된 문자열 집합을 튜플로 반환"
   ]
  },
  {
   "cell_type": "code",
   "execution_count": 61,
   "metadata": {},
   "outputs": [
    {
     "data": {
      "text/plain": [
       "'02-123-4567'"
      ]
     },
     "execution_count": 61,
     "metadata": {},
     "output_type": "execute_result"
    }
   ],
   "source": [
    "m.group() # 매칭된 전체 문자열을 반환"
   ]
  },
  {
   "cell_type": "code",
   "execution_count": 62,
   "metadata": {},
   "outputs": [
    {
     "data": {
      "text/plain": [
       "'02'"
      ]
     },
     "execution_count": 62,
     "metadata": {},
     "output_type": "execute_result"
    }
   ],
   "source": [
    "m.group(1) # 1 : 첫번째 매칭 문자열"
   ]
  },
  {
   "cell_type": "code",
   "execution_count": 63,
   "metadata": {},
   "outputs": [
    {
     "data": {
      "text/plain": [
       "('123', '4567')"
      ]
     },
     "execution_count": 63,
     "metadata": {},
     "output_type": "execute_result"
    }
   ],
   "source": [
    "m.group(2, 3) # 2번째 매칭 문자열, 3번째 매칭 문자열 - 튜플"
   ]
  },
  {
   "cell_type": "code",
   "execution_count": 64,
   "metadata": {},
   "outputs": [
    {
     "data": {
      "text/plain": [
       "0"
      ]
     },
     "execution_count": 64,
     "metadata": {},
     "output_type": "execute_result"
    }
   ],
   "source": [
    "m.start() # 매칭된 전체 문자열의 시작 인덱스"
   ]
  },
  {
   "cell_type": "code",
   "execution_count": 65,
   "metadata": {},
   "outputs": [
    {
     "data": {
      "text/plain": [
       "11"
      ]
     },
     "execution_count": 65,
     "metadata": {},
     "output_type": "execute_result"
    }
   ],
   "source": [
    "m.end() # 매칭된 전체 문자열의 종료 인덱스"
   ]
  },
  {
   "cell_type": "code",
   "execution_count": 66,
   "metadata": {},
   "outputs": [
    {
     "data": {
      "text/plain": [
       "3"
      ]
     },
     "execution_count": 66,
     "metadata": {},
     "output_type": "execute_result"
    }
   ],
   "source": [
    "m.start(2) # 2번째 매칭 문자열의 시작 인덱스"
   ]
  },
  {
   "cell_type": "code",
   "execution_count": 67,
   "metadata": {},
   "outputs": [
    {
     "data": {
      "text/plain": [
       "6"
      ]
     },
     "execution_count": 67,
     "metadata": {},
     "output_type": "execute_result"
    }
   ],
   "source": [
    "m.end(2) # 2번째 매칭 문자열의 종료 인덱스"
   ]
  },
  {
   "cell_type": "code",
   "execution_count": 68,
   "metadata": {},
   "outputs": [
    {
     "data": {
      "text/plain": [
       "'123-4567'"
      ]
     },
     "execution_count": 68,
     "metadata": {},
     "output_type": "execute_result"
    }
   ],
   "source": [
    "m.string[m.start(2):m.end(3)] # string속성에 인덱스 슬라이싱하여 m.end(3)까지 포함됨"
   ]
  },
  {
   "cell_type": "code",
   "execution_count": 69,
   "metadata": {},
   "outputs": [
    {
     "data": {
      "text/plain": [
       "{}"
      ]
     },
     "execution_count": 69,
     "metadata": {},
     "output_type": "execute_result"
    }
   ],
   "source": [
    "m.groupdict()"
   ]
  },
  {
   "cell_type": "code",
   "execution_count": 72,
   "metadata": {},
   "outputs": [],
   "source": [
    "# 정규식 작성\n",
    "# (?<이름>..)\n",
    "# 매칭 결과에 이름 부여\n",
    "# groupdict() 메소드를 통해 이름과 문자쌍을 얻을 수 있다\n",
    "m = re.match(r\"(?P<area_code>\\d+)-(?P<exchange_number>\\d+)-(?P<user_number>\\d+)\", \"02-123-4567\")"
   ]
  },
  {
   "cell_type": "code",
   "execution_count": 73,
   "metadata": {},
   "outputs": [
    {
     "data": {
      "text/plain": [
       "'4567'"
      ]
     },
     "execution_count": 73,
     "metadata": {},
     "output_type": "execute_result"
    }
   ],
   "source": [
    "m.group(\"user_number\")"
   ]
  },
  {
   "cell_type": "code",
   "execution_count": 74,
   "metadata": {},
   "outputs": [
    {
     "data": {
      "text/plain": [
       "7"
      ]
     },
     "execution_count": 74,
     "metadata": {},
     "output_type": "execute_result"
    }
   ],
   "source": [
    "m.start(\"user_number\")"
   ]
  },
  {
   "cell_type": "code",
   "execution_count": 75,
   "metadata": {},
   "outputs": [
    {
     "data": {
      "text/plain": [
       "{'area_code': '02', 'exchange_number': '123', 'user_number': '4567'}"
      ]
     },
     "execution_count": 75,
     "metadata": {},
     "output_type": "execute_result"
    }
   ],
   "source": [
    "m.groupdict()"
   ]
  },
  {
   "cell_type": "markdown",
   "metadata": {},
   "source": [
    "<hr>"
   ]
  }
 ],
 "metadata": {
  "kernelspec": {
   "display_name": "Python 3",
   "language": "python",
   "name": "python3"
  },
  "language_info": {
   "codemirror_mode": {
    "name": "ipython",
    "version": 3
   },
   "file_extension": ".py",
   "mimetype": "text/x-python",
   "name": "python",
   "nbconvert_exporter": "python",
   "pygments_lexer": "ipython3",
   "version": "3.7.6"
  }
 },
 "nbformat": 4,
 "nbformat_minor": 4
}
