{
 "cells": [
  {
   "cell_type": "markdown",
   "metadata": {},
   "source": [
    "### re.sub(pattern, str1, str2, count)\n",
    "\n",
    "문자열을 바꿀 때 사용  \n",
    "re.sub(패턴, 대체문자열, 원래문자열, 바꾸는 횟수)  \n",
    "바꾸는 횟수를 생략하면 *찾은 문자열 모두를 변경*  "
   ]
  },
  {
   "cell_type": "code",
   "execution_count": 1,
   "metadata": {},
   "outputs": [],
   "source": [
    "import re"
   ]
  },
  {
   "cell_type": "code",
   "execution_count": 2,
   "metadata": {},
   "outputs": [
    {
     "data": {
      "text/plain": [
       "'fruit box fruit tree'"
      ]
     },
     "execution_count": 2,
     "metadata": {},
     "output_type": "execute_result"
    }
   ],
   "source": [
    "re.sub('apple|orange', 'fruit', 'apple box orange tree')"
   ]
  },
  {
   "cell_type": "code",
   "execution_count": 3,
   "metadata": {},
   "outputs": [
    {
     "data": {
      "text/plain": [
       "'n n Fizz n Buzz Fizz n n'"
      ]
     },
     "execution_count": 3,
     "metadata": {},
     "output_type": "execute_result"
    }
   ],
   "source": [
    "# 숫자만 찾아서 n으로 변경\n",
    "re.sub('[0-9]+', 'n', '1 2 Fizz 4 Buzz Fizz 7 8')"
   ]
  },
  {
   "cell_type": "markdown",
   "metadata": {},
   "source": [
    "대체문자열 대신 <대체 함수>를 지정할 수 있다.  \n",
    "re.sub(패턴, 대체함수, 원래문자열, 바꾸는 횟수)  \n",
    "대체함수(매치객체)  "
   ]
  },
  {
   "cell_type": "code",
   "execution_count": 4,
   "metadata": {},
   "outputs": [
    {
     "data": {
      "text/plain": [
       "'10 20 Fizz 40 Buzz Fizz 70 80'"
      ]
     },
     "execution_count": 4,
     "metadata": {},
     "output_type": "execute_result"
    }
   ],
   "source": [
    "def multiple(m):  # 매치 객체를 매개변수로\n",
    "    n = int(m.group())  # 매칭된 문자열을 정수로 변환\n",
    "    return str(n * 10)  # 숫자에 10을 곱한뒤 문자열로 반환\n",
    "\n",
    "re.sub('[0-9]+', multiple, '1 2 Fizz 4 Buzz Fizz 7 8')"
   ]
  },
  {
   "cell_type": "markdown",
   "metadata": {},
   "source": [
    "#### 찾은 문자열을 다시 사용하기\n",
    "정규표현식을 그룹으로 묶음 -> 바꾼 문자열에서 \\\\숫자 형식으로 매칭된 문자열을 가져와서 사용  "
   ]
  },
  {
   "cell_type": "code",
   "execution_count": 11,
   "metadata": {},
   "outputs": [
    {
     "data": {
      "text/plain": [
       "'1234 hello 1234 hello'"
      ]
     },
     "execution_count": 11,
     "metadata": {},
     "output_type": "execute_result"
    }
   ],
   "source": [
    "# 그룹 1 : 영어 소문자로 이루어진 문자열 (hello)\n",
    "# 그룹 2 : 숫자로 이루어진 문자열 (1234)\n",
    "re.sub('([a-z]+) ([0-9]+)', '\\\\2 \\\\1 \\\\2 \\\\1', 'hello 1234')"
   ]
  },
  {
   "cell_type": "code",
   "execution_count": 12,
   "metadata": {},
   "outputs": [
    {
     "data": {
      "text/plain": [
       "'<name>james</name>'"
      ]
     },
     "execution_count": 12,
     "metadata": {},
     "output_type": "execute_result"
    }
   ],
   "source": [
    "re.sub('({\\s*)\"(\\w+)\":\\s\"(\\w+)\"(\\s*})', '<\\\\2>\\\\3</\\\\2>', '{ \"name\": \"james\" }')"
   ]
  },
  {
   "cell_type": "code",
   "execution_count": 13,
   "metadata": {},
   "outputs": [
    {
     "data": {
      "text/plain": [
       "'<name>james</name>'"
      ]
     },
     "execution_count": 13,
     "metadata": {},
     "output_type": "execute_result"
    }
   ],
   "source": [
    "re.sub('({\\s*)\"(\\w+)\":\\s\"(\\w+)\"(\\s*})', r'<\\2>\\3</\\2>', '{ \"name\": \"james\" }')"
   ]
  },
  {
   "cell_type": "code",
   "execution_count": null,
   "metadata": {},
   "outputs": [],
   "source": []
  },
  {
   "cell_type": "code",
   "execution_count": null,
   "metadata": {},
   "outputs": [],
   "source": []
  },
  {
   "cell_type": "code",
   "execution_count": null,
   "metadata": {},
   "outputs": [],
   "source": []
  },
  {
   "cell_type": "code",
   "execution_count": null,
   "metadata": {},
   "outputs": [],
   "source": []
  },
  {
   "cell_type": "code",
   "execution_count": null,
   "metadata": {},
   "outputs": [],
   "source": []
  },
  {
   "cell_type": "code",
   "execution_count": null,
   "metadata": {},
   "outputs": [],
   "source": []
  },
  {
   "cell_type": "markdown",
   "metadata": {},
   "source": [
    "#### References\n",
    "[파이썬 코딩 도장](https://dojang.io/mod/page/view.php?id=2438)  \n",
    "[위키북스](https://wikidocs.net/4308)"
   ]
  },
  {
   "cell_type": "code",
   "execution_count": null,
   "metadata": {},
   "outputs": [],
   "source": []
  }
 ],
 "metadata": {
  "kernelspec": {
   "display_name": "Python 3",
   "language": "python",
   "name": "python3"
  },
  "language_info": {
   "codemirror_mode": {
    "name": "ipython",
    "version": 3
   },
   "file_extension": ".py",
   "mimetype": "text/x-python",
   "name": "python",
   "nbconvert_exporter": "python",
   "pygments_lexer": "ipython3",
   "version": "3.7.6"
  }
 },
 "nbformat": 4,
 "nbformat_minor": 4
}
